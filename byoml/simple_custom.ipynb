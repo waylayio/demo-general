{
 "cells": [
  {
   "cell_type": "code",
   "execution_count": 1,
   "metadata": {
    "tags": [
     "doc_exclude"
    ]
   },
   "outputs": [],
   "source": [
    "## install environment\n",
    "# !conda install --file ../env/byoml_custom/environment.yml\n",
    "# !conda activate byoml_custom\n",
    "# !pip install -r ../env/byoml_custom/requirements.txt"
   ]
  },
  {
   "cell_type": "markdown",
   "metadata": {},
   "source": [
    "In this notebook we will demonstrate how to create your own simple custom models to upload to Waylay BYOML. We will create a function which doubles the inputs.\n",
    "The dependencies in this environment are:\n",
    "* waylay-beta\n",
    "* dill\n",
    "\n",
    "A best practice for serializing models is using `Python 3.7`, since the latest `dill` version is not yet up to date with newer versions of Python."
   ]
  },
  {
   "cell_type": "code",
   "execution_count": 3,
   "metadata": {
    "tags": [
     "parameters"
    ]
   },
   "outputs": [],
   "source": [
    "MODEL_NAME = 'test_custom_model'\n",
    "PROFILE = 'render_notebook'"
   ]
  },
  {
   "cell_type": "code",
   "execution_count": 4,
   "metadata": {},
   "outputs": [],
   "source": [
    "import numpy as np"
   ]
  },
  {
   "cell_type": "markdown",
   "metadata": {},
   "source": [
    "## Custom model class\n",
    "\n",
    "The following cell contains the custom model which has to contain a `predict` method. We would also like to map the predictions to our custom mapping function, all we have to do for this is create a method called `map_output`."
   ]
  },
  {
   "cell_type": "code",
   "execution_count": 5,
   "metadata": {},
   "outputs": [],
   "source": [
    "class Doubler:\n",
    "    def __init__(self):\n",
    "        self.keys = ['foo', 'bar', 'baz', 'something', 'else']\n",
    "        \n",
    "    def predict(self, data):\n",
    "        return data * 2\n",
    "    \n",
    "    def map_output(self, request, predictions):\n",
    "        mapped_predictions = [\n",
    "            {\n",
    "                self.keys[idx]: value\n",
    "                for idx, value in enumerate(pred)\n",
    "            }\n",
    "            for pred in predictions.tolist()\n",
    "        ]\n",
    "        return {'predictions': mapped_predictions}"
   ]
  },
  {
   "cell_type": "markdown",
   "metadata": {},
   "source": [
    "We test the class locally with an example input."
   ]
  },
  {
   "cell_type": "code",
   "execution_count": 6,
   "metadata": {},
   "outputs": [],
   "source": [
    "X = np.array([[1, 2, 3, 4, 5]])"
   ]
  },
  {
   "cell_type": "code",
   "execution_count": 7,
   "metadata": {},
   "outputs": [
    {
     "data": {
      "text/plain": [
       "array([[ 2,  4,  6,  8, 10]])"
      ]
     },
     "execution_count": 7,
     "metadata": {},
     "output_type": "execute_result"
    }
   ],
   "source": [
    "doubler = Doubler()\n",
    "preds = doubler.predict(X)\n",
    "preds"
   ]
  },
  {
   "cell_type": "code",
   "execution_count": 8,
   "metadata": {},
   "outputs": [
    {
     "data": {
      "text/plain": [
       "{'predictions': [{'foo': 2, 'bar': 4, 'baz': 6, 'something': 8, 'else': 10}]}"
      ]
     },
     "execution_count": 8,
     "metadata": {},
     "output_type": "execute_result"
    }
   ],
   "source": [
    "doubler.map_output({}, preds)"
   ]
  },
  {
   "cell_type": "markdown",
   "metadata": {},
   "source": [
    "## Model upload\n",
    "\n",
    "When the model is ready, we can upload it to the platform. When uploading the model we need to provide some basic information. Like:\n",
    "\n",
    "* which framework: `sklearn`, `tensorflow`, `pytorch` or `xgboost` or `custom`\n",
    "* a name for the model\n",
    "* the model file (or directory for TensorFlow models)\n",
    "* an optional description"
   ]
  },
  {
   "cell_type": "code",
   "execution_count": 9,
   "metadata": {},
   "outputs": [],
   "source": [
    "from waylay import WaylayClient\n",
    "waylay = WaylayClient.from_profile(PROFILE)"
   ]
  },
  {
   "cell_type": "code",
   "execution_count": 10,
   "metadata": {},
   "outputs": [
    {
     "data": {
      "text/plain": [
       "{'createdOn': '2021-01-04T00:00:00+00:00',\n",
       " 'description': 'Simple custom model example',\n",
       " 'framework': 'custom',\n",
       " 'framework_version': '1.0',\n",
       " 'message': 'Model successfully uploaded',\n",
       " 'metadata': {'description': 'Simple custom model example'},\n",
       " 'name': 'test_custom_model',\n",
       " 'updatedOn': '2021-01-04T00:00:00+00:00',\n",
       " 'version': '1'}"
      ]
     },
     "execution_count": 10,
     "metadata": {},
     "output_type": "execute_result"
    }
   ],
   "source": [
    "waylay.byoml.model.upload(\n",
    "        model_name=MODEL_NAME,\n",
    "        trained_model=doubler,\n",
    "        framework='custom',\n",
    "        description='Simple custom model example'\n",
    "    )"
   ]
  },
  {
   "cell_type": "markdown",
   "metadata": {},
   "source": [
    "We can retrieve information about the uploaded model, like:\n",
    "* creator id\n",
    "* description\n",
    "* framework\n",
    "* readiness"
   ]
  },
  {
   "cell_type": "code",
   "execution_count": 11,
   "metadata": {},
   "outputs": [
    {
     "data": {
      "text/plain": [
       "{'createdBy': 'users/6d686630-0771-4f92-8c63-c888146c33fc',\n",
       " 'createdOn': '2022-09-06T10:51:37.045000+00:00',\n",
       " 'description': 'Simple custom model example',\n",
       " 'framework': 'custom',\n",
       " 'framework_version': '1.0',\n",
       " 'metadata': {'description': 'Simple custom model example'},\n",
       " 'name': 'test_custom_model',\n",
       " 'ready': False,\n",
       " 'supported_endpoints': [],\n",
       " 'updatedBy': 'users/6d686630-0771-4f92-8c63-c888146c33fc',\n",
       " 'updatedOn': '2022-09-06T10:51:57.859000+00:00',\n",
       " 'version': '1'}"
      ]
     },
     "execution_count": 11,
     "metadata": {},
     "output_type": "execute_result"
    }
   ],
   "source": [
    "waylay.byoml.model.get(MODEL_NAME)"
   ]
  },
  {
   "cell_type": "markdown",
   "metadata": {},
   "source": [
    "## Model test\n",
    "\n",
    "We can create a test prediction and validate the performance of the mapped results."
   ]
  },
  {
   "cell_type": "code",
   "execution_count": 12,
   "metadata": {},
   "outputs": [],
   "source": [
    "X_test = [[1, 2, 3, 4, 5], [10, 20, 30, 40, 50]]"
   ]
  },
  {
   "cell_type": "code",
   "execution_count": 13,
   "metadata": {},
   "outputs": [
    {
     "data": {
      "text/plain": [
       "[{'foo': 2, 'bar': 4, 'baz': 6, 'something': 8, 'else': 10},\n",
       " {'foo': 20, 'bar': 40, 'baz': 60, 'something': 80, 'else': 100}]"
      ]
     },
     "execution_count": 13,
     "metadata": {},
     "output_type": "execute_result"
    }
   ],
   "source": [
    "waylay.byoml.model.predict(MODEL_NAME, X_test)"
   ]
  },
  {
   "cell_type": "code",
   "execution_count": 14,
   "metadata": {},
   "outputs": [
    {
     "data": {
      "text/plain": [
       "{'message': 'Model test_custom_model: all versions deleted',\n",
       " 'name': 'test_custom_model',\n",
       " 'versions': ['0.0.1']}"
      ]
     },
     "execution_count": 14,
     "metadata": {},
     "output_type": "execute_result"
    }
   ],
   "source": [
    "waylay.byoml.model.remove(MODEL_NAME)"
   ]
  },
  {
   "cell_type": "code",
   "execution_count": null,
   "metadata": {},
   "outputs": [],
   "source": []
  }
 ],
 "metadata": {
  "celltoolbar": "Tags",
  "interpreter": {
   "hash": "f50278c56af492b5a25ac1208fbb88cab96142b580b5c86a0d9f4d2eac581671"
  },
  "kernelspec": {
   "display_name": "Python 3 (ipykernel)",
   "language": "python",
   "name": "python3"
  },
  "language_info": {
   "codemirror_mode": {
    "name": "ipython",
    "version": 3
   },
   "file_extension": ".py",
   "mimetype": "text/x-python",
   "name": "python",
   "nbconvert_exporter": "python",
   "pygments_lexer": "ipython3",
   "version": "3.7.12"
  }
 },
 "nbformat": 4,
 "nbformat_minor": 2
}
