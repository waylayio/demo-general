{
 "cells": [
  {
   "cell_type": "code",
   "execution_count": 1,
   "metadata": {
    "tags": [
     "doc_exclude"
    ]
   },
   "outputs": [],
   "source": [
    "## install environment\n",
    "# !conda install --file ../env/byoml_custom.environment.yml\n",
    "# !conda activate byoml_custom\n",
    "# !pip install -r ../env/byoml_custom.requirements.txt"
   ]
  },
  {
   "cell_type": "markdown",
   "metadata": {
    "tags": [
     "doc_exclude"
    ]
   },
   "source": [
    "In this notebook we will demonstrate how to create your own simple custom models to upload to Waylay BYOML. We will create a function which doubles the inputs.\n",
    "The dependencies in this environment are:\n",
    "* waylay-beta\n",
    "* dill"
   ]
  },
  {
   "cell_type": "code",
   "execution_count": 2,
   "metadata": {
    "tags": [
     "parameters"
    ]
   },
   "outputs": [],
   "source": [
    "MODEL_NAME = 'test_custom_model'"
   ]
  },
  {
   "cell_type": "code",
   "execution_count": 3,
   "metadata": {},
   "outputs": [],
   "source": [
    "import numpy as np"
   ]
  },
  {
   "cell_type": "markdown",
   "metadata": {
    "tags": [
     "doc_exclude"
    ]
   },
   "source": [
    "The following cell contains the custom model which has to contain a `predict` method"
   ]
  },
  {
   "cell_type": "code",
   "execution_count": 4,
   "metadata": {},
   "outputs": [],
   "source": [
    "class Doubler:\n",
    "    def predict(self, data):\n",
    "        return data * 2"
   ]
  },
  {
   "cell_type": "code",
   "execution_count": 5,
   "metadata": {},
   "outputs": [],
   "source": [
    "X = np.array([1, 2, 3, 4, 5])"
   ]
  },
  {
   "cell_type": "code",
   "execution_count": 6,
   "metadata": {},
   "outputs": [
    {
     "data": {
      "text/plain": [
       "array([ 2,  4,  6,  8, 10])"
      ]
     },
     "execution_count": 6,
     "metadata": {},
     "output_type": "execute_result"
    }
   ],
   "source": [
    "doubler = Doubler()\n",
    "doubler.predict(X)"
   ]
  },
  {
   "cell_type": "code",
   "execution_count": 7,
   "metadata": {},
   "outputs": [],
   "source": [
    "from waylay import WaylayClient, RestResponseError\n",
    "waylay = WaylayClient.from_profile('staging')"
   ]
  },
  {
   "cell_type": "code",
   "execution_count": 8,
   "metadata": {},
   "outputs": [
    {
     "data": {
      "text/plain": [
       "{'createdOn': '2021-01-04T00:00:00+00:00',\n",
       " 'description': 'Simple custom model example',\n",
       " 'framework': 'custom',\n",
       " 'framework_version': '1.0',\n",
       " 'message': 'Model successfully uploaded',\n",
       " 'metadata': {'description': 'Simple custom model example'},\n",
       " 'name': 'test_custom_model',\n",
       " 'updatedOn': '2021-01-04T00:00:00+00:00',\n",
       " 'version': '1'}"
      ]
     },
     "execution_count": 8,
     "metadata": {},
     "output_type": "execute_result"
    }
   ],
   "source": [
    "waylay.byoml.model.upload(\n",
    "        model_name=MODEL_NAME,\n",
    "        trained_model=doubler, \n",
    "        framework='custom',\n",
    "        description='Simple custom model example'\n",
    "    )"
   ]
  },
  {
   "cell_type": "code",
   "execution_count": 9,
   "metadata": {},
   "outputs": [
    {
     "data": {
      "text/plain": [
       "array([ 2,  4,  6,  8, 10])"
      ]
     },
     "execution_count": 9,
     "metadata": {},
     "output_type": "execute_result"
    }
   ],
   "source": [
    "waylay.byoml.model.predict(MODEL_NAME, X)"
   ]
  },
  {
   "cell_type": "code",
   "execution_count": 10,
   "metadata": {
    "tags": [
     "doc_exclude"
    ]
   },
   "outputs": [
    {
     "data": {
      "text/plain": [
       "{'message': 'Model test_custom_model: all versions deleted',\n",
       " 'name': 'test_custom_model',\n",
       " 'versions': ['0.0.1']}"
      ]
     },
     "execution_count": 10,
     "metadata": {},
     "output_type": "execute_result"
    }
   ],
   "source": [
    "waylay.byoml.model.remove(MODEL_NAME)"
   ]
  }
 ],
 "metadata": {
  "celltoolbar": "Tags",
  "interpreter": {
   "hash": "f50278c56af492b5a25ac1208fbb88cab96142b580b5c86a0d9f4d2eac581671"
  },
  "kernelspec": {
   "display_name": "Python 3 (ipykernel)",
   "language": "python",
   "name": "python3"
  },
  "language_info": {
   "codemirror_mode": {
    "name": "ipython",
    "version": 3
   },
   "file_extension": ".py",
   "mimetype": "text/x-python",
   "name": "python",
   "nbconvert_exporter": "python",
   "pygments_lexer": "ipython3",
   "version": "3.9.7"
  }
 },
 "nbformat": 4,
 "nbformat_minor": 2
}
