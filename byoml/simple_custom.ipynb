{
 "cells": [
  {
   "cell_type": "markdown",
   "metadata": {},
   "source": [
    "In this notebook we will demonstrate how to create your own simple custom models to upload to Waylay BYOML. We will create a function which doubles the inputs.\n",
    "The dependencies in this environment are:\n",
    "* waylay-beta\n",
    "* dill"
   ]
  },
  {
   "cell_type": "code",
   "execution_count": 1,
   "metadata": {},
   "outputs": [],
   "source": [
    "import numpy as np"
   ]
  },
  {
   "cell_type": "code",
   "execution_count": 2,
   "metadata": {},
   "outputs": [],
   "source": [
    "class Doubler:\n",
    "    def predict(self, data):\n",
    "        return data * 2"
   ]
  },
  {
   "cell_type": "code",
   "execution_count": 3,
   "metadata": {},
   "outputs": [],
   "source": [
    "X = np.array([1, 2, 3, 4, 5])"
   ]
  },
  {
   "cell_type": "code",
   "execution_count": 4,
   "metadata": {},
   "outputs": [
    {
     "data": {
      "text/plain": [
       "array([ 2,  4,  6,  8, 10])"
      ]
     },
     "execution_count": 4,
     "metadata": {},
     "output_type": "execute_result"
    }
   ],
   "source": [
    "doubler = Doubler()\n",
    "doubler.predict(X)"
   ]
  },
  {
   "cell_type": "code",
   "execution_count": 5,
   "metadata": {},
   "outputs": [],
   "source": [
    "from waylay import WaylayClient, RestResponseError\n",
    "waylay = WaylayClient.from_profile('staging')"
   ]
  },
  {
   "cell_type": "code",
   "execution_count": 6,
   "metadata": {},
   "outputs": [],
   "source": [
    "MODEL_NAME = 'test_custom_model'"
   ]
  },
  {
   "cell_type": "code",
   "execution_count": 8,
   "metadata": {},
   "outputs": [
    {
     "data": {
      "text/plain": [
       "{'createdOn': '2021-01-04T00:00:00+00:00',\n",
       " 'description': 'Simple custom model example',\n",
       " 'framework': 'custom',\n",
       " 'framework_version': '1.0',\n",
       " 'message': 'Model successfully uploaded',\n",
       " 'metadata': {'description': 'Simple custom model example'},\n",
       " 'name': 'test_custom_model',\n",
       " 'updatedOn': '2021-01-04T00:00:00+00:00',\n",
       " 'version': '1'}"
      ]
     },
     "execution_count": 8,
     "metadata": {},
     "output_type": "execute_result"
    }
   ],
   "source": [
    "waylay.byoml.model.upload(\n",
    "        model_name=MODEL_NAME,\n",
    "        trained_model=doubler, \n",
    "        framework='custom',\n",
    "        description='Simple custom model example'\n",
    "    )"
   ]
  },
  {
   "cell_type": "code",
   "execution_count": 9,
   "metadata": {},
   "outputs": [
    {
     "data": {
      "text/plain": [
       "{'createdBy': 'users/f0981778-feed-4d08-823e-dc65e2b8a502',\n",
       " 'createdOn': '2022-02-15T08:35:09.512000+00:00',\n",
       " 'description': 'Simple custom model example',\n",
       " 'framework': 'custom',\n",
       " 'framework_version': '1.0',\n",
       " 'metadata': {'description': 'Simple custom model example'},\n",
       " 'name': 'test_custom_model',\n",
       " 'ready': False,\n",
       " 'supported_endpoints': [],\n",
       " 'updatedBy': 'users/f0981778-feed-4d08-823e-dc65e2b8a502',\n",
       " 'updatedOn': '2022-02-15T08:35:23.037000+00:00',\n",
       " 'version': '1'}"
      ]
     },
     "execution_count": 9,
     "metadata": {},
     "output_type": "execute_result"
    }
   ],
   "source": [
    "waylay.byoml.model.get(MODEL_NAME)"
   ]
  },
  {
   "cell_type": "code",
   "execution_count": 10,
   "metadata": {},
   "outputs": [
    {
     "data": {
      "text/plain": [
       "array([ 2,  4,  6,  8, 10])"
      ]
     },
     "execution_count": 10,
     "metadata": {},
     "output_type": "execute_result"
    }
   ],
   "source": [
    "waylay.byoml.model.predict(MODEL_NAME, X)"
   ]
  },
  {
   "cell_type": "code",
   "execution_count": 11,
   "metadata": {},
   "outputs": [
    {
     "data": {
      "text/plain": [
       "{'message': 'Model test_custom_model: all versions deleted',\n",
       " 'name': 'test_custom_model',\n",
       " 'versions': ['0.0.1']}"
      ]
     },
     "execution_count": 11,
     "metadata": {},
     "output_type": "execute_result"
    }
   ],
   "source": [
    "waylay.byoml.model.remove(MODEL_NAME)"
   ]
  }
 ],
 "metadata": {
  "interpreter": {
   "hash": "f50278c56af492b5a25ac1208fbb88cab96142b580b5c86a0d9f4d2eac581671"
  },
  "kernelspec": {
   "display_name": "Python 3.8.12 ('demo')",
   "language": "python",
   "name": "python3"
  },
  "language_info": {
   "codemirror_mode": {
    "name": "ipython",
    "version": 3
   },
   "file_extension": ".py",
   "mimetype": "text/x-python",
   "name": "python",
   "nbconvert_exporter": "python",
   "pygments_lexer": "ipython3",
   "version": "3.9.7"
  },
  "orig_nbformat": 4
 },
 "nbformat": 4,
 "nbformat_minor": 2
}
