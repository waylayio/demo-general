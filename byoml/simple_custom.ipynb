{
 "cells": [
  {
   "cell_type": "code",
   "execution_count": 1,
   "metadata": {
    "tags": [
     "doc_exclude"
    ]
   },
   "outputs": [],
   "source": [
    "## install environment\n",
    "# !conda install --file ../env/byoml_custom.environment.yml\n",
    "# !conda activate byoml_custom\n",
    "# !pip install -r ../env/byoml_custom.requirements.txt"
   ]
  },
  {
   "cell_type": "markdown",
   "metadata": {
    "tags": [
     "doc_exclude"
    ]
   },
   "source": [
    "In this notebook we will demonstrate how to create your own simple custom models to upload to Waylay BYOML. We will create a function which doubles the inputs.\n",
    "The dependencies in this environment are:\n",
    "* waylay-beta\n",
    "* dill\n",
    "\n",
    "A best practice for serializing models is using `Python 3.7`, since the latest `dill` version is not yet up to date with newer versions of Python."
   ]
  },
  {
   "cell_type": "code",
   "execution_count": 2,
   "metadata": {
    "tags": [
     "parameters"
    ]
   },
   "outputs": [],
   "source": [
    "MODEL_NAME = 'test_custom_model'"
   ]
  },
  {
   "cell_type": "code",
   "execution_count": 3,
   "metadata": {},
   "outputs": [],
   "source": [
    "import numpy as np"
   ]
  },
  {
   "cell_type": "markdown",
   "metadata": {
    "tags": [
     "doc_exclude"
    ]
   },
   "source": [
    "The following cell contains the custom model which has to contain a `predict` method. We would also like to map the predictions to our custom mapping function, all we have to do for this is create a method called `map_output`."
   ]
  },
  {
   "cell_type": "code",
   "execution_count": 4,
   "metadata": {},
   "outputs": [],
   "source": [
    "class Doubler:\n",
    "    def __init__(self):\n",
    "        self.keys = ['foo', 'bar', 'baz', 'something', 'else']\n",
    "        \n",
    "    def predict(self, data):\n",
    "        return data * 2\n",
    "    \n",
    "    def map_output(self, request, predictions):\n",
    "        mapped_predictions = [\n",
    "            {\n",
    "                self.keys[idx]: value\n",
    "                for idx, value in enumerate(pred)\n",
    "            }\n",
    "            for pred in predictions.tolist()\n",
    "        ]\n",
    "        return {'predictions': mapped_predictions}"
   ]
  },
  {
   "cell_type": "code",
   "execution_count": 5,
   "metadata": {},
   "outputs": [],
   "source": [
    "X = np.array([[1, 2, 3, 4, 5]])"
   ]
  },
  {
   "cell_type": "code",
   "execution_count": 6,
   "metadata": {},
   "outputs": [
    {
     "data": {
      "text/plain": [
       "array([[ 2,  4,  6,  8, 10]])"
      ]
     },
     "execution_count": 6,
     "metadata": {},
     "output_type": "execute_result"
    }
   ],
   "source": [
    "doubler = Doubler()\n",
    "preds = doubler.predict(X)\n",
    "preds"
   ]
  },
  {
   "cell_type": "code",
   "execution_count": 7,
   "metadata": {},
   "outputs": [
    {
     "data": {
      "text/plain": [
       "{'predictions': [{'foo': 2, 'bar': 4, 'baz': 6, 'something': 8, 'else': 10}]}"
      ]
     },
     "execution_count": 7,
     "metadata": {},
     "output_type": "execute_result"
    }
   ],
   "source": [
    "doubler.map_output({}, preds)"
   ]
  },
  {
   "cell_type": "code",
   "execution_count": 8,
   "metadata": {},
   "outputs": [],
   "source": [
    "from waylay import WaylayClient, RestResponseError\n",
    "waylay = WaylayClient.from_profile('staging')"
   ]
  },
  {
   "cell_type": "code",
   "execution_count": 9,
   "metadata": {},
   "outputs": [
    {
     "data": {
      "text/plain": [
       "{'createdOn': '2021-01-04T00:00:00+00:00',\n",
       " 'description': 'Simple custom model example',\n",
       " 'framework': 'custom',\n",
       " 'framework_version': '1.0',\n",
       " 'message': 'Model successfully uploaded',\n",
       " 'metadata': {'description': 'Simple custom model example'},\n",
       " 'name': 'test_custom_model',\n",
       " 'updatedOn': '2021-01-04T00:00:00+00:00',\n",
       " 'version': '1'}"
      ]
     },
     "execution_count": 9,
     "metadata": {},
     "output_type": "execute_result"
    }
   ],
   "source": [
    "waylay.byoml.model.upload(\n",
    "        model_name=MODEL_NAME,\n",
    "        trained_model=doubler,\n",
    "        framework='custom',\n",
    "        description='Simple custom model example'\n",
    "    )"
   ]
  },
  {
   "cell_type": "code",
   "execution_count": 10,
   "metadata": {},
   "outputs": [
    {
     "data": {
      "text/plain": [
       "{'createdBy': 'users/f0981778-feed-4d08-823e-dc65e2b8a502',\n",
       " 'createdOn': '2022-03-01T09:22:09.662000+00:00',\n",
       " 'description': 'Simple custom model example',\n",
       " 'framework': 'custom',\n",
       " 'framework_version': '1.0',\n",
       " 'metadata': {'description': 'Simple custom model example'},\n",
       " 'name': 'test_custom_model',\n",
       " 'ready': False,\n",
       " 'runtime': {'framework': 'custom',\n",
       "  'framework_version': '1.0',\n",
       "  'name': 'byoml-custom-1.0',\n",
       "  'python_version': '3.7'},\n",
       " 'semantic_version': '0.0.1',\n",
       " 'serving_name': 'kf-e8ca4239b5f7ed0bc831e473c0bf9f5811de6ec1.openfaas-fn-6ccc8843-d78d-49e8-84c4-3734a4af9929',\n",
       " 'status': 'running',\n",
       " 'supported_endpoints': [],\n",
       " 'updatedBy': 'users/f0981778-feed-4d08-823e-dc65e2b8a502',\n",
       " 'updatedOn': '2022-03-01T09:22:31.206000+00:00',\n",
       " 'version': '1'}"
      ]
     },
     "execution_count": 10,
     "metadata": {},
     "output_type": "execute_result"
    }
   ],
   "source": [
    "waylay.byoml.model.get(MODEL_NAME, params={'debug':'true'})"
   ]
  },
  {
   "cell_type": "code",
   "execution_count": 11,
   "metadata": {},
   "outputs": [],
   "source": [
    "X_test = [[1, 2, 3, 4, 5], [10, 20, 30, 40, 50]]"
   ]
  },
  {
   "cell_type": "code",
   "execution_count": 12,
   "metadata": {},
   "outputs": [
    {
     "data": {
      "text/plain": [
       "array([{'foo': 2, 'bar': 4, 'baz': 6, 'something': 8, 'else': 10},\n",
       "       {'foo': 20, 'bar': 40, 'baz': 60, 'something': 80, 'else': 100}],\n",
       "      dtype=object)"
      ]
     },
     "execution_count": 12,
     "metadata": {},
     "output_type": "execute_result"
    }
   ],
   "source": [
    "waylay.byoml.model.predict(MODEL_NAME, X_test)"
   ]
  },
  {
   "cell_type": "code",
   "execution_count": 13,
   "metadata": {
    "tags": [
     "doc_exclude"
    ]
   },
   "outputs": [
    {
     "data": {
      "text/plain": [
       "{'message': 'Model test_custom_model: all versions deleted',\n",
       " 'name': 'test_custom_model',\n",
       " 'versions': ['0.0.1']}"
      ]
     },
     "execution_count": 13,
     "metadata": {},
     "output_type": "execute_result"
    }
   ],
   "source": [
    "waylay.byoml.model.remove(MODEL_NAME)"
   ]
  }
 ],
 "metadata": {
  "celltoolbar": "Tags",
  "interpreter": {
   "hash": "f50278c56af492b5a25ac1208fbb88cab96142b580b5c86a0d9f4d2eac581671"
  },
  "kernelspec": {
   "display_name": "Python 3 (ipykernel)",
   "language": "python",
   "name": "python3"
  },
  "language_info": {
   "codemirror_mode": {
    "name": "ipython",
    "version": 3
   },
   "file_extension": ".py",
   "mimetype": "text/x-python",
   "name": "python",
   "nbconvert_exporter": "python",
   "pygments_lexer": "ipython3",
   "version": "3.7.11"
  }
 },
 "nbformat": 4,
 "nbformat_minor": 2
}
