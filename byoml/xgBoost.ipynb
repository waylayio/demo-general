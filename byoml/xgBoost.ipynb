{
 "cells": [
  {
   "cell_type": "code",
   "execution_count": 1,
   "id": "18a8eb6f",
   "metadata": {
    "tags": [
     "doc_exclude"
    ]
   },
   "outputs": [],
   "source": [
    "## see requirements in byoml_xgboost.environment.yml and byoml_xgboost.requirements.txt\n",
    "# conda install --file env/byoml_xgboost.environment.yml\n",
    "# conda activate byoml_xgboost \n",
    "# pip install -r env/byoml_xgboost.requirements.txt"
   ]
  },
  {
   "cell_type": "code",
   "execution_count": 2,
   "id": "76a7ebd0",
   "metadata": {
    "tags": [
     "parameters"
    ]
   },
   "outputs": [],
   "source": [
    "MODEL_NAME = 'xgboost-example'"
   ]
  },
  {
   "cell_type": "markdown",
   "id": "spectacular-missouri",
   "metadata": {},
   "source": [
    "## BYOML XGBoost example\n",
    "\n",
    "In this notebook we give an example on how to create and upload your XGBoost models. To keep things simple, we will use a toy dataset.\n",
    "\n",
    "The key take away here to create your model is to either use the booster itself or the sklearn wrapper. Both will be accepted by the BYOML service."
   ]
  },
  {
   "cell_type": "code",
   "execution_count": 3,
   "id": "later-breast",
   "metadata": {},
   "outputs": [],
   "source": [
    "import numpy as np\n",
    "import pandas as pd\n",
    "from sklearn.datasets import make_classification"
   ]
  },
  {
   "cell_type": "code",
   "execution_count": 4,
   "id": "minor-interpretation",
   "metadata": {},
   "outputs": [
    {
     "data": {
      "text/html": [
       "<div>\n",
       "<style scoped>\n",
       "    .dataframe tbody tr th:only-of-type {\n",
       "        vertical-align: middle;\n",
       "    }\n",
       "\n",
       "    .dataframe tbody tr th {\n",
       "        vertical-align: top;\n",
       "    }\n",
       "\n",
       "    .dataframe thead tr th {\n",
       "        text-align: left;\n",
       "    }\n",
       "</style>\n",
       "<table border=\"1\" class=\"dataframe\">\n",
       "  <thead>\n",
       "    <tr>\n",
       "      <th></th>\n",
       "      <th colspan=\"7\" halign=\"left\">X_data</th>\n",
       "      <th>y_data</th>\n",
       "    </tr>\n",
       "    <tr>\n",
       "      <th></th>\n",
       "      <th>heat</th>\n",
       "      <th>heat2</th>\n",
       "      <th>dust</th>\n",
       "      <th>light</th>\n",
       "      <th>humidity</th>\n",
       "      <th>pressure</th>\n",
       "      <th>nitrogen_concentration</th>\n",
       "      <th>ok</th>\n",
       "    </tr>\n",
       "  </thead>\n",
       "  <tbody>\n",
       "    <tr>\n",
       "      <th>0</th>\n",
       "      <td>3.214640</td>\n",
       "      <td>-3.107601</td>\n",
       "      <td>2.663515</td>\n",
       "      <td>-599.783123</td>\n",
       "      <td>67.133968</td>\n",
       "      <td>-40.880974</td>\n",
       "      <td>22.175197</td>\n",
       "      <td>0</td>\n",
       "    </tr>\n",
       "    <tr>\n",
       "      <th>1</th>\n",
       "      <td>-0.354232</td>\n",
       "      <td>14.506926</td>\n",
       "      <td>-0.832169</td>\n",
       "      <td>-1501.497188</td>\n",
       "      <td>-42.529406</td>\n",
       "      <td>8.094005</td>\n",
       "      <td>-13.488557</td>\n",
       "      <td>0</td>\n",
       "    </tr>\n",
       "    <tr>\n",
       "      <th>2</th>\n",
       "      <td>4.380911</td>\n",
       "      <td>10.794966</td>\n",
       "      <td>1.566156</td>\n",
       "      <td>-1121.889667</td>\n",
       "      <td>-30.364312</td>\n",
       "      <td>-22.922713</td>\n",
       "      <td>10.072141</td>\n",
       "      <td>0</td>\n",
       "    </tr>\n",
       "    <tr>\n",
       "      <th>3</th>\n",
       "      <td>6.396967</td>\n",
       "      <td>1.283805</td>\n",
       "      <td>1.444611</td>\n",
       "      <td>-827.627508</td>\n",
       "      <td>220.112282</td>\n",
       "      <td>-37.722183</td>\n",
       "      <td>14.348605</td>\n",
       "      <td>0</td>\n",
       "    </tr>\n",
       "    <tr>\n",
       "      <th>4</th>\n",
       "      <td>13.324452</td>\n",
       "      <td>15.490906</td>\n",
       "      <td>1.597028</td>\n",
       "      <td>-673.973149</td>\n",
       "      <td>24.585876</td>\n",
       "      <td>-29.507437</td>\n",
       "      <td>19.428033</td>\n",
       "      <td>0</td>\n",
       "    </tr>\n",
       "  </tbody>\n",
       "</table>\n",
       "</div>"
      ],
      "text/plain": [
       "      X_data                                                           \\\n",
       "        heat      heat2      dust        light    humidity   pressure   \n",
       "0   3.214640  -3.107601  2.663515  -599.783123   67.133968 -40.880974   \n",
       "1  -0.354232  14.506926 -0.832169 -1501.497188  -42.529406   8.094005   \n",
       "2   4.380911  10.794966  1.566156 -1121.889667  -30.364312 -22.922713   \n",
       "3   6.396967   1.283805  1.444611  -827.627508  220.112282 -37.722183   \n",
       "4  13.324452  15.490906  1.597028  -673.973149   24.585876 -29.507437   \n",
       "\n",
       "                         y_data  \n",
       "  nitrogen_concentration     ok  \n",
       "0              22.175197      0  \n",
       "1             -13.488557      0  \n",
       "2              10.072141      0  \n",
       "3              14.348605      0  \n",
       "4              19.428033      0  "
      ]
     },
     "execution_count": 4,
     "metadata": {},
     "output_type": "execute_result"
    }
   ],
   "source": [
    "X, y = make_classification(\n",
    "    n_samples=2000, n_features=7, n_informative=5, n_redundant=2, weights=[0.8, 0.2],\n",
    "    scale=[5, 5, 1, 1000, 200, 20, 10], shuffle=False, random_state=42\n",
    ")\n",
    "\n",
    "X_data = pd.DataFrame(X, columns=[\n",
    "    'heat', 'heat2', 'dust', 'light', 'humidity', 'pressure', 'nitrogen_concentration'\n",
    "])\n",
    "y_data = pd.DataFrame(y, columns=['ok'])\n",
    "\n",
    "pd.concat(\n",
    "    [X_data.head(), y_data.head()], \n",
    "    axis=1, \n",
    "    keys=['X_data', 'y_data']\n",
    ")"
   ]
  },
  {
   "cell_type": "markdown",
   "id": "thermal-elements",
   "metadata": {},
   "source": [
    "## Create the model\n",
    "\n",
    "We can now create the model and save it:"
   ]
  },
  {
   "cell_type": "code",
   "execution_count": 5,
   "id": "requested-gilbert",
   "metadata": {},
   "outputs": [],
   "source": [
    "from sklearn.model_selection import train_test_split\n",
    "import xgboost as xgb"
   ]
  },
  {
   "cell_type": "code",
   "execution_count": 6,
   "id": "clear-bridges",
   "metadata": {},
   "outputs": [],
   "source": [
    "X_train, X_test, y_train, y_test = train_test_split(\n",
    "    X_data, y_data, test_size=0.2, random_state=123\n",
    ")\n",
    "dtrain = xgb.DMatrix(X_train, label=y_train)\n",
    "dtest = xgb.DMatrix(X_test, label=y_test)"
   ]
  },
  {
   "cell_type": "code",
   "execution_count": 7,
   "id": "italic-horizon",
   "metadata": {},
   "outputs": [],
   "source": [
    "# set xgboost params\n",
    "param = {\n",
    "    'max_depth': 3,\n",
    "    'learning_rate': 0.1,\n",
    "    'colsample_bytree': 0.3,\n",
    "    'objective': 'binary:hinge'\n",
    "}\n",
    "num_round = 100\n",
    "bst = xgb.train(param, dtrain, num_round)"
   ]
  },
  {
   "cell_type": "markdown",
   "id": "elementary-yacht",
   "metadata": {},
   "source": [
    "## Upload to Waylay\n",
    "\n",
    "After your model is saved, you can upload it to Waylay, using our Python SDK:"
   ]
  },
  {
   "cell_type": "code",
   "execution_count": 8,
   "id": "criminal-cooperation",
   "metadata": {},
   "outputs": [],
   "source": [
    "from waylay import WaylayClient, RestResponseError\n",
    "waylay = WaylayClient.from_profile()\n",
    "\n",
    "# the model names we use in this example\n",
    "model_names = [\n",
    "    model_name, probability_model_name, classifier_model_name\n",
    "] = [\n",
    "    MODEL_NAME, f'{MODEL_NAME}-probs', f'{MODEL_NAME}-classifier', \n",
    "]"
   ]
  },
  {
   "cell_type": "code",
   "execution_count": 9,
   "id": "coastal-short",
   "metadata": {
    "tags": [
     "doc_exclude"
    ]
   },
   "outputs": [
    {
     "data": {
      "text/plain": [
       "\"Ignored: ByomlActionError(404: 'Model does not exist'; DELETE 'https://byom-staging.waylay.io/models/xgboost-example')\""
      ]
     },
     "metadata": {},
     "output_type": "display_data"
    },
    {
     "data": {
      "text/plain": [
       "\"Ignored: ByomlActionError(404: 'Model does not exist'; DELETE 'https://byom-staging.waylay.io/models/xgboost-example-probs')\""
      ]
     },
     "metadata": {},
     "output_type": "display_data"
    },
    {
     "data": {
      "text/plain": [
       "\"Ignored: ByomlActionError(404: 'Model does not exist'; DELETE 'https://byom-staging.waylay.io/models/xgboost-example-classifier')\""
      ]
     },
     "metadata": {},
     "output_type": "display_data"
    }
   ],
   "source": [
    "# remove existing models first\n",
    "import time\n",
    "def cleanup():\n",
    "    for name in model_names:\n",
    "        try:\n",
    "            waylay.byoml.model.remove(name)\n",
    "            display(f'Removed: {name}')\n",
    "            time.sleep(5) # it takes a few seconds until model name becomes available again\n",
    "        except RestResponseError as e:\n",
    "            display(f'Ignored: {e}')\n",
    "cleanup()"
   ]
  },
  {
   "cell_type": "code",
   "execution_count": 10,
   "id": "remarkable-wilderness",
   "metadata": {},
   "outputs": [
    {
     "data": {
      "text/plain": [
       "{'message': 'Model successfully uploaded'}"
      ]
     },
     "execution_count": 10,
     "metadata": {},
     "output_type": "execute_result"
    }
   ],
   "source": [
    "waylay.byoml.model.upload(\n",
    "    model_name=model_name, \n",
    "    trained_model=bst, \n",
    "    framework='xgboost', \n",
    "    description='xgboost example'\n",
    ")"
   ]
  },
  {
   "cell_type": "markdown",
   "id": "smoking-mother",
   "metadata": {},
   "source": [
    "and check if the output is the same:"
   ]
  },
  {
   "cell_type": "code",
   "execution_count": 11,
   "id": "static-article",
   "metadata": {},
   "outputs": [
    {
     "data": {
      "text/plain": [
       "array([0., 0., 0., 0., 1.], dtype=float32)"
      ]
     },
     "execution_count": 11,
     "metadata": {},
     "output_type": "execute_result"
    }
   ],
   "source": [
    "bst.predict(dtest)[:5]"
   ]
  },
  {
   "cell_type": "code",
   "execution_count": 12,
   "id": "lasting-translator",
   "metadata": {},
   "outputs": [
    {
     "data": {
      "text/plain": [
       "array([0., 0., 0., 0., 1.])"
      ]
     },
     "execution_count": 12,
     "metadata": {},
     "output_type": "execute_result"
    }
   ],
   "source": [
    "waylay.byoml.model.predict(model_name, X_test[:5])"
   ]
  },
  {
   "cell_type": "markdown",
   "id": "southwest-evanescence",
   "metadata": {},
   "source": [
    "## Create an XGBoost model that outputs probabilities\n",
    "\n",
    "Sometimes you might want to work with the probabilities directly instead of using the `1` and `0` values. To achieve this we only need a small tweak in the model parameters"
   ]
  },
  {
   "cell_type": "code",
   "execution_count": 13,
   "id": "listed-mozambique",
   "metadata": {},
   "outputs": [],
   "source": [
    "param = {\n",
    "    'max_depth': 3,\n",
    "    'learning_rate': 0.1,\n",
    "    'colsample_bytree': 0.3,\n",
    "    'objective': 'binary:logistic', # set this one to logistic\n",
    "    'eval_metric': 'logloss' # and this one to error or logloss\n",
    "}"
   ]
  },
  {
   "cell_type": "code",
   "execution_count": 14,
   "id": "oriental-thesaurus",
   "metadata": {},
   "outputs": [],
   "source": [
    "bst = xgb.train(param, dtrain, num_round)"
   ]
  },
  {
   "cell_type": "code",
   "execution_count": 15,
   "id": "confirmed-arrow",
   "metadata": {},
   "outputs": [
    {
     "data": {
      "text/plain": [
       "{'message': 'Model successfully uploaded'}"
      ]
     },
     "execution_count": 15,
     "metadata": {},
     "output_type": "execute_result"
    }
   ],
   "source": [
    "waylay.byoml.model.upload(\n",
    "    model_name=probability_model_name, \n",
    "    trained_model=bst, \n",
    "    framework='xgboost', \n",
    "    description='xgboost probabilities example'\n",
    ")"
   ]
  },
  {
   "cell_type": "code",
   "execution_count": 16,
   "id": "voluntary-nudist",
   "metadata": {},
   "outputs": [
    {
     "data": {
      "text/plain": [
       "array([0.03388389, 0.00636836, 0.07393802, 0.41373524, 0.59628487],\n",
       "      dtype=float32)"
      ]
     },
     "execution_count": 16,
     "metadata": {},
     "output_type": "execute_result"
    }
   ],
   "source": [
    "bst.predict(dtest)[:5]"
   ]
  },
  {
   "cell_type": "code",
   "execution_count": 17,
   "id": "precious-tablet",
   "metadata": {},
   "outputs": [
    {
     "data": {
      "text/plain": [
       "array([0.03388389, 0.00636836, 0.07393802, 0.41373524, 0.59628487])"
      ]
     },
     "execution_count": 17,
     "metadata": {},
     "output_type": "execute_result"
    }
   ],
   "source": [
    "waylay.byoml.model.predict(probability_model_name, X_test[:5])"
   ]
  },
  {
   "cell_type": "markdown",
   "id": "vietnamese-source",
   "metadata": {},
   "source": [
    "## Using the XGBClassifier\n",
    "Instead of directly using a booster we can also use the XGBClassifier as is shown in the example below. \n",
    "Keep in mind although the predict method will return 1's and 0's, the uploaded model will output the probabilities as the underlying Booster object is used. \n",
    "If this is unwanted behaviour you can set the objective to `binary:hinge`.\n",
    "\n",
    "In this case we should use the Dataframes and not the DMatrix:"
   ]
  },
  {
   "cell_type": "code",
   "execution_count": 18,
   "id": "variable-humor",
   "metadata": {},
   "outputs": [],
   "source": [
    "from xgboost import XGBClassifier"
   ]
  },
  {
   "cell_type": "code",
   "execution_count": 19,
   "id": "gothic-raise",
   "metadata": {},
   "outputs": [],
   "source": [
    "model = XGBClassifier(\n",
    "    max_depth=3,\n",
    "    learning_rate=0.1,\n",
    "    colsample_bytree=0.3,\n",
    "    eval_metric='logloss'\n",
    ")"
   ]
  },
  {
   "cell_type": "code",
   "execution_count": 20,
   "id": "executed-magazine",
   "metadata": {},
   "outputs": [
    {
     "data": {
      "text/plain": [
       "XGBClassifier(base_score=0.5, booster=None, colsample_bylevel=1,\n",
       "              colsample_bynode=1, colsample_bytree=0.3, eval_metric='logloss',\n",
       "              gamma=0, gpu_id=-1, importance_type='gain',\n",
       "              interaction_constraints=None, learning_rate=0.1, max_delta_step=0,\n",
       "              max_depth=3, min_child_weight=1, missing=nan,\n",
       "              monotone_constraints=None, n_estimators=100, n_jobs=0,\n",
       "              num_parallel_tree=1, random_state=0, reg_alpha=0, reg_lambda=1,\n",
       "              scale_pos_weight=1, subsample=1, tree_method=None,\n",
       "              validate_parameters=False, verbosity=None)"
      ]
     },
     "execution_count": 20,
     "metadata": {},
     "output_type": "execute_result"
    }
   ],
   "source": [
    "model.fit(X_train, y_train.values.ravel())"
   ]
  },
  {
   "cell_type": "code",
   "execution_count": 21,
   "id": "faced-finnish",
   "metadata": {},
   "outputs": [
    {
     "data": {
      "text/plain": [
       "{'message': 'Model successfully uploaded'}"
      ]
     },
     "execution_count": 21,
     "metadata": {},
     "output_type": "execute_result"
    }
   ],
   "source": [
    "waylay.byoml.model.upload(\n",
    "    model_name=classifier_model_name, \n",
    "    trained_model=model, \n",
    "    framework='xgboost', \n",
    "    description='xgboost classifier example'\n",
    ")"
   ]
  },
  {
   "cell_type": "markdown",
   "id": "composed-reasoning",
   "metadata": {},
   "source": [
    "And as warned for above, the local model outputs the classes, while the deployed model uses the probabilities:"
   ]
  },
  {
   "cell_type": "code",
   "execution_count": 22,
   "id": "3bdf41e9",
   "metadata": {},
   "outputs": [
    {
     "data": {
      "text/plain": [
       "array([0.03388389, 0.00636836, 0.07393802, 0.41373524, 0.59628487])"
      ]
     },
     "execution_count": 22,
     "metadata": {},
     "output_type": "execute_result"
    }
   ],
   "source": [
    "waylay.byoml.model.predict(classifier_model_name, X_test[:5])"
   ]
  },
  {
   "cell_type": "markdown",
   "id": "fd71f5ba",
   "metadata": {
    "tags": [
     "doc_exclude"
    ]
   },
   "source": [
    "## Cleanup"
   ]
  },
  {
   "cell_type": "code",
   "execution_count": 23,
   "id": "floating-kelly",
   "metadata": {
    "tags": [
     "doc_exclude"
    ]
   },
   "outputs": [
    {
     "data": {
      "text/plain": [
       "'Removed: xgboost-example'"
      ]
     },
     "metadata": {},
     "output_type": "display_data"
    },
    {
     "data": {
      "text/plain": [
       "'Removed: xgboost-example-probs'"
      ]
     },
     "metadata": {},
     "output_type": "display_data"
    },
    {
     "data": {
      "text/plain": [
       "'Removed: xgboost-example-classifier'"
      ]
     },
     "metadata": {},
     "output_type": "display_data"
    }
   ],
   "source": [
    "cleanup()"
   ]
  },
  {
   "cell_type": "code",
   "execution_count": null,
   "id": "2f4a1bba",
   "metadata": {},
   "outputs": [],
   "source": []
  }
 ],
 "metadata": {
  "celltoolbar": "Tags",
  "kernelspec": {
   "display_name": "Python 3",
   "language": "python",
   "name": "python3"
  },
  "language_info": {
   "codemirror_mode": {
    "name": "ipython",
    "version": 3
   },
   "file_extension": ".py",
   "mimetype": "text/x-python",
   "name": "python",
   "nbconvert_exporter": "python",
   "pygments_lexer": "ipython3",
   "version": "3.7.10"
  }
 },
 "nbformat": 4,
 "nbformat_minor": 5
}
