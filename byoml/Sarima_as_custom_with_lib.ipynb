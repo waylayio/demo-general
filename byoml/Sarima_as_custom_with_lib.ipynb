{
 "cells": [
  {
   "cell_type": "markdown",
   "id": "abd5e8d0",
   "metadata": {},
   "source": [
    "## SARIMA on BYOML\n",
    "In this notebook we will demonstrate how you can use a statistical  model like SARIMA, upload it to byoml and afterwards perform a (forecasting) prediction with the deployed model.\n",
    "\n",
    "This uses the `custom` framework, supported by BYOML since version `1.4.0`, to use the [statsmodels](https://www.statsmodels.org) implementation of [SARIMA](https://www.statsmodels.org/stable/generated/statsmodels.tsa.statespace.sarimax.SARIMAX.html?highlight=sarima#statsmodels.tsa.statespace.sarimax.SARIMAX).\n",
    "\n",
    "We use WPI data from [stata](https://www.stata-press.com/data/). See also Example 5 in [this](https://www.stata.com/manuals/tsforecastestimates.pdf) stata manual."
   ]
  },
  {
   "cell_type": "code",
   "execution_count": 2,
   "id": "3f90b980",
   "metadata": {},
   "outputs": [],
   "source": [
    "import numpy as np\n",
    "import matplotlib.pyplot as plt\n",
    "from matplotlib.figure import Figure\n",
    "import pandas as pd\n",
    "import httpx\n",
    "import statsmodels.api as sm\n",
    "\n",
    "from io import BytesIO"
   ]
  },
  {
   "cell_type": "code",
   "execution_count": 6,
   "id": "a4b265a1",
   "metadata": {},
   "outputs": [],
   "source": [
    "wpi1 = httpx.get('https://www.stata-press.com/data/r17/wpi1.dta').content\n",
    "data = pd.read_stata(BytesIO(wpi1))\n",
    "data.index = data.t\n",
    "# set quarter index frequency: not necessary, but suppresses warnings\n",
    "data.index.freq='QS'\n",
    "data = data[['wpi']]"
   ]
  },
  {
   "cell_type": "code",
   "execution_count": 7,
   "id": "7c7dc818",
   "metadata": {},
   "outputs": [
    {
     "data": {
      "text/plain": [
       "<AxesSubplot:xlabel='t'>"
      ]
     },
     "execution_count": 7,
     "metadata": {},
     "output_type": "execute_result"
    },
    {
     "data": {
      "image/png": "[encoded data removed]",
      "text/plain": [
       "<Figure size 1152x432 with 1 Axes>"
      ]
     },
     "metadata": {
      "needs_background": "light"
     },
     "output_type": "display_data"
    }
   ],
   "source": [
    "data.plot(figsize = (16, 6))"
   ]
  },
  {
   "cell_type": "markdown",
   "id": "0a4226da",
   "metadata": {},
   "source": [
    "#### train and test data"
   ]
  },
  {
   "cell_type": "code",
   "execution_count": 8,
   "id": "4ef61d58",
   "metadata": {},
   "outputs": [
    {
     "name": "stdout",
     "output_type": "stream",
     "text": [
      "                  wpi\n",
      "t                    \n",
      "1960-01-01  30.700001\n",
      "1960-04-01  30.799999\n",
      "1960-07-01  30.700001\n",
      "1960-10-01  30.700001\n",
      "1961-01-01  30.799999\n",
      "                   wpi\n",
      "t                     \n",
      "1987-10-01  101.000000\n",
      "1988-01-01  101.599998\n",
      "1988-04-01  103.199997\n",
      "1988-07-01  104.699997\n",
      "1988-10-01  105.199997\n"
     ]
    }
   ],
   "source": [
    "train_size = int(len(data.index) * 0.9)\n",
    "df_train, df_test = data.iloc[:train_size], data.iloc[train_size:]\n",
    "print(df_train.head())\n",
    "print(df_test.head())"
   ]
  },
  {
   "cell_type": "markdown",
   "id": "b811d54e",
   "metadata": {},
   "source": [
    "#### model fitting\n",
    "\n",
    "This sarima model uses hyperparameters that set first order (`1,1,1`) modeling on the autoregression (AR), differencing (I), and moving average (MA) parts, both for the 1-step prediction (`order`) as for the seasonal (S) component (`seasonal_order`). \n",
    "\n",
    "We set a seasonality of `4` for a yearly season on quarterly data.\n",
    "\n",
    "We do not use the _exogenous_ (X) component supported by this model.\n",
    "\n",
    "First we will create a local model, later we can compare results of the served model to this local model."
   ]
  },
  {
   "cell_type": "code",
   "execution_count": 9,
   "id": "fdc790ca",
   "metadata": {},
   "outputs": [
    {
     "name": "stdout",
     "output_type": "stream",
     "text": [
      "RUNNING THE L-BFGS-B CODE\n",
      "\n",
      "           * * *\n",
      "\n",
      "Machine precision = 2.220D-16\n",
      " N =            5     M =           10\n",
      "\n",
      "At X0         0 variables are exactly at the bounds\n",
      "\n",
      "At iterate    0    f=  1.09970D+00    |proj g|=  2.19501D-01\n",
      "\n",
      "At iterate   10    f=  9.82291D-01    |proj g|=  2.09852D-02\n",
      "\n",
      "At iterate   20    f=  9.79926D-01    |proj g|=  2.43336D-03\n"
     ]
    },
    {
     "name": "stderr",
     "output_type": "stream",
     "text": [
      " This problem is unconstrained.\n"
     ]
    },
    {
     "name": "stdout",
     "output_type": "stream",
     "text": [
      "\n",
      "At iterate   30    f=  9.79780D-01    |proj g|=  2.32556D-03\n",
      "\n",
      "           * * *\n",
      "\n",
      "Tit   = total number of iterations\n",
      "Tnf   = total number of function evaluations\n",
      "Tnint = total number of segments explored during Cauchy searches\n",
      "Skip  = number of BFGS updates skipped\n",
      "Nact  = number of active bounds at final generalized Cauchy point\n",
      "Projg = norm of the final projected gradient\n",
      "F     = final function value\n",
      "\n",
      "           * * *\n",
      "\n",
      "   N    Tit     Tnf  Tnint  Skip  Nact     Projg        F\n",
      "    5     39     62      1     0     0   1.155D-03   9.798D-01\n",
      "  F =  0.97977439205787609     \n",
      "\n",
      "CONVERGENCE: REL_REDUCTION_OF_F_<=_FACTR*EPSMCH             \n"
     ]
    },
    {
     "data": {
      "text/html": [
       "<table class=\"simpletable\">\n",
       "<caption>SARIMAX Results</caption>\n",
       "<tr>\n",
       "  <th>Dep. Variable:</th>                <td>wpi</td>              <th>  No. Observations:  </th>    <td>111</td>  \n",
       "</tr>\n",
       "<tr>\n",
       "  <th>Model:</th>           <td>SARIMAX(1, 1, 1)x(1, 1, 1, 4)</td> <th>  Log Likelihood     </th> <td>-108.755</td>\n",
       "</tr>\n",
       "<tr>\n",
       "  <th>Date:</th>                  <td>Thu, 09 Jun 2022</td>        <th>  AIC                </th>  <td>227.510</td>\n",
       "</tr>\n",
       "<tr>\n",
       "  <th>Time:</th>                      <td>15:30:10</td>            <th>  BIC                </th>  <td>240.827</td>\n",
       "</tr>\n",
       "<tr>\n",
       "  <th>Sample:</th>                   <td>01-01-1960</td>           <th>  HQIC               </th>  <td>232.907</td>\n",
       "</tr>\n",
       "<tr>\n",
       "  <th></th>                         <td>- 07-01-1987</td>          <th>                     </th>     <td> </td>   \n",
       "</tr>\n",
       "<tr>\n",
       "  <th>Covariance Type:</th>              <td>opg</td>              <th>                     </th>     <td> </td>   \n",
       "</tr>\n",
       "</table>\n",
       "<table class=\"simpletable\">\n",
       "<tr>\n",
       "     <td></td>        <th>coef</th>     <th>std err</th>      <th>z</th>      <th>P>|z|</th>  <th>[0.025</th>    <th>0.975]</th>  \n",
       "</tr>\n",
       "<tr>\n",
       "  <th>ar.L1</th>   <td>    0.8557</td> <td>    0.071</td> <td>   11.969</td> <td> 0.000</td> <td>    0.716</td> <td>    0.996</td>\n",
       "</tr>\n",
       "<tr>\n",
       "  <th>ma.L1</th>   <td>   -0.3205</td> <td>    0.127</td> <td>   -2.527</td> <td> 0.012</td> <td>   -0.569</td> <td>   -0.072</td>\n",
       "</tr>\n",
       "<tr>\n",
       "  <th>ar.S.L4</th> <td>    0.1429</td> <td>    0.127</td> <td>    1.129</td> <td> 0.259</td> <td>   -0.105</td> <td>    0.391</td>\n",
       "</tr>\n",
       "<tr>\n",
       "  <th>ma.S.L4</th> <td>   -0.9989</td> <td>    5.299</td> <td>   -0.188</td> <td> 0.850</td> <td>  -11.386</td> <td>    9.388</td>\n",
       "</tr>\n",
       "<tr>\n",
       "  <th>sigma2</th>  <td>    0.4090</td> <td>    2.162</td> <td>    0.189</td> <td> 0.850</td> <td>   -3.828</td> <td>    4.646</td>\n",
       "</tr>\n",
       "</table>\n",
       "<table class=\"simpletable\">\n",
       "<tr>\n",
       "  <th>Ljung-Box (L1) (Q):</th>     <td>0.00</td>  <th>  Jarque-Bera (JB):  </th> <td>40.29</td>\n",
       "</tr>\n",
       "<tr>\n",
       "  <th>Prob(Q):</th>                <td>0.99</td>  <th>  Prob(JB):          </th> <td>0.00</td> \n",
       "</tr>\n",
       "<tr>\n",
       "  <th>Heteroskedasticity (H):</th> <td>21.40</td> <th>  Skew:              </th> <td>-0.55</td>\n",
       "</tr>\n",
       "<tr>\n",
       "  <th>Prob(H) (two-sided):</th>    <td>0.00</td>  <th>  Kurtosis:          </th> <td>5.81</td> \n",
       "</tr>\n",
       "</table><br/><br/>Warnings:<br/>[1] Covariance matrix calculated using the outer product of gradients (complex-step)."
      ],
      "text/plain": [
       "<class 'statsmodels.iolib.summary.Summary'>\n",
       "\"\"\"\n",
       "                                     SARIMAX Results                                     \n",
       "=========================================================================================\n",
       "Dep. Variable:                               wpi   No. Observations:                  111\n",
       "Model:             SARIMAX(1, 1, 1)x(1, 1, 1, 4)   Log Likelihood                -108.755\n",
       "Date:                           Thu, 09 Jun 2022   AIC                            227.510\n",
       "Time:                                   15:30:10   BIC                            240.827\n",
       "Sample:                               01-01-1960   HQIC                           232.907\n",
       "                                    - 07-01-1987                                         \n",
       "Covariance Type:                             opg                                         \n",
       "==============================================================================\n",
       "                 coef    std err          z      P>|z|      [0.025      0.975]\n",
       "------------------------------------------------------------------------------\n",
       "ar.L1          0.8557      0.071     11.969      0.000       0.716       0.996\n",
       "ma.L1         -0.3205      0.127     -2.527      0.012      -0.569      -0.072\n",
       "ar.S.L4        0.1429      0.127      1.129      0.259      -0.105       0.391\n",
       "ma.S.L4       -0.9989      5.299     -0.188      0.850     -11.386       9.388\n",
       "sigma2         0.4090      2.162      0.189      0.850      -3.828       4.646\n",
       "===================================================================================\n",
       "Ljung-Box (L1) (Q):                   0.00   Jarque-Bera (JB):                40.29\n",
       "Prob(Q):                              0.99   Prob(JB):                         0.00\n",
       "Heteroskedasticity (H):              21.40   Skew:                            -0.55\n",
       "Prob(H) (two-sided):                  0.00   Kurtosis:                         5.81\n",
       "===================================================================================\n",
       "\n",
       "Warnings:\n",
       "[1] Covariance matrix calculated using the outer product of gradients (complex-step).\n",
       "\"\"\""
      ]
     },
     "execution_count": 9,
     "metadata": {},
     "output_type": "execute_result"
    }
   ],
   "source": [
    "model = sm.tsa.SARIMAX(\n",
    "    df_train,\n",
    "    order=(1, 1, 1),\n",
    "    seasonal_order=(1, 1, 1, 4),\n",
    ")\n",
    "fitted_model = model.fit(maxiter=250, disp=10)\n",
    "fitted_model.summary()"
   ]
  },
  {
   "cell_type": "code",
   "execution_count": 7,
   "id": "4bcc8a68",
   "metadata": {},
   "outputs": [
    {
     "data": {
      "image/png": "[encoded data removed]",
      "text/plain": [
       "<Figure size 1080x1080 with 4 Axes>"
      ]
     },
     "metadata": {
      "needs_background": "light"
     },
     "output_type": "display_data"
    }
   ],
   "source": [
    "diag_plot = fitted_model.plot_diagnostics(figsize=(15, 15))\n"
   ]
  },
  {
   "cell_type": "markdown",
   "id": "d2ed564a",
   "metadata": {},
   "source": [
    "#### one-step forecast (in-band)\n",
    "The following cell performs a one-step ahead forecast of the 30 latest data points."
   ]
  },
  {
   "cell_type": "code",
   "execution_count": 10,
   "id": "1594ac0b",
   "metadata": {},
   "outputs": [
    {
     "data": {
      "image/png": "[encoded data removed]",
      "text/plain": [
       "<Figure size 1008x288 with 1 Axes>"
      ]
     },
     "metadata": {
      "needs_background": "light"
     },
     "output_type": "display_data"
    }
   ],
   "source": [
    "prediction = fitted_model.get_prediction(start=-30)\n",
    "pred_ci = prediction.conf_int(alpha=0.05)\n",
    "pred_mean = prediction.predicted_mean\n",
    "ax = df_train.plot(label='observed')\n",
    "pred_mean.plot(ax=ax, label='One-step ahead Forecast', alpha=.7, figsize=(14, 4))\n",
    "ax.fill_between(\n",
    "    pred_ci.index,\n",
    "    pred_ci.iloc[:, 0],\n",
    "    pred_ci.iloc[:, 1], color='k', alpha=.2\n",
    ")\n",
    "ax.set_xlabel('Date')\n",
    "ax.set_ylabel('AQI')\n",
    "plt.legend()\n",
    "plt.show()"
   ]
  },
  {
   "cell_type": "markdown",
   "id": "6ad38615",
   "metadata": {},
   "source": [
    "#### forecast (future prediction)\n",
    "\n",
    "The `forecast` method of the fitted model will give you predictions in the future."
   ]
  },
  {
   "cell_type": "code",
   "execution_count": 11,
   "id": "d2ec4d22",
   "metadata": {},
   "outputs": [
    {
     "data": {
      "text/plain": [
       "[<matplotlib.lines.Line2D at 0x7f8b8ad84e50>]"
      ]
     },
     "execution_count": 11,
     "metadata": {},
     "output_type": "execute_result"
    },
    {
     "data": {
      "image/png": "[encoded data removed]",
      "text/plain": [
       "<Figure size 432x288 with 1 Axes>"
      ]
     },
     "metadata": {
      "needs_background": "light"
     },
     "output_type": "display_data"
    }
   ],
   "source": [
    "forecast_window = 24\n",
    "forecast = fitted_model.forecast(steps=forecast_window)\n",
    "plt.plot(data.index, data.wpi)\n",
    "plt.plot(forecast.index, forecast.values)"
   ]
  },
  {
   "cell_type": "markdown",
   "id": "e6702d83",
   "metadata": {},
   "source": [
    "The `get_forecast` method also gives confidence intervals."
   ]
  },
  {
   "cell_type": "code",
   "execution_count": 12,
   "id": "6424c976",
   "metadata": {},
   "outputs": [
    {
     "data": {
      "image/png": "[encoded data removed]",
      "text/plain": [
       "<Figure size 432x288 with 1 Axes>"
      ]
     },
     "metadata": {
      "needs_background": "light"
     },
     "output_type": "display_data"
    }
   ],
   "source": [
    "forecast = fitted_model.get_forecast(steps=forecast_window)\n",
    "forecast_mean = forecast.predicted_mean\n",
    "# using a 50% confidence interval:\n",
    "forecast_ci = forecast.conf_int(alpha=0.5)\n",
    "plt.plot(data.index, data.wpi)\n",
    "plt.plot(forecast_mean.index, forecast_mean.values)\n",
    "plt.fill_between(\n",
    "    forecast_ci.index,\n",
    "    forecast_ci.iloc[:, 0],\n",
    "    forecast_ci.iloc[:, 1], \n",
    "    color='k', alpha=.2\n",
    ")\n",
    "plt.show()"
   ]
  },
  {
   "cell_type": "markdown",
   "id": "98fc292f",
   "metadata": {},
   "source": [
    "Let's create a custom BYOML model wrapper that we can fit and deploy to BYOML.\n",
    "We set up the waylay client. "
   ]
  },
  {
   "cell_type": "code",
   "execution_count": 13,
   "id": "083638fb",
   "metadata": {},
   "outputs": [
    {
     "data": {
      "text/plain": [
       "'v0.4.0'"
      ]
     },
     "metadata": {},
     "output_type": "display_data"
    },
    {
     "data": {
      "text/plain": [
       "'https://byoml-staging.waylay.io'"
      ]
     },
     "metadata": {},
     "output_type": "display_data"
    },
    {
     "data": {
      "text/plain": [
       "'OK: byoml-1.4.2+3.gbe99dc7'"
      ]
     },
     "metadata": {},
     "output_type": "display_data"
    }
   ],
   "source": [
    "from waylay import WaylayClient, RestResponseError, __version__\n",
    "waylay = WaylayClient.from_profile()\n",
    "\n",
    "# diagnostis\n",
    "display(__version__)\n",
    "display(waylay.byoml.root_url)\n",
    "display(waylay.byoml.about.health())\n"
   ]
  },
  {
   "cell_type": "markdown",
   "id": "e1469d66",
   "metadata": {},
   "source": [
    "## data conversion\n",
    "Our model uses use pandas timeseries, but when deplloyed, the byoml runtime hands over numpy arrays to the `predict` method.\n",
    "\n",
    "The following functions convert from and to numpy arrays of shape ( nr_of_observations, 2). The inner records are a (timestamp, value) with timestamps encoded as epoch milliseconds, e.g. as produced by the `executeQuery`(http://docs-io.waylay.io/#/sensors/executeQuery) plug with the `removeTimestamps=false` option.\n",
    "\n",
    "A typical request that would be sent to the deployed byoml function would be (`Content-Type: application/json`)\n",
    "```http\n",
    "POST /models/sarima-model/predict \n",
    "{\n",
    "  \"instances\" : [\n",
    "     [-315619200000.0, 30.700000762939453],\n",
    "     [-307756800000.0, 30.799999237060547],\n",
    "     [-299894400000.0, 30.700000762939453],\n",
    "     ...\n",
    "  ]\n",
    "}\n",
    "```\n"
   ]
  },
  {
   "cell_type": "code",
   "execution_count": 14,
   "id": "c90b0514",
   "metadata": {},
   "outputs": [],
   "source": [
    "def convert_to_pandas(data):\n",
    "    # to make the model behave the same when fitting and when deployed\n",
    "    if isinstance(data, list):\n",
    "        data = np.array(data)\n",
    "    if isinstance(data, np.ndarray):\n",
    "        (instance_count, row_count) = data.shape\n",
    "        if row_count == 2:\n",
    "            timestamps, values = data.transpose()                \n",
    "        elif instance_count == 2:\n",
    "            timestamps, values = data\n",
    "        else:\n",
    "            raise ValueError('This model requires a timestamp and value row as input')\n",
    "\n",
    "        if len(timestamps) and isinstance(timestamps[0], np.number):\n",
    "            # millisecond epoch is standard for waylay\n",
    "            data = pd.DataFrame(values, index=pd.to_datetime(timestamps, unit='ms'))\n",
    "        else:\n",
    "            data = pd.DataFrame(values, index=pd.to_datetime(timestamps))\n",
    "        data.index.freq='QS'\n",
    "\n",
    "    if not isinstance(data, pd.DataFrame):\n",
    "        raise ValueError('This model requires an input that can be converted to a dataframe.')\n",
    "        \n",
    "    return data\n",
    "\n",
    "def convert_to_numpy(series_or_df):\n",
    "    # convert dataframe to an array of (timestamp_millis, value) tuples\n",
    "    timestamps = series_or_df.index.map(lambda _ : _.timestamp() * 1000).values\n",
    "    if isinstance(series_or_df, pd.DataFrame):\n",
    "        df = series_or_df\n",
    "        series = [ df[c].values for c in df.columns ]\n",
    "        return np.array([timestamps, *series]).transpose()\n",
    "    else:\n",
    "        series = series_or_df.values\n",
    "        return np.array([timestamps, series]).transpose()\n"
   ]
  },
  {
   "cell_type": "markdown",
   "id": "62e5b8df",
   "metadata": {},
   "source": [
    "Check these functions with a roundtrip on the first lines of our data set:"
   ]
  },
  {
   "cell_type": "code",
   "execution_count": 15,
   "id": "db829f64",
   "metadata": {},
   "outputs": [
    {
     "data": {
      "text/plain": [
       "[[-315619200000.0, 30.700000762939453],\n",
       " [-307756800000.0, 30.799999237060547],\n",
       " [-299894400000.0, 30.700000762939453],\n",
       " [-291945600000.0, 30.700000762939453],\n",
       " [-283996800000.0, 30.799999237060547]]"
      ]
     },
     "metadata": {},
     "output_type": "display_data"
    },
    {
     "data": {
      "text/html": [
       "<div>\n",
       "<style scoped>\n",
       "    .dataframe tbody tr th:only-of-type {\n",
       "        vertical-align: middle;\n",
       "    }\n",
       "\n",
       "    .dataframe tbody tr th {\n",
       "        vertical-align: top;\n",
       "    }\n",
       "\n",
       "    .dataframe thead th {\n",
       "        text-align: right;\n",
       "    }\n",
       "</style>\n",
       "<table border=\"1\" class=\"dataframe\">\n",
       "  <thead>\n",
       "    <tr style=\"text-align: right;\">\n",
       "      <th></th>\n",
       "      <th>0</th>\n",
       "    </tr>\n",
       "  </thead>\n",
       "  <tbody>\n",
       "    <tr>\n",
       "      <th>1960-01-01</th>\n",
       "      <td>30.700001</td>\n",
       "    </tr>\n",
       "    <tr>\n",
       "      <th>1960-04-01</th>\n",
       "      <td>30.799999</td>\n",
       "    </tr>\n",
       "    <tr>\n",
       "      <th>1960-07-01</th>\n",
       "      <td>30.700001</td>\n",
       "    </tr>\n",
       "    <tr>\n",
       "      <th>1960-10-01</th>\n",
       "      <td>30.700001</td>\n",
       "    </tr>\n",
       "    <tr>\n",
       "      <th>1961-01-01</th>\n",
       "      <td>30.799999</td>\n",
       "    </tr>\n",
       "  </tbody>\n",
       "</table>\n",
       "</div>"
      ],
      "text/plain": [
       "                    0\n",
       "1960-01-01  30.700001\n",
       "1960-04-01  30.799999\n",
       "1960-07-01  30.700001\n",
       "1960-10-01  30.700001\n",
       "1961-01-01  30.799999"
      ]
     },
     "metadata": {},
     "output_type": "display_data"
    }
   ],
   "source": [
    "json_data = convert_to_numpy(data.head()).tolist()\n",
    "display(json_data)\n",
    "pandas_data = convert_to_pandas(json_data)\n",
    "display(pandas_data)"
   ]
  },
  {
   "cell_type": "markdown",
   "id": "1d60fea2",
   "metadata": {},
   "source": [
    "## Byoml Model wrapper\n",
    "\n",
    "We now create a helper class around the SARIMA model and test the local predict method.\n",
    "* it has a `fit` method to train the model before we upload it. The fitted state is stored in an object attribute,\n",
    "  so that it will be available when running the model on the BYOML runtime.\n",
    "* it has a `predict` method that will be used in the deployed model to restore the fitted model on an array of historical data, and perform a prediction after this input.\n",
    "* the `window` attribute defines the forecasting window used when calling `predict`.\n",
    "* it uses the hooks `map_input` and `map_output` to convert input and output from and the plain json-serializable data structures that the BYOML runtime receives and sends. The byoml runtime will recognize these hooks by their names."
   ]
  },
  {
   "cell_type": "code",
   "execution_count": 16,
   "id": "0221c1b7",
   "metadata": {},
   "outputs": [],
   "source": [
    "class SARIMAXForecaster:\n",
    "    def __init__(self, window=24):\n",
    "        self.window = window\n",
    "        self.fitted_params = None\n",
    "\n",
    "    def map_input(self, request):\n",
    "        \"\"\"Convert the json-data request payload to the input for `predict`.\"\"\"\n",
    "        return convert_to_pandas(request['instances'])\n",
    "    \n",
    "    def map_output(self, request, result):\n",
    "        \"\"\"Convert the output of `predict` to a json-data response payload.\"\"\"\n",
    "        return { 'predictions': convert_to_numpy(result).tolist() }\n",
    "\n",
    "    def create_model(self, data):\n",
    "        return sm.tsa.SARIMAX(\n",
    "            data,\n",
    "            seasonal_order=(1, 1, 1, 4),\n",
    "            order=(1, 0, 0),\n",
    "            trend=[1, 0, 0],\n",
    "            enforce_stationarity=False\n",
    "        )\n",
    "    \n",
    "    def fit(self, data, **fit_args):\n",
    "        fitted_model = self.create_model(data).fit(**fit_args)\n",
    "        self.fitted_params = fitted_model.params\n",
    "        return fitted_model\n",
    "    \n",
    "    def get_fitted_model(self, data):\n",
    "        model = self.create_model(data)\n",
    "        if self.fitted_params is None:\n",
    "            raise ValueError('Model has not been fitted')\n",
    "        return model.smooth(self.fitted_params)\n",
    "        \n",
    "    def predict(self, data):\n",
    "        fitted_model = self.get_fitted_model(data)\n",
    "        return fitted_model.forecast(steps=self.window)\n"
   ]
  },
  {
   "cell_type": "code",
   "execution_count": 17,
   "id": "efec8dba",
   "metadata": {},
   "outputs": [
    {
     "data": {
      "text/plain": [
       "1987-10-01    101.215103\n",
       "1988-01-01    102.439452\n",
       "1988-04-01    103.809061\n",
       "1988-07-01    104.943745\n",
       "1988-10-01    105.799706\n",
       "Freq: QS-JAN, Name: predicted_mean, dtype: float64"
      ]
     },
     "execution_count": 17,
     "metadata": {},
     "output_type": "execute_result"
    }
   ],
   "source": [
    "# fit and test the wrapped model\n",
    "upload_model = SARIMAXForecaster()\n",
    "upload_model.fit(df_train, disp=0)\n",
    "preds_df = upload_model.predict(df_train)\n",
    "preds_df.head()"
   ]
  },
  {
   "cell_type": "code",
   "execution_count": 18,
   "id": "2d86d45c",
   "metadata": {},
   "outputs": [
    {
     "data": {
      "text/plain": [
       "{'predictions': [[560044800000.0, 101.21510338443233],\n",
       "  [567993600000.0, 102.43945209512108],\n",
       "  [575856000000.0, 103.80906145925209],\n",
       "  [583718400000.0, 104.9437448154566],\n",
       "  [591667200000.0, 105.79970630794074],\n",
       "  [599616000000.0, 107.07738401412374],\n",
       "  [607392000000.0, 108.33745314588052],\n",
       "  [615254400000.0, 109.48450326608331],\n",
       "  [623203200000.0, 110.40172540508073],\n",
       "  [631152000000.0, 111.70055448396292],\n",
       "  [638928000000.0, 112.90704612841427],\n",
       "  [646790400000.0, 114.05663177268353],\n",
       "  [654739200000.0, 114.99895224382364],\n",
       "  [662688000000.0, 116.30454546980766],\n",
       "  [670464000000.0, 117.48355759999622],\n",
       "  [678326400000.0, 118.63153466196509],\n",
       "  [686275200000.0, 119.58269953170452],\n",
       "  [694224000000.0, 120.88879666885572],\n",
       "  [702086400000.0, 122.05265976160277],\n",
       "  [709948800000.0, 123.197452961546],\n",
       "  [717897600000.0, 124.15031268128956],\n",
       "  [725846400000.0, 125.45434605591541],\n",
       "  [733622400000.0, 126.60902465915252],\n",
       "  [741484800000.0, 127.75020002891434]]}"
      ]
     },
     "metadata": {},
     "output_type": "display_data"
    }
   ],
   "source": [
    "# test including the data conversion:\n",
    "## this would be the data sent to byoml\n",
    "json_data_req = { 'instances': convert_to_numpy(df_train).tolist() }\n",
    "\n",
    "## these are the steps the byoml service will invoke on the model wrapper\n",
    "mapped_input = upload_model.map_input(json_data_req)\n",
    "preds_df = upload_model.predict(mapped_input)\n",
    "mapped_output = upload_model.map_output(json_data_req, preds_df)\n",
    "\n",
    "## this would be the response data sent back\n",
    "display(mapped_output)"
   ]
  },
  {
   "cell_type": "code",
   "execution_count": 19,
   "id": "66653240",
   "metadata": {},
   "outputs": [
    {
     "data": {
      "text/plain": [
       "[<matplotlib.lines.Line2D at 0x7f8b81a99130>]"
      ]
     },
     "execution_count": 19,
     "metadata": {},
     "output_type": "execute_result"
    },
    {
     "data": {
      "image/png": "[encoded data removed]",
      "text/plain": [
       "<Figure size 432x288 with 1 Axes>"
      ]
     },
     "metadata": {
      "needs_background": "light"
     },
     "output_type": "display_data"
    }
   ],
   "source": [
    "plt.plot(\n",
    "    data.index,\n",
    "    data.wpi\n",
    ")\n",
    "plt.plot(preds_df.index, preds_df.values)"
   ]
  },
  {
   "cell_type": "markdown",
   "id": "a5e828cf",
   "metadata": {},
   "source": [
    "Define the model name for this notebook, delete any model with that name that would already exist. "
   ]
  },
  {
   "cell_type": "code",
   "execution_count": 20,
   "id": "222a7e7e",
   "metadata": {},
   "outputs": [
    {
     "data": {
      "text/plain": [
       "{'message': 'Model sarima-model: all versions deleted',\n",
       " 'name': 'sarima-model',\n",
       " 'versions': []}"
      ]
     },
     "metadata": {},
     "output_type": "display_data"
    }
   ],
   "source": [
    "MODEL_NAME = 'sarima-model'\n",
    "\n",
    "try:\n",
    "    resp = waylay.byoml.model.remove(MODEL_NAME)\n",
    "    display(resp)\n",
    "except RestResponseError as e:\n",
    "    display(f'Ignored: {e}')"
   ]
  },
  {
   "cell_type": "markdown",
   "id": "6f963ab1",
   "metadata": {},
   "source": [
    "To deploy our model on BYOML, we will need to save the model using the `dill` library and upload it together with a `requirements` argument that includes the `statsmodels` library."
   ]
  },
  {
   "cell_type": "code",
   "execution_count": 21,
   "id": "fb628b27",
   "metadata": {},
   "outputs": [
    {
     "data": {
      "text/plain": [
       "{'default_runtime': {'framework': 'custom',\n",
       "  'framework_version': '1.0',\n",
       "  'name': 'byoml-custom-1.0',\n",
       "  'python_version': '3.7'},\n",
       " 'framework': 'custom',\n",
       " 'versions': ['1.0']}"
      ]
     },
     "execution_count": 21,
     "metadata": {},
     "output_type": "execute_result"
    }
   ],
   "source": [
    "# check wether your deployment supports the `custom` framework\n",
    "waylay.byoml.framework.get('custom')"
   ]
  },
  {
   "cell_type": "code",
   "execution_count": 22,
   "id": "4eb30a8b",
   "metadata": {},
   "outputs": [
    {
     "ename": "ByomlActionError",
     "evalue": "ByomlActionError(502: 'operation=server_error'; POST 'https://byoml-staging.waylay.io/models')",
     "output_type": "error",
     "traceback": [
      "\u001b[0;31m---------------------------------------------------------------------------\u001b[0m",
      "\u001b[0;31mServerError\u001b[0m                               Traceback (most recent call last)",
      "File \u001b[0;32m~/miniconda3/envs/byoml_sarima/lib/python3.8/site-packages/waylay/service/byoml/_decorators.py:70\u001b[0m, in \u001b[0;36mbyoml_exception_decorator.<locals>.wrapped\u001b[0;34m(*args, **kwargs)\u001b[0m\n\u001b[1;32m     69\u001b[0m \u001b[38;5;28;01mtry\u001b[39;00m:\n\u001b[0;32m---> 70\u001b[0m     \u001b[38;5;28;01mreturn\u001b[39;00m \u001b[43maction_method\u001b[49m\u001b[43m(\u001b[49m\u001b[38;5;241;43m*\u001b[39;49m\u001b[43margs\u001b[49m\u001b[43m,\u001b[49m\u001b[43m \u001b[49m\u001b[38;5;241;43m*\u001b[39;49m\u001b[38;5;241;43m*\u001b[39;49m\u001b[43mkwargs\u001b[49m\u001b[43m)\u001b[49m\n\u001b[1;32m     71\u001b[0m \u001b[38;5;28;01mexcept\u001b[39;00m ErrorWithResponse \u001b[38;5;28;01mas\u001b[39;00m exc:\n",
      "File \u001b[0;32m~/miniconda3/envs/byoml_sarima/lib/python3.8/site-packages/waylay/service/_decorators.py:234\u001b[0m, in \u001b[0;36mlog_server_timing_decorator.<locals>.decorator.<locals>.wrapped\u001b[0;34m(*args, **kwargs)\u001b[0m\n\u001b[1;32m    233\u001b[0m     _log_server_timing(exc\u001b[38;5;241m.\u001b[39mresponse\u001b[38;5;241m.\u001b[39mheaders\u001b[38;5;241m.\u001b[39mget(\u001b[38;5;124m'\u001b[39m\u001b[38;5;124mServer-Timing\u001b[39m\u001b[38;5;124m'\u001b[39m, \u001b[38;5;28;01mNone\u001b[39;00m), start)\n\u001b[0;32m--> 234\u001b[0m     \u001b[38;5;28;01mraise\u001b[39;00m exc\n\u001b[1;32m    235\u001b[0m \u001b[38;5;28;01mexcept\u001b[39;00m \u001b[38;5;167;01mException\u001b[39;00m:\n",
      "File \u001b[0;32m~/miniconda3/envs/byoml_sarima/lib/python3.8/site-packages/waylay/service/_decorators.py:229\u001b[0m, in \u001b[0;36mlog_server_timing_decorator.<locals>.decorator.<locals>.wrapped\u001b[0;34m(*args, **kwargs)\u001b[0m\n\u001b[1;32m    228\u001b[0m \u001b[38;5;28;01mtry\u001b[39;00m:\n\u001b[0;32m--> 229\u001b[0m     response \u001b[38;5;241m=\u001b[39m \u001b[43maction_method\u001b[49m\u001b[43m(\u001b[49m\u001b[38;5;241;43m*\u001b[39;49m\u001b[43margs\u001b[49m\u001b[43m,\u001b[49m\u001b[43m \u001b[49m\u001b[38;5;241;43m*\u001b[39;49m\u001b[38;5;241;43m*\u001b[39;49m\u001b[43mkwargs\u001b[49m\u001b[43m)\u001b[49m\n\u001b[1;32m    230\u001b[0m     _log_server_timing(response\u001b[38;5;241m.\u001b[39mheaders\u001b[38;5;241m.\u001b[39mget(\u001b[38;5;124m'\u001b[39m\u001b[38;5;124mServer-Timing\u001b[39m\u001b[38;5;124m'\u001b[39m, \u001b[38;5;28;01mNone\u001b[39;00m), start)\n",
      "File \u001b[0;32m~/miniconda3/envs/byoml_sarima/lib/python3.8/site-packages/simple_rest_client/resource.py:101\u001b[0m, in \u001b[0;36mResource.add_action.<locals>.action_method\u001b[0;34m(self, body, params, headers, action_name, *args, **kwargs)\u001b[0m\n\u001b[1;32m    100\u001b[0m request\u001b[38;5;241m.\u001b[39mheaders\u001b[38;5;241m.\u001b[39mupdate(\u001b[38;5;28mself\u001b[39m\u001b[38;5;241m.\u001b[39mheaders)\n\u001b[0;32m--> 101\u001b[0m \u001b[38;5;28;01mreturn\u001b[39;00m \u001b[43mmake_request\u001b[49m\u001b[43m(\u001b[49m\u001b[38;5;28;43mself\u001b[39;49m\u001b[38;5;241;43m.\u001b[39;49m\u001b[43mclient\u001b[49m\u001b[43m,\u001b[49m\u001b[43m \u001b[49m\u001b[43mrequest\u001b[49m\u001b[43m)\u001b[49m\n",
      "File \u001b[0;32m~/miniconda3/envs/byoml_sarima/lib/python3.8/site-packages/simple_rest_client/decorators.py:40\u001b[0m, in \u001b[0;36mhandle_request_error.<locals>.wrapper\u001b[0;34m(*args, **kwargs)\u001b[0m\n\u001b[1;32m     38\u001b[0m     \u001b[38;5;28;01mraise\u001b[39;00m ClientConnectionError(exc)\n\u001b[0;32m---> 40\u001b[0m \u001b[43mvalidate_response\u001b[49m\u001b[43m(\u001b[49m\u001b[43mresponse\u001b[49m\u001b[43m)\u001b[49m\n\u001b[1;32m     42\u001b[0m \u001b[38;5;28;01mreturn\u001b[39;00m response\n",
      "File \u001b[0;32m~/miniconda3/envs/byoml_sarima/lib/python3.8/site-packages/simple_rest_client/decorators.py:28\u001b[0m, in \u001b[0;36mvalidate_response\u001b[0;34m(response)\u001b[0m\n\u001b[1;32m     27\u001b[0m \u001b[38;5;28;01mif\u001b[39;00m status\u001b[38;5;241m.\u001b[39mis_server_error(code\u001b[38;5;241m=\u001b[39mresponse\u001b[38;5;241m.\u001b[39mstatus_code):\n\u001b[0;32m---> 28\u001b[0m     \u001b[38;5;28;01mraise\u001b[39;00m ServerError(\u001b[38;5;124m\"\u001b[39m\u001b[38;5;124moperation=server_error,\u001b[39m\u001b[38;5;124m\"\u001b[39m \u001b[38;5;241m+\u001b[39m error_suffix, response)\n",
      "\u001b[0;31mServerError\u001b[0m: ('operation=server_error, response=Response(url=\\'https://byoml-staging.waylay.io/models\\', method=\\'POST\\', body=\\'\\\\n<html><head>\\\\n<meta http-equiv=\"content-type\" content=\"text/html;charset=utf-8\">\\\\n<title>502 Server Error</title>\\\\n</head>\\\\n<body text=#000000 bgcolor=#ffffff>\\\\n<h1>Error: Server Error</h1>\\\\n<h2>The server encountered a temporary error and could not complete your request.<p>Please try again in 30 seconds.</h2>\\\\n<h2></h2>\\\\n</body></html>\\\\n\\', headers=Headers({\\'content-type\\': \\'text/html; charset=UTF-8\\', \\'referrer-policy\\': \\'no-referrer\\', \\'content-length\\': \\'332\\', \\'date\\': \\'Thu, 09 Jun 2022 13:32:44 GMT\\', \\'alt-svc\\': \\'h3=\":443\"; ma=2592000,h3-29=\":443\"; ma=2592000\\'}), status_code=502, client_response=<Response [502 Bad Gateway]>)', Response(url='https://byoml-staging.waylay.io/models', method='POST', body='\\n<html><head>\\n<meta http-equiv=\"content-type\" content=\"text/html;charset=utf-8\">\\n<title>502 Server Error</title>\\n</head>\\n<body text=#000000 bgcolor=#ffffff>\\n<h1>Error: Server Error</h1>\\n<h2>The server encountered a temporary error and could not complete your request.<p>Please try again in 30 seconds.</h2>\\n<h2></h2>\\n</body></html>\\n', headers=Headers({'content-type': 'text/html; charset=UTF-8', 'referrer-policy': 'no-referrer', 'content-length': '332', 'date': 'Thu, 09 Jun 2022 13:32:44 GMT', 'alt-svc': 'h3=\":443\"; ma=2592000,h3-29=\":443\"; ma=2592000'}), status_code=502, client_response=<Response [502 Bad Gateway]>))",
      "\nThe above exception was the direct cause of the following exception:\n",
      "\u001b[0;31mByomlActionError\u001b[0m                          Traceback (most recent call last)",
      "Input \u001b[0;32mIn [22]\u001b[0m, in \u001b[0;36m<cell line: 1>\u001b[0;34m()\u001b[0m\n\u001b[0;32m----> 1\u001b[0m \u001b[43mwaylay\u001b[49m\u001b[38;5;241;43m.\u001b[39;49m\u001b[43mbyoml\u001b[49m\u001b[38;5;241;43m.\u001b[39;49m\u001b[43mmodel\u001b[49m\u001b[38;5;241;43m.\u001b[39;49m\u001b[43mupload\u001b[49m\u001b[43m(\u001b[49m\n\u001b[1;32m      2\u001b[0m \u001b[43m    \u001b[49m\u001b[43mMODEL_NAME\u001b[49m\u001b[43m,\u001b[49m\n\u001b[1;32m      3\u001b[0m \u001b[43m    \u001b[49m\u001b[43mupload_model\u001b[49m\u001b[43m,\u001b[49m\n\u001b[1;32m      4\u001b[0m \u001b[43m    \u001b[49m\u001b[43mframework\u001b[49m\u001b[38;5;241;43m=\u001b[39;49m\u001b[38;5;124;43m'\u001b[39;49m\u001b[38;5;124;43mcustom\u001b[39;49m\u001b[38;5;124;43m'\u001b[39;49m\u001b[43m,\u001b[49m\n\u001b[1;32m      5\u001b[0m \u001b[43m    \u001b[49m\u001b[43mdescription\u001b[49m\u001b[38;5;241;43m=\u001b[39;49m\u001b[38;5;124;43m'\u001b[39;49m\u001b[38;5;124;43mSARIMA model example\u001b[39;49m\u001b[38;5;124;43m'\u001b[39;49m\u001b[43m,\u001b[49m\n\u001b[1;32m      6\u001b[0m \u001b[43m    \u001b[49m\u001b[43mrequirements\u001b[49m\u001b[38;5;241;43m=\u001b[39;49m\u001b[38;5;124;43m'\u001b[39;49m\u001b[38;5;124;43mstatsmodels==0.13\u001b[39;49m\u001b[38;5;124;43m'\u001b[39;49m\u001b[43m,\u001b[49m\n\u001b[1;32m      7\u001b[0m \u001b[43m)\u001b[49m\n",
      "File \u001b[0;32m~/miniconda3/envs/byoml_sarima/lib/python3.8/site-packages/waylay/service/_decorators.py:21\u001b[0m, in \u001b[0;36msuppress_header_decorator.<locals>.decorator.<locals>.wrapped\u001b[0;34m(slf, *args, **kwargs)\u001b[0m\n\u001b[1;32m     19\u001b[0m header_value \u001b[38;5;241m=\u001b[39m slf\u001b[38;5;241m.\u001b[39mheaders\u001b[38;5;241m.\u001b[39mpop(header_key, \u001b[38;5;28;01mNone\u001b[39;00m)\n\u001b[1;32m     20\u001b[0m \u001b[38;5;28;01mtry\u001b[39;00m:\n\u001b[0;32m---> 21\u001b[0m     \u001b[38;5;28;01mreturn\u001b[39;00m \u001b[43maction_method\u001b[49m\u001b[43m(\u001b[49m\u001b[43mslf\u001b[49m\u001b[43m,\u001b[49m\u001b[43m \u001b[49m\u001b[38;5;241;43m*\u001b[39;49m\u001b[43margs\u001b[49m\u001b[43m,\u001b[49m\u001b[43m \u001b[49m\u001b[38;5;241;43m*\u001b[39;49m\u001b[38;5;241;43m*\u001b[39;49m\u001b[43mkwargs\u001b[49m\u001b[43m)\u001b[49m\n\u001b[1;32m     22\u001b[0m \u001b[38;5;28;01mfinally\u001b[39;00m:\n\u001b[1;32m     23\u001b[0m     \u001b[38;5;28;01mif\u001b[39;00m header_value:\n",
      "File \u001b[0;32m~/miniconda3/envs/byoml_sarima/lib/python3.8/site-packages/waylay/service/byoml/model.py:407\u001b[0m, in \u001b[0;36mModelResource.upload\u001b[0;34m(self, model_name, trained_model, framework, framework_version, metadata, description, requirements_file, requirements, lib, work_dir, **kwargs)\u001b[0m\n\u001b[1;32m    391\u001b[0m \u001b[38;5;28;01mif\u001b[39;00m requirements \u001b[38;5;129;01mor\u001b[39;00m requirements_file \u001b[38;5;129;01mor\u001b[39;00m lib:\n\u001b[1;32m    392\u001b[0m     \u001b[38;5;66;03m# use the new plug format upload (openfaas only)\u001b[39;00m\n\u001b[1;32m    393\u001b[0m     \u001b[38;5;28;01mwith\u001b[39;00m \u001b[38;5;28mself\u001b[39m\u001b[38;5;241m.\u001b[39m_send_model_plug_arguments(\n\u001b[1;32m    394\u001b[0m         model_name, trained_model,\n\u001b[1;32m    395\u001b[0m         framework\u001b[38;5;241m=\u001b[39mframework,\n\u001b[0;32m   (...)\u001b[0m\n\u001b[1;32m    405\u001b[0m         \u001b[38;5;241m*\u001b[39m\u001b[38;5;241m*\u001b[39mkwargs\n\u001b[1;32m    406\u001b[0m     ) \u001b[38;5;28;01mas\u001b[39;00m arguments:\n\u001b[0;32m--> 407\u001b[0m         \u001b[38;5;28;01mreturn\u001b[39;00m \u001b[38;5;28;43mself\u001b[39;49m\u001b[38;5;241;43m.\u001b[39;49m\u001b[43m_create\u001b[49m\u001b[43m(\u001b[49m\u001b[38;5;241;43m*\u001b[39;49m\u001b[38;5;241;43m*\u001b[39;49m\u001b[43marguments\u001b[49m\u001b[43m)\u001b[49m  \u001b[38;5;66;03m# pylint: disable=no-member\u001b[39;00m\n\u001b[1;32m    408\u001b[0m \u001b[38;5;28;01melse\u001b[39;00m:\n\u001b[1;32m    409\u001b[0m     \u001b[38;5;66;03m# legacy format (to be removed after move to openfaas byoml 1.4.0)\u001b[39;00m\n\u001b[1;32m    410\u001b[0m     \u001b[38;5;28;01mwith\u001b[39;00m \u001b[38;5;28mself\u001b[39m\u001b[38;5;241m.\u001b[39m_send_model_arguments(\n\u001b[1;32m    411\u001b[0m         model_name, trained_model,\n\u001b[1;32m    412\u001b[0m         framework\u001b[38;5;241m=\u001b[39mframework,\n\u001b[0;32m   (...)\u001b[0m\n\u001b[1;32m    419\u001b[0m         \u001b[38;5;241m*\u001b[39m\u001b[38;5;241m*\u001b[39mkwargs\n\u001b[1;32m    420\u001b[0m     ) \u001b[38;5;28;01mas\u001b[39;00m arguments:\n",
      "File \u001b[0;32m~/miniconda3/envs/byoml_sarima/lib/python3.8/site-packages/waylay/service/_decorators.py:138\u001b[0m, in \u001b[0;36mreturn_path_decorator.<locals>.decorator.<locals>.wrapped\u001b[0;34m(*args, **kwargs)\u001b[0m\n\u001b[1;32m    134\u001b[0m select_path \u001b[38;5;241m=\u001b[39m kwargs\u001b[38;5;241m.\u001b[39mpop(\u001b[38;5;124m'\u001b[39m\u001b[38;5;124mselect_path\u001b[39m\u001b[38;5;124m'\u001b[39m, default_path)\n\u001b[1;32m    135\u001b[0m constructor \u001b[38;5;241m=\u001b[39m kwargs\u001b[38;5;241m.\u001b[39mpop(\n\u001b[1;32m    136\u001b[0m     \u001b[38;5;124m'\u001b[39m\u001b[38;5;124mresponse_constructor\u001b[39m\u001b[38;5;124m'\u001b[39m, default_response_constructor\n\u001b[1;32m    137\u001b[0m ) \u001b[38;5;129;01mor\u001b[39;00m identity_transform\n\u001b[0;32m--> 138\u001b[0m response \u001b[38;5;241m=\u001b[39m \u001b[43maction_method\u001b[49m\u001b[43m(\u001b[49m\u001b[38;5;241;43m*\u001b[39;49m\u001b[43margs\u001b[49m\u001b[43m,\u001b[49m\u001b[43m \u001b[49m\u001b[38;5;241;43m*\u001b[39;49m\u001b[38;5;241;43m*\u001b[39;49m\u001b[43mkwargs\u001b[49m\u001b[43m)\u001b[49m\n\u001b[1;32m    139\u001b[0m \u001b[38;5;28;01mif\u001b[39;00m raw:\n\u001b[1;32m    140\u001b[0m     \u001b[38;5;28;01mreturn\u001b[39;00m response\n",
      "File \u001b[0;32m~/miniconda3/envs/byoml_sarima/lib/python3.8/site-packages/waylay/service/byoml/_decorators.py:112\u001b[0m, in \u001b[0;36mbyoml_retry_upload_after_deletion_decorator.<locals>.wrapped\u001b[0;34m(*args, **kwargs)\u001b[0m\n\u001b[1;32m    110\u001b[0m \u001b[38;5;66;03m# if timeout is not explicitely given, align with retry_max_delay\u001b[39;00m\n\u001b[1;32m    111\u001b[0m timeout \u001b[38;5;241m=\u001b[39m kwargs\u001b[38;5;241m.\u001b[39mpop(\u001b[38;5;124m'\u001b[39m\u001b[38;5;124mtimeout\u001b[39m\u001b[38;5;124m'\u001b[39m, retry_max_delay)\n\u001b[0;32m--> 112\u001b[0m \u001b[38;5;28;01mfor\u001b[39;00m attempt \u001b[38;5;129;01min\u001b[39;00m Retrying(\n\u001b[1;32m    113\u001b[0m     stop\u001b[38;5;241m=\u001b[39m(stop_after_delay(retry_max_delay)),\n\u001b[1;32m    114\u001b[0m     retry\u001b[38;5;241m=\u001b[39mretry_if_exception(is_409_error),\n\u001b[1;32m    115\u001b[0m     before_sleep\u001b[38;5;241m=\u001b[39mbefore_sleep,\n\u001b[1;32m    116\u001b[0m     wait\u001b[38;5;241m=\u001b[39mwait_exponential(\u001b[38;5;241m*\u001b[39m\u001b[38;5;241m*\u001b[39mWAIT_EXPONENTIAL),\n\u001b[1;32m    117\u001b[0m     reraise\u001b[38;5;241m=\u001b[39m\u001b[38;5;28;01mTrue\u001b[39;00m\n\u001b[1;32m    118\u001b[0m ):\n\u001b[1;32m    119\u001b[0m     \u001b[38;5;28;01mwith\u001b[39;00m attempt:\n\u001b[1;32m    120\u001b[0m         \u001b[38;5;66;03m# reset input stream when retrying upload\u001b[39;00m\n\u001b[1;32m    121\u001b[0m         body \u001b[38;5;241m=\u001b[39m kwargs\u001b[38;5;241m.\u001b[39mget(\u001b[38;5;124m'\u001b[39m\u001b[38;5;124mbody\u001b[39m\u001b[38;5;124m'\u001b[39m, \u001b[38;5;28;01mNone\u001b[39;00m)\n",
      "File \u001b[0;32m~/miniconda3/envs/byoml_sarima/lib/python3.8/site-packages/tenacity/__init__.py:382\u001b[0m, in \u001b[0;36mBaseRetrying.__iter__\u001b[0;34m(self)\u001b[0m\n\u001b[1;32m    380\u001b[0m retry_state \u001b[38;5;241m=\u001b[39m RetryCallState(\u001b[38;5;28mself\u001b[39m, fn\u001b[38;5;241m=\u001b[39m\u001b[38;5;28;01mNone\u001b[39;00m, args\u001b[38;5;241m=\u001b[39m(), kwargs\u001b[38;5;241m=\u001b[39m{})\n\u001b[1;32m    381\u001b[0m \u001b[38;5;28;01mwhile\u001b[39;00m \u001b[38;5;28;01mTrue\u001b[39;00m:\n\u001b[0;32m--> 382\u001b[0m     do \u001b[38;5;241m=\u001b[39m \u001b[38;5;28;43mself\u001b[39;49m\u001b[38;5;241;43m.\u001b[39;49m\u001b[43miter\u001b[49m\u001b[43m(\u001b[49m\u001b[43mretry_state\u001b[49m\u001b[38;5;241;43m=\u001b[39;49m\u001b[43mretry_state\u001b[49m\u001b[43m)\u001b[49m\n\u001b[1;32m    383\u001b[0m     \u001b[38;5;28;01mif\u001b[39;00m \u001b[38;5;28misinstance\u001b[39m(do, DoAttempt):\n\u001b[1;32m    384\u001b[0m         \u001b[38;5;28;01myield\u001b[39;00m AttemptManager(retry_state\u001b[38;5;241m=\u001b[39mretry_state)\n",
      "File \u001b[0;32m~/miniconda3/envs/byoml_sarima/lib/python3.8/site-packages/tenacity/__init__.py:349\u001b[0m, in \u001b[0;36mBaseRetrying.iter\u001b[0;34m(self, retry_state)\u001b[0m\n\u001b[1;32m    347\u001b[0m is_explicit_retry \u001b[38;5;241m=\u001b[39m retry_state\u001b[38;5;241m.\u001b[39moutcome\u001b[38;5;241m.\u001b[39mfailed \u001b[38;5;129;01mand\u001b[39;00m \u001b[38;5;28misinstance\u001b[39m(retry_state\u001b[38;5;241m.\u001b[39moutcome\u001b[38;5;241m.\u001b[39mexception(), TryAgain)\n\u001b[1;32m    348\u001b[0m \u001b[38;5;28;01mif\u001b[39;00m \u001b[38;5;129;01mnot\u001b[39;00m (is_explicit_retry \u001b[38;5;129;01mor\u001b[39;00m \u001b[38;5;28mself\u001b[39m\u001b[38;5;241m.\u001b[39mretry(retry_state\u001b[38;5;241m=\u001b[39mretry_state)):\n\u001b[0;32m--> 349\u001b[0m     \u001b[38;5;28;01mreturn\u001b[39;00m \u001b[43mfut\u001b[49m\u001b[38;5;241;43m.\u001b[39;49m\u001b[43mresult\u001b[49m\u001b[43m(\u001b[49m\u001b[43m)\u001b[49m\n\u001b[1;32m    351\u001b[0m \u001b[38;5;28;01mif\u001b[39;00m \u001b[38;5;28mself\u001b[39m\u001b[38;5;241m.\u001b[39mafter \u001b[38;5;129;01mis\u001b[39;00m \u001b[38;5;129;01mnot\u001b[39;00m \u001b[38;5;28;01mNone\u001b[39;00m:\n\u001b[1;32m    352\u001b[0m     \u001b[38;5;28mself\u001b[39m\u001b[38;5;241m.\u001b[39mafter(retry_state)\n",
      "File \u001b[0;32m~/miniconda3/envs/byoml_sarima/lib/python3.8/concurrent/futures/_base.py:437\u001b[0m, in \u001b[0;36mFuture.result\u001b[0;34m(self, timeout)\u001b[0m\n\u001b[1;32m    435\u001b[0m     \u001b[38;5;28;01mraise\u001b[39;00m CancelledError()\n\u001b[1;32m    436\u001b[0m \u001b[38;5;28;01melif\u001b[39;00m \u001b[38;5;28mself\u001b[39m\u001b[38;5;241m.\u001b[39m_state \u001b[38;5;241m==\u001b[39m FINISHED:\n\u001b[0;32m--> 437\u001b[0m     \u001b[38;5;28;01mreturn\u001b[39;00m \u001b[38;5;28;43mself\u001b[39;49m\u001b[38;5;241;43m.\u001b[39;49m\u001b[43m__get_result\u001b[49m\u001b[43m(\u001b[49m\u001b[43m)\u001b[49m\n\u001b[1;32m    439\u001b[0m \u001b[38;5;28mself\u001b[39m\u001b[38;5;241m.\u001b[39m_condition\u001b[38;5;241m.\u001b[39mwait(timeout)\n\u001b[1;32m    441\u001b[0m \u001b[38;5;28;01mif\u001b[39;00m \u001b[38;5;28mself\u001b[39m\u001b[38;5;241m.\u001b[39m_state \u001b[38;5;129;01min\u001b[39;00m [CANCELLED, CANCELLED_AND_NOTIFIED]:\n",
      "File \u001b[0;32m~/miniconda3/envs/byoml_sarima/lib/python3.8/concurrent/futures/_base.py:389\u001b[0m, in \u001b[0;36mFuture.__get_result\u001b[0;34m(self)\u001b[0m\n\u001b[1;32m    387\u001b[0m \u001b[38;5;28;01mif\u001b[39;00m \u001b[38;5;28mself\u001b[39m\u001b[38;5;241m.\u001b[39m_exception:\n\u001b[1;32m    388\u001b[0m     \u001b[38;5;28;01mtry\u001b[39;00m:\n\u001b[0;32m--> 389\u001b[0m         \u001b[38;5;28;01mraise\u001b[39;00m \u001b[38;5;28mself\u001b[39m\u001b[38;5;241m.\u001b[39m_exception\n\u001b[1;32m    390\u001b[0m     \u001b[38;5;28;01mfinally\u001b[39;00m:\n\u001b[1;32m    391\u001b[0m         \u001b[38;5;66;03m# Break a reference cycle with the exception in self._exception\u001b[39;00m\n\u001b[1;32m    392\u001b[0m         \u001b[38;5;28mself\u001b[39m \u001b[38;5;241m=\u001b[39m \u001b[38;5;28;01mNone\u001b[39;00m\n",
      "File \u001b[0;32m~/miniconda3/envs/byoml_sarima/lib/python3.8/site-packages/waylay/service/byoml/_decorators.py:124\u001b[0m, in \u001b[0;36mbyoml_retry_upload_after_deletion_decorator.<locals>.wrapped\u001b[0;34m(*args, **kwargs)\u001b[0m\n\u001b[1;32m    122\u001b[0m \u001b[38;5;28;01mif\u001b[39;00m body \u001b[38;5;129;01mand\u001b[39;00m \u001b[38;5;28mhasattr\u001b[39m(body, \u001b[38;5;124m'\u001b[39m\u001b[38;5;124mseek\u001b[39m\u001b[38;5;124m'\u001b[39m):\n\u001b[1;32m    123\u001b[0m     body\u001b[38;5;241m.\u001b[39mseek(\u001b[38;5;241m0\u001b[39m)\n\u001b[0;32m--> 124\u001b[0m \u001b[38;5;28;01mreturn\u001b[39;00m \u001b[43maction_method\u001b[49m\u001b[43m(\u001b[49m\u001b[38;5;241;43m*\u001b[39;49m\u001b[43margs\u001b[49m\u001b[43m,\u001b[49m\u001b[43m \u001b[49m\u001b[43mtimeout\u001b[49m\u001b[38;5;241;43m=\u001b[39;49m\u001b[43mtimeout\u001b[49m\u001b[43m,\u001b[49m\u001b[43m \u001b[49m\u001b[38;5;241;43m*\u001b[39;49m\u001b[38;5;241;43m*\u001b[39;49m\u001b[43mkwargs\u001b[49m\u001b[43m)\u001b[49m\n",
      "File \u001b[0;32m~/miniconda3/envs/byoml_sarima/lib/python3.8/site-packages/waylay/service/_decorators.py:95\u001b[0m, in \u001b[0;36mdefault_timeout_decorator.<locals>.decorator.<locals>.wrapped\u001b[0;34m(*args, **kwargs)\u001b[0m\n\u001b[1;32m     92\u001b[0m \u001b[38;5;129m@wraps\u001b[39m(action_method)\n\u001b[1;32m     93\u001b[0m \u001b[38;5;28;01mdef\u001b[39;00m \u001b[38;5;21mwrapped\u001b[39m(\u001b[38;5;241m*\u001b[39margs, \u001b[38;5;241m*\u001b[39m\u001b[38;5;241m*\u001b[39mkwargs):\n\u001b[1;32m     94\u001b[0m     timeout \u001b[38;5;241m=\u001b[39m kwargs\u001b[38;5;241m.\u001b[39mpop(\u001b[38;5;124m'\u001b[39m\u001b[38;5;124mtimeout\u001b[39m\u001b[38;5;124m'\u001b[39m, default_timeout)\n\u001b[0;32m---> 95\u001b[0m     \u001b[38;5;28;01mreturn\u001b[39;00m \u001b[43maction_method\u001b[49m\u001b[43m(\u001b[49m\u001b[38;5;241;43m*\u001b[39;49m\u001b[43margs\u001b[49m\u001b[43m,\u001b[49m\u001b[43m \u001b[49m\u001b[43mtimeout\u001b[49m\u001b[38;5;241;43m=\u001b[39;49m\u001b[43mtimeout\u001b[49m\u001b[43m,\u001b[49m\u001b[43m \u001b[49m\u001b[38;5;241;43m*\u001b[39;49m\u001b[38;5;241;43m*\u001b[39;49m\u001b[43mkwargs\u001b[49m\u001b[43m)\u001b[49m\n",
      "File \u001b[0;32m~/miniconda3/envs/byoml_sarima/lib/python3.8/site-packages/waylay/service/byoml/_decorators.py:72\u001b[0m, in \u001b[0;36mbyoml_exception_decorator.<locals>.wrapped\u001b[0;34m(*args, **kwargs)\u001b[0m\n\u001b[1;32m     70\u001b[0m     \u001b[38;5;28;01mreturn\u001b[39;00m action_method(\u001b[38;5;241m*\u001b[39margs, \u001b[38;5;241m*\u001b[39m\u001b[38;5;241m*\u001b[39mkwargs)\n\u001b[1;32m     71\u001b[0m \u001b[38;5;28;01mexcept\u001b[39;00m ErrorWithResponse \u001b[38;5;28;01mas\u001b[39;00m exc:\n\u001b[0;32m---> 72\u001b[0m     \u001b[38;5;28;01mraise\u001b[39;00m ByomlActionError\u001b[38;5;241m.\u001b[39mfrom_cause(exc) \u001b[38;5;28;01mfrom\u001b[39;00m \u001b[38;5;21;01mexc\u001b[39;00m\n\u001b[1;32m     73\u001b[0m \u001b[38;5;28;01mexcept\u001b[39;00m ClientConnectionError \u001b[38;5;28;01mas\u001b[39;00m exc:\n\u001b[1;32m     74\u001b[0m     \u001b[38;5;28;01mraise\u001b[39;00m RestConnectionError\u001b[38;5;241m.\u001b[39mfrom_cause(exc) \u001b[38;5;28;01mfrom\u001b[39;00m \u001b[38;5;21;01mexc\u001b[39;00m\n",
      "\u001b[0;31mByomlActionError\u001b[0m: ByomlActionError(502: 'operation=server_error'; POST 'https://byoml-staging.waylay.io/models')"
     ]
    }
   ],
   "source": [
    "waylay.byoml.model.upload(\n",
    "    MODEL_NAME,\n",
    "    upload_model,\n",
    "    framework='custom',\n",
    "    description='SARIMA model example',\n",
    "    requirements='statsmodels==0.13',\n",
    ")"
   ]
  },
  {
   "cell_type": "markdown",
   "id": "d45e90ed",
   "metadata": {},
   "source": [
    "Listing the models won't affect the deployment status of the model"
   ]
  },
  {
   "cell_type": "code",
   "execution_count": 26,
   "id": "ed77fd74",
   "metadata": {},
   "outputs": [
    {
     "data": {
      "text/plain": [
       "[{'createdBy': 'users/0476f99d-ac60-4f86-bc45-7215962754cd',\n",
       "  'createdOn': '2022-06-09T13:32:14.963000+00:00',\n",
       "  'description': 'SARIMA model example',\n",
       "  'framework': 'custom',\n",
       "  'framework_version': '1.0',\n",
       "  'metadata': {'description': 'SARIMA model example'},\n",
       "  'name': 'sarima-model',\n",
       "  'updatedBy': 'users/0476f99d-ac60-4f86-bc45-7215962754cd',\n",
       "  'updatedOn': '2022-06-09T13:32:15.001000+00:00',\n",
       "  'version': '1'},\n",
       " {'createdBy': 'users/0476f99d-ac60-4f86-bc45-7215962754cd',\n",
       "  'createdOn': '2021-10-15T14:53:50.628000+00:00',\n",
       "  'description': 'SARIMA model example with confidence intervals',\n",
       "  'framework': 'custom',\n",
       "  'framework_version': '1.0',\n",
       "  'metadata': {'description': 'SARIMA model example with confidence intervals'},\n",
       "  'name': 'sarima-model-ci',\n",
       "  'updatedBy': 'users/0476f99d-ac60-4f86-bc45-7215962754cd',\n",
       "  'updatedOn': '2021-10-15T14:53:52.767000+00:00',\n",
       "  'version': '1'},\n",
       " {'createdOn': '2021-07-02T11:15:51.976000+00:00',\n",
       "  'description': 'SARIMA model example',\n",
       "  'framework': 'sklearn',\n",
       "  'framework_version': '0.22',\n",
       "  'metadata': {'description': 'SARIMA model example'},\n",
       "  'name': 'sarima-model-tds',\n",
       "  'updatedBy': 'users/0476f99d-ac60-4f86-bc45-7215962754cd',\n",
       "  'updatedOn': '2021-07-02T11:15:51.976000+00:00',\n",
       "  'version': '1'},\n",
       " {'createdOn': '2021-07-02T11:17:44.932000+00:00',\n",
       "  'description': 'SARIMA model example',\n",
       "  'framework': 'sklearn',\n",
       "  'framework_version': '0.22',\n",
       "  'metadata': {'description': 'SARIMA model example'},\n",
       "  'name': 'sarima-model-tds-fitted',\n",
       "  'updatedBy': 'users/0476f99d-ac60-4f86-bc45-7215962754cd',\n",
       "  'updatedOn': '2021-07-02T11:17:44.932000+00:00',\n",
       "  'version': '1'}]"
      ]
     },
     "execution_count": 26,
     "metadata": {},
     "output_type": "execute_result"
    }
   ],
   "source": [
    "waylay.byoml.model.list(params={\"name\":MODEL_NAME})"
   ]
  },
  {
   "cell_type": "markdown",
   "id": "e99de0be",
   "metadata": {},
   "source": [
    "Getting the model, will check that the model is ready to serve ..."
   ]
  },
  {
   "cell_type": "code",
   "execution_count": 28,
   "id": "d1d6f395",
   "metadata": {},
   "outputs": [
    {
     "data": {
      "text/plain": [
       "{'createdBy': 'users/0476f99d-ac60-4f86-bc45-7215962754cd',\n",
       " 'createdOn': '2022-06-09T13:32:14.963000+00:00',\n",
       " 'description': 'SARIMA model example',\n",
       " 'framework': 'custom',\n",
       " 'framework_version': '1.0',\n",
       " 'metadata': {'description': 'SARIMA model example'},\n",
       " 'name': 'sarima-model',\n",
       " 'ready': False,\n",
       " 'runtime': {'framework': 'custom',\n",
       "  'framework_version': '1.0',\n",
       "  'name': 'byoml-custom-1.0',\n",
       "  'python_version': '3.7'},\n",
       " 'semantic_version': '0.0.1',\n",
       " 'serving_name': 'kf-da8781cc0d4dc5602d7c6c5a0b0b157e3592b04e.openfaas-fn-6ccc8843-d78d-49e8-84c4-3734a4af9929',\n",
       " 'status': 'running',\n",
       " 'supported_endpoints': [],\n",
       " 'updatedBy': 'users/0476f99d-ac60-4f86-bc45-7215962754cd',\n",
       " 'updatedOn': '2022-06-09T13:32:15.001000+00:00',\n",
       " 'version': '1'}"
      ]
     },
     "execution_count": 28,
     "metadata": {},
     "output_type": "execute_result"
    }
   ],
   "source": [
    "waylay.byoml.model.get(MODEL_NAME, params={\"debug\": True})"
   ]
  },
  {
   "cell_type": "markdown",
   "id": "ef2c4db2",
   "metadata": {},
   "source": [
    "When requesting predictions, the python SDK will retry until the model is ready to serve (see [retry handling](http://docs-io.waylay.io/#/api/sdk/python?id=retry-handling))"
   ]
  },
  {
   "cell_type": "code",
   "execution_count": 30,
   "id": "053978e8",
   "metadata": {},
   "outputs": [
    {
     "data": {
      "text/html": [
       "<div>\n",
       "<style scoped>\n",
       "    .dataframe tbody tr th:only-of-type {\n",
       "        vertical-align: middle;\n",
       "    }\n",
       "\n",
       "    .dataframe tbody tr th {\n",
       "        vertical-align: top;\n",
       "    }\n",
       "\n",
       "    .dataframe thead th {\n",
       "        text-align: right;\n",
       "    }\n",
       "</style>\n",
       "<table border=\"1\" class=\"dataframe\">\n",
       "  <thead>\n",
       "    <tr style=\"text-align: right;\">\n",
       "      <th></th>\n",
       "      <th>0</th>\n",
       "    </tr>\n",
       "  </thead>\n",
       "  <tbody>\n",
       "    <tr>\n",
       "      <th>1987-10-01</th>\n",
       "      <td>101.215103</td>\n",
       "    </tr>\n",
       "    <tr>\n",
       "      <th>1988-01-01</th>\n",
       "      <td>102.439452</td>\n",
       "    </tr>\n",
       "    <tr>\n",
       "      <th>1988-04-01</th>\n",
       "      <td>103.809061</td>\n",
       "    </tr>\n",
       "    <tr>\n",
       "      <th>1988-07-01</th>\n",
       "      <td>104.943745</td>\n",
       "    </tr>\n",
       "    <tr>\n",
       "      <th>1988-10-01</th>\n",
       "      <td>105.799706</td>\n",
       "    </tr>\n",
       "  </tbody>\n",
       "</table>\n",
       "</div>"
      ],
      "text/plain": [
       "                     0\n",
       "1987-10-01  101.215103\n",
       "1988-01-01  102.439452\n",
       "1988-04-01  103.809061\n",
       "1988-07-01  104.943745\n",
       "1988-10-01  105.799706"
      ]
     },
     "execution_count": 30,
     "metadata": {},
     "output_type": "execute_result"
    }
   ],
   "source": [
    "predictions = waylay.byoml.model.predict(MODEL_NAME, convert_to_numpy(df_train))\n",
    "predictions_df = convert_to_pandas(predictions)\n",
    "predictions_df.head()"
   ]
  },
  {
   "cell_type": "code",
   "execution_count": 31,
   "id": "438efaeb",
   "metadata": {},
   "outputs": [
    {
     "data": {
      "text/plain": [
       "[<matplotlib.lines.Line2D at 0x7f8b8af8a3a0>]"
      ]
     },
     "execution_count": 31,
     "metadata": {},
     "output_type": "execute_result"
    },
    {
     "data": {
      "image/png": "[encoded data removed]",
      "text/plain": [
       "<Figure size 432x288 with 1 Axes>"
      ]
     },
     "metadata": {
      "needs_background": "light"
     },
     "output_type": "display_data"
    }
   ],
   "source": [
    "plt.plot(\n",
    "    data.index,\n",
    "    data.wpi\n",
    ")\n",
    "plt.plot(\n",
    "    predictions_df.index,\n",
    "    predictions_df.values\n",
    ")"
   ]
  },
  {
   "cell_type": "code",
   "execution_count": 32,
   "id": "8aab8f50",
   "metadata": {},
   "outputs": [
    {
     "data": {
      "text/plain": [
       "{'message': 'Model sarima-model: all versions deleted',\n",
       " 'name': 'sarima-model',\n",
       " 'versions': ['0.0.1']}"
      ]
     },
     "execution_count": 32,
     "metadata": {},
     "output_type": "execute_result"
    }
   ],
   "source": [
    "# remove the deployed model\n",
    "waylay.byoml.model.remove(MODEL_NAME)"
   ]
  },
  {
   "cell_type": "markdown",
   "id": "ee983649",
   "metadata": {},
   "source": [
    "### TODO\n",
    "#### urgent\n",
    "* upload fails with a `ByomlActionError(502: 'operation=server_error'; POST 'https://byoml-staging.waylay.io/models')` (bad gateway) ... streaming issue to byoml/plug-repository? The model is created.\n",
    "* after deletion and update, sometimes get a `LocalProtocolError: Too little data for declared Content-Length\n",
    "` (and the model is not created). Probably an issue in waylay-py.\n",
    "* after creating a model plug, the openfaas function will not be available for a while, issuing a NOT FOUND, this is a recent change on plug-registry/openfaas. We can work around in in byoml: convert 403 errors to not ready errors so that the retry mechanisms in python SDK work again.\n",
    "\n",
    "\n",
    "#### Later\n",
    "> * integrate `convert_to_pandas` and `convert_to_numpy` into the python SDK and/or model wrapper at byoml-images?"
   ]
  },
  {
   "cell_type": "markdown",
   "id": "9537e429",
   "metadata": {},
   "source": [
    "##  parameterization: confidence intervals\n",
    "\n",
    "\n",
    "Let's adapt the model to support confidence intervals instead of mean predictions. This also shows how you can pass custom parameters to you model inference."
   ]
  },
  {
   "cell_type": "code",
   "execution_count": 33,
   "id": "645ebfbf",
   "metadata": {},
   "outputs": [],
   "source": [
    "class SARIMAXConfidenceForecaster:\n",
    "    def __init__(self, window=24, default_alpha=0.05):\n",
    "        self.window = window\n",
    "        self.fitted_params = None\n",
    "        self.default_alpha = default_alpha\n",
    "\n",
    "    def map_input(self, request):\n",
    "        \"\"\"Convert the json-data request payload to the input for `predict`.\"\"\"\n",
    "        # allow the user to specify an alternate alpha for the confidence intervals\n",
    "        alpha = request.get('alpha', self.default_alpha)\n",
    "        return (\n",
    "            convert_to_pandas(request['instances']),\n",
    "            alpha\n",
    "        )\n",
    "\n",
    "    def map_output(self, request, result):\n",
    "        \"\"\"Convert the output of `predict` to a json-data response payload.\"\"\"\n",
    "        return { 'predictions': convert_to_numpy(result).tolist() }\n",
    "\n",
    "    def create_model(self, data):\n",
    "        return sm.tsa.SARIMAX(\n",
    "            data,\n",
    "            seasonal_order=(1, 1, 1, 4),\n",
    "            order=(1, 0, 0),\n",
    "            trend=[1, 0, 0],\n",
    "            enforce_stationarity=False\n",
    "        )\n",
    "    \n",
    "    def fit(self, data, **fit_args):\n",
    "        fitted_model = self.create_model(data).fit(**fit_args)\n",
    "        self.fitted_params = fitted_model.params\n",
    "        return fitted_model\n",
    "    \n",
    "    def get_fitted_model(self, data):\n",
    "        model = self.create_model(data)\n",
    "        if self.fitted_params is None:\n",
    "            raise ValueError('Model has not been fitted')\n",
    "        return model.smooth(self.fitted_params)\n",
    "        \n",
    "    def predict(self, data_and_alpha):\n",
    "        data, alpha = data_and_alpha\n",
    "        fitted_model = self.get_fitted_model(data)\n",
    "        forecast = fitted_model.get_forecast(steps=self.window)\n",
    "        return forecast.conf_int(alpha)\n"
   ]
  },
  {
   "cell_type": "code",
   "execution_count": 34,
   "id": "a7ac67f2",
   "metadata": {},
   "outputs": [
    {
     "data": {
      "text/plain": [
       "{'message': 'Model sarima-model-ci: all versions deleted',\n",
       " 'name': 'sarima-model-ci',\n",
       " 'versions': ['0.0.1']}"
      ]
     },
     "metadata": {},
     "output_type": "display_data"
    }
   ],
   "source": [
    "CI_MODEL_NAME = 'sarima-model-ci'\n",
    "try:\n",
    "    resp = waylay.byoml.model.remove(CI_MODEL_NAME)\n",
    "    display(resp)\n",
    "except RestResponseError as e:\n",
    "    display(f'Ignored: {e}')"
   ]
  },
  {
   "cell_type": "code",
   "execution_count": 35,
   "id": "3f4d46af",
   "metadata": {},
   "outputs": [
    {
     "data": {
      "text/html": [
       "<div>\n",
       "<style scoped>\n",
       "    .dataframe tbody tr th:only-of-type {\n",
       "        vertical-align: middle;\n",
       "    }\n",
       "\n",
       "    .dataframe tbody tr th {\n",
       "        vertical-align: top;\n",
       "    }\n",
       "\n",
       "    .dataframe thead th {\n",
       "        text-align: right;\n",
       "    }\n",
       "</style>\n",
       "<table border=\"1\" class=\"dataframe\">\n",
       "  <thead>\n",
       "    <tr style=\"text-align: right;\">\n",
       "      <th></th>\n",
       "      <th>lower wpi</th>\n",
       "      <th>upper wpi</th>\n",
       "    </tr>\n",
       "  </thead>\n",
       "  <tbody>\n",
       "    <tr>\n",
       "      <th>1987-10-01</th>\n",
       "      <td>99.587552</td>\n",
       "      <td>102.842655</td>\n",
       "    </tr>\n",
       "    <tr>\n",
       "      <th>1988-01-01</th>\n",
       "      <td>100.173203</td>\n",
       "      <td>104.705701</td>\n",
       "    </tr>\n",
       "    <tr>\n",
       "      <th>1988-04-01</th>\n",
       "      <td>101.076452</td>\n",
       "      <td>106.541671</td>\n",
       "    </tr>\n",
       "    <tr>\n",
       "      <th>1988-07-01</th>\n",
       "      <td>101.836353</td>\n",
       "      <td>108.051136</td>\n",
       "    </tr>\n",
       "    <tr>\n",
       "      <th>1988-10-01</th>\n",
       "      <td>101.967948</td>\n",
       "      <td>109.631465</td>\n",
       "    </tr>\n",
       "  </tbody>\n",
       "</table>\n",
       "</div>"
      ],
      "text/plain": [
       "             lower wpi   upper wpi\n",
       "1987-10-01   99.587552  102.842655\n",
       "1988-01-01  100.173203  104.705701\n",
       "1988-04-01  101.076452  106.541671\n",
       "1988-07-01  101.836353  108.051136\n",
       "1988-10-01  101.967948  109.631465"
      ]
     },
     "execution_count": 35,
     "metadata": {},
     "output_type": "execute_result"
    }
   ],
   "source": [
    "upload_model_ci = SARIMAXConfidenceForecaster()\n",
    "upload_model_ci.fit(df_train, disp=0)\n",
    "\n",
    "# test locally\n",
    "upload_model_ci.predict(( df_train, 0.5)).head()"
   ]
  },
  {
   "cell_type": "code",
   "execution_count": 36,
   "id": "1dbe4463",
   "metadata": {},
   "outputs": [
    {
     "ename": "ByomlActionError",
     "evalue": "ByomlActionError(502: 'operation=server_error'; POST 'https://byoml-staging.waylay.io/models')",
     "output_type": "error",
     "traceback": [
      "\u001b[0;31m---------------------------------------------------------------------------\u001b[0m",
      "\u001b[0;31mServerError\u001b[0m                               Traceback (most recent call last)",
      "File \u001b[0;32m~/miniconda3/envs/byoml_sarima/lib/python3.8/site-packages/waylay/service/byoml/_decorators.py:70\u001b[0m, in \u001b[0;36mbyoml_exception_decorator.<locals>.wrapped\u001b[0;34m(*args, **kwargs)\u001b[0m\n\u001b[1;32m     69\u001b[0m \u001b[38;5;28;01mtry\u001b[39;00m:\n\u001b[0;32m---> 70\u001b[0m     \u001b[38;5;28;01mreturn\u001b[39;00m \u001b[43maction_method\u001b[49m\u001b[43m(\u001b[49m\u001b[38;5;241;43m*\u001b[39;49m\u001b[43margs\u001b[49m\u001b[43m,\u001b[49m\u001b[43m \u001b[49m\u001b[38;5;241;43m*\u001b[39;49m\u001b[38;5;241;43m*\u001b[39;49m\u001b[43mkwargs\u001b[49m\u001b[43m)\u001b[49m\n\u001b[1;32m     71\u001b[0m \u001b[38;5;28;01mexcept\u001b[39;00m ErrorWithResponse \u001b[38;5;28;01mas\u001b[39;00m exc:\n",
      "File \u001b[0;32m~/miniconda3/envs/byoml_sarima/lib/python3.8/site-packages/waylay/service/_decorators.py:234\u001b[0m, in \u001b[0;36mlog_server_timing_decorator.<locals>.decorator.<locals>.wrapped\u001b[0;34m(*args, **kwargs)\u001b[0m\n\u001b[1;32m    233\u001b[0m     _log_server_timing(exc\u001b[38;5;241m.\u001b[39mresponse\u001b[38;5;241m.\u001b[39mheaders\u001b[38;5;241m.\u001b[39mget(\u001b[38;5;124m'\u001b[39m\u001b[38;5;124mServer-Timing\u001b[39m\u001b[38;5;124m'\u001b[39m, \u001b[38;5;28;01mNone\u001b[39;00m), start)\n\u001b[0;32m--> 234\u001b[0m     \u001b[38;5;28;01mraise\u001b[39;00m exc\n\u001b[1;32m    235\u001b[0m \u001b[38;5;28;01mexcept\u001b[39;00m \u001b[38;5;167;01mException\u001b[39;00m:\n",
      "File \u001b[0;32m~/miniconda3/envs/byoml_sarima/lib/python3.8/site-packages/waylay/service/_decorators.py:229\u001b[0m, in \u001b[0;36mlog_server_timing_decorator.<locals>.decorator.<locals>.wrapped\u001b[0;34m(*args, **kwargs)\u001b[0m\n\u001b[1;32m    228\u001b[0m \u001b[38;5;28;01mtry\u001b[39;00m:\n\u001b[0;32m--> 229\u001b[0m     response \u001b[38;5;241m=\u001b[39m \u001b[43maction_method\u001b[49m\u001b[43m(\u001b[49m\u001b[38;5;241;43m*\u001b[39;49m\u001b[43margs\u001b[49m\u001b[43m,\u001b[49m\u001b[43m \u001b[49m\u001b[38;5;241;43m*\u001b[39;49m\u001b[38;5;241;43m*\u001b[39;49m\u001b[43mkwargs\u001b[49m\u001b[43m)\u001b[49m\n\u001b[1;32m    230\u001b[0m     _log_server_timing(response\u001b[38;5;241m.\u001b[39mheaders\u001b[38;5;241m.\u001b[39mget(\u001b[38;5;124m'\u001b[39m\u001b[38;5;124mServer-Timing\u001b[39m\u001b[38;5;124m'\u001b[39m, \u001b[38;5;28;01mNone\u001b[39;00m), start)\n",
      "File \u001b[0;32m~/miniconda3/envs/byoml_sarima/lib/python3.8/site-packages/simple_rest_client/resource.py:101\u001b[0m, in \u001b[0;36mResource.add_action.<locals>.action_method\u001b[0;34m(self, body, params, headers, action_name, *args, **kwargs)\u001b[0m\n\u001b[1;32m    100\u001b[0m request\u001b[38;5;241m.\u001b[39mheaders\u001b[38;5;241m.\u001b[39mupdate(\u001b[38;5;28mself\u001b[39m\u001b[38;5;241m.\u001b[39mheaders)\n\u001b[0;32m--> 101\u001b[0m \u001b[38;5;28;01mreturn\u001b[39;00m \u001b[43mmake_request\u001b[49m\u001b[43m(\u001b[49m\u001b[38;5;28;43mself\u001b[39;49m\u001b[38;5;241;43m.\u001b[39;49m\u001b[43mclient\u001b[49m\u001b[43m,\u001b[49m\u001b[43m \u001b[49m\u001b[43mrequest\u001b[49m\u001b[43m)\u001b[49m\n",
      "File \u001b[0;32m~/miniconda3/envs/byoml_sarima/lib/python3.8/site-packages/simple_rest_client/decorators.py:40\u001b[0m, in \u001b[0;36mhandle_request_error.<locals>.wrapper\u001b[0;34m(*args, **kwargs)\u001b[0m\n\u001b[1;32m     38\u001b[0m     \u001b[38;5;28;01mraise\u001b[39;00m ClientConnectionError(exc)\n\u001b[0;32m---> 40\u001b[0m \u001b[43mvalidate_response\u001b[49m\u001b[43m(\u001b[49m\u001b[43mresponse\u001b[49m\u001b[43m)\u001b[49m\n\u001b[1;32m     42\u001b[0m \u001b[38;5;28;01mreturn\u001b[39;00m response\n",
      "File \u001b[0;32m~/miniconda3/envs/byoml_sarima/lib/python3.8/site-packages/simple_rest_client/decorators.py:28\u001b[0m, in \u001b[0;36mvalidate_response\u001b[0;34m(response)\u001b[0m\n\u001b[1;32m     27\u001b[0m \u001b[38;5;28;01mif\u001b[39;00m status\u001b[38;5;241m.\u001b[39mis_server_error(code\u001b[38;5;241m=\u001b[39mresponse\u001b[38;5;241m.\u001b[39mstatus_code):\n\u001b[0;32m---> 28\u001b[0m     \u001b[38;5;28;01mraise\u001b[39;00m ServerError(\u001b[38;5;124m\"\u001b[39m\u001b[38;5;124moperation=server_error,\u001b[39m\u001b[38;5;124m\"\u001b[39m \u001b[38;5;241m+\u001b[39m error_suffix, response)\n",
      "\u001b[0;31mServerError\u001b[0m: ('operation=server_error, response=Response(url=\\'https://byoml-staging.waylay.io/models\\', method=\\'POST\\', body=\\'\\\\n<html><head>\\\\n<meta http-equiv=\"content-type\" content=\"text/html;charset=utf-8\">\\\\n<title>502 Server Error</title>\\\\n</head>\\\\n<body text=#000000 bgcolor=#ffffff>\\\\n<h1>Error: Server Error</h1>\\\\n<h2>The server encountered a temporary error and could not complete your request.<p>Please try again in 30 seconds.</h2>\\\\n<h2></h2>\\\\n</body></html>\\\\n\\', headers=Headers({\\'content-type\\': \\'text/html; charset=UTF-8\\', \\'referrer-policy\\': \\'no-referrer\\', \\'content-length\\': \\'332\\', \\'date\\': \\'Thu, 09 Jun 2022 13:37:20 GMT\\', \\'alt-svc\\': \\'h3=\":443\"; ma=2592000,h3-29=\":443\"; ma=2592000\\'}), status_code=502, client_response=<Response [502 Bad Gateway]>)', Response(url='https://byoml-staging.waylay.io/models', method='POST', body='\\n<html><head>\\n<meta http-equiv=\"content-type\" content=\"text/html;charset=utf-8\">\\n<title>502 Server Error</title>\\n</head>\\n<body text=#000000 bgcolor=#ffffff>\\n<h1>Error: Server Error</h1>\\n<h2>The server encountered a temporary error and could not complete your request.<p>Please try again in 30 seconds.</h2>\\n<h2></h2>\\n</body></html>\\n', headers=Headers({'content-type': 'text/html; charset=UTF-8', 'referrer-policy': 'no-referrer', 'content-length': '332', 'date': 'Thu, 09 Jun 2022 13:37:20 GMT', 'alt-svc': 'h3=\":443\"; ma=2592000,h3-29=\":443\"; ma=2592000'}), status_code=502, client_response=<Response [502 Bad Gateway]>))",
      "\nThe above exception was the direct cause of the following exception:\n",
      "\u001b[0;31mByomlActionError\u001b[0m                          Traceback (most recent call last)",
      "Input \u001b[0;32mIn [36]\u001b[0m, in \u001b[0;36m<cell line: 2>\u001b[0;34m()\u001b[0m\n\u001b[1;32m      1\u001b[0m \u001b[38;5;66;03m# upload model\u001b[39;00m\n\u001b[0;32m----> 2\u001b[0m \u001b[43mwaylay\u001b[49m\u001b[38;5;241;43m.\u001b[39;49m\u001b[43mbyoml\u001b[49m\u001b[38;5;241;43m.\u001b[39;49m\u001b[43mmodel\u001b[49m\u001b[38;5;241;43m.\u001b[39;49m\u001b[43mupload\u001b[49m\u001b[43m(\u001b[49m\n\u001b[1;32m      3\u001b[0m \u001b[43m    \u001b[49m\u001b[43mCI_MODEL_NAME\u001b[49m\u001b[43m,\u001b[49m\n\u001b[1;32m      4\u001b[0m \u001b[43m    \u001b[49m\u001b[43mupload_model_ci\u001b[49m\u001b[43m,\u001b[49m\n\u001b[1;32m      5\u001b[0m \u001b[43m    \u001b[49m\u001b[43mframework\u001b[49m\u001b[38;5;241;43m=\u001b[39;49m\u001b[38;5;124;43m'\u001b[39;49m\u001b[38;5;124;43mcustom\u001b[39;49m\u001b[38;5;124;43m'\u001b[39;49m\u001b[43m,\u001b[49m\n\u001b[1;32m      6\u001b[0m \u001b[43m    \u001b[49m\u001b[43mdescription\u001b[49m\u001b[38;5;241;43m=\u001b[39;49m\u001b[38;5;124;43m'\u001b[39;49m\u001b[38;5;124;43mSARIMA model example with confidence intervals\u001b[39;49m\u001b[38;5;124;43m'\u001b[39;49m\u001b[43m,\u001b[49m\n\u001b[1;32m      7\u001b[0m \u001b[43m    \u001b[49m\u001b[43mrequirements\u001b[49m\u001b[38;5;241;43m=\u001b[39;49m\u001b[38;5;124;43m'\u001b[39;49m\u001b[38;5;124;43mlib/sarima_byoml_wrapper\u001b[39;49m\u001b[38;5;124;43m'\u001b[39;49m\u001b[43m,\u001b[49m\n\u001b[1;32m      8\u001b[0m \u001b[43m    \u001b[49m\u001b[43mlib\u001b[49m\u001b[38;5;241;43m=\u001b[39;49m\u001b[38;5;124;43m'\u001b[39;49m\u001b[38;5;124;43m./custom_lib\u001b[39;49m\u001b[38;5;124;43m'\u001b[39;49m\n\u001b[1;32m      9\u001b[0m \u001b[43m)\u001b[49m\n",
      "File \u001b[0;32m~/miniconda3/envs/byoml_sarima/lib/python3.8/site-packages/waylay/service/_decorators.py:21\u001b[0m, in \u001b[0;36msuppress_header_decorator.<locals>.decorator.<locals>.wrapped\u001b[0;34m(slf, *args, **kwargs)\u001b[0m\n\u001b[1;32m     19\u001b[0m header_value \u001b[38;5;241m=\u001b[39m slf\u001b[38;5;241m.\u001b[39mheaders\u001b[38;5;241m.\u001b[39mpop(header_key, \u001b[38;5;28;01mNone\u001b[39;00m)\n\u001b[1;32m     20\u001b[0m \u001b[38;5;28;01mtry\u001b[39;00m:\n\u001b[0;32m---> 21\u001b[0m     \u001b[38;5;28;01mreturn\u001b[39;00m \u001b[43maction_method\u001b[49m\u001b[43m(\u001b[49m\u001b[43mslf\u001b[49m\u001b[43m,\u001b[49m\u001b[43m \u001b[49m\u001b[38;5;241;43m*\u001b[39;49m\u001b[43margs\u001b[49m\u001b[43m,\u001b[49m\u001b[43m \u001b[49m\u001b[38;5;241;43m*\u001b[39;49m\u001b[38;5;241;43m*\u001b[39;49m\u001b[43mkwargs\u001b[49m\u001b[43m)\u001b[49m\n\u001b[1;32m     22\u001b[0m \u001b[38;5;28;01mfinally\u001b[39;00m:\n\u001b[1;32m     23\u001b[0m     \u001b[38;5;28;01mif\u001b[39;00m header_value:\n",
      "File \u001b[0;32m~/miniconda3/envs/byoml_sarima/lib/python3.8/site-packages/waylay/service/byoml/model.py:407\u001b[0m, in \u001b[0;36mModelResource.upload\u001b[0;34m(self, model_name, trained_model, framework, framework_version, metadata, description, requirements_file, requirements, lib, work_dir, **kwargs)\u001b[0m\n\u001b[1;32m    391\u001b[0m \u001b[38;5;28;01mif\u001b[39;00m requirements \u001b[38;5;129;01mor\u001b[39;00m requirements_file \u001b[38;5;129;01mor\u001b[39;00m lib:\n\u001b[1;32m    392\u001b[0m     \u001b[38;5;66;03m# use the new plug format upload (openfaas only)\u001b[39;00m\n\u001b[1;32m    393\u001b[0m     \u001b[38;5;28;01mwith\u001b[39;00m \u001b[38;5;28mself\u001b[39m\u001b[38;5;241m.\u001b[39m_send_model_plug_arguments(\n\u001b[1;32m    394\u001b[0m         model_name, trained_model,\n\u001b[1;32m    395\u001b[0m         framework\u001b[38;5;241m=\u001b[39mframework,\n\u001b[0;32m   (...)\u001b[0m\n\u001b[1;32m    405\u001b[0m         \u001b[38;5;241m*\u001b[39m\u001b[38;5;241m*\u001b[39mkwargs\n\u001b[1;32m    406\u001b[0m     ) \u001b[38;5;28;01mas\u001b[39;00m arguments:\n\u001b[0;32m--> 407\u001b[0m         \u001b[38;5;28;01mreturn\u001b[39;00m \u001b[38;5;28;43mself\u001b[39;49m\u001b[38;5;241;43m.\u001b[39;49m\u001b[43m_create\u001b[49m\u001b[43m(\u001b[49m\u001b[38;5;241;43m*\u001b[39;49m\u001b[38;5;241;43m*\u001b[39;49m\u001b[43marguments\u001b[49m\u001b[43m)\u001b[49m  \u001b[38;5;66;03m# pylint: disable=no-member\u001b[39;00m\n\u001b[1;32m    408\u001b[0m \u001b[38;5;28;01melse\u001b[39;00m:\n\u001b[1;32m    409\u001b[0m     \u001b[38;5;66;03m# legacy format (to be removed after move to openfaas byoml 1.4.0)\u001b[39;00m\n\u001b[1;32m    410\u001b[0m     \u001b[38;5;28;01mwith\u001b[39;00m \u001b[38;5;28mself\u001b[39m\u001b[38;5;241m.\u001b[39m_send_model_arguments(\n\u001b[1;32m    411\u001b[0m         model_name, trained_model,\n\u001b[1;32m    412\u001b[0m         framework\u001b[38;5;241m=\u001b[39mframework,\n\u001b[0;32m   (...)\u001b[0m\n\u001b[1;32m    419\u001b[0m         \u001b[38;5;241m*\u001b[39m\u001b[38;5;241m*\u001b[39mkwargs\n\u001b[1;32m    420\u001b[0m     ) \u001b[38;5;28;01mas\u001b[39;00m arguments:\n",
      "File \u001b[0;32m~/miniconda3/envs/byoml_sarima/lib/python3.8/site-packages/waylay/service/_decorators.py:138\u001b[0m, in \u001b[0;36mreturn_path_decorator.<locals>.decorator.<locals>.wrapped\u001b[0;34m(*args, **kwargs)\u001b[0m\n\u001b[1;32m    134\u001b[0m select_path \u001b[38;5;241m=\u001b[39m kwargs\u001b[38;5;241m.\u001b[39mpop(\u001b[38;5;124m'\u001b[39m\u001b[38;5;124mselect_path\u001b[39m\u001b[38;5;124m'\u001b[39m, default_path)\n\u001b[1;32m    135\u001b[0m constructor \u001b[38;5;241m=\u001b[39m kwargs\u001b[38;5;241m.\u001b[39mpop(\n\u001b[1;32m    136\u001b[0m     \u001b[38;5;124m'\u001b[39m\u001b[38;5;124mresponse_constructor\u001b[39m\u001b[38;5;124m'\u001b[39m, default_response_constructor\n\u001b[1;32m    137\u001b[0m ) \u001b[38;5;129;01mor\u001b[39;00m identity_transform\n\u001b[0;32m--> 138\u001b[0m response \u001b[38;5;241m=\u001b[39m \u001b[43maction_method\u001b[49m\u001b[43m(\u001b[49m\u001b[38;5;241;43m*\u001b[39;49m\u001b[43margs\u001b[49m\u001b[43m,\u001b[49m\u001b[43m \u001b[49m\u001b[38;5;241;43m*\u001b[39;49m\u001b[38;5;241;43m*\u001b[39;49m\u001b[43mkwargs\u001b[49m\u001b[43m)\u001b[49m\n\u001b[1;32m    139\u001b[0m \u001b[38;5;28;01mif\u001b[39;00m raw:\n\u001b[1;32m    140\u001b[0m     \u001b[38;5;28;01mreturn\u001b[39;00m response\n",
      "File \u001b[0;32m~/miniconda3/envs/byoml_sarima/lib/python3.8/site-packages/waylay/service/byoml/_decorators.py:112\u001b[0m, in \u001b[0;36mbyoml_retry_upload_after_deletion_decorator.<locals>.wrapped\u001b[0;34m(*args, **kwargs)\u001b[0m\n\u001b[1;32m    110\u001b[0m \u001b[38;5;66;03m# if timeout is not explicitely given, align with retry_max_delay\u001b[39;00m\n\u001b[1;32m    111\u001b[0m timeout \u001b[38;5;241m=\u001b[39m kwargs\u001b[38;5;241m.\u001b[39mpop(\u001b[38;5;124m'\u001b[39m\u001b[38;5;124mtimeout\u001b[39m\u001b[38;5;124m'\u001b[39m, retry_max_delay)\n\u001b[0;32m--> 112\u001b[0m \u001b[38;5;28;01mfor\u001b[39;00m attempt \u001b[38;5;129;01min\u001b[39;00m Retrying(\n\u001b[1;32m    113\u001b[0m     stop\u001b[38;5;241m=\u001b[39m(stop_after_delay(retry_max_delay)),\n\u001b[1;32m    114\u001b[0m     retry\u001b[38;5;241m=\u001b[39mretry_if_exception(is_409_error),\n\u001b[1;32m    115\u001b[0m     before_sleep\u001b[38;5;241m=\u001b[39mbefore_sleep,\n\u001b[1;32m    116\u001b[0m     wait\u001b[38;5;241m=\u001b[39mwait_exponential(\u001b[38;5;241m*\u001b[39m\u001b[38;5;241m*\u001b[39mWAIT_EXPONENTIAL),\n\u001b[1;32m    117\u001b[0m     reraise\u001b[38;5;241m=\u001b[39m\u001b[38;5;28;01mTrue\u001b[39;00m\n\u001b[1;32m    118\u001b[0m ):\n\u001b[1;32m    119\u001b[0m     \u001b[38;5;28;01mwith\u001b[39;00m attempt:\n\u001b[1;32m    120\u001b[0m         \u001b[38;5;66;03m# reset input stream when retrying upload\u001b[39;00m\n\u001b[1;32m    121\u001b[0m         body \u001b[38;5;241m=\u001b[39m kwargs\u001b[38;5;241m.\u001b[39mget(\u001b[38;5;124m'\u001b[39m\u001b[38;5;124mbody\u001b[39m\u001b[38;5;124m'\u001b[39m, \u001b[38;5;28;01mNone\u001b[39;00m)\n",
      "File \u001b[0;32m~/miniconda3/envs/byoml_sarima/lib/python3.8/site-packages/tenacity/__init__.py:382\u001b[0m, in \u001b[0;36mBaseRetrying.__iter__\u001b[0;34m(self)\u001b[0m\n\u001b[1;32m    380\u001b[0m retry_state \u001b[38;5;241m=\u001b[39m RetryCallState(\u001b[38;5;28mself\u001b[39m, fn\u001b[38;5;241m=\u001b[39m\u001b[38;5;28;01mNone\u001b[39;00m, args\u001b[38;5;241m=\u001b[39m(), kwargs\u001b[38;5;241m=\u001b[39m{})\n\u001b[1;32m    381\u001b[0m \u001b[38;5;28;01mwhile\u001b[39;00m \u001b[38;5;28;01mTrue\u001b[39;00m:\n\u001b[0;32m--> 382\u001b[0m     do \u001b[38;5;241m=\u001b[39m \u001b[38;5;28;43mself\u001b[39;49m\u001b[38;5;241;43m.\u001b[39;49m\u001b[43miter\u001b[49m\u001b[43m(\u001b[49m\u001b[43mretry_state\u001b[49m\u001b[38;5;241;43m=\u001b[39;49m\u001b[43mretry_state\u001b[49m\u001b[43m)\u001b[49m\n\u001b[1;32m    383\u001b[0m     \u001b[38;5;28;01mif\u001b[39;00m \u001b[38;5;28misinstance\u001b[39m(do, DoAttempt):\n\u001b[1;32m    384\u001b[0m         \u001b[38;5;28;01myield\u001b[39;00m AttemptManager(retry_state\u001b[38;5;241m=\u001b[39mretry_state)\n",
      "File \u001b[0;32m~/miniconda3/envs/byoml_sarima/lib/python3.8/site-packages/tenacity/__init__.py:349\u001b[0m, in \u001b[0;36mBaseRetrying.iter\u001b[0;34m(self, retry_state)\u001b[0m\n\u001b[1;32m    347\u001b[0m is_explicit_retry \u001b[38;5;241m=\u001b[39m retry_state\u001b[38;5;241m.\u001b[39moutcome\u001b[38;5;241m.\u001b[39mfailed \u001b[38;5;129;01mand\u001b[39;00m \u001b[38;5;28misinstance\u001b[39m(retry_state\u001b[38;5;241m.\u001b[39moutcome\u001b[38;5;241m.\u001b[39mexception(), TryAgain)\n\u001b[1;32m    348\u001b[0m \u001b[38;5;28;01mif\u001b[39;00m \u001b[38;5;129;01mnot\u001b[39;00m (is_explicit_retry \u001b[38;5;129;01mor\u001b[39;00m \u001b[38;5;28mself\u001b[39m\u001b[38;5;241m.\u001b[39mretry(retry_state\u001b[38;5;241m=\u001b[39mretry_state)):\n\u001b[0;32m--> 349\u001b[0m     \u001b[38;5;28;01mreturn\u001b[39;00m \u001b[43mfut\u001b[49m\u001b[38;5;241;43m.\u001b[39;49m\u001b[43mresult\u001b[49m\u001b[43m(\u001b[49m\u001b[43m)\u001b[49m\n\u001b[1;32m    351\u001b[0m \u001b[38;5;28;01mif\u001b[39;00m \u001b[38;5;28mself\u001b[39m\u001b[38;5;241m.\u001b[39mafter \u001b[38;5;129;01mis\u001b[39;00m \u001b[38;5;129;01mnot\u001b[39;00m \u001b[38;5;28;01mNone\u001b[39;00m:\n\u001b[1;32m    352\u001b[0m     \u001b[38;5;28mself\u001b[39m\u001b[38;5;241m.\u001b[39mafter(retry_state)\n",
      "File \u001b[0;32m~/miniconda3/envs/byoml_sarima/lib/python3.8/concurrent/futures/_base.py:437\u001b[0m, in \u001b[0;36mFuture.result\u001b[0;34m(self, timeout)\u001b[0m\n\u001b[1;32m    435\u001b[0m     \u001b[38;5;28;01mraise\u001b[39;00m CancelledError()\n\u001b[1;32m    436\u001b[0m \u001b[38;5;28;01melif\u001b[39;00m \u001b[38;5;28mself\u001b[39m\u001b[38;5;241m.\u001b[39m_state \u001b[38;5;241m==\u001b[39m FINISHED:\n\u001b[0;32m--> 437\u001b[0m     \u001b[38;5;28;01mreturn\u001b[39;00m \u001b[38;5;28;43mself\u001b[39;49m\u001b[38;5;241;43m.\u001b[39;49m\u001b[43m__get_result\u001b[49m\u001b[43m(\u001b[49m\u001b[43m)\u001b[49m\n\u001b[1;32m    439\u001b[0m \u001b[38;5;28mself\u001b[39m\u001b[38;5;241m.\u001b[39m_condition\u001b[38;5;241m.\u001b[39mwait(timeout)\n\u001b[1;32m    441\u001b[0m \u001b[38;5;28;01mif\u001b[39;00m \u001b[38;5;28mself\u001b[39m\u001b[38;5;241m.\u001b[39m_state \u001b[38;5;129;01min\u001b[39;00m [CANCELLED, CANCELLED_AND_NOTIFIED]:\n",
      "File \u001b[0;32m~/miniconda3/envs/byoml_sarima/lib/python3.8/concurrent/futures/_base.py:389\u001b[0m, in \u001b[0;36mFuture.__get_result\u001b[0;34m(self)\u001b[0m\n\u001b[1;32m    387\u001b[0m \u001b[38;5;28;01mif\u001b[39;00m \u001b[38;5;28mself\u001b[39m\u001b[38;5;241m.\u001b[39m_exception:\n\u001b[1;32m    388\u001b[0m     \u001b[38;5;28;01mtry\u001b[39;00m:\n\u001b[0;32m--> 389\u001b[0m         \u001b[38;5;28;01mraise\u001b[39;00m \u001b[38;5;28mself\u001b[39m\u001b[38;5;241m.\u001b[39m_exception\n\u001b[1;32m    390\u001b[0m     \u001b[38;5;28;01mfinally\u001b[39;00m:\n\u001b[1;32m    391\u001b[0m         \u001b[38;5;66;03m# Break a reference cycle with the exception in self._exception\u001b[39;00m\n\u001b[1;32m    392\u001b[0m         \u001b[38;5;28mself\u001b[39m \u001b[38;5;241m=\u001b[39m \u001b[38;5;28;01mNone\u001b[39;00m\n",
      "File \u001b[0;32m~/miniconda3/envs/byoml_sarima/lib/python3.8/site-packages/waylay/service/byoml/_decorators.py:124\u001b[0m, in \u001b[0;36mbyoml_retry_upload_after_deletion_decorator.<locals>.wrapped\u001b[0;34m(*args, **kwargs)\u001b[0m\n\u001b[1;32m    122\u001b[0m \u001b[38;5;28;01mif\u001b[39;00m body \u001b[38;5;129;01mand\u001b[39;00m \u001b[38;5;28mhasattr\u001b[39m(body, \u001b[38;5;124m'\u001b[39m\u001b[38;5;124mseek\u001b[39m\u001b[38;5;124m'\u001b[39m):\n\u001b[1;32m    123\u001b[0m     body\u001b[38;5;241m.\u001b[39mseek(\u001b[38;5;241m0\u001b[39m)\n\u001b[0;32m--> 124\u001b[0m \u001b[38;5;28;01mreturn\u001b[39;00m \u001b[43maction_method\u001b[49m\u001b[43m(\u001b[49m\u001b[38;5;241;43m*\u001b[39;49m\u001b[43margs\u001b[49m\u001b[43m,\u001b[49m\u001b[43m \u001b[49m\u001b[43mtimeout\u001b[49m\u001b[38;5;241;43m=\u001b[39;49m\u001b[43mtimeout\u001b[49m\u001b[43m,\u001b[49m\u001b[43m \u001b[49m\u001b[38;5;241;43m*\u001b[39;49m\u001b[38;5;241;43m*\u001b[39;49m\u001b[43mkwargs\u001b[49m\u001b[43m)\u001b[49m\n",
      "File \u001b[0;32m~/miniconda3/envs/byoml_sarima/lib/python3.8/site-packages/waylay/service/_decorators.py:95\u001b[0m, in \u001b[0;36mdefault_timeout_decorator.<locals>.decorator.<locals>.wrapped\u001b[0;34m(*args, **kwargs)\u001b[0m\n\u001b[1;32m     92\u001b[0m \u001b[38;5;129m@wraps\u001b[39m(action_method)\n\u001b[1;32m     93\u001b[0m \u001b[38;5;28;01mdef\u001b[39;00m \u001b[38;5;21mwrapped\u001b[39m(\u001b[38;5;241m*\u001b[39margs, \u001b[38;5;241m*\u001b[39m\u001b[38;5;241m*\u001b[39mkwargs):\n\u001b[1;32m     94\u001b[0m     timeout \u001b[38;5;241m=\u001b[39m kwargs\u001b[38;5;241m.\u001b[39mpop(\u001b[38;5;124m'\u001b[39m\u001b[38;5;124mtimeout\u001b[39m\u001b[38;5;124m'\u001b[39m, default_timeout)\n\u001b[0;32m---> 95\u001b[0m     \u001b[38;5;28;01mreturn\u001b[39;00m \u001b[43maction_method\u001b[49m\u001b[43m(\u001b[49m\u001b[38;5;241;43m*\u001b[39;49m\u001b[43margs\u001b[49m\u001b[43m,\u001b[49m\u001b[43m \u001b[49m\u001b[43mtimeout\u001b[49m\u001b[38;5;241;43m=\u001b[39;49m\u001b[43mtimeout\u001b[49m\u001b[43m,\u001b[49m\u001b[43m \u001b[49m\u001b[38;5;241;43m*\u001b[39;49m\u001b[38;5;241;43m*\u001b[39;49m\u001b[43mkwargs\u001b[49m\u001b[43m)\u001b[49m\n",
      "File \u001b[0;32m~/miniconda3/envs/byoml_sarima/lib/python3.8/site-packages/waylay/service/byoml/_decorators.py:72\u001b[0m, in \u001b[0;36mbyoml_exception_decorator.<locals>.wrapped\u001b[0;34m(*args, **kwargs)\u001b[0m\n\u001b[1;32m     70\u001b[0m     \u001b[38;5;28;01mreturn\u001b[39;00m action_method(\u001b[38;5;241m*\u001b[39margs, \u001b[38;5;241m*\u001b[39m\u001b[38;5;241m*\u001b[39mkwargs)\n\u001b[1;32m     71\u001b[0m \u001b[38;5;28;01mexcept\u001b[39;00m ErrorWithResponse \u001b[38;5;28;01mas\u001b[39;00m exc:\n\u001b[0;32m---> 72\u001b[0m     \u001b[38;5;28;01mraise\u001b[39;00m ByomlActionError\u001b[38;5;241m.\u001b[39mfrom_cause(exc) \u001b[38;5;28;01mfrom\u001b[39;00m \u001b[38;5;21;01mexc\u001b[39;00m\n\u001b[1;32m     73\u001b[0m \u001b[38;5;28;01mexcept\u001b[39;00m ClientConnectionError \u001b[38;5;28;01mas\u001b[39;00m exc:\n\u001b[1;32m     74\u001b[0m     \u001b[38;5;28;01mraise\u001b[39;00m RestConnectionError\u001b[38;5;241m.\u001b[39mfrom_cause(exc) \u001b[38;5;28;01mfrom\u001b[39;00m \u001b[38;5;21;01mexc\u001b[39;00m\n",
      "\u001b[0;31mByomlActionError\u001b[0m: ByomlActionError(502: 'operation=server_error'; POST 'https://byoml-staging.waylay.io/models')"
     ]
    }
   ],
   "source": [
    "# upload model\n",
    "waylay.byoml.model.upload(\n",
    "    CI_MODEL_NAME,\n",
    "    upload_model_ci,\n",
    "    framework='custom',\n",
    "    description='SARIMA model example with confidence intervals',\n",
    "    requirements='lib/sarima_byoml_wrapper',\n",
    "    lib='./custom_lib'\n",
    ")"
   ]
  },
  {
   "cell_type": "code",
   "execution_count": 37,
   "id": "7af1a62d",
   "metadata": {},
   "outputs": [
    {
     "data": {
      "text/plain": [
       "{'createdBy': 'users/0476f99d-ac60-4f86-bc45-7215962754cd',\n",
       " 'createdOn': '2022-06-09T13:36:50.609000+00:00',\n",
       " 'description': 'SARIMA model example with confidence intervals',\n",
       " 'framework': 'custom',\n",
       " 'framework_version': '1.0',\n",
       " 'metadata': {'description': 'SARIMA model example with confidence intervals'},\n",
       " 'name': 'sarima-model-ci',\n",
       " 'ready': False,\n",
       " 'runtime': {'framework': 'custom',\n",
       "  'framework_version': '1.0',\n",
       "  'name': 'byoml-custom-1.0',\n",
       "  'python_version': '3.7'},\n",
       " 'semantic_version': '0.0.1',\n",
       " 'serving_name': 'kf-a9ff10137ac355b2a68620c5a8ae3ea5b59570da.openfaas-fn-6ccc8843-d78d-49e8-84c4-3734a4af9929',\n",
       " 'status': 'running',\n",
       " 'supported_endpoints': [],\n",
       " 'updatedBy': 'users/0476f99d-ac60-4f86-bc45-7215962754cd',\n",
       " 'updatedOn': '2022-06-09T13:36:50.638000+00:00',\n",
       " 'version': '1'}"
      ]
     },
     "execution_count": 37,
     "metadata": {},
     "output_type": "execute_result"
    }
   ],
   "source": [
    "waylay.byoml.model.get(CI_MODEL_NAME, params={'debug': True})"
   ]
  },
  {
   "cell_type": "code",
   "execution_count": 38,
   "id": "b4a47322",
   "metadata": {},
   "outputs": [
    {
     "ename": "ValueError",
     "evalue": "This model requires a timestamp and value row as input",
     "output_type": "error",
     "traceback": [
      "\u001b[0;31m---------------------------------------------------------------------------\u001b[0m",
      "\u001b[0;31mValueError\u001b[0m                                Traceback (most recent call last)",
      "Input \u001b[0;32mIn [38]\u001b[0m, in \u001b[0;36m<cell line: 2>\u001b[0;34m()\u001b[0m\n\u001b[1;32m      1\u001b[0m predictions \u001b[38;5;241m=\u001b[39m waylay\u001b[38;5;241m.\u001b[39mbyoml\u001b[38;5;241m.\u001b[39mmodel\u001b[38;5;241m.\u001b[39mpredict(CI_MODEL_NAME, convert_to_numpy(df_train))\n\u001b[0;32m----> 2\u001b[0m predictions_df \u001b[38;5;241m=\u001b[39m \u001b[43mconvert_to_pandas\u001b[49m\u001b[43m(\u001b[49m\u001b[43mpredictions\u001b[49m\u001b[43m)\u001b[49m\n\u001b[1;32m      3\u001b[0m predictions_df\u001b[38;5;241m.\u001b[39mhead()\n",
      "Input \u001b[0;32mIn [14]\u001b[0m, in \u001b[0;36mconvert_to_pandas\u001b[0;34m(data)\u001b[0m\n\u001b[1;32m     10\u001b[0m     timestamps, values \u001b[38;5;241m=\u001b[39m data\n\u001b[1;32m     11\u001b[0m \u001b[38;5;28;01melse\u001b[39;00m:\n\u001b[0;32m---> 12\u001b[0m     \u001b[38;5;28;01mraise\u001b[39;00m \u001b[38;5;167;01mValueError\u001b[39;00m(\u001b[38;5;124m'\u001b[39m\u001b[38;5;124mThis model requires a timestamp and value row as input\u001b[39m\u001b[38;5;124m'\u001b[39m)\n\u001b[1;32m     14\u001b[0m \u001b[38;5;28;01mif\u001b[39;00m \u001b[38;5;28mlen\u001b[39m(timestamps) \u001b[38;5;129;01mand\u001b[39;00m \u001b[38;5;28misinstance\u001b[39m(timestamps[\u001b[38;5;241m0\u001b[39m], np\u001b[38;5;241m.\u001b[39mnumber):\n\u001b[1;32m     15\u001b[0m     \u001b[38;5;66;03m# millisecond epoch is standard for waylay\u001b[39;00m\n\u001b[1;32m     16\u001b[0m     data \u001b[38;5;241m=\u001b[39m pd\u001b[38;5;241m.\u001b[39mDataFrame(values, index\u001b[38;5;241m=\u001b[39mpd\u001b[38;5;241m.\u001b[39mto_datetime(timestamps, unit\u001b[38;5;241m=\u001b[39m\u001b[38;5;124m'\u001b[39m\u001b[38;5;124mms\u001b[39m\u001b[38;5;124m'\u001b[39m))\n",
      "\u001b[0;31mValueError\u001b[0m: This model requires a timestamp and value row as input"
     ]
    }
   ],
   "source": [
    "predictions = waylay.byoml.model.predict(CI_MODEL_NAME, convert_to_numpy(df_train))\n",
    "predictions_df = convert_to_pandas(predictions)\n",
    "predictions_df.head()"
   ]
  },
  {
   "cell_type": "code",
   "execution_count": null,
   "id": "c374fc13",
   "metadata": {},
   "outputs": [],
   "source": [
    "# use the `body` argument to add additional parameters in a prediction request\n",
    "predictions = waylay.byoml.model.predict(CI_MODEL_NAME, convert_to_numpy(df_train), body={'alpha': 0,5})\n",
    "predictions_df = convert_to_pandas(predictions)\n",
    "predictions_df.head()"
   ]
  },
  {
   "cell_type": "code",
   "execution_count": null,
   "id": "d72fd383",
   "metadata": {},
   "outputs": [],
   "source": [
    "import dill\n",
    "from pathlib import Path\n",
    "model_dump_file =  Path.home() / 'tmp' /  'dill_test.dill'\n",
    "with open(model_dump_file, 'wb') as f:\n",
    "    dill.settings['recurse'] = False\n",
    "    dill.dump(upload_model_ci, f)"
   ]
  },
  {
   "cell_type": "code",
   "execution_count": null,
   "id": "c402f23b",
   "metadata": {},
   "outputs": [],
   "source": [
    "! ls -l ~/tmp/dill*"
   ]
  },
  {
   "cell_type": "code",
   "execution_count": 50,
   "id": "65844247",
   "metadata": {},
   "outputs": [
    {
     "data": {
      "text/plain": [
       "intercept    0.074144\n",
       "ar.L1        0.968947\n",
       "ar.S.L4      0.459466\n",
       "ma.S.L4     -0.999530\n",
       "sigma2       0.664334\n",
       "dtype: float64"
      ]
     },
     "execution_count": 50,
     "metadata": {},
     "output_type": "execute_result"
    }
   ],
   "source": [
    "with open(model_dump_file, \"rb\") as f:\n",
    "    upload_model_ci_reloaded = dill.load(f)\n",
    "    \n",
    "upload_model_ci_reloaded.fitted_params"
   ]
  },
  {
   "cell_type": "code",
   "execution_count": 30,
   "id": "c8aac312",
   "metadata": {},
   "outputs": [
    {
     "data": {
      "text/plain": [
       "PosixPath('/Users/thomas')"
      ]
     },
     "execution_count": 30,
     "metadata": {},
     "output_type": "execute_result"
    }
   ],
   "source": [
    "Path.home()"
   ]
  },
  {
   "cell_type": "code",
   "execution_count": 31,
   "id": "a3d3bd52",
   "metadata": {},
   "outputs": [
    {
     "data": {
      "text/plain": [
       "intercept    0.074144\n",
       "ar.L1        0.968947\n",
       "ar.S.L4      0.459466\n",
       "ma.S.L4     -0.999530\n",
       "sigma2       0.664334\n",
       "dtype: float64"
      ]
     },
     "execution_count": 31,
     "metadata": {},
     "output_type": "execute_result"
    }
   ],
   "source": [
    "upload_model.fitted_params"
   ]
  },
  {
   "cell_type": "code",
   "execution_count": 51,
   "id": "c105c372",
   "metadata": {},
   "outputs": [],
   "source": [
    "session_dump_file =  Path.home() / 'tmp' /  'dill_test.session.dill'\n",
    "with open(session_dump_file, 'wb') as f:\n",
    "    dill.dump_session(session_dump_file, f)"
   ]
  },
  {
   "cell_type": "code",
   "execution_count": 1,
   "id": "c68e3065",
   "metadata": {},
   "outputs": [],
   "source": [
    "import sarima_byoml_wrapper as sw"
   ]
  },
  {
   "cell_type": "code",
   "execution_count": 12,
   "id": "8d259dfa",
   "metadata": {},
   "outputs": [
    {
     "data": {
      "text/html": [
       "<div>\n",
       "<style scoped>\n",
       "    .dataframe tbody tr th:only-of-type {\n",
       "        vertical-align: middle;\n",
       "    }\n",
       "\n",
       "    .dataframe tbody tr th {\n",
       "        vertical-align: top;\n",
       "    }\n",
       "\n",
       "    .dataframe thead th {\n",
       "        text-align: right;\n",
       "    }\n",
       "</style>\n",
       "<table border=\"1\" class=\"dataframe\">\n",
       "  <thead>\n",
       "    <tr style=\"text-align: right;\">\n",
       "      <th></th>\n",
       "      <th>lower wpi</th>\n",
       "      <th>upper wpi</th>\n",
       "    </tr>\n",
       "  </thead>\n",
       "  <tbody>\n",
       "    <tr>\n",
       "      <th>1987-10-01</th>\n",
       "      <td>99.587552</td>\n",
       "      <td>102.842655</td>\n",
       "    </tr>\n",
       "    <tr>\n",
       "      <th>1988-01-01</th>\n",
       "      <td>100.173203</td>\n",
       "      <td>104.705701</td>\n",
       "    </tr>\n",
       "    <tr>\n",
       "      <th>1988-04-01</th>\n",
       "      <td>101.076452</td>\n",
       "      <td>106.541671</td>\n",
       "    </tr>\n",
       "    <tr>\n",
       "      <th>1988-07-01</th>\n",
       "      <td>101.836353</td>\n",
       "      <td>108.051136</td>\n",
       "    </tr>\n",
       "    <tr>\n",
       "      <th>1988-10-01</th>\n",
       "      <td>101.967948</td>\n",
       "      <td>109.631465</td>\n",
       "    </tr>\n",
       "  </tbody>\n",
       "</table>\n",
       "</div>"
      ],
      "text/plain": [
       "             lower wpi   upper wpi\n",
       "1987-10-01   99.587552  102.842655\n",
       "1988-01-01  100.173203  104.705701\n",
       "1988-04-01  101.076452  106.541671\n",
       "1988-07-01  101.836353  108.051136\n",
       "1988-10-01  101.967948  109.631465"
      ]
     },
     "execution_count": 12,
     "metadata": {},
     "output_type": "execute_result"
    }
   ],
   "source": [
    "upload_model_ci = sw.SARIMAXConfidenceForecaster()\n",
    "upload_model_ci.fit(df_train, disp=0)\n",
    "\n",
    "# test locally\n",
    "upload_model_ci.predict(( df_train, 0.5)).head()"
   ]
  },
  {
   "cell_type": "code",
   "execution_count": null,
   "id": "0c4d1234",
   "metadata": {},
   "outputs": [],
   "source": []
  }
 ],
 "metadata": {
  "kernelspec": {
   "display_name": "Python 3 (ipykernel)",
   "language": "python",
   "name": "python3"
  },
  "language_info": {
   "codemirror_mode": {
    "name": "ipython",
    "version": 3
   },
   "file_extension": ".py",
   "mimetype": "text/x-python",
   "name": "python",
   "nbconvert_exporter": "python",
   "pygments_lexer": "ipython3",
   "version": "3.8.13"
  }
 },
 "nbformat": 4,
 "nbformat_minor": 5
}
