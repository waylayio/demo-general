{
 "cells": [
  {
   "cell_type": "markdown",
   "metadata": {},
   "source": [
    "## Create a model using bigML pipelines. \n",
    "A Waylay query is exported as csv and is used as input to the bigML pipeline. The data used in this notebook is data used in this notebook: https://github.com/waylayio/demo-general/blob/master/byoml/tutorial.ipynb. We then upload the model to byoml and perform a prediction.\n",
    "\n",
    "First we read in the csv and use the last sample as test sample."
   ]
  },
  {
   "cell_type": "code",
   "execution_count": 1,
   "metadata": {},
   "outputs": [],
   "source": [
    "import csv\n",
    "import os\n",
    "import json\n",
    "import pandas as pd\n",
    "import numpy as np\n",
    "import matplotlib as plt\n",
    "\n",
    "from bigml.api import BigML\n",
    "from bigml.anomaly import Anomaly\n"
   ]
  },
  {
   "cell_type": "code",
   "execution_count": 2,
   "metadata": {},
   "outputs": [
    {
     "data": {
      "text/html": [
       "<div>\n",
       "<style scoped>\n",
       "    .dataframe tbody tr th:only-of-type {\n",
       "        vertical-align: middle;\n",
       "    }\n",
       "\n",
       "    .dataframe tbody tr th {\n",
       "        vertical-align: top;\n",
       "    }\n",
       "\n",
       "    .dataframe thead th {\n",
       "        text-align: right;\n",
       "    }\n",
       "</style>\n",
       "<table border=\"1\" class=\"dataframe\">\n",
       "  <thead>\n",
       "    <tr style=\"text-align: right;\">\n",
       "      <th></th>\n",
       "      <th>temperature</th>\n",
       "      <th>light-ambience</th>\n",
       "    </tr>\n",
       "  </thead>\n",
       "  <tbody>\n",
       "    <tr>\n",
       "      <th>count</th>\n",
       "      <td>1680.000000</td>\n",
       "      <td>1680.000000</td>\n",
       "    </tr>\n",
       "    <tr>\n",
       "      <th>mean</th>\n",
       "      <td>18.623020</td>\n",
       "      <td>638.395419</td>\n",
       "    </tr>\n",
       "    <tr>\n",
       "      <th>std</th>\n",
       "      <td>2.302896</td>\n",
       "      <td>532.613071</td>\n",
       "    </tr>\n",
       "    <tr>\n",
       "      <th>min</th>\n",
       "      <td>13.020909</td>\n",
       "      <td>0.000000</td>\n",
       "    </tr>\n",
       "    <tr>\n",
       "      <th>25%</th>\n",
       "      <td>16.672486</td>\n",
       "      <td>0.000000</td>\n",
       "    </tr>\n",
       "    <tr>\n",
       "      <th>50%</th>\n",
       "      <td>18.861395</td>\n",
       "      <td>628.764247</td>\n",
       "    </tr>\n",
       "    <tr>\n",
       "      <th>75%</th>\n",
       "      <td>20.712567</td>\n",
       "      <td>1124.747130</td>\n",
       "    </tr>\n",
       "    <tr>\n",
       "      <th>max</th>\n",
       "      <td>23.793903</td>\n",
       "      <td>1964.023804</td>\n",
       "    </tr>\n",
       "  </tbody>\n",
       "</table>\n",
       "</div>"
      ],
      "text/plain": [
       "       temperature  light-ambience\n",
       "count  1680.000000     1680.000000\n",
       "mean     18.623020      638.395419\n",
       "std       2.302896      532.613071\n",
       "min      13.020909        0.000000\n",
       "25%      16.672486        0.000000\n",
       "50%      18.861395      628.764247\n",
       "75%      20.712567     1124.747130\n",
       "max      23.793903     1964.023804"
      ]
     },
     "execution_count": 2,
     "metadata": {},
     "output_type": "execute_result"
    }
   ],
   "source": [
    "csv_path = 'waylay_data_export.csv'\n",
    "df = pd.read_csv(csv_path)\n",
    "df = df.loc[:, ['temperature', 'light-ambience']]\n",
    "\n",
    "df.describe()"
   ]
  },
  {
   "cell_type": "code",
   "execution_count": 3,
   "metadata": {},
   "outputs": [
    {
     "data": {
      "text/html": [
       "<div>\n",
       "<style scoped>\n",
       "    .dataframe tbody tr th:only-of-type {\n",
       "        vertical-align: middle;\n",
       "    }\n",
       "\n",
       "    .dataframe tbody tr th {\n",
       "        vertical-align: top;\n",
       "    }\n",
       "\n",
       "    .dataframe thead th {\n",
       "        text-align: right;\n",
       "    }\n",
       "</style>\n",
       "<table border=\"1\" class=\"dataframe\">\n",
       "  <thead>\n",
       "    <tr style=\"text-align: right;\">\n",
       "      <th></th>\n",
       "      <th>temperature</th>\n",
       "      <th>light-ambience</th>\n",
       "    </tr>\n",
       "  </thead>\n",
       "  <tbody>\n",
       "    <tr>\n",
       "      <th>0</th>\n",
       "      <td>17.476471</td>\n",
       "      <td>648.370531</td>\n",
       "    </tr>\n",
       "    <tr>\n",
       "      <th>1</th>\n",
       "      <td>18.861175</td>\n",
       "      <td>1217.957350</td>\n",
       "    </tr>\n",
       "    <tr>\n",
       "      <th>2</th>\n",
       "      <td>20.798265</td>\n",
       "      <td>998.371057</td>\n",
       "    </tr>\n",
       "    <tr>\n",
       "      <th>3</th>\n",
       "      <td>18.857261</td>\n",
       "      <td>808.531495</td>\n",
       "    </tr>\n",
       "    <tr>\n",
       "      <th>4</th>\n",
       "      <td>16.074553</td>\n",
       "      <td>0.000000</td>\n",
       "    </tr>\n",
       "  </tbody>\n",
       "</table>\n",
       "</div>"
      ],
      "text/plain": [
       "   temperature  light-ambience\n",
       "0    17.476471      648.370531\n",
       "1    18.861175     1217.957350\n",
       "2    20.798265      998.371057\n",
       "3    18.857261      808.531495\n",
       "4    16.074553        0.000000"
      ]
     },
     "execution_count": 3,
     "metadata": {},
     "output_type": "execute_result"
    }
   ],
   "source": [
    "df.head()"
   ]
  },
  {
   "cell_type": "code",
   "execution_count": 4,
   "metadata": {},
   "outputs": [
    {
     "data": {
      "text/plain": [
       "<AxesSubplot:xlabel='temperature', ylabel='light-ambience'>"
      ]
     },
     "execution_count": 4,
     "metadata": {},
     "output_type": "execute_result"
    },
    {
     "data": {
      "image/png": "[encoded data removed]",
      "text/plain": [
       "<Figure size 432x288 with 1 Axes>"
      ]
     },
     "metadata": {
      "needs_background": "light"
     },
     "output_type": "display_data"
    }
   ],
   "source": [
    "df.plot.scatter(x='temperature', y='light-ambience')"
   ]
  },
  {
   "cell_type": "markdown",
   "metadata": {},
   "source": [
    "We create a bigML object using our API key which is set in the environment variables:\n",
    "\n",
    "BIGML_USERNAME: \\<your_bigML_username\\>\n",
    "\n",
    "BIGML_API_KEY: \\<your_bigML_api_key\\>"
   ]
  },
  {
   "cell_type": "code",
   "execution_count": 5,
   "metadata": {},
   "outputs": [
    {
     "data": {
      "text/plain": [
       "True"
      ]
     },
     "execution_count": 5,
     "metadata": {},
     "output_type": "execute_result"
    }
   ],
   "source": [
    "api = BigML()\n",
    "\n",
    "source = api.create_source(csv_path)\n",
    "api.ok(source)\n",
    "dataset = api.create_dataset(source, {'excluded_fields': ['timestamp']})\n",
    "api.ok(dataset)\n",
    "model = api.create_anomaly(\n",
    "    dataset,\n",
    "    {\n",
    "        'top_n': 150\n",
    "    }\n",
    ")\n",
    "\n",
    "api.ok(model)"
   ]
  },
  {
   "cell_type": "markdown",
   "metadata": {},
   "source": [
    "When we create an anomaly prediction, an anomaly score is returned with 0 being no anomaly and 1 being an anomaly. This means that every value between [0, 0.5] is predicted as not an anomaly while values between [0.5, 1] are predicted as being an anomaly. "
   ]
  },
  {
   "cell_type": "markdown",
   "metadata": {},
   "source": [
    "Input data to the model should be an object with column names equal to the ones on which the model has been trained. The cells below shows that entering different field names yields different results."
   ]
  },
  {
   "cell_type": "code",
   "execution_count": 6,
   "metadata": {},
   "outputs": [
    {
     "name": "stderr",
     "output_type": "stream",
     "text": [
      "Validation error: {'input_data': 'Must be an object'}\n",
      "Double-check the arguments for the call, please.\n"
     ]
    },
    {
     "name": "stdout",
     "output_type": "stream",
     "text": [
      "2021-08-05 17:58:54,245: Validation error: {'input_data': 'Must be an object'}\n",
      "Double-check the arguments for the call, please.\n"
     ]
    },
    {
     "data": {
      "text/plain": [
       "{'code': 400,\n",
       " 'resource': None,\n",
       " 'location': None,\n",
       " 'object': None,\n",
       " 'error': {'code': 400,\n",
       "  'status': {'code': -1206,\n",
       "   'extra': {'input_data': 'Must be an object'},\n",
       "   'message': 'Validation error'}}}"
      ]
     },
     "execution_count": 6,
     "metadata": {},
     "output_type": "execute_result"
    }
   ],
   "source": [
    "api.create_anomaly_score(model, [[0, 0]])"
   ]
  },
  {
   "cell_type": "code",
   "execution_count": 7,
   "metadata": {},
   "outputs": [
    {
     "data": {
      "text/plain": [
       "0.94814"
      ]
     },
     "execution_count": 7,
     "metadata": {},
     "output_type": "execute_result"
    }
   ],
   "source": [
    "api.create_anomaly_score(model, {\"feature_1\": 24, \"feature_2\": 2000})['object']['score']"
   ]
  },
  {
   "cell_type": "code",
   "execution_count": 8,
   "metadata": {},
   "outputs": [
    {
     "data": {
      "text/plain": [
       "0.70391"
      ]
     },
     "execution_count": 8,
     "metadata": {},
     "output_type": "execute_result"
    }
   ],
   "source": [
    "api.create_anomaly_score(model, {\"light-ambience\": 2000, \"temperature\": 24})['object']['score']"
   ]
  },
  {
   "cell_type": "code",
   "execution_count": 9,
   "metadata": {},
   "outputs": [
    {
     "data": {
      "text/plain": [
       "0.70391"
      ]
     },
     "execution_count": 9,
     "metadata": {},
     "output_type": "execute_result"
    }
   ],
   "source": [
    "# Anomaly\n",
    "prediction = api.create_anomaly_score(model, {\"temperature\": 24, \"light-ambience\": 2000})\n",
    "prediction['object']['score']"
   ]
  },
  {
   "cell_type": "code",
   "execution_count": 10,
   "metadata": {},
   "outputs": [
    {
     "data": {
      "text/plain": [
       "0.62808"
      ]
     },
     "execution_count": 10,
     "metadata": {},
     "output_type": "execute_result"
    }
   ],
   "source": [
    "# Anomaly\n",
    "prediction = api.create_anomaly_score(model, {\"temperature\": 21, \"light-ambience\": 0})\n",
    "prediction['object']['score']"
   ]
  },
  {
   "cell_type": "code",
   "execution_count": 11,
   "metadata": {},
   "outputs": [
    {
     "data": {
      "text/plain": [
       "0.4241"
      ]
     },
     "execution_count": 11,
     "metadata": {},
     "output_type": "execute_result"
    }
   ],
   "source": [
    "# No anomaly\n",
    "prediction = api.create_anomaly_score(model, {\"temperature\": 17, \"light-ambience\": 0})\n",
    "prediction['object']['score']"
   ]
  },
  {
   "cell_type": "code",
   "execution_count": 12,
   "metadata": {},
   "outputs": [
    {
     "data": {
      "text/plain": [
       "0.36618"
      ]
     },
     "execution_count": 12,
     "metadata": {},
     "output_type": "execute_result"
    }
   ],
   "source": [
    "# No anomaly\n",
    "prediction = api.create_anomaly_score(model, {\"temperature\": 21, \"light-ambience\": 1250})\n",
    "prediction['object']['score']"
   ]
  },
  {
   "cell_type": "code",
   "execution_count": 13,
   "metadata": {},
   "outputs": [
    {
     "data": {
      "text/plain": [
       "0.39432"
      ]
     },
     "execution_count": 13,
     "metadata": {},
     "output_type": "execute_result"
    }
   ],
   "source": [
    "# No anomaly\n",
    "prediction = api.create_anomaly_score(model, {\"temperature\": 19, \"light-ambience\": 500})\n",
    "prediction['object']['score']"
   ]
  },
  {
   "cell_type": "markdown",
   "metadata": {},
   "source": [
    "The anomaly predictor can also be run locally. By running the next 3 cells, a local 'storage'-folder will be created which will store the local model to run the predictions. The anomaly name can be found in the BigML dashboard."
   ]
  },
  {
   "cell_type": "code",
   "execution_count": 14,
   "metadata": {},
   "outputs": [],
   "source": [
    "# To predict scores fill the desired input_data\n",
    "# in next line. Numeric fields are compulsory.\n",
    "input_data = {\n",
    "    \"light-ambience\": 500,\n",
    "    \"temperature\": 19\n",
    "}"
   ]
  },
  {
   "cell_type": "code",
   "execution_count": 15,
   "metadata": {},
   "outputs": [
    {
     "data": {
      "text/plain": [
       "0.39432123575264455"
      ]
     },
     "execution_count": 15,
     "metadata": {},
     "output_type": "execute_result"
    }
   ],
   "source": [
    "# Test the anomaly model created through dashboard with the same configuration parameters as this notebook\n",
    "anomaly = Anomaly('anomaly/60d9b7549193b91734001e88',\n",
    "                  api=BigML()\n",
    "                 )\n",
    "\n",
    "anomaly.anomaly_score(input_data)\n",
    "# The result is a float number which value is between 0 and 1."
   ]
  },
  {
   "cell_type": "markdown",
   "metadata": {},
   "source": [
    "Or use the BigML API directly to create an anomaly model."
   ]
  },
  {
   "cell_type": "code",
   "execution_count": 16,
   "metadata": {},
   "outputs": [],
   "source": [
    "anomaly_name = prediction['object']['anomaly']"
   ]
  },
  {
   "cell_type": "code",
   "execution_count": 17,
   "metadata": {},
   "outputs": [
    {
     "data": {
      "text/plain": [
       "dict"
      ]
     },
     "execution_count": 17,
     "metadata": {},
     "output_type": "execute_result"
    }
   ],
   "source": [
    "local_anomaly = api.get_anomaly(anomaly_name, query_string='limit=-1')\n",
    "type(local_anomaly)"
   ]
  },
  {
   "cell_type": "code",
   "execution_count": 18,
   "metadata": {},
   "outputs": [
    {
     "data": {
      "text/plain": [
       "bigml.anomaly.Anomaly"
      ]
     },
     "execution_count": 18,
     "metadata": {},
     "output_type": "execute_result"
    }
   ],
   "source": [
    "local_anomaly_model = Anomaly(local_anomaly)\n",
    "type(local_anomaly_model)"
   ]
  },
  {
   "cell_type": "markdown",
   "metadata": {},
   "source": [
    "We will create a wrapper around the bigML model, which will enable us to upload the model to byoml and make predictions with it. We suppose that input_data is a numpy ndarray for now, until a separate BigML docker image has been deployed. "
   ]
  },
  {
   "cell_type": "code",
   "execution_count": 19,
   "metadata": {},
   "outputs": [],
   "source": [
    "class BigMLModel:\n",
    "    def __init__(self, model, column_names):\n",
    "        self.model = model\n",
    "        self.column_names = list(column_names)\n",
    "\n",
    "    def predict(self, input_data):\n",
    "        input_df = pd.DataFrame(input_data, columns=self.column_names)\n",
    "        json_input = json.loads(input_df.to_json(orient='records'))[0]\n",
    "        return np.array(self.model.anomaly_score(json_input))\n"
   ]
  },
  {
   "cell_type": "code",
   "execution_count": 20,
   "metadata": {},
   "outputs": [
    {
     "data": {
      "text/plain": [
       "array(0.39432124)"
      ]
     },
     "execution_count": 20,
     "metadata": {},
     "output_type": "execute_result"
    }
   ],
   "source": [
    "np_input_data = np.array(list(input_data.values())).reshape(1, 2)\n",
    "model_to_upload = BigMLModel(anomaly, input_data.keys()) # local_anomaly_model can also be used instead of anomaly\n",
    "model_to_upload.predict(np_input_data)"
   ]
  },
  {
   "cell_type": "code",
   "execution_count": 21,
   "metadata": {},
   "outputs": [
    {
     "data": {
      "text/plain": [
       "'https://byoml-openfaas-staging.waylay.io'"
      ]
     },
     "execution_count": 21,
     "metadata": {},
     "output_type": "execute_result"
    }
   ],
   "source": [
    "from waylay import WaylayClient, RestResponseError\n",
    "waylay = WaylayClient.from_profile('staging')\n",
    "waylay.byoml.set_root_url('https://byoml-openfaas-staging.waylay.io')\n",
    "waylay.byoml.root_url"
   ]
  },
  {
   "cell_type": "code",
   "execution_count": 22,
   "metadata": {},
   "outputs": [
    {
     "data": {
      "text/plain": [
       "\"Ignored: ByomlActionError(404: 'Model does not exist'; DELETE 'https://byoml-openfaas-staging.waylay.io/models/bigml-model')\""
      ]
     },
     "metadata": {},
     "output_type": "display_data"
    }
   ],
   "source": [
    "MODEL_NAME = 'bigml-model'\n",
    "try:\n",
    "    waylay.byoml.model.remove(MODEL_NAME)\n",
    "except RestResponseError as e:\n",
    "    display(f'Ignored: {e}')"
   ]
  },
  {
   "cell_type": "markdown",
   "metadata": {},
   "source": [
    "In order to deploy our created model, we will need to pickle the model using the dill library. We will also need to include the bigml library into a requirements.txt file in the upload folder."
   ]
  },
  {
   "cell_type": "code",
   "execution_count": 23,
   "metadata": {},
   "outputs": [],
   "source": [
    "import dill\n",
    "from zipfile import ZipFile\n",
    "import tempfile\n",
    "from pathlib import Path\n",
    "from time import sleep\n",
    "\n",
    "is_not_ready = True\n",
    "\n",
    "def upload_model(model_name, model_object):\n",
    "    with tempfile.TemporaryDirectory() as temp_dir:\n",
    "        model_path = Path(temp_dir, 'model.joblib')\n",
    "        requirements_file_name = 'requirements.txt'\n",
    "\n",
    "        with open(Path(temp_dir, requirements_file_name), 'wt') as outf:\n",
    "            outf.write('bigml')\n",
    "\n",
    "        with open(model_path, 'wb') as model_file:\n",
    "            dill.settings['recurse'] = True\n",
    "            dill.dump(model_object, model_file)\n",
    "\n",
    "        return waylay.byoml.model.upload(\n",
    "            model_name=model_name,\n",
    "            trained_model=temp_dir, \n",
    "            framework='sklearn', \n",
    "            description='BigML model example'\n",
    "        )\n",
    "    \n",
    "def wait_until_ready(model_name):\n",
    "    while is_not_ready:\n",
    "        result = waylay.byoml.model.get(MODEL_NAME)\n",
    "        if result.get('ready'):\n",
    "             return result\n",
    "        print('Still waiting on model to be deployed')\n",
    "        sleep(5)"
   ]
  },
  {
   "cell_type": "markdown",
   "metadata": {},
   "source": [
    "We will upload the model and create a prediction using numpy arrays as input. When we create a separate BigML docker image, it will be possible to use the serialisation from BigML, i.e. feed objects as input."
   ]
  },
  {
   "cell_type": "code",
   "execution_count": 24,
   "metadata": {},
   "outputs": [
    {
     "name": "stdout",
     "output_type": "stream",
     "text": [
      "{'author': 'users/f0981778-feed-4d08-823e-dc65e2b8a502', 'createdBy': 'users/f0981778-feed-4d08-823e-dc65e2b8a502', 'createdOn': '2021-08-05T16:00:59.559542+00:00', 'description': 'BigML model example', 'framework': 'sklearn', 'framework_version': '0.22', 'message': 'Model successfully uploaded', 'name': 'bigml-model', 'updatedOn': '2021-08-05T16:00:59.559595+00:00', 'version': '1'}\n",
      "Still waiting on model to be deployed\n",
      "Still waiting on model to be deployed\n",
      "Still waiting on model to be deployed\n",
      "Still waiting on model to be deployed\n",
      "Still waiting on model to be deployed\n",
      "Still waiting on model to be deployed\n",
      "Still waiting on model to be deployed\n",
      "Still waiting on model to be deployed\n",
      "Still waiting on model to be deployed\n",
      "Still waiting on model to be deployed\n",
      "Still waiting on model to be deployed\n"
     ]
    },
    {
     "data": {
      "text/plain": [
       "{'createdBy': 'users/f0981778-feed-4d08-823e-dc65e2b8a502',\n",
       " 'createdOn': '2021-08-05T16:00:59.424000+00:00',\n",
       " 'description': 'BigML model example',\n",
       " 'framework': 'sklearn',\n",
       " 'framework_version': '0.22',\n",
       " 'name': 'bigml-model',\n",
       " 'ready': True,\n",
       " 'supported_endpoints': ['predict'],\n",
       " 'updatedBy': 'users/f0981778-feed-4d08-823e-dc65e2b8a502',\n",
       " 'updatedOn': '2021-08-05T16:00:59.424000+00:00',\n",
       " 'version': '1'}"
      ]
     },
     "execution_count": 24,
     "metadata": {},
     "output_type": "execute_result"
    }
   ],
   "source": [
    "print(upload_model(MODEL_NAME, model_to_upload))\n",
    "wait_until_ready(MODEL_NAME)"
   ]
  },
  {
   "cell_type": "code",
   "execution_count": 25,
   "metadata": {},
   "outputs": [
    {
     "data": {
      "text/plain": [
       "array(0.39432124)"
      ]
     },
     "execution_count": 25,
     "metadata": {},
     "output_type": "execute_result"
    }
   ],
   "source": [
    "byoml_prediction = waylay.byoml.model.predict(MODEL_NAME, np_input_data)\n",
    "byoml_prediction"
   ]
  },
  {
   "cell_type": "code",
   "execution_count": 26,
   "metadata": {},
   "outputs": [
    {
     "data": {
      "text/plain": [
       "{'message': 'Model successfully deleted', 'name': 'bigml-model'}"
      ]
     },
     "execution_count": 26,
     "metadata": {},
     "output_type": "execute_result"
    }
   ],
   "source": [
    "waylay.byoml.model.remove(MODEL_NAME)"
   ]
  },
  {
   "cell_type": "code",
   "execution_count": null,
   "metadata": {},
   "outputs": [],
   "source": []
  }
 ],
 "metadata": {
  "kernelspec": {
   "display_name": "Python 3",
   "language": "python",
   "name": "python3"
  },
  "language_info": {
   "codemirror_mode": {
    "name": "ipython",
    "version": 3
   },
   "file_extension": ".py",
   "mimetype": "text/x-python",
   "name": "python",
   "nbconvert_exporter": "python",
   "pygments_lexer": "ipython3",
   "version": "3.8.10"
  }
 },
 "nbformat": 4,
 "nbformat_minor": 2
}
