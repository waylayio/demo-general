{
 "cells": [
  {
   "cell_type": "code",
   "execution_count": null,
   "id": "f01835cb",
   "metadata": {
    "tags": [
     "parameters"
    ]
   },
   "outputs": [],
   "source": [
    "PROFILE='render_notebook'"
   ]
  },
  {
   "cell_type": "markdown",
   "id": "abd5e8d0",
   "metadata": {},
   "source": [
    "## SARIMA on BYOML with the `custom` framework\n",
    "In this notebook we will demonstrate how you can use a statistical  model like SARIMA, upload it to byoml and afterwards perform a (forecasting) prediction with the deployed model.\n",
    "\n",
    "This notebook uses the `custom` framework, supported by BYOML since version `1.4.0`, to use the [statsmodels](https://www.statsmodels.org) implementation of [SARIMA](https://www.statsmodels.org/stable/generated/statsmodels.tsa.statespace.sarimax.SARIMAX.html?highlight=sarima#statsmodels.tsa.statespace.sarimax.SARIMAX).\n",
    "\n",
    "Specifying additional byoml requirements is supported in the Python SDK from version `0.4.0` onwards.\n",
    "\n",
    "We use WPI data from [stata](https://www.stata-press.com/data/). See also Example 5 in [this](https://www.stata.com/manuals/tsforecastestimates.pdf) stata manual."
   ]
  },
  {
   "cell_type": "code",
   "execution_count": 1,
   "id": "3f90b980",
   "metadata": {},
   "outputs": [],
   "source": [
    "import numpy as np\n",
    "import matplotlib.pyplot as plt\n",
    "from matplotlib.figure import Figure\n",
    "import pandas as pd\n",
    "import httpx\n",
    "import statsmodels.api as sm\n",
    "from http import HTTPStatus\n",
    "\n",
    "from io import BytesIO"
   ]
  },
  {
   "cell_type": "code",
   "execution_count": 2,
   "id": "a4b265a1",
   "metadata": {},
   "outputs": [],
   "source": [
    "wpi1 = httpx.get('https://www.stata-press.com/data/r17/wpi1.dta').content\n",
    "data = pd.read_stata(BytesIO(wpi1))\n",
    "data.index = data.t\n",
    "# set quarter index frequency: not necessary, but suppresses warnings\n",
    "data.index.freq='QS'\n",
    "data = data[['wpi']]"
   ]
  },
  {
   "cell_type": "code",
   "execution_count": 3,
   "id": "e255fbb8",
   "metadata": {},
   "outputs": [
    {
     "data": {
      "text/plain": [
       "'0.13.2'"
      ]
     },
     "execution_count": 3,
     "metadata": {},
     "output_type": "execute_result"
    }
   ],
   "source": [
    "import statsmodels\n",
    "statsmodels.__version__"
   ]
  },
  {
   "cell_type": "code",
   "execution_count": 4,
   "id": "7c7dc818",
   "metadata": {},
   "outputs": [
    {
     "data": {
      "text/plain": [
       "<AxesSubplot:xlabel='t'>"
      ]
     },
     "execution_count": 4,
     "metadata": {},
     "output_type": "execute_result"
    },
    {
     "data": {
      "image/png": "[encoded data removed]",
      "text/plain": [
       "<Figure size 1152x432 with 1 Axes>"
      ]
     },
     "metadata": {
      "needs_background": "light"
     },
     "output_type": "display_data"
    }
   ],
   "source": [
    "data.plot(figsize = (16, 6))"
   ]
  },
  {
   "cell_type": "markdown",
   "id": "eb5dcf40",
   "metadata": {},
   "source": [
    "#### training data"
   ]
  },
  {
   "cell_type": "code",
   "execution_count": 5,
   "id": "4ef61d58",
   "metadata": {},
   "outputs": [
    {
     "data": {
      "text/html": [
       "<div>\n",
       "<style scoped>\n",
       "    .dataframe tbody tr th:only-of-type {\n",
       "        vertical-align: middle;\n",
       "    }\n",
       "\n",
       "    .dataframe tbody tr th {\n",
       "        vertical-align: top;\n",
       "    }\n",
       "\n",
       "    .dataframe thead th {\n",
       "        text-align: right;\n",
       "    }\n",
       "</style>\n",
       "<table border=\"1\" class=\"dataframe\">\n",
       "  <thead>\n",
       "    <tr style=\"text-align: right;\">\n",
       "      <th></th>\n",
       "      <th>wpi</th>\n",
       "    </tr>\n",
       "    <tr>\n",
       "      <th>t</th>\n",
       "      <th></th>\n",
       "    </tr>\n",
       "  </thead>\n",
       "  <tbody>\n",
       "    <tr>\n",
       "      <th>1960-01-01</th>\n",
       "      <td>30.700001</td>\n",
       "    </tr>\n",
       "    <tr>\n",
       "      <th>1960-04-01</th>\n",
       "      <td>30.799999</td>\n",
       "    </tr>\n",
       "    <tr>\n",
       "      <th>1960-07-01</th>\n",
       "      <td>30.700001</td>\n",
       "    </tr>\n",
       "    <tr>\n",
       "      <th>1960-10-01</th>\n",
       "      <td>30.700001</td>\n",
       "    </tr>\n",
       "    <tr>\n",
       "      <th>1961-01-01</th>\n",
       "      <td>30.799999</td>\n",
       "    </tr>\n",
       "  </tbody>\n",
       "</table>\n",
       "</div>"
      ],
      "text/plain": [
       "                  wpi\n",
       "t                    \n",
       "1960-01-01  30.700001\n",
       "1960-04-01  30.799999\n",
       "1960-07-01  30.700001\n",
       "1960-10-01  30.700001\n",
       "1961-01-01  30.799999"
      ]
     },
     "execution_count": 5,
     "metadata": {},
     "output_type": "execute_result"
    }
   ],
   "source": [
    "train_size = int(len(data.index) * 0.9)\n",
    "df_train = data.iloc[:train_size]\n",
    "df_train.head()"
   ]
  },
  {
   "cell_type": "markdown",
   "id": "b811d54e",
   "metadata": {},
   "source": [
    "#### model fitting\n",
    "\n",
    "This sarima model uses hyperparameters that set first order (`1,1,1`) modeling on the autoregression (AR), differencing (I), and moving average (MA) parts, both for the 1-step prediction (`order`) as for the seasonal (S) component (`seasonal_order`). \n",
    "\n",
    "We set a seasonality of `4` for a yearly season on quarterly data.\n",
    "\n",
    "We do not use the _exogenous_ (X) component supported by this model.\n",
    "\n",
    "First we will create a local model, later we can compare results of the served model to this local model."
   ]
  },
  {
   "cell_type": "code",
   "execution_count": 6,
   "id": "fdc790ca",
   "metadata": {},
   "outputs": [
    {
     "name": "stdout",
     "output_type": "stream",
     "text": [
      "RUNNING THE L-BFGS-B CODE\n",
      "\n",
      "           * * *\n",
      "\n",
      "Machine precision = 2.220D-16\n",
      " N =            5     M =           10\n",
      "\n",
      "At X0         0 variables are exactly at the bounds\n",
      "\n",
      "At iterate    0    f=  1.09970D+00    |proj g|=  2.19501D-01\n",
      "\n",
      "At iterate   10    f=  9.82291D-01    |proj g|=  2.09950D-02\n",
      "\n",
      "At iterate   20    f=  9.79928D-01    |proj g|=  2.43645D-03\n",
      "\n",
      "At iterate   30    f=  9.79777D-01    |proj g|=  1.22567D-03\n",
      "\n",
      "At iterate   40    f=  9.79775D-01    |proj g|=  9.66807D-04\n",
      "\n",
      "           * * *\n",
      "\n",
      "Tit   = total number of iterations\n",
      "Tnf   = total number of function evaluations\n",
      "Tnint = total number of segments explored during Cauchy searches\n",
      "Skip  = number of BFGS updates skipped\n",
      "Nact  = number of active bounds at final generalized Cauchy point\n",
      "Projg = norm of the final projected gradient\n",
      "F     = final function value\n",
      "\n",
      "           * * *\n",
      "\n",
      "   N    Tit     Tnf  Tnint  Skip  Nact     Projg        F\n",
      "    5     41     68      1     0     0   9.666D-04   9.798D-01\n",
      "  F =  0.97977489325762179     \n",
      "\n",
      "CONVERGENCE: REL_REDUCTION_OF_F_<=_FACTR*EPSMCH             \n"
     ]
    },
    {
     "name": "stderr",
     "output_type": "stream",
     "text": [
      " This problem is unconstrained.\n"
     ]
    },
    {
     "data": {
      "text/html": [
       "<table class=\"simpletable\">\n",
       "<caption>SARIMAX Results</caption>\n",
       "<tr>\n",
       "  <th>Dep. Variable:</th>                <td>wpi</td>              <th>  No. Observations:  </th>    <td>111</td>  \n",
       "</tr>\n",
       "<tr>\n",
       "  <th>Model:</th>           <td>SARIMAX(1, 1, 1)x(1, 1, 1, 4)</td> <th>  Log Likelihood     </th> <td>-108.755</td>\n",
       "</tr>\n",
       "<tr>\n",
       "  <th>Date:</th>                  <td>Wed, 03 Aug 2022</td>        <th>  AIC                </th>  <td>227.510</td>\n",
       "</tr>\n",
       "<tr>\n",
       "  <th>Time:</th>                      <td>14:33:15</td>            <th>  BIC                </th>  <td>240.827</td>\n",
       "</tr>\n",
       "<tr>\n",
       "  <th>Sample:</th>                   <td>01-01-1960</td>           <th>  HQIC               </th>  <td>232.908</td>\n",
       "</tr>\n",
       "<tr>\n",
       "  <th></th>                         <td>- 07-01-1987</td>          <th>                     </th>     <td> </td>   \n",
       "</tr>\n",
       "<tr>\n",
       "  <th>Covariance Type:</th>              <td>opg</td>              <th>                     </th>     <td> </td>   \n",
       "</tr>\n",
       "</table>\n",
       "<table class=\"simpletable\">\n",
       "<tr>\n",
       "     <td></td>        <th>coef</th>     <th>std err</th>      <th>z</th>      <th>P>|z|</th>  <th>[0.025</th>    <th>0.975]</th>  \n",
       "</tr>\n",
       "<tr>\n",
       "  <th>ar.L1</th>   <td>    0.8560</td> <td>    0.071</td> <td>   11.987</td> <td> 0.000</td> <td>    0.716</td> <td>    0.996</td>\n",
       "</tr>\n",
       "<tr>\n",
       "  <th>ma.L1</th>   <td>   -0.3205</td> <td>    0.127</td> <td>   -2.529</td> <td> 0.011</td> <td>   -0.569</td> <td>   -0.072</td>\n",
       "</tr>\n",
       "<tr>\n",
       "  <th>ar.S.L4</th> <td>    0.1435</td> <td>    0.127</td> <td>    1.133</td> <td> 0.257</td> <td>   -0.105</td> <td>    0.392</td>\n",
       "</tr>\n",
       "<tr>\n",
       "  <th>ma.S.L4</th> <td>   -0.9985</td> <td>    3.715</td> <td>   -0.269</td> <td> 0.788</td> <td>   -8.280</td> <td>    6.283</td>\n",
       "</tr>\n",
       "<tr>\n",
       "  <th>sigma2</th>  <td>    0.4091</td> <td>    1.514</td> <td>    0.270</td> <td> 0.787</td> <td>   -2.559</td> <td>    3.377</td>\n",
       "</tr>\n",
       "</table>\n",
       "<table class=\"simpletable\">\n",
       "<tr>\n",
       "  <th>Ljung-Box (L1) (Q):</th>     <td>0.00</td>  <th>  Jarque-Bera (JB):  </th> <td>40.41</td>\n",
       "</tr>\n",
       "<tr>\n",
       "  <th>Prob(Q):</th>                <td>0.98</td>  <th>  Prob(JB):          </th> <td>0.00</td> \n",
       "</tr>\n",
       "<tr>\n",
       "  <th>Heteroskedasticity (H):</th> <td>21.40</td> <th>  Skew:              </th> <td>-0.55</td>\n",
       "</tr>\n",
       "<tr>\n",
       "  <th>Prob(H) (two-sided):</th>    <td>0.00</td>  <th>  Kurtosis:          </th> <td>5.81</td> \n",
       "</tr>\n",
       "</table><br/><br/>Warnings:<br/>[1] Covariance matrix calculated using the outer product of gradients (complex-step)."
      ],
      "text/plain": [
       "<class 'statsmodels.iolib.summary.Summary'>\n",
       "\"\"\"\n",
       "                                     SARIMAX Results                                     \n",
       "=========================================================================================\n",
       "Dep. Variable:                               wpi   No. Observations:                  111\n",
       "Model:             SARIMAX(1, 1, 1)x(1, 1, 1, 4)   Log Likelihood                -108.755\n",
       "Date:                           Wed, 03 Aug 2022   AIC                            227.510\n",
       "Time:                                   14:33:15   BIC                            240.827\n",
       "Sample:                               01-01-1960   HQIC                           232.908\n",
       "                                    - 07-01-1987                                         \n",
       "Covariance Type:                             opg                                         \n",
       "==============================================================================\n",
       "                 coef    std err          z      P>|z|      [0.025      0.975]\n",
       "------------------------------------------------------------------------------\n",
       "ar.L1          0.8560      0.071     11.987      0.000       0.716       0.996\n",
       "ma.L1         -0.3205      0.127     -2.529      0.011      -0.569      -0.072\n",
       "ar.S.L4        0.1435      0.127      1.133      0.257      -0.105       0.392\n",
       "ma.S.L4       -0.9985      3.715     -0.269      0.788      -8.280       6.283\n",
       "sigma2         0.4091      1.514      0.270      0.787      -2.559       3.377\n",
       "===================================================================================\n",
       "Ljung-Box (L1) (Q):                   0.00   Jarque-Bera (JB):                40.41\n",
       "Prob(Q):                              0.98   Prob(JB):                         0.00\n",
       "Heteroskedasticity (H):              21.40   Skew:                            -0.55\n",
       "Prob(H) (two-sided):                  0.00   Kurtosis:                         5.81\n",
       "===================================================================================\n",
       "\n",
       "Warnings:\n",
       "[1] Covariance matrix calculated using the outer product of gradients (complex-step).\n",
       "\"\"\""
      ]
     },
     "execution_count": 6,
     "metadata": {},
     "output_type": "execute_result"
    }
   ],
   "source": [
    "model = sm.tsa.SARIMAX(\n",
    "    df_train,\n",
    "    order=(1, 1, 1),\n",
    "    seasonal_order=(1, 1, 1, 4),\n",
    ")\n",
    "fitted_model = model.fit(maxiter=250, disp=10)\n",
    "fitted_model.summary()"
   ]
  },
  {
   "cell_type": "code",
   "execution_count": 7,
   "id": "4bcc8a68",
   "metadata": {},
   "outputs": [
    {
     "data": {
      "image/png": "[encoded data removed]",
      "text/plain": [
       "<Figure size 1080x1080 with 4 Axes>"
      ]
     },
     "metadata": {
      "needs_background": "light"
     },
     "output_type": "display_data"
    }
   ],
   "source": [
    "diag_plot = fitted_model.plot_diagnostics(figsize=(15, 15))\n"
   ]
  },
  {
   "cell_type": "markdown",
   "id": "d2ed564a",
   "metadata": {},
   "source": [
    "#### one-step forecast (in-band)\n",
    "The following cell performs a one-step ahead forecast of the 30 latest data points."
   ]
  },
  {
   "cell_type": "code",
   "execution_count": 8,
   "id": "1594ac0b",
   "metadata": {},
   "outputs": [
    {
     "data": {
      "image/png": "[encoded data removed]",
      "text/plain": [
       "<Figure size 1008x288 with 1 Axes>"
      ]
     },
     "metadata": {
      "needs_background": "light"
     },
     "output_type": "display_data"
    }
   ],
   "source": [
    "prediction = fitted_model.get_prediction(start=-30)\n",
    "pred_ci = prediction.conf_int(alpha=0.05)\n",
    "pred_mean = prediction.predicted_mean\n",
    "ax = df_train.plot(label='observed')\n",
    "pred_mean.plot(ax=ax, label='One-step ahead Forecast', alpha=.7, figsize=(14, 4))\n",
    "ax.fill_between(\n",
    "    pred_ci.index,\n",
    "    pred_ci.iloc[:, 0],\n",
    "    pred_ci.iloc[:, 1], color='k', alpha=.2\n",
    ")\n",
    "ax.set_xlabel('Date')\n",
    "ax.set_ylabel('AQI')\n",
    "plt.legend()\n",
    "plt.show()"
   ]
  },
  {
   "cell_type": "markdown",
   "id": "6ad38615",
   "metadata": {},
   "source": [
    "#### forecast (future prediction)\n",
    "\n",
    "The `forecast` method of the fitted model will give you predictions in the future."
   ]
  },
  {
   "cell_type": "code",
   "execution_count": 9,
   "id": "d2ec4d22",
   "metadata": {},
   "outputs": [
    {
     "data": {
      "text/plain": [
       "[<matplotlib.lines.Line2D at 0x7fc035b417f0>]"
      ]
     },
     "execution_count": 9,
     "metadata": {},
     "output_type": "execute_result"
    },
    {
     "data": {
      "image/png": "[encoded data removed]",
      "text/plain": [
       "<Figure size 432x288 with 1 Axes>"
      ]
     },
     "metadata": {
      "needs_background": "light"
     },
     "output_type": "display_data"
    }
   ],
   "source": [
    "forecast_window = 24\n",
    "forecast = fitted_model.forecast(steps=forecast_window)\n",
    "plt.plot(data.index, data.wpi)\n",
    "plt.plot(forecast.index, forecast.values)"
   ]
  },
  {
   "cell_type": "markdown",
   "id": "e6702d83",
   "metadata": {},
   "source": [
    "The `get_forecast` method also gives confidence intervals."
   ]
  },
  {
   "cell_type": "code",
   "execution_count": 10,
   "id": "6424c976",
   "metadata": {},
   "outputs": [
    {
     "data": {
      "image/png": "[encoded data removed]",
      "text/plain": [
       "<Figure size 432x288 with 1 Axes>"
      ]
     },
     "metadata": {
      "needs_background": "light"
     },
     "output_type": "display_data"
    }
   ],
   "source": [
    "forecast = fitted_model.get_forecast(steps=forecast_window)\n",
    "forecast_mean = forecast.predicted_mean\n",
    "# using a 50% confidence interval:\n",
    "forecast_ci = forecast.conf_int(alpha=0.5)\n",
    "plt.plot(data.index, data.wpi)\n",
    "plt.plot(forecast_mean.index, forecast_mean.values)\n",
    "plt.fill_between(\n",
    "    forecast_ci.index,\n",
    "    forecast_ci.iloc[:, 0],\n",
    "    forecast_ci.iloc[:, 1], \n",
    "    color='k', alpha=.2\n",
    ")\n",
    "plt.show()"
   ]
  },
  {
   "cell_type": "markdown",
   "id": "98fc292f",
   "metadata": {},
   "source": [
    "Let's create a custom BYOML model wrapper that we can fit and deploy to BYOML.\n",
    "We set up the waylay client. "
   ]
  },
  {
   "cell_type": "code",
   "execution_count": 11,
   "id": "083638fb",
   "metadata": {},
   "outputs": [
    {
     "data": {
      "text/plain": [
       "'v0.4.0'"
      ]
     },
     "metadata": {},
     "output_type": "display_data"
    },
    {
     "data": {
      "text/plain": [
       "'https://byoml-io.waylay.io'"
      ]
     },
     "metadata": {},
     "output_type": "display_data"
    },
    {
     "data": {
      "text/plain": [
       "'OK: byoml-1.5.0'"
      ]
     },
     "metadata": {},
     "output_type": "display_data"
    }
   ],
   "source": [
    "from waylay import WaylayClient, RestResponseError, __version__\n",
    "waylay = WaylayClient.from_profile(PROFILE)\n",
    "\n",
    "# diagnostics\n",
    "display(__version__)\n",
    "display(waylay.byoml.root_url)\n",
    "display(waylay.byoml.about.health())"
   ]
  },
  {
   "cell_type": "markdown",
   "id": "0e51e13d",
   "metadata": {},
   "source": [
    "## data conversion\n",
    "Our model uses use pandas timeseries, but when deployed, the byoml runtime hands over numpy arrays to the `predict` method.\n",
    "\n",
    "The following functions convert from and to numpy arrays of shape (nr_of_observations, len(feature_columns + 1)). The inner records are a (timestamp, value) with timestamps encoded as epoch milliseconds, e.g. as produced by the `executeQuery`(http://docs-io.waylay.io/#/sensors/executeQuery) plug with the `removeTimestamps=false` option.\n",
    "\n",
    "A typical request that would be sent to the deployed byoml function as (`Content-Type: application/json`)\n",
    "```http\n",
    "POST /models/sarima-model/predict \n",
    "{\n",
    "  \"instances\" : [\n",
    "     [-315619200000.0, 30.700000762939453],\n",
    "     [-307756800000.0, 30.799999237060547],\n",
    "     [-299894400000.0, 30.700000762939453],\n",
    "     ...\n",
    "  ]\n",
    "}\n",
    "```\n"
   ]
  },
  {
   "cell_type": "code",
   "execution_count": 12,
   "id": "c90b0514",
   "metadata": {},
   "outputs": [],
   "source": [
    "def convert_to_pandas(data, feature_columns=['value'], index_freq='QS'):\n",
    "    \"\"\"convert data with as first feature epoch-milliseconds.\"\"\"\n",
    "    expected_row_size = 1 + len(feature_columns)\n",
    "    if isinstance(data, list):\n",
    "        data = np.array(data)\n",
    "    if isinstance(data, np.ndarray):\n",
    "        (instance_count, row_count) = data.shape\n",
    "        if row_count == expected_row_size:\n",
    "            timestamps = data[:,0] \n",
    "            values = data[:, 1:]              \n",
    "        elif instance_count == expected_row_size:\n",
    "            # support both column and row-oriented array shapes\n",
    "            timestamps = data[0,:]\n",
    "            values = data[1:, :].transpose()\n",
    "        else:\n",
    "            raise ValueError(f\"This model requires a timestamp and '{feature_columns}' rows as input\")\n",
    "        if len(timestamps) and isinstance(timestamps[0], np.number):\n",
    "            # millisecond epoch is standard for waylay\n",
    "            timestamp_index = pd.to_datetime(timestamps, unit='ms')\n",
    "        else:\n",
    "            # this will parse ISO8601 timestamp strings\n",
    "            timestamp_index = pd.to_datetime(timestamps)\n",
    "        if index_freq:\n",
    "            timestamp_index.freq=index_freq\n",
    "        data = pd.DataFrame(values, index=timestamp_index, columns=feature_columns)\n",
    "\n",
    "    if not isinstance(data, pd.DataFrame):\n",
    "        raise ValueError('This model requires an input that can be converted to a dataframe.')\n",
    "        \n",
    "    return data\n",
    "\n",
    "def convert_to_numpy(series_or_df):\n",
    "    # convert dataframe to an array of (timestamp_millis, values... ) tuples\n",
    "    \n",
    "    # pd.Timestamp has internal nano representation\n",
    "    timestamps = series_or_df.index.view(np.int64) / 1000000\n",
    "    if isinstance(series_or_df, pd.DataFrame):\n",
    "        df = series_or_df\n",
    "        series = [ df[c].values for c in df.columns ]\n",
    "        return np.array([timestamps, *series]).transpose()\n",
    "    else:\n",
    "        series = series_or_df.values\n",
    "        return np.array([timestamps, series]).transpose()\n"
   ]
  },
  {
   "cell_type": "markdown",
   "id": "295218bb",
   "metadata": {},
   "source": [
    "Check these functions with a roundtrip on the first lines of our data set:"
   ]
  },
  {
   "cell_type": "code",
   "execution_count": 13,
   "id": "a7cfa419",
   "metadata": {},
   "outputs": [
    {
     "data": {
      "text/plain": [
       "[[-315619200000.0, 30.700000762939453],\n",
       " [-307756800000.0, 30.799999237060547],\n",
       " [-299894400000.0, 30.700000762939453],\n",
       " [-291945600000.0, 30.700000762939453],\n",
       " [-283996800000.0, 30.799999237060547]]"
      ]
     },
     "metadata": {},
     "output_type": "display_data"
    },
    {
     "data": {
      "text/html": [
       "<div>\n",
       "<style scoped>\n",
       "    .dataframe tbody tr th:only-of-type {\n",
       "        vertical-align: middle;\n",
       "    }\n",
       "\n",
       "    .dataframe tbody tr th {\n",
       "        vertical-align: top;\n",
       "    }\n",
       "\n",
       "    .dataframe thead th {\n",
       "        text-align: right;\n",
       "    }\n",
       "</style>\n",
       "<table border=\"1\" class=\"dataframe\">\n",
       "  <thead>\n",
       "    <tr style=\"text-align: right;\">\n",
       "      <th></th>\n",
       "      <th>value</th>\n",
       "    </tr>\n",
       "  </thead>\n",
       "  <tbody>\n",
       "    <tr>\n",
       "      <th>1960-01-01</th>\n",
       "      <td>30.700001</td>\n",
       "    </tr>\n",
       "    <tr>\n",
       "      <th>1960-04-01</th>\n",
       "      <td>30.799999</td>\n",
       "    </tr>\n",
       "    <tr>\n",
       "      <th>1960-07-01</th>\n",
       "      <td>30.700001</td>\n",
       "    </tr>\n",
       "    <tr>\n",
       "      <th>1960-10-01</th>\n",
       "      <td>30.700001</td>\n",
       "    </tr>\n",
       "    <tr>\n",
       "      <th>1961-01-01</th>\n",
       "      <td>30.799999</td>\n",
       "    </tr>\n",
       "  </tbody>\n",
       "</table>\n",
       "</div>"
      ],
      "text/plain": [
       "                value\n",
       "1960-01-01  30.700001\n",
       "1960-04-01  30.799999\n",
       "1960-07-01  30.700001\n",
       "1960-10-01  30.700001\n",
       "1961-01-01  30.799999"
      ]
     },
     "metadata": {},
     "output_type": "display_data"
    }
   ],
   "source": [
    "json_data = convert_to_numpy(data.head()).tolist()\n",
    "display(json_data)\n",
    "pandas_data = convert_to_pandas(json_data)\n",
    "display(pandas_data)"
   ]
  },
  {
   "cell_type": "markdown",
   "id": "1d60fea2",
   "metadata": {},
   "source": [
    "## Byoml Model wrapper\n",
    "\n",
    "We now create a helper class around the SARIMA model and test the local predict method.\n",
    "* it has a `fit` method to train the model before we upload it. The fitted state is stored in an object attribute,\n",
    "  so that it will be available when running the model on the BYOML runtime.\n",
    "* it has a `predict` method that will be used in the deployed model to restore the fitted model on an array of historical data, and perform a prediction after this input.\n",
    "* the `window` attribute defines the forecasting window used when calling `predict`.\n",
    "* it uses the hooks `map_input` and `map_output` to convert input and output from the plain json-serializable data structures that the BYOML runtime receives and sends. The byoml runtime will recognize these hooks by their names."
   ]
  },
  {
   "cell_type": "code",
   "execution_count": 14,
   "id": "0221c1b7",
   "metadata": {},
   "outputs": [],
   "source": [
    "class SARIMAXForecaster:\n",
    "    def __init__(self, window=24):\n",
    "        self.window = window\n",
    "        self.fitted_params = None\n",
    "\n",
    "    def map_input(self, request):\n",
    "        \"\"\"Convert the json-data request payload to the input for `predict`.\"\"\"\n",
    "        return convert_to_pandas(request['instances'])\n",
    "    \n",
    "    def map_output(self, request, result):\n",
    "        \"\"\"Convert the output of `predict` to a json-data response payload.\"\"\"\n",
    "        return { 'predictions': convert_to_numpy(result).tolist() }\n",
    "\n",
    "    def create_model(self, data):\n",
    "        return sm.tsa.SARIMAX(\n",
    "            data,\n",
    "            order=(1, 1, 1),\n",
    "            seasonal_order=(1, 1, 1, 4),\n",
    "            enforce_stationarity=False\n",
    "        )\n",
    "    \n",
    "    def fit(self, data, **fit_args):\n",
    "        fitted_model = self.create_model(data).fit(**fit_args)\n",
    "        self.fitted_params = fitted_model.params\n",
    "        return fitted_model\n",
    "    \n",
    "    def get_fitted_model(self, data):\n",
    "        model = self.create_model(data)\n",
    "        if self.fitted_params is None:\n",
    "            raise ValueError('Model has not been fitted')\n",
    "        return model.smooth(self.fitted_params)\n",
    "        \n",
    "    def predict(self, data):\n",
    "        fitted_model = self.get_fitted_model(data)\n",
    "        return fitted_model.forecast(steps=self.window)\n"
   ]
  },
  {
   "cell_type": "code",
   "execution_count": 15,
   "id": "efec8dba",
   "metadata": {},
   "outputs": [
    {
     "data": {
      "text/plain": [
       "1987-10-01    101.422694\n",
       "1988-01-01    102.622135\n",
       "1988-04-01    103.612451\n",
       "1988-07-01    104.563830\n",
       "1988-10-01    105.332896\n",
       "Freq: QS-JAN, Name: predicted_mean, dtype: float64"
      ]
     },
     "execution_count": 15,
     "metadata": {},
     "output_type": "execute_result"
    }
   ],
   "source": [
    "# fit and test the wrapped model\n",
    "upload_model = SARIMAXForecaster()\n",
    "upload_model.fit(df_train, disp=0)\n",
    "preds_df = upload_model.predict(df_train)\n",
    "preds_df.head()"
   ]
  },
  {
   "cell_type": "markdown",
   "id": "8a049c8a",
   "metadata": {},
   "source": [
    "We can check if the data conversion functions used above work correctly with the model we will upload:"
   ]
  },
  {
   "cell_type": "code",
   "execution_count": 16,
   "id": "2d86d45c",
   "metadata": {},
   "outputs": [
    {
     "data": {
      "text/plain": [
       "{'predictions': [[560044800000.0, 101.42269426464534],\n",
       "  [567993600000.0, 102.62213472443386],\n",
       "  [575856000000.0, 103.6124514287132],\n",
       "  [583718400000.0, 104.56382999779912],\n",
       "  [591667200000.0, 105.33289649220916],\n",
       "  [599616000000.0, 106.3980860931857],\n",
       "  [607392000000.0, 107.27108379689538],\n",
       "  [615254400000.0, 108.11994250745865],\n",
       "  [623203200000.0, 108.79942046095192],\n",
       "  [631152000000.0, 109.78632180742974],\n",
       "  [638928000000.0, 110.59090617691163],\n",
       "  [646790400000.0, 111.3799808965105],\n",
       "  [654739200000.0, 112.0072157366376],\n",
       "  [662688000000.0, 112.94846367573743],\n",
       "  [670464000000.0, 113.71315314863047],\n",
       "  [678326400000.0, 114.4673651303694],\n",
       "  [686275200000.0, 115.06413465801258],\n",
       "  [694224000000.0, 115.97876003899687],\n",
       "  [702086400000.0, 116.72018500078444],\n",
       "  [709948800000.0, 117.45406694982594],\n",
       "  [717897600000.0, 118.03307078157275],\n",
       "  [725846400000.0, 118.93217134981427],\n",
       "  [733622400000.0, 119.66002972732026],\n",
       "  [741484800000.0, 120.38205631861167]]}"
      ]
     },
     "metadata": {},
     "output_type": "display_data"
    }
   ],
   "source": [
    "## this would be the data sent to byoml\n",
    "json_data_req = { 'instances': convert_to_numpy(df_train).tolist() }\n",
    "\n",
    "## these are the steps the byoml service will invoke on the model wrapper\n",
    "mapped_input = upload_model.map_input(json_data_req)\n",
    "preds_df = upload_model.predict(mapped_input)\n",
    "mapped_output = upload_model.map_output(json_data_req, preds_df)\n",
    "\n",
    "## this would be the response data sent back\n",
    "display(mapped_output)"
   ]
  },
  {
   "cell_type": "code",
   "execution_count": 17,
   "id": "66653240",
   "metadata": {},
   "outputs": [
    {
     "data": {
      "text/plain": [
       "[<matplotlib.lines.Line2D at 0x7fc02f6e6160>]"
      ]
     },
     "execution_count": 17,
     "metadata": {},
     "output_type": "execute_result"
    },
    {
     "data": {
      "image/png": "[encoded data removed]",
      "text/plain": [
       "<Figure size 432x288 with 1 Axes>"
      ]
     },
     "metadata": {
      "needs_background": "light"
     },
     "output_type": "display_data"
    }
   ],
   "source": [
    "plt.plot(\n",
    "    data.index,\n",
    "    data.wpi\n",
    ")\n",
    "plt.plot(preds_df.index, preds_df.values)"
   ]
  },
  {
   "cell_type": "markdown",
   "id": "a5e828cf",
   "metadata": {},
   "source": [
    "Define the model name for this notebook, delete any model with that name that would already exist. "
   ]
  },
  {
   "cell_type": "code",
   "execution_count": 18,
   "id": "52553f72",
   "metadata": {},
   "outputs": [
    {
     "data": {
      "text/plain": [
       "{'message': 'Model sarima-model: all versions deleted',\n",
       " 'name': 'sarima-model',\n",
       " 'versions': []}"
      ]
     },
     "metadata": {},
     "output_type": "display_data"
    }
   ],
   "source": [
    "MODEL_NAME = 'sarima-model'\n",
    "\n",
    "try:\n",
    "    resp = waylay.byoml.model.remove(MODEL_NAME)\n",
    "    display(resp)\n",
    "except RestResponseError as e:\n",
    "    display(f'Ignored: {e}')"
   ]
  },
  {
   "cell_type": "markdown",
   "id": "6f963ab1",
   "metadata": {},
   "source": [
    "To deploy our model on BYOML, we will need to save the model using the `dill` library and upload it together with a `requirements` argument that includes the `statsmodels` library."
   ]
  },
  {
   "cell_type": "code",
   "execution_count": 19,
   "id": "fb628b27",
   "metadata": {},
   "outputs": [
    {
     "data": {
      "text/plain": [
       "{'default_runtime': {'framework': 'custom',\n",
       "  'framework_version': '1.0',\n",
       "  'name': 'byoml-custom-1.0',\n",
       "  'python_version': '3.7'},\n",
       " 'framework': 'custom',\n",
       " 'versions': ['1.0']}"
      ]
     },
     "execution_count": 19,
     "metadata": {},
     "output_type": "execute_result"
    }
   ],
   "source": [
    "# check wether your deployment supports the `custom` framework\n",
    "waylay.byoml.framework.get('custom')"
   ]
  },
  {
   "cell_type": "code",
   "execution_count": 20,
   "id": "4eb30a8b",
   "metadata": {},
   "outputs": [
    {
     "name": "stdout",
     "output_type": "stream",
     "text": [
      "KNOWN issue: ignoring a BAD_GATEWAY error upon model deployment\n"
     ]
    }
   ],
   "source": [
    "try:\n",
    "    waylay.byoml.model.upload(\n",
    "        MODEL_NAME,\n",
    "        upload_model,\n",
    "        framework='custom',\n",
    "        description='SARIMA model example',\n",
    "        requirements='statsmodels==0.13',\n",
    "    )\n",
    "except RestResponseError as e:\n",
    "    assert e.response.status_code == HTTPStatus.BAD_GATEWAY\n",
    "    print('KNOWN issue: ignoring a BAD_GATEWAY error upon model deployment')"
   ]
  },
  {
   "cell_type": "markdown",
   "id": "d45e90ed",
   "metadata": {},
   "source": [
    "Listing the models won't affect the deployment status of the model"
   ]
  },
  {
   "cell_type": "code",
   "execution_count": 21,
   "id": "ed77fd74",
   "metadata": {},
   "outputs": [
    {
     "data": {
      "text/plain": [
       "[{'createdBy': 'users/d39dcd31-c837-42b9-9952-cff52d76e04a',\n",
       "  'createdOn': '2022-08-03T12:33:19.168000+00:00',\n",
       "  'description': 'SARIMA model example',\n",
       "  'framework': 'custom',\n",
       "  'framework_version': '1.0',\n",
       "  'metadata': {'description': 'SARIMA model example'},\n",
       "  'name': 'sarima-model',\n",
       "  'updatedBy': 'users/d39dcd31-c837-42b9-9952-cff52d76e04a',\n",
       "  'updatedOn': '2022-08-03T12:33:19.177000+00:00',\n",
       "  'version': '1'},\n",
       " {'createdBy': 'users/d39dcd31-c837-42b9-9952-cff52d76e04a',\n",
       "  'createdOn': '2022-08-03T12:31:50.138000+00:00',\n",
       "  'description': 'SARIMA model example with confidence intervals',\n",
       "  'framework': 'custom',\n",
       "  'framework_version': '1.0',\n",
       "  'metadata': {'description': 'SARIMA model example with confidence intervals'},\n",
       "  'name': 'sarima-model-ci',\n",
       "  'updatedBy': 'users/d39dcd31-c837-42b9-9952-cff52d76e04a',\n",
       "  'updatedOn': '2022-08-03T12:31:51.664000+00:00',\n",
       "  'version': '1'}]"
      ]
     },
     "execution_count": 21,
     "metadata": {},
     "output_type": "execute_result"
    }
   ],
   "source": [
    "waylay.byoml.model.list(params={\"name\":MODEL_NAME})"
   ]
  },
  {
   "cell_type": "markdown",
   "id": "e99de0be",
   "metadata": {},
   "source": [
    "Getting the model, will check that the model is ready to serve ..."
   ]
  },
  {
   "cell_type": "code",
   "execution_count": 22,
   "id": "d1d6f395",
   "metadata": {},
   "outputs": [
    {
     "data": {
      "text/plain": [
       "{'createdBy': 'users/d39dcd31-c837-42b9-9952-cff52d76e04a',\n",
       " 'createdOn': '2022-08-03T12:33:19.168000+00:00',\n",
       " 'description': 'SARIMA model example',\n",
       " 'framework': 'custom',\n",
       " 'framework_version': '1.0',\n",
       " 'metadata': {'description': 'SARIMA model example'},\n",
       " 'name': 'sarima-model',\n",
       " 'ready': False,\n",
       " 'supported_endpoints': [],\n",
       " 'updatedBy': 'users/d39dcd31-c837-42b9-9952-cff52d76e04a',\n",
       " 'updatedOn': '2022-08-03T12:33:19.177000+00:00',\n",
       " 'version': '1'}"
      ]
     },
     "execution_count": 22,
     "metadata": {},
     "output_type": "execute_result"
    }
   ],
   "source": [
    "waylay.byoml.model.get(MODEL_NAME)"
   ]
  },
  {
   "cell_type": "markdown",
   "id": "22280994",
   "metadata": {},
   "source": [
    "When requesting predictions, the python SDK will retry until the model is ready to serve (see [retry handling](http://docs-io.waylay.io/#/api/sdk/python?id=retry-handling))"
   ]
  },
  {
   "cell_type": "code",
   "execution_count": 23,
   "id": "053978e8",
   "metadata": {},
   "outputs": [
    {
     "data": {
      "text/html": [
       "<div>\n",
       "<style scoped>\n",
       "    .dataframe tbody tr th:only-of-type {\n",
       "        vertical-align: middle;\n",
       "    }\n",
       "\n",
       "    .dataframe tbody tr th {\n",
       "        vertical-align: top;\n",
       "    }\n",
       "\n",
       "    .dataframe thead th {\n",
       "        text-align: right;\n",
       "    }\n",
       "</style>\n",
       "<table border=\"1\" class=\"dataframe\">\n",
       "  <thead>\n",
       "    <tr style=\"text-align: right;\">\n",
       "      <th></th>\n",
       "      <th>value</th>\n",
       "    </tr>\n",
       "  </thead>\n",
       "  <tbody>\n",
       "    <tr>\n",
       "      <th>1987-10-01</th>\n",
       "      <td>101.422694</td>\n",
       "    </tr>\n",
       "    <tr>\n",
       "      <th>1988-01-01</th>\n",
       "      <td>102.622135</td>\n",
       "    </tr>\n",
       "    <tr>\n",
       "      <th>1988-04-01</th>\n",
       "      <td>103.612451</td>\n",
       "    </tr>\n",
       "    <tr>\n",
       "      <th>1988-07-01</th>\n",
       "      <td>104.563830</td>\n",
       "    </tr>\n",
       "    <tr>\n",
       "      <th>1988-10-01</th>\n",
       "      <td>105.332896</td>\n",
       "    </tr>\n",
       "  </tbody>\n",
       "</table>\n",
       "</div>"
      ],
      "text/plain": [
       "                 value\n",
       "1987-10-01  101.422694\n",
       "1988-01-01  102.622135\n",
       "1988-04-01  103.612451\n",
       "1988-07-01  104.563830\n",
       "1988-10-01  105.332896"
      ]
     },
     "execution_count": 23,
     "metadata": {},
     "output_type": "execute_result"
    }
   ],
   "source": [
    "predictions = waylay.byoml.model.predict(MODEL_NAME, convert_to_numpy(df_train))\n",
    "predictions_df = convert_to_pandas(predictions)\n",
    "predictions_df.head()"
   ]
  },
  {
   "cell_type": "code",
   "execution_count": 24,
   "id": "438efaeb",
   "metadata": {},
   "outputs": [
    {
     "data": {
      "text/plain": [
       "[<matplotlib.lines.Line2D at 0x7fc02f6361f0>]"
      ]
     },
     "execution_count": 24,
     "metadata": {},
     "output_type": "execute_result"
    },
    {
     "data": {
      "image/png": "[encoded data removed]",
      "text/plain": [
       "<Figure size 432x288 with 1 Axes>"
      ]
     },
     "metadata": {
      "needs_background": "light"
     },
     "output_type": "display_data"
    }
   ],
   "source": [
    "plt.plot(\n",
    "    data.index,\n",
    "    data.wpi\n",
    ")\n",
    "plt.plot(\n",
    "    predictions_df.index,\n",
    "    predictions_df.values\n",
    ")"
   ]
  },
  {
   "cell_type": "code",
   "execution_count": 25,
   "id": "8aab8f50",
   "metadata": {},
   "outputs": [
    {
     "data": {
      "text/plain": [
       "{'message': 'Model sarima-model: all versions deleted',\n",
       " 'name': 'sarima-model',\n",
       " 'versions': ['0.0.1']}"
      ]
     },
     "execution_count": 25,
     "metadata": {},
     "output_type": "execute_result"
    }
   ],
   "source": [
    "# remove the deployed model\n",
    "waylay.byoml.model.remove(MODEL_NAME)"
   ]
  },
  {
   "cell_type": "markdown",
   "id": "9537e429",
   "metadata": {},
   "source": [
    "##  parameterization: confidence intervals\n",
    "\n",
    "\n",
    "Let's adapt the model to support confidence intervals instead of mean predictions. This also shows how you can pass custom parameters to you model inference."
   ]
  },
  {
   "cell_type": "code",
   "execution_count": 26,
   "id": "8a8df837",
   "metadata": {},
   "outputs": [],
   "source": [
    "class SARIMAXConfidenceForecaster:\n",
    "    def __init__(self, default_window=24, default_alpha=0.05):\n",
    "        self.default_window = default_window\n",
    "        self.fitted_params = None\n",
    "        self.default_alpha = default_alpha\n",
    "\n",
    "    def map_input(self, request):\n",
    "        \"\"\"Convert the json-data request payload to the input for `predict`.\"\"\"\n",
    "        # allow the user to specify an alternate alpha for the confidence intervals\n",
    "        instances = convert_to_pandas(request['instances'])\n",
    "        alpha = request.get('alpha', self.default_alpha)\n",
    "        window = request.get('window', self.default_window)\n",
    "        return (instances, window, alpha)\n",
    "\n",
    "    def map_output(self, request, result):\n",
    "        \"\"\"Convert the output of `predict` to a json-data response payload.\"\"\"\n",
    "        return { 'predictions': convert_to_numpy(result).tolist() }\n",
    "\n",
    "    def create_model(self, data):\n",
    "        return sm.tsa.SARIMAX(\n",
    "            data,\n",
    "            order=(1, 1, 1),\n",
    "            seasonal_order=(1, 1, 1, 4),\n",
    "            enforce_stationarity=False\n",
    "        )\n",
    "    \n",
    "    def fit(self, data, **fit_args):\n",
    "        fitted_model = self.create_model(data).fit(**fit_args)\n",
    "        self.fitted_params = fitted_model.params\n",
    "        return fitted_model\n",
    "    \n",
    "    def get_fitted_model(self, data):\n",
    "        model = self.create_model(data)\n",
    "        if self.fitted_params is None:\n",
    "            raise ValueError('Model has not been fitted')\n",
    "        return model.smooth(self.fitted_params)\n",
    "        \n",
    "    def predict(self, data_window_and_alpha):\n",
    "        data, window, alpha = data_window_and_alpha\n",
    "        fitted_model = self.get_fitted_model(data)\n",
    "        forecast = fitted_model.get_forecast(steps=window)\n",
    "        return forecast.conf_int(alpha=alpha)\n"
   ]
  },
  {
   "cell_type": "code",
   "execution_count": 27,
   "id": "a7ac67f2",
   "metadata": {},
   "outputs": [
    {
     "data": {
      "text/plain": [
       "{'message': 'Model sarima-model-ci: all versions deleted',\n",
       " 'name': 'sarima-model-ci',\n",
       " 'versions': ['0.0.1']}"
      ]
     },
     "metadata": {},
     "output_type": "display_data"
    }
   ],
   "source": [
    "CI_MODEL_NAME = 'sarima-model-ci'\n",
    "try:\n",
    "    resp = waylay.byoml.model.remove(CI_MODEL_NAME)\n",
    "    display(resp)\n",
    "except RestResponseError as e:\n",
    "    display(f'Ignored: {e}')"
   ]
  },
  {
   "cell_type": "code",
   "execution_count": 28,
   "id": "e195fb1f",
   "metadata": {},
   "outputs": [
    {
     "data": {
      "text/html": [
       "<div>\n",
       "<style scoped>\n",
       "    .dataframe tbody tr th:only-of-type {\n",
       "        vertical-align: middle;\n",
       "    }\n",
       "\n",
       "    .dataframe tbody tr th {\n",
       "        vertical-align: top;\n",
       "    }\n",
       "\n",
       "    .dataframe thead th {\n",
       "        text-align: right;\n",
       "    }\n",
       "</style>\n",
       "<table border=\"1\" class=\"dataframe\">\n",
       "  <thead>\n",
       "    <tr style=\"text-align: right;\">\n",
       "      <th></th>\n",
       "      <th>lower wpi</th>\n",
       "      <th>upper wpi</th>\n",
       "    </tr>\n",
       "  </thead>\n",
       "  <tbody>\n",
       "    <tr>\n",
       "      <th>1987-10-01</th>\n",
       "      <td>100.320102</td>\n",
       "      <td>102.525286</td>\n",
       "    </tr>\n",
       "    <tr>\n",
       "      <th>1988-01-01</th>\n",
       "      <td>100.597203</td>\n",
       "      <td>104.647066</td>\n",
       "    </tr>\n",
       "    <tr>\n",
       "      <th>1988-04-01</th>\n",
       "      <td>100.608221</td>\n",
       "      <td>106.616682</td>\n",
       "    </tr>\n",
       "    <tr>\n",
       "      <th>1988-07-01</th>\n",
       "      <td>100.541757</td>\n",
       "      <td>108.585903</td>\n",
       "    </tr>\n",
       "    <tr>\n",
       "      <th>1988-10-01</th>\n",
       "      <td>100.248050</td>\n",
       "      <td>110.417743</td>\n",
       "    </tr>\n",
       "  </tbody>\n",
       "</table>\n",
       "</div>"
      ],
      "text/plain": [
       "             lower wpi   upper wpi\n",
       "1987-10-01  100.320102  102.525286\n",
       "1988-01-01  100.597203  104.647066\n",
       "1988-04-01  100.608221  106.616682\n",
       "1988-07-01  100.541757  108.585903\n",
       "1988-10-01  100.248050  110.417743"
      ]
     },
     "execution_count": 28,
     "metadata": {},
     "output_type": "execute_result"
    }
   ],
   "source": [
    "upload_model_ci = SARIMAXConfidenceForecaster()\n",
    "upload_model_ci.fit(df_train, disp=0)\n",
    "\n",
    "# test locally\n",
    "upload_model_ci.predict(( df_train, 24, 0.1)).head()"
   ]
  },
  {
   "cell_type": "code",
   "execution_count": 29,
   "id": "d6cd8b7d",
   "metadata": {},
   "outputs": [
    {
     "name": "stdout",
     "output_type": "stream",
     "text": [
      "KNOWN issue: ignoring a BAD_GATEWAY error upon model deployment\n"
     ]
    }
   ],
   "source": [
    "# upload model\n",
    "try:\n",
    "    waylay.byoml.model.upload(\n",
    "        CI_MODEL_NAME,\n",
    "        upload_model_ci,\n",
    "        framework='custom',\n",
    "        description='SARIMA model example with confidence intervals',\n",
    "        requirements='statsmodels==0.13',\n",
    "    )\n",
    "except RestResponseError as e:\n",
    "    assert e.response.status_code == HTTPStatus.BAD_GATEWAY\n",
    "    print('KNOWN issue: ignoring a BAD_GATEWAY error upon model deployment')"
   ]
  },
  {
   "cell_type": "code",
   "execution_count": 30,
   "id": "116b80d6",
   "metadata": {},
   "outputs": [
    {
     "data": {
      "text/plain": [
       "{'createdBy': 'users/d39dcd31-c837-42b9-9952-cff52d76e04a',\n",
       " 'createdOn': '2022-08-03T12:35:40.262000+00:00',\n",
       " 'description': 'SARIMA model example with confidence intervals',\n",
       " 'framework': 'custom',\n",
       " 'framework_version': '1.0',\n",
       " 'metadata': {'description': 'SARIMA model example with confidence intervals'},\n",
       " 'name': 'sarima-model-ci',\n",
       " 'ready': False,\n",
       " 'supported_endpoints': [],\n",
       " 'updatedBy': 'users/d39dcd31-c837-42b9-9952-cff52d76e04a',\n",
       " 'updatedOn': '2022-08-03T12:35:40.270000+00:00',\n",
       " 'version': '1'}"
      ]
     },
     "execution_count": 30,
     "metadata": {},
     "output_type": "execute_result"
    }
   ],
   "source": [
    "waylay.byoml.model.get(CI_MODEL_NAME)"
   ]
  },
  {
   "cell_type": "code",
   "execution_count": 31,
   "id": "6eb32d2a",
   "metadata": {},
   "outputs": [
    {
     "data": {
      "text/html": [
       "<div>\n",
       "<style scoped>\n",
       "    .dataframe tbody tr th:only-of-type {\n",
       "        vertical-align: middle;\n",
       "    }\n",
       "\n",
       "    .dataframe tbody tr th {\n",
       "        vertical-align: top;\n",
       "    }\n",
       "\n",
       "    .dataframe thead th {\n",
       "        text-align: right;\n",
       "    }\n",
       "</style>\n",
       "<table border=\"1\" class=\"dataframe\">\n",
       "  <thead>\n",
       "    <tr style=\"text-align: right;\">\n",
       "      <th></th>\n",
       "      <th>ci_low</th>\n",
       "      <th>ci_high</th>\n",
       "    </tr>\n",
       "  </thead>\n",
       "  <tbody>\n",
       "    <tr>\n",
       "      <th>1987-10-01</th>\n",
       "      <td>100.108875</td>\n",
       "      <td>102.736513</td>\n",
       "    </tr>\n",
       "    <tr>\n",
       "      <th>1988-01-01</th>\n",
       "      <td>100.209280</td>\n",
       "      <td>105.034989</td>\n",
       "    </tr>\n",
       "    <tr>\n",
       "      <th>1988-04-01</th>\n",
       "      <td>100.032690</td>\n",
       "      <td>107.192213</td>\n",
       "    </tr>\n",
       "    <tr>\n",
       "      <th>1988-07-01</th>\n",
       "      <td>99.771234</td>\n",
       "      <td>109.356426</td>\n",
       "    </tr>\n",
       "    <tr>\n",
       "      <th>1988-10-01</th>\n",
       "      <td>99.273928</td>\n",
       "      <td>111.391865</td>\n",
       "    </tr>\n",
       "  </tbody>\n",
       "</table>\n",
       "</div>"
      ],
      "text/plain": [
       "                ci_low     ci_high\n",
       "1987-10-01  100.108875  102.736513\n",
       "1988-01-01  100.209280  105.034989\n",
       "1988-04-01  100.032690  107.192213\n",
       "1988-07-01   99.771234  109.356426\n",
       "1988-10-01   99.273928  111.391865"
      ]
     },
     "execution_count": 31,
     "metadata": {},
     "output_type": "execute_result"
    }
   ],
   "source": [
    "predictions = waylay.byoml.model.predict(CI_MODEL_NAME, convert_to_numpy(df_train).tolist())\n",
    "predictions_df = convert_to_pandas(predictions, ['ci_low', 'ci_high'])\n",
    "predictions_df.head()"
   ]
  },
  {
   "cell_type": "code",
   "execution_count": 32,
   "id": "97be2cc5",
   "metadata": {},
   "outputs": [
    {
     "data": {
      "text/html": [
       "<div>\n",
       "<style scoped>\n",
       "    .dataframe tbody tr th:only-of-type {\n",
       "        vertical-align: middle;\n",
       "    }\n",
       "\n",
       "    .dataframe tbody tr th {\n",
       "        vertical-align: top;\n",
       "    }\n",
       "\n",
       "    .dataframe thead th {\n",
       "        text-align: right;\n",
       "    }\n",
       "</style>\n",
       "<table border=\"1\" class=\"dataframe\">\n",
       "  <thead>\n",
       "    <tr style=\"text-align: right;\">\n",
       "      <th></th>\n",
       "      <th>ci_low</th>\n",
       "      <th>ci_high</th>\n",
       "    </tr>\n",
       "  </thead>\n",
       "  <tbody>\n",
       "    <tr>\n",
       "      <th>1987-10-01</th>\n",
       "      <td>100.970565</td>\n",
       "      <td>101.874824</td>\n",
       "    </tr>\n",
       "    <tr>\n",
       "      <th>1988-01-01</th>\n",
       "      <td>101.791790</td>\n",
       "      <td>103.452479</td>\n",
       "    </tr>\n",
       "    <tr>\n",
       "      <th>1988-04-01</th>\n",
       "      <td>102.380535</td>\n",
       "      <td>104.844368</td>\n",
       "    </tr>\n",
       "    <tr>\n",
       "      <th>1988-07-01</th>\n",
       "      <td>102.914536</td>\n",
       "      <td>106.213124</td>\n",
       "    </tr>\n",
       "    <tr>\n",
       "      <th>1988-10-01</th>\n",
       "      <td>103.247801</td>\n",
       "      <td>107.417992</td>\n",
       "    </tr>\n",
       "  </tbody>\n",
       "</table>\n",
       "</div>"
      ],
      "text/plain": [
       "                ci_low     ci_high\n",
       "1987-10-01  100.970565  101.874824\n",
       "1988-01-01  101.791790  103.452479\n",
       "1988-04-01  102.380535  104.844368\n",
       "1988-07-01  102.914536  106.213124\n",
       "1988-10-01  103.247801  107.417992"
      ]
     },
     "execution_count": 32,
     "metadata": {},
     "output_type": "execute_result"
    }
   ],
   "source": [
    "predictions = waylay.byoml.model.predict(\n",
    "    CI_MODEL_NAME, convert_to_numpy(df_train).tolist(),\n",
    "    body = {\"alpha\": 0.5}\n",
    ")\n",
    "predictions_df = convert_to_pandas(predictions, ['ci_low', 'ci_high'])\n",
    "predictions_df.head()"
   ]
  },
  {
   "cell_type": "code",
   "execution_count": 33,
   "id": "d4a2aedd",
   "metadata": {},
   "outputs": [
    {
     "data": {
      "text/plain": [
       "<matplotlib.legend.Legend at 0x7fc02f5f3c70>"
      ]
     },
     "execution_count": 33,
     "metadata": {},
     "output_type": "execute_result"
    },
    {
     "data": {
      "image/png": "[encoded data removed]",
      "text/plain": [
       "<Figure size 1080x720 with 1 Axes>"
      ]
     },
     "metadata": {
      "needs_background": "light"
     },
     "output_type": "display_data"
    }
   ],
   "source": [
    "fig, ax= plt.subplots(figsize=(15,10))\n",
    "ax.plot(\n",
    "    data.index,\n",
    "    data.wpi,\n",
    "    label='wpi'\n",
    ")\n",
    "input_data = convert_to_numpy(df_train[:-36]).tolist()\n",
    "for alpha_exp in range(0,8):\n",
    "    alpha = 0.5 ** alpha_exp\n",
    "    predictions = waylay.byoml.model.predict(\n",
    "        CI_MODEL_NAME, input_data,\n",
    "        body = {'alpha': alpha ** 1.0, 'window': 40}\n",
    "    )\n",
    "    predictions_df = convert_to_pandas(predictions, ['ci_low', 'ci_high'])\n",
    "    ax.fill_between(\n",
    "    predictions_df.index,\n",
    "        predictions_df['ci_low'],\n",
    "        predictions_df['ci_high'], \n",
    "        color='red', alpha=alpha ** 0.9,\n",
    "        label=f'confidence {(1-alpha) * 100:5.2f}%'\n",
    "    )\n",
    "ax.legend()"
   ]
  },
  {
   "cell_type": "code",
   "execution_count": 34,
   "id": "27e2df80",
   "metadata": {},
   "outputs": [
    {
     "data": {
      "text/plain": [
       "{'message': 'Model sarima-model-ci: all versions deleted',\n",
       " 'name': 'sarima-model-ci',\n",
       " 'versions': ['0.0.1']}"
      ]
     },
     "execution_count": 34,
     "metadata": {},
     "output_type": "execute_result"
    }
   ],
   "source": [
    "waylay.byoml.model.remove(CI_MODEL_NAME)"
   ]
  }
 ],
 "metadata": {
  "celltoolbar": "Tags",
  "kernelspec": {
   "display_name": "Python 3 (ipykernel)",
   "language": "python",
   "name": "python3"
  },
  "language_info": {
   "codemirror_mode": {
    "name": "ipython",
    "version": 3
   },
   "file_extension": ".py",
   "mimetype": "text/x-python",
   "name": "python",
   "nbconvert_exporter": "python",
   "pygments_lexer": "ipython3",
   "version": "3.9.13"
  },
  "vscode": {
   "interpreter": {
    "hash": "cb5aa098a01641efd877815d4020fb9a31cb7038f196b9dedb36487843a6b7c1"
   }
  }
 },
 "nbformat": 4,
 "nbformat_minor": 5
}
