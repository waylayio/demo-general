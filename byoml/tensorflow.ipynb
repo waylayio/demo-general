{
 "cells": [
  {
   "cell_type": "code",
   "execution_count": 1,
   "id": "d24c389a",
   "metadata": {
    "tags": [
     "doc_exclude"
    ]
   },
   "outputs": [],
   "source": [
    "## requirements\n",
    "# conda install --file env/byoml_tensorflow.environment.yml\n",
    "# conda activate byoml_tensorflow \n",
    "# pip install -r env/byoml_tensorflow.requirements.txt"
   ]
  },
  {
   "cell_type": "code",
   "execution_count": 2,
   "id": "5bb79bc3",
   "metadata": {
    "tags": [
     "parameters"
    ]
   },
   "outputs": [],
   "source": [
    "MODEL_NAME='tf-example'\n",
    "WINDOW=12\n",
    "TEST_DATA_SIZE = 24"
   ]
  },
  {
   "cell_type": "markdown",
   "id": "29e342be",
   "metadata": {},
   "source": [
    "## TensorFlow example\n",
    "\n",
    "In this notebook we show how you can create and upload a TensorFlow model to Waylay. We will expect you to save your model using the [SavedModel format](https://www.tensorflow.org/guide/saved_model).\n",
    "\n",
    "First let's import a dataset:"
   ]
  },
  {
   "cell_type": "code",
   "execution_count": 3,
   "id": "d56a83cf",
   "metadata": {},
   "outputs": [],
   "source": [
    "import seaborn as sns\n",
    "import pandas as pd"
   ]
  },
  {
   "cell_type": "code",
   "execution_count": 4,
   "id": "25acbbbb",
   "metadata": {},
   "outputs": [
    {
     "data": {
      "text/html": [
       "<div>\n",
       "<style scoped>\n",
       "    .dataframe tbody tr th:only-of-type {\n",
       "        vertical-align: middle;\n",
       "    }\n",
       "\n",
       "    .dataframe tbody tr th {\n",
       "        vertical-align: top;\n",
       "    }\n",
       "\n",
       "    .dataframe thead tr th {\n",
       "        text-align: left;\n",
       "    }\n",
       "\n",
       "    .dataframe thead tr:last-of-type th {\n",
       "        text-align: right;\n",
       "    }\n",
       "</style>\n",
       "<table border=\"1\" class=\"dataframe\">\n",
       "  <thead>\n",
       "    <tr>\n",
       "      <th></th>\n",
       "      <th colspan=\"12\" halign=\"left\">passengers</th>\n",
       "    </tr>\n",
       "    <tr>\n",
       "      <th>month</th>\n",
       "      <th>Jan</th>\n",
       "      <th>Feb</th>\n",
       "      <th>Mar</th>\n",
       "      <th>Apr</th>\n",
       "      <th>May</th>\n",
       "      <th>Jun</th>\n",
       "      <th>Jul</th>\n",
       "      <th>Aug</th>\n",
       "      <th>Sep</th>\n",
       "      <th>Oct</th>\n",
       "      <th>Nov</th>\n",
       "      <th>Dec</th>\n",
       "    </tr>\n",
       "    <tr>\n",
       "      <th>year</th>\n",
       "      <th></th>\n",
       "      <th></th>\n",
       "      <th></th>\n",
       "      <th></th>\n",
       "      <th></th>\n",
       "      <th></th>\n",
       "      <th></th>\n",
       "      <th></th>\n",
       "      <th></th>\n",
       "      <th></th>\n",
       "      <th></th>\n",
       "      <th></th>\n",
       "    </tr>\n",
       "  </thead>\n",
       "  <tbody>\n",
       "    <tr>\n",
       "      <th>1949</th>\n",
       "      <td>112</td>\n",
       "      <td>118</td>\n",
       "      <td>132</td>\n",
       "      <td>129</td>\n",
       "      <td>121</td>\n",
       "      <td>135</td>\n",
       "      <td>148</td>\n",
       "      <td>148</td>\n",
       "      <td>136</td>\n",
       "      <td>119</td>\n",
       "      <td>104</td>\n",
       "      <td>118</td>\n",
       "    </tr>\n",
       "    <tr>\n",
       "      <th>1950</th>\n",
       "      <td>115</td>\n",
       "      <td>126</td>\n",
       "      <td>141</td>\n",
       "      <td>135</td>\n",
       "      <td>125</td>\n",
       "      <td>149</td>\n",
       "      <td>170</td>\n",
       "      <td>170</td>\n",
       "      <td>158</td>\n",
       "      <td>133</td>\n",
       "      <td>114</td>\n",
       "      <td>140</td>\n",
       "    </tr>\n",
       "    <tr>\n",
       "      <th>1951</th>\n",
       "      <td>145</td>\n",
       "      <td>150</td>\n",
       "      <td>178</td>\n",
       "      <td>163</td>\n",
       "      <td>172</td>\n",
       "      <td>178</td>\n",
       "      <td>199</td>\n",
       "      <td>199</td>\n",
       "      <td>184</td>\n",
       "      <td>162</td>\n",
       "      <td>146</td>\n",
       "      <td>166</td>\n",
       "    </tr>\n",
       "    <tr>\n",
       "      <th>1952</th>\n",
       "      <td>171</td>\n",
       "      <td>180</td>\n",
       "      <td>193</td>\n",
       "      <td>181</td>\n",
       "      <td>183</td>\n",
       "      <td>218</td>\n",
       "      <td>230</td>\n",
       "      <td>242</td>\n",
       "      <td>209</td>\n",
       "      <td>191</td>\n",
       "      <td>172</td>\n",
       "      <td>194</td>\n",
       "    </tr>\n",
       "    <tr>\n",
       "      <th>1953</th>\n",
       "      <td>196</td>\n",
       "      <td>196</td>\n",
       "      <td>236</td>\n",
       "      <td>235</td>\n",
       "      <td>229</td>\n",
       "      <td>243</td>\n",
       "      <td>264</td>\n",
       "      <td>272</td>\n",
       "      <td>237</td>\n",
       "      <td>211</td>\n",
       "      <td>180</td>\n",
       "      <td>201</td>\n",
       "    </tr>\n",
       "    <tr>\n",
       "      <th>1954</th>\n",
       "      <td>204</td>\n",
       "      <td>188</td>\n",
       "      <td>235</td>\n",
       "      <td>227</td>\n",
       "      <td>234</td>\n",
       "      <td>264</td>\n",
       "      <td>302</td>\n",
       "      <td>293</td>\n",
       "      <td>259</td>\n",
       "      <td>229</td>\n",
       "      <td>203</td>\n",
       "      <td>229</td>\n",
       "    </tr>\n",
       "    <tr>\n",
       "      <th>1955</th>\n",
       "      <td>242</td>\n",
       "      <td>233</td>\n",
       "      <td>267</td>\n",
       "      <td>269</td>\n",
       "      <td>270</td>\n",
       "      <td>315</td>\n",
       "      <td>364</td>\n",
       "      <td>347</td>\n",
       "      <td>312</td>\n",
       "      <td>274</td>\n",
       "      <td>237</td>\n",
       "      <td>278</td>\n",
       "    </tr>\n",
       "    <tr>\n",
       "      <th>1956</th>\n",
       "      <td>284</td>\n",
       "      <td>277</td>\n",
       "      <td>317</td>\n",
       "      <td>313</td>\n",
       "      <td>318</td>\n",
       "      <td>374</td>\n",
       "      <td>413</td>\n",
       "      <td>405</td>\n",
       "      <td>355</td>\n",
       "      <td>306</td>\n",
       "      <td>271</td>\n",
       "      <td>306</td>\n",
       "    </tr>\n",
       "    <tr>\n",
       "      <th>1957</th>\n",
       "      <td>315</td>\n",
       "      <td>301</td>\n",
       "      <td>356</td>\n",
       "      <td>348</td>\n",
       "      <td>355</td>\n",
       "      <td>422</td>\n",
       "      <td>465</td>\n",
       "      <td>467</td>\n",
       "      <td>404</td>\n",
       "      <td>347</td>\n",
       "      <td>305</td>\n",
       "      <td>336</td>\n",
       "    </tr>\n",
       "    <tr>\n",
       "      <th>1958</th>\n",
       "      <td>340</td>\n",
       "      <td>318</td>\n",
       "      <td>362</td>\n",
       "      <td>348</td>\n",
       "      <td>363</td>\n",
       "      <td>435</td>\n",
       "      <td>491</td>\n",
       "      <td>505</td>\n",
       "      <td>404</td>\n",
       "      <td>359</td>\n",
       "      <td>310</td>\n",
       "      <td>337</td>\n",
       "    </tr>\n",
       "    <tr>\n",
       "      <th>1959</th>\n",
       "      <td>360</td>\n",
       "      <td>342</td>\n",
       "      <td>406</td>\n",
       "      <td>396</td>\n",
       "      <td>420</td>\n",
       "      <td>472</td>\n",
       "      <td>548</td>\n",
       "      <td>559</td>\n",
       "      <td>463</td>\n",
       "      <td>407</td>\n",
       "      <td>362</td>\n",
       "      <td>405</td>\n",
       "    </tr>\n",
       "    <tr>\n",
       "      <th>1960</th>\n",
       "      <td>417</td>\n",
       "      <td>391</td>\n",
       "      <td>419</td>\n",
       "      <td>461</td>\n",
       "      <td>472</td>\n",
       "      <td>535</td>\n",
       "      <td>622</td>\n",
       "      <td>606</td>\n",
       "      <td>508</td>\n",
       "      <td>461</td>\n",
       "      <td>390</td>\n",
       "      <td>432</td>\n",
       "    </tr>\n",
       "  </tbody>\n",
       "</table>\n",
       "</div>"
      ],
      "text/plain": [
       "      passengers                                                       \n",
       "month        Jan  Feb  Mar  Apr  May  Jun  Jul  Aug  Sep  Oct  Nov  Dec\n",
       "year                                                                   \n",
       "1949         112  118  132  129  121  135  148  148  136  119  104  118\n",
       "1950         115  126  141  135  125  149  170  170  158  133  114  140\n",
       "1951         145  150  178  163  172  178  199  199  184  162  146  166\n",
       "1952         171  180  193  181  183  218  230  242  209  191  172  194\n",
       "1953         196  196  236  235  229  243  264  272  237  211  180  201\n",
       "1954         204  188  235  227  234  264  302  293  259  229  203  229\n",
       "1955         242  233  267  269  270  315  364  347  312  274  237  278\n",
       "1956         284  277  317  313  318  374  413  405  355  306  271  306\n",
       "1957         315  301  356  348  355  422  465  467  404  347  305  336\n",
       "1958         340  318  362  348  363  435  491  505  404  359  310  337\n",
       "1959         360  342  406  396  420  472  548  559  463  407  362  405\n",
       "1960         417  391  419  461  472  535  622  606  508  461  390  432"
      ]
     },
     "execution_count": 4,
     "metadata": {},
     "output_type": "execute_result"
    },
    {
     "data": {
      "image/png": "[encoded data removed]",
      "text/plain": [
       "<Figure size 1152x432 with 1 Axes>"
      ]
     },
     "metadata": {
      "needs_background": "light"
     },
     "output_type": "display_data"
    }
   ],
   "source": [
    "df = sns.load_dataset('flights')\n",
    "df = df.set_index(['year', 'month'])\n",
    "df.plot(figsize=(16,6))\n",
    "df.unstack('month')"
   ]
  },
  {
   "cell_type": "code",
   "execution_count": 5,
   "id": "9c0df4f4",
   "metadata": {},
   "outputs": [],
   "source": [
    "import tensorflow as tf\n",
    "import numpy as np"
   ]
  },
  {
   "cell_type": "code",
   "execution_count": 6,
   "id": "d713e2a9",
   "metadata": {},
   "outputs": [
    {
     "data": {
      "text/html": [
       "<div>\n",
       "<style scoped>\n",
       "    .dataframe tbody tr th:only-of-type {\n",
       "        vertical-align: middle;\n",
       "    }\n",
       "\n",
       "    .dataframe tbody tr th {\n",
       "        vertical-align: top;\n",
       "    }\n",
       "\n",
       "    .dataframe thead tr th {\n",
       "        text-align: left;\n",
       "    }\n",
       "\n",
       "    .dataframe thead tr:last-of-type th {\n",
       "        text-align: right;\n",
       "    }\n",
       "</style>\n",
       "<table border=\"1\" class=\"dataframe\">\n",
       "  <thead>\n",
       "    <tr>\n",
       "      <th></th>\n",
       "      <th></th>\n",
       "      <th colspan=\"12\" halign=\"left\">features</th>\n",
       "      <th>labels</th>\n",
       "    </tr>\n",
       "    <tr>\n",
       "      <th></th>\n",
       "      <th></th>\n",
       "      <th>+0M</th>\n",
       "      <th>+1M</th>\n",
       "      <th>+2M</th>\n",
       "      <th>+3M</th>\n",
       "      <th>+4M</th>\n",
       "      <th>+5M</th>\n",
       "      <th>+6M</th>\n",
       "      <th>+7M</th>\n",
       "      <th>+8M</th>\n",
       "      <th>+9M</th>\n",
       "      <th>+10M</th>\n",
       "      <th>+11M</th>\n",
       "      <th>+12M</th>\n",
       "    </tr>\n",
       "    <tr>\n",
       "      <th>year</th>\n",
       "      <th>month</th>\n",
       "      <th></th>\n",
       "      <th></th>\n",
       "      <th></th>\n",
       "      <th></th>\n",
       "      <th></th>\n",
       "      <th></th>\n",
       "      <th></th>\n",
       "      <th></th>\n",
       "      <th></th>\n",
       "      <th></th>\n",
       "      <th></th>\n",
       "      <th></th>\n",
       "      <th></th>\n",
       "    </tr>\n",
       "  </thead>\n",
       "  <tbody>\n",
       "    <tr>\n",
       "      <th rowspan=\"5\" valign=\"top\">1949</th>\n",
       "      <th>Jan</th>\n",
       "      <td>112</td>\n",
       "      <td>118</td>\n",
       "      <td>132</td>\n",
       "      <td>129</td>\n",
       "      <td>121</td>\n",
       "      <td>135</td>\n",
       "      <td>148</td>\n",
       "      <td>148</td>\n",
       "      <td>136</td>\n",
       "      <td>119</td>\n",
       "      <td>104</td>\n",
       "      <td>118</td>\n",
       "      <td>115</td>\n",
       "    </tr>\n",
       "    <tr>\n",
       "      <th>Feb</th>\n",
       "      <td>118</td>\n",
       "      <td>132</td>\n",
       "      <td>129</td>\n",
       "      <td>121</td>\n",
       "      <td>135</td>\n",
       "      <td>148</td>\n",
       "      <td>148</td>\n",
       "      <td>136</td>\n",
       "      <td>119</td>\n",
       "      <td>104</td>\n",
       "      <td>118</td>\n",
       "      <td>115</td>\n",
       "      <td>126</td>\n",
       "    </tr>\n",
       "    <tr>\n",
       "      <th>Mar</th>\n",
       "      <td>132</td>\n",
       "      <td>129</td>\n",
       "      <td>121</td>\n",
       "      <td>135</td>\n",
       "      <td>148</td>\n",
       "      <td>148</td>\n",
       "      <td>136</td>\n",
       "      <td>119</td>\n",
       "      <td>104</td>\n",
       "      <td>118</td>\n",
       "      <td>115</td>\n",
       "      <td>126</td>\n",
       "      <td>141</td>\n",
       "    </tr>\n",
       "    <tr>\n",
       "      <th>Apr</th>\n",
       "      <td>129</td>\n",
       "      <td>121</td>\n",
       "      <td>135</td>\n",
       "      <td>148</td>\n",
       "      <td>148</td>\n",
       "      <td>136</td>\n",
       "      <td>119</td>\n",
       "      <td>104</td>\n",
       "      <td>118</td>\n",
       "      <td>115</td>\n",
       "      <td>126</td>\n",
       "      <td>141</td>\n",
       "      <td>135</td>\n",
       "    </tr>\n",
       "    <tr>\n",
       "      <th>May</th>\n",
       "      <td>121</td>\n",
       "      <td>135</td>\n",
       "      <td>148</td>\n",
       "      <td>148</td>\n",
       "      <td>136</td>\n",
       "      <td>119</td>\n",
       "      <td>104</td>\n",
       "      <td>118</td>\n",
       "      <td>115</td>\n",
       "      <td>126</td>\n",
       "      <td>141</td>\n",
       "      <td>135</td>\n",
       "      <td>125</td>\n",
       "    </tr>\n",
       "    <tr>\n",
       "      <th>...</th>\n",
       "      <th>...</th>\n",
       "      <td>...</td>\n",
       "      <td>...</td>\n",
       "      <td>...</td>\n",
       "      <td>...</td>\n",
       "      <td>...</td>\n",
       "      <td>...</td>\n",
       "      <td>...</td>\n",
       "      <td>...</td>\n",
       "      <td>...</td>\n",
       "      <td>...</td>\n",
       "      <td>...</td>\n",
       "      <td>...</td>\n",
       "      <td>...</td>\n",
       "    </tr>\n",
       "    <tr>\n",
       "      <th rowspan=\"5\" valign=\"top\">1957</th>\n",
       "      <th>Aug</th>\n",
       "      <td>467</td>\n",
       "      <td>404</td>\n",
       "      <td>347</td>\n",
       "      <td>305</td>\n",
       "      <td>336</td>\n",
       "      <td>340</td>\n",
       "      <td>318</td>\n",
       "      <td>362</td>\n",
       "      <td>348</td>\n",
       "      <td>363</td>\n",
       "      <td>435</td>\n",
       "      <td>491</td>\n",
       "      <td>505</td>\n",
       "    </tr>\n",
       "    <tr>\n",
       "      <th>Sep</th>\n",
       "      <td>404</td>\n",
       "      <td>347</td>\n",
       "      <td>305</td>\n",
       "      <td>336</td>\n",
       "      <td>340</td>\n",
       "      <td>318</td>\n",
       "      <td>362</td>\n",
       "      <td>348</td>\n",
       "      <td>363</td>\n",
       "      <td>435</td>\n",
       "      <td>491</td>\n",
       "      <td>505</td>\n",
       "      <td>404</td>\n",
       "    </tr>\n",
       "    <tr>\n",
       "      <th>Oct</th>\n",
       "      <td>347</td>\n",
       "      <td>305</td>\n",
       "      <td>336</td>\n",
       "      <td>340</td>\n",
       "      <td>318</td>\n",
       "      <td>362</td>\n",
       "      <td>348</td>\n",
       "      <td>363</td>\n",
       "      <td>435</td>\n",
       "      <td>491</td>\n",
       "      <td>505</td>\n",
       "      <td>404</td>\n",
       "      <td>359</td>\n",
       "    </tr>\n",
       "    <tr>\n",
       "      <th>Nov</th>\n",
       "      <td>305</td>\n",
       "      <td>336</td>\n",
       "      <td>340</td>\n",
       "      <td>318</td>\n",
       "      <td>362</td>\n",
       "      <td>348</td>\n",
       "      <td>363</td>\n",
       "      <td>435</td>\n",
       "      <td>491</td>\n",
       "      <td>505</td>\n",
       "      <td>404</td>\n",
       "      <td>359</td>\n",
       "      <td>310</td>\n",
       "    </tr>\n",
       "    <tr>\n",
       "      <th>Dec</th>\n",
       "      <td>336</td>\n",
       "      <td>340</td>\n",
       "      <td>318</td>\n",
       "      <td>362</td>\n",
       "      <td>348</td>\n",
       "      <td>363</td>\n",
       "      <td>435</td>\n",
       "      <td>491</td>\n",
       "      <td>505</td>\n",
       "      <td>404</td>\n",
       "      <td>359</td>\n",
       "      <td>310</td>\n",
       "      <td>337</td>\n",
       "    </tr>\n",
       "  </tbody>\n",
       "</table>\n",
       "<p>108 rows × 13 columns</p>\n",
       "</div>"
      ],
      "text/plain": [
       "           features                                                         \\\n",
       "                +0M  +1M  +2M  +3M  +4M  +5M  +6M  +7M  +8M  +9M +10M +11M   \n",
       "year month                                                                   \n",
       "1949 Jan        112  118  132  129  121  135  148  148  136  119  104  118   \n",
       "     Feb        118  132  129  121  135  148  148  136  119  104  118  115   \n",
       "     Mar        132  129  121  135  148  148  136  119  104  118  115  126   \n",
       "     Apr        129  121  135  148  148  136  119  104  118  115  126  141   \n",
       "     May        121  135  148  148  136  119  104  118  115  126  141  135   \n",
       "...             ...  ...  ...  ...  ...  ...  ...  ...  ...  ...  ...  ...   \n",
       "1957 Aug        467  404  347  305  336  340  318  362  348  363  435  491   \n",
       "     Sep        404  347  305  336  340  318  362  348  363  435  491  505   \n",
       "     Oct        347  305  336  340  318  362  348  363  435  491  505  404   \n",
       "     Nov        305  336  340  318  362  348  363  435  491  505  404  359   \n",
       "     Dec        336  340  318  362  348  363  435  491  505  404  359  310   \n",
       "\n",
       "           labels  \n",
       "             +12M  \n",
       "year month         \n",
       "1949 Jan      115  \n",
       "     Feb      126  \n",
       "     Mar      141  \n",
       "     Apr      135  \n",
       "     May      125  \n",
       "...           ...  \n",
       "1957 Aug      505  \n",
       "     Sep      404  \n",
       "     Oct      359  \n",
       "     Nov      310  \n",
       "     Dec      337  \n",
       "\n",
       "[108 rows x 13 columns]"
      ]
     },
     "metadata": {},
     "output_type": "display_data"
    }
   ],
   "source": [
    "\n",
    "\n",
    "# features are a sliding window over the last 12 months, predicting the following month\n",
    "def features_and_labels(input_df, window=WINDOW):\n",
    "    feat_columns = [ f'+{i}M' for i in range(window) ]\n",
    "    label_columns = [f'+{window}M']\n",
    "    index = input_df.index[:len(input_df.index) - window]\n",
    "    \n",
    "    ds = tf.data.Dataset.from_tensor_slices(input_df['passengers'].values)\n",
    "    feat_ds = ds.window(window, shift=1, drop_remainder=True).take(len(index))\n",
    "    \n",
    "    df_feat = pd.DataFrame(\n",
    "        data=(list(w.as_numpy_iterator()) for w in feat_ds), \n",
    "        index=index, \n",
    "        columns=feat_columns\n",
    "    )\n",
    "\n",
    "    df_labels = pd.DataFrame(\n",
    "        data=input_df.iloc[window:,0].values, \n",
    "        index=index, \n",
    "        columns=label_columns\n",
    "    )\n",
    "    \n",
    "    return pd.concat([df_feat, df_labels], axis=1, keys=['features','labels'])\n",
    "\n",
    "df_train = features_and_labels(df.iloc[:-TEST_DATA_SIZE])\n",
    "display(df_train)\n",
    "df_test = features_and_labels(df.iloc[-TEST_DATA_SIZE-WINDOW:])"
   ]
  },
  {
   "cell_type": "code",
   "execution_count": 7,
   "id": "3b92b467",
   "metadata": {},
   "outputs": [],
   "source": [
    "X_train = tf.convert_to_tensor(df_train.xs('features',axis=1).values)\n",
    "y_train = tf.convert_to_tensor(df_train.xs('labels',axis=1).values)\n",
    "X_test = tf.convert_to_tensor(df_test.xs('features',axis=1).values)\n",
    "y_test = tf.convert_to_tensor(df_test.xs('labels',axis=1).values)"
   ]
  },
  {
   "cell_type": "markdown",
   "id": "bd86553a",
   "metadata": {},
   "source": [
    "Now we can create the model, a simple one:"
   ]
  },
  {
   "cell_type": "code",
   "execution_count": 8,
   "id": "9dddccc4",
   "metadata": {},
   "outputs": [],
   "source": [
    "model = tf.keras.models.Sequential()\n",
    "model.add(tf.keras.layers.Input(shape=(X_train.shape[1],), name=\"previous_month\"))\n",
    "model.add(tf.keras.layers.Reshape((X_train.shape[1],1)))\n",
    "model.add(tf.keras.layers.LSTM(100))\n",
    "model.add(tf.keras.layers.Dense(1))\n",
    "\n",
    "model.compile(optimizer='adam' , loss='mse')"
   ]
  },
  {
   "cell_type": "code",
   "execution_count": 9,
   "id": "e4294cfe",
   "metadata": {},
   "outputs": [
    {
     "name": "stdout",
     "output_type": "stream",
     "text": [
      "Train on 108 samples\n",
      "Epoch 1/10\n",
      "108/108 [==============================] - 1s 7ms/sample - loss: 74328.7584\n",
      "Epoch 2/10\n",
      "108/108 [==============================] - 0s 687us/sample - loss: 73029.8148\n",
      "Epoch 3/10\n",
      "108/108 [==============================] - 0s 695us/sample - loss: 71417.6942\n",
      "Epoch 4/10\n",
      "108/108 [==============================] - 0s 684us/sample - loss: 69236.1754\n",
      "Epoch 5/10\n",
      "108/108 [==============================] - 0s 685us/sample - loss: 67378.0806\n",
      "Epoch 6/10\n",
      "108/108 [==============================] - 0s 681us/sample - loss: 66006.7068\n",
      "Epoch 7/10\n",
      "108/108 [==============================] - 0s 712us/sample - loss: 64610.7276\n",
      "Epoch 8/10\n",
      "108/108 [==============================] - 0s 705us/sample - loss: 63313.9844\n",
      "Epoch 9/10\n",
      "108/108 [==============================] - 0s 669us/sample - loss: 62140.7693\n",
      "Epoch 10/10\n",
      "108/108 [==============================] - 0s 661us/sample - loss: 61084.2346\n"
     ]
    }
   ],
   "source": [
    "history = model.fit(X_train, y_train,\n",
    "                    batch_size=4,\n",
    "                    epochs=10,\n",
    "                    verbose=1)"
   ]
  },
  {
   "cell_type": "markdown",
   "id": "9969d707",
   "metadata": {},
   "source": [
    "Let's validate if the model learned something:"
   ]
  },
  {
   "cell_type": "code",
   "execution_count": 10,
   "id": "7cff56d9",
   "metadata": {},
   "outputs": [
    {
     "data": {
      "text/plain": [
       "<AxesSubplot:xlabel='year,month'>"
      ]
     },
     "execution_count": 10,
     "metadata": {},
     "output_type": "execute_result"
    },
    {
     "data": {
      "image/png": "[encoded data removed]",
      "text/plain": [
       "<Figure size 1152x432 with 1 Axes>"
      ]
     },
     "metadata": {
      "needs_background": "light"
     },
     "output_type": "display_data"
    }
   ],
   "source": [
    "df_pred = df.copy()\n",
    "df_pred['fitted'] = np.NaN\n",
    "df_pred['predicted'] = np.NaN\n",
    "df_pred.iloc[-TEST_DATA_SIZE:,1] = model.predict(X_test)\n",
    "df_pred.iloc[WINDOW:-TEST_DATA_SIZE,2] =  model.predict(X_train)\n",
    "\n",
    "df_pred.plot(figsize=(16,6))"
   ]
  },
  {
   "cell_type": "markdown",
   "id": "6f02524a",
   "metadata": {},
   "source": [
    "## Save the model and upload \n",
    "\n",
    "We will save the model in SavedModel format and then upload it to Waylay. "
   ]
  },
  {
   "cell_type": "code",
   "execution_count": 11,
   "id": "b3d03b26",
   "metadata": {},
   "outputs": [],
   "source": [
    "from waylay import WaylayClient, RestResponseError\n",
    "import tempfile\n",
    "\n",
    "waylay = WaylayClient.from_profile()"
   ]
  },
  {
   "cell_type": "code",
   "execution_count": 12,
   "id": "d02cfa01",
   "metadata": {
    "tags": [
     "doc_exclude"
    ]
   },
   "outputs": [
    {
     "data": {
      "text/plain": [
       "\"Ignored: ByomlActionError(404: 'Model does not exist'; DELETE 'https://byoml-io.waylay.io/models/tf-example')\""
      ]
     },
     "metadata": {},
     "output_type": "display_data"
    }
   ],
   "source": [
    "# clean up existing model\n",
    "import time\n",
    "try:\n",
    "    waylay.byoml.model.remove(MODEL_NAME)\n",
    "    display(f'Removed: {MODEL_NAME}')\n",
    "    time.sleep(5)\n",
    "except RestResponseError as e:\n",
    "    display(f'Ignored: {e}')"
   ]
  },
  {
   "cell_type": "code",
   "execution_count": 13,
   "id": "8f7d450a",
   "metadata": {},
   "outputs": [
    {
     "name": "stdout",
     "output_type": "stream",
     "text": [
      "WARNING:tensorflow:From /home/jano/miniconda3/envs/new_byoml_tensorflow/lib/python3.7/site-packages/tensorflow_core/python/ops/resource_variable_ops.py:1786: calling BaseResourceVariable.__init__ (from tensorflow.python.ops.resource_variable_ops) with constraint is deprecated and will be removed in a future version.\n",
      "Instructions for updating:\n",
      "If using Keras pass *_constraint arguments to layers.\n",
      "INFO:tensorflow:Assets written to: /tmp/tmp56vk0r88/assets\n"
     ]
    },
    {
     "data": {
      "text/plain": [
       "{'message': 'Model successfully uploaded'}"
      ]
     },
     "execution_count": 13,
     "metadata": {},
     "output_type": "execute_result"
    }
   ],
   "source": [
    "# Upload the model directory or upload the model directly\n",
    "\n",
    "with tempfile.TemporaryDirectory() as model_dir:\n",
    "    tf.saved_model.save(model, model_dir)\n",
    "    result = waylay.byoml.model.upload(\n",
    "        model_name=MODEL_NAME, \n",
    "        trained_model=model_dir, \n",
    "        framework='tensorflow', \n",
    "        description='tensorflow example'\n",
    "    )\n",
    "\n",
    "result"
   ]
  },
  {
   "cell_type": "markdown",
   "id": "0e87a863",
   "metadata": {},
   "source": [
    "After upload, it can take a few seconds before the model is available for execution.\n",
    "You can expect to receive an error \n",
    "> 409 Model not ready yet\n",
    "\n",
    "when executing the model too early."
   ]
  },
  {
   "cell_type": "code",
   "execution_count": 14,
   "id": "16f53b31",
   "metadata": {},
   "outputs": [
    {
     "data": {
      "text/plain": [
       "{'createdBy': 'users/bd87db46-e8fc-4186-bdf4-a8f9478ed0d3',\n",
       " 'createdOn': '2021-06-02T15:45:38.542914+00:00',\n",
       " 'description': 'tensorflow example',\n",
       " 'framework': 'tensorflow',\n",
       " 'name': 'tf-example',\n",
       " 'supported_endpoints': ['predict'],\n",
       " 'updatedBy': 'users/bd87db46-e8fc-4186-bdf4-a8f9478ed0d3',\n",
       " 'updatedOn': '2021-06-02T15:45:38.542959+00:00'}"
      ]
     },
     "execution_count": 14,
     "metadata": {},
     "output_type": "execute_result"
    }
   ],
   "source": [
    "result = waylay.byoml.model.get(MODEL_NAME)\n",
    "result"
   ]
  },
  {
   "cell_type": "code",
   "execution_count": 15,
   "id": "ac5e5402",
   "metadata": {},
   "outputs": [],
   "source": [
    "predictions = waylay.byoml.model.predict(MODEL_NAME, X_test.numpy())"
   ]
  },
  {
   "cell_type": "code",
   "execution_count": 16,
   "id": "191bec48",
   "metadata": {},
   "outputs": [
    {
     "data": {
      "image/png": "[encoded data removed]",
      "text/plain": [
       "<Figure size 1152x432 with 1 Axes>"
      ]
     },
     "metadata": {
      "needs_background": "light"
     },
     "output_type": "display_data"
    }
   ],
   "source": [
    "df_pred['predicted_byoml'] = np.NaN\n",
    "df_pred.iloc[-TEST_DATA_SIZE:,3] = predictions\n",
    "\n",
    "df_pred.plot(figsize=(16,6))\n",
    "pass"
   ]
  },
  {
   "cell_type": "code",
   "execution_count": 17,
   "id": "753dadb0",
   "metadata": {},
   "outputs": [
    {
     "data": {
      "text/plain": [
       "<AxesSubplot:xlabel='year,month'>"
      ]
     },
     "execution_count": 17,
     "metadata": {},
     "output_type": "execute_result"
    },
    {
     "data": {
      "image/png": "[encoded data removed]",
      "text/plain": [
       "<Figure size 1152x432 with 1 Axes>"
      ]
     },
     "metadata": {
      "needs_background": "light"
     },
     "output_type": "display_data"
    }
   ],
   "source": [
    "df_pred[['passengers','predicted_byoml']].iloc[-TEST_DATA_SIZE:].plot(figsize=(16,6))"
   ]
  },
  {
   "cell_type": "code",
   "execution_count": 18,
   "id": "a2d8621c",
   "metadata": {
    "tags": [
     "doc_exclude"
    ]
   },
   "outputs": [
    {
     "data": {
      "text/plain": [
       "{'message': 'Model successfully deleted'}"
      ]
     },
     "execution_count": 18,
     "metadata": {},
     "output_type": "execute_result"
    }
   ],
   "source": [
    "waylay.byoml.model.remove(MODEL_NAME)"
   ]
  },
  {
   "cell_type": "markdown",
   "id": "3b6eda07",
   "metadata": {},
   "source": [
    "There are many other ways to create a SavedModel, for example using [Estimators](https://www.tensorflow.org/guide/estimator#savedmodels_from_estimators) or using a custom [Module](https://www.tensorflow.org/guide/saved_model#saving_a_custom_model), all follow the same flow to upload the model to Waylay. Just pass the directory where you saved your model to the SDK and we will do the rest."
   ]
  }
 ],
 "metadata": {
  "celltoolbar": "Tags",
  "kernelspec": {
   "display_name": "Python 3",
   "language": "python",
   "name": "python3"
  },
  "language_info": {
   "codemirror_mode": {
    "name": "ipython",
    "version": 3
   },
   "file_extension": ".py",
   "mimetype": "text/x-python",
   "name": "python",
   "nbconvert_exporter": "python",
   "pygments_lexer": "ipython3",
   "version": "3.7.10"
  }
 },
 "nbformat": 4,
 "nbformat_minor": 5
}
