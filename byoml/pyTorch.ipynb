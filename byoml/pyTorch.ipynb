{
 "cells": [
  {
   "cell_type": "code",
   "execution_count": 1,
   "id": "85572add",
   "metadata": {
    "tags": [
     "doc_exclude"
    ]
   },
   "outputs": [],
   "source": [
    "## requirements\n",
    "# conda install --file env/byoml_pytorch/environment.yml\n",
    "# conda activate byoml_pytorch \n",
    "# pip install -r env/byoml_pytorch/requirements.txt"
   ]
  },
  {
   "cell_type": "code",
   "execution_count": 2,
   "id": "0d946e84",
   "metadata": {
    "tags": [
     "parameters"
    ]
   },
   "outputs": [],
   "source": [
    "# notebook parameters, cell requires a `parameters` tag\n",
    "INPUT_WINDOW = 24 # one year of data\n",
    "TEST_DATA_SIZE = 36 # keep away from model training\n",
    "MODEL_NAME = 'pytorch-example'\n",
    "MODEL_NAME_ADVANCED = 'pytorch-example-advanced'\n",
    "PROFILE = 'render_notebook'"
   ]
  },
  {
   "cell_type": "markdown",
   "id": "eb350b1f",
   "metadata": {},
   "source": [
    "## PyTorch example\n",
    "\n",
    "In this notebook we show how you can create and upload a PyTorch model to Waylay using TorchScript. \n",
    "\n",
    "PyTorch up to version 1.5 is supported! First let's import a dataset:"
   ]
  },
  {
   "cell_type": "code",
   "execution_count": 3,
   "id": "a6ef98bf",
   "metadata": {},
   "outputs": [],
   "source": [
    "import seaborn as sns\n",
    "import pandas as pd"
   ]
  },
  {
   "cell_type": "code",
   "execution_count": 4,
   "id": "f9e3cd53",
   "metadata": {},
   "outputs": [
    {
     "data": {
      "text/html": [
       "<div>\n",
       "<style scoped>\n",
       "    .dataframe tbody tr th:only-of-type {\n",
       "        vertical-align: middle;\n",
       "    }\n",
       "\n",
       "    .dataframe tbody tr th {\n",
       "        vertical-align: top;\n",
       "    }\n",
       "\n",
       "    .dataframe thead tr th {\n",
       "        text-align: left;\n",
       "    }\n",
       "\n",
       "    .dataframe thead tr:last-of-type th {\n",
       "        text-align: right;\n",
       "    }\n",
       "</style>\n",
       "<table border=\"1\" class=\"dataframe\">\n",
       "  <thead>\n",
       "    <tr>\n",
       "      <th></th>\n",
       "      <th colspan=\"12\" halign=\"left\">passengers</th>\n",
       "    </tr>\n",
       "    <tr>\n",
       "      <th>month</th>\n",
       "      <th>Jan</th>\n",
       "      <th>Feb</th>\n",
       "      <th>Mar</th>\n",
       "      <th>Apr</th>\n",
       "      <th>May</th>\n",
       "      <th>Jun</th>\n",
       "      <th>Jul</th>\n",
       "      <th>Aug</th>\n",
       "      <th>Sep</th>\n",
       "      <th>Oct</th>\n",
       "      <th>Nov</th>\n",
       "      <th>Dec</th>\n",
       "    </tr>\n",
       "    <tr>\n",
       "      <th>year</th>\n",
       "      <th></th>\n",
       "      <th></th>\n",
       "      <th></th>\n",
       "      <th></th>\n",
       "      <th></th>\n",
       "      <th></th>\n",
       "      <th></th>\n",
       "      <th></th>\n",
       "      <th></th>\n",
       "      <th></th>\n",
       "      <th></th>\n",
       "      <th></th>\n",
       "    </tr>\n",
       "  </thead>\n",
       "  <tbody>\n",
       "    <tr>\n",
       "      <th>1949</th>\n",
       "      <td>112</td>\n",
       "      <td>118</td>\n",
       "      <td>132</td>\n",
       "      <td>129</td>\n",
       "      <td>121</td>\n",
       "      <td>135</td>\n",
       "      <td>148</td>\n",
       "      <td>148</td>\n",
       "      <td>136</td>\n",
       "      <td>119</td>\n",
       "      <td>104</td>\n",
       "      <td>118</td>\n",
       "    </tr>\n",
       "    <tr>\n",
       "      <th>1950</th>\n",
       "      <td>115</td>\n",
       "      <td>126</td>\n",
       "      <td>141</td>\n",
       "      <td>135</td>\n",
       "      <td>125</td>\n",
       "      <td>149</td>\n",
       "      <td>170</td>\n",
       "      <td>170</td>\n",
       "      <td>158</td>\n",
       "      <td>133</td>\n",
       "      <td>114</td>\n",
       "      <td>140</td>\n",
       "    </tr>\n",
       "    <tr>\n",
       "      <th>1951</th>\n",
       "      <td>145</td>\n",
       "      <td>150</td>\n",
       "      <td>178</td>\n",
       "      <td>163</td>\n",
       "      <td>172</td>\n",
       "      <td>178</td>\n",
       "      <td>199</td>\n",
       "      <td>199</td>\n",
       "      <td>184</td>\n",
       "      <td>162</td>\n",
       "      <td>146</td>\n",
       "      <td>166</td>\n",
       "    </tr>\n",
       "    <tr>\n",
       "      <th>1952</th>\n",
       "      <td>171</td>\n",
       "      <td>180</td>\n",
       "      <td>193</td>\n",
       "      <td>181</td>\n",
       "      <td>183</td>\n",
       "      <td>218</td>\n",
       "      <td>230</td>\n",
       "      <td>242</td>\n",
       "      <td>209</td>\n",
       "      <td>191</td>\n",
       "      <td>172</td>\n",
       "      <td>194</td>\n",
       "    </tr>\n",
       "    <tr>\n",
       "      <th>1953</th>\n",
       "      <td>196</td>\n",
       "      <td>196</td>\n",
       "      <td>236</td>\n",
       "      <td>235</td>\n",
       "      <td>229</td>\n",
       "      <td>243</td>\n",
       "      <td>264</td>\n",
       "      <td>272</td>\n",
       "      <td>237</td>\n",
       "      <td>211</td>\n",
       "      <td>180</td>\n",
       "      <td>201</td>\n",
       "    </tr>\n",
       "    <tr>\n",
       "      <th>1954</th>\n",
       "      <td>204</td>\n",
       "      <td>188</td>\n",
       "      <td>235</td>\n",
       "      <td>227</td>\n",
       "      <td>234</td>\n",
       "      <td>264</td>\n",
       "      <td>302</td>\n",
       "      <td>293</td>\n",
       "      <td>259</td>\n",
       "      <td>229</td>\n",
       "      <td>203</td>\n",
       "      <td>229</td>\n",
       "    </tr>\n",
       "    <tr>\n",
       "      <th>1955</th>\n",
       "      <td>242</td>\n",
       "      <td>233</td>\n",
       "      <td>267</td>\n",
       "      <td>269</td>\n",
       "      <td>270</td>\n",
       "      <td>315</td>\n",
       "      <td>364</td>\n",
       "      <td>347</td>\n",
       "      <td>312</td>\n",
       "      <td>274</td>\n",
       "      <td>237</td>\n",
       "      <td>278</td>\n",
       "    </tr>\n",
       "    <tr>\n",
       "      <th>1956</th>\n",
       "      <td>284</td>\n",
       "      <td>277</td>\n",
       "      <td>317</td>\n",
       "      <td>313</td>\n",
       "      <td>318</td>\n",
       "      <td>374</td>\n",
       "      <td>413</td>\n",
       "      <td>405</td>\n",
       "      <td>355</td>\n",
       "      <td>306</td>\n",
       "      <td>271</td>\n",
       "      <td>306</td>\n",
       "    </tr>\n",
       "    <tr>\n",
       "      <th>1957</th>\n",
       "      <td>315</td>\n",
       "      <td>301</td>\n",
       "      <td>356</td>\n",
       "      <td>348</td>\n",
       "      <td>355</td>\n",
       "      <td>422</td>\n",
       "      <td>465</td>\n",
       "      <td>467</td>\n",
       "      <td>404</td>\n",
       "      <td>347</td>\n",
       "      <td>305</td>\n",
       "      <td>336</td>\n",
       "    </tr>\n",
       "    <tr>\n",
       "      <th>1958</th>\n",
       "      <td>340</td>\n",
       "      <td>318</td>\n",
       "      <td>362</td>\n",
       "      <td>348</td>\n",
       "      <td>363</td>\n",
       "      <td>435</td>\n",
       "      <td>491</td>\n",
       "      <td>505</td>\n",
       "      <td>404</td>\n",
       "      <td>359</td>\n",
       "      <td>310</td>\n",
       "      <td>337</td>\n",
       "    </tr>\n",
       "    <tr>\n",
       "      <th>1959</th>\n",
       "      <td>360</td>\n",
       "      <td>342</td>\n",
       "      <td>406</td>\n",
       "      <td>396</td>\n",
       "      <td>420</td>\n",
       "      <td>472</td>\n",
       "      <td>548</td>\n",
       "      <td>559</td>\n",
       "      <td>463</td>\n",
       "      <td>407</td>\n",
       "      <td>362</td>\n",
       "      <td>405</td>\n",
       "    </tr>\n",
       "    <tr>\n",
       "      <th>1960</th>\n",
       "      <td>417</td>\n",
       "      <td>391</td>\n",
       "      <td>419</td>\n",
       "      <td>461</td>\n",
       "      <td>472</td>\n",
       "      <td>535</td>\n",
       "      <td>622</td>\n",
       "      <td>606</td>\n",
       "      <td>508</td>\n",
       "      <td>461</td>\n",
       "      <td>390</td>\n",
       "      <td>432</td>\n",
       "    </tr>\n",
       "  </tbody>\n",
       "</table>\n",
       "</div>"
      ],
      "text/plain": [
       "      passengers                                                       \n",
       "month        Jan  Feb  Mar  Apr  May  Jun  Jul  Aug  Sep  Oct  Nov  Dec\n",
       "year                                                                   \n",
       "1949         112  118  132  129  121  135  148  148  136  119  104  118\n",
       "1950         115  126  141  135  125  149  170  170  158  133  114  140\n",
       "1951         145  150  178  163  172  178  199  199  184  162  146  166\n",
       "1952         171  180  193  181  183  218  230  242  209  191  172  194\n",
       "1953         196  196  236  235  229  243  264  272  237  211  180  201\n",
       "1954         204  188  235  227  234  264  302  293  259  229  203  229\n",
       "1955         242  233  267  269  270  315  364  347  312  274  237  278\n",
       "1956         284  277  317  313  318  374  413  405  355  306  271  306\n",
       "1957         315  301  356  348  355  422  465  467  404  347  305  336\n",
       "1958         340  318  362  348  363  435  491  505  404  359  310  337\n",
       "1959         360  342  406  396  420  472  548  559  463  407  362  405\n",
       "1960         417  391  419  461  472  535  622  606  508  461  390  432"
      ]
     },
     "execution_count": 4,
     "metadata": {},
     "output_type": "execute_result"
    },
    {
     "data": {
      "image/png": "[encoded data removed]",
      "text/plain": [
       "<Figure size 1600x600 with 1 Axes>"
      ]
     },
     "metadata": {},
     "output_type": "display_data"
    }
   ],
   "source": [
    "df = sns.load_dataset('flights')\n",
    "df = df.set_index(['year', 'month'])\n",
    "df.plot(figsize=(16,6))\n",
    "df.unstack('month')"
   ]
  },
  {
   "cell_type": "code",
   "execution_count": 5,
   "id": "55ae3cbf",
   "metadata": {},
   "outputs": [],
   "source": [
    "import torch"
   ]
  },
  {
   "cell_type": "code",
   "execution_count": 6,
   "id": "06ba5fd3",
   "metadata": {},
   "outputs": [],
   "source": [
    "def create_X_y(input_data, input_window=INPUT_WINDOW):\n",
    "    t_input = torch.FloatTensor(input_data)\n",
    "    t_features = torch.as_strided(t_input, (len(t_input)-input_window, input_window), (1,1))\n",
    "    t_labels = t_input[input_window:]\n",
    "    return t_features, t_labels"
   ]
  },
  {
   "cell_type": "code",
   "execution_count": 7,
   "id": "453b54a6",
   "metadata": {},
   "outputs": [],
   "source": [
    "train_data = df.iloc[:-TEST_DATA_SIZE,0]\n",
    "test_data = df.iloc[-TEST_DATA_SIZE:,0]"
   ]
  },
  {
   "cell_type": "code",
   "execution_count": 8,
   "id": "c0fdcd31",
   "metadata": {},
   "outputs": [],
   "source": [
    "X_train, y_train = create_X_y(train_data.to_list())\n",
    "X_test, y_test = create_X_y(test_data.to_list())"
   ]
  },
  {
   "cell_type": "code",
   "execution_count": 9,
   "id": "f0673404",
   "metadata": {},
   "outputs": [],
   "source": [
    "train_dataset = torch.utils.data.TensorDataset(X_train, y_train)\n",
    "train_loader = torch.utils.data.DataLoader(train_dataset, batch_size=4)"
   ]
  },
  {
   "cell_type": "markdown",
   "id": "6d83e0ce",
   "metadata": {},
   "source": [
    "Now we can create the model, a simple one with only one LSTM layer:"
   ]
  },
  {
   "cell_type": "code",
   "execution_count": 10,
   "id": "d5409ef7",
   "metadata": {},
   "outputs": [],
   "source": [
    "class PassengerModel(torch.nn.Module):\n",
    "    def __init__(self, input_size=1, hidden_layer_size=100, output_size=1):\n",
    "        super().__init__()\n",
    "        self.hidden_layer_size = hidden_layer_size\n",
    "\n",
    "        self.lstm = torch.nn.LSTM(input_size, hidden_layer_size, batch_first=True)\n",
    "\n",
    "        self.linear = torch.nn.Linear(hidden_layer_size, output_size)\n",
    "\n",
    "    def forward(self, x):\n",
    "        # Set initial hidden and cell states \n",
    "        h0 = torch.zeros(1, x.size(0), self.hidden_layer_size)\n",
    "        c0 = torch.zeros(1, x.size(0), self.hidden_layer_size)\n",
    "        \n",
    "        # Forward propagate LSTM\n",
    "        out, _ = self.lstm(x.view(x.size(0), x.size(1), 1).float(), (h0, c0))\n",
    "        \n",
    "        # Decode the hidden state of the last time step\n",
    "        out = self.linear(out[:, -1, :])\n",
    "        return out.flatten()"
   ]
  },
  {
   "cell_type": "code",
   "execution_count": 11,
   "id": "2e73bb89",
   "metadata": {},
   "outputs": [],
   "source": [
    "model = PassengerModel()\n",
    "loss_function = torch.nn.MSELoss()\n",
    "optimizer = torch.optim.Adam(model.parameters(), lr=0.001)"
   ]
  },
  {
   "cell_type": "code",
   "execution_count": null,
   "id": "d0d2b467",
   "metadata": {},
   "outputs": [
    {
     "name": "stdout",
     "output_type": "stream",
     "text": [
      "epoch:   0 loss: 72236.49293155\n",
      "epoch: 100 loss: 17603.44291760\n",
      "epoch: 200 loss: 6319.70171465\n",
      "epoch: 300 loss: 2196.88391259\n",
      "epoch: 400 loss: 1205.45457858\n",
      "epoch: 500 loss: 846.09054202\n",
      "epoch: 600 loss: 704.96488335\n",
      "epoch: 700 loss: 509.45142914\n",
      "epoch: 800 loss: 543.29962957\n",
      "epoch: 900 loss: 561.26124936\n",
      "epoch: 1000 loss: 300.02068365\n",
      "epoch: 1100 loss: 418.27663603\n",
      "epoch: 1200 loss: 256.58309174\n",
      "epoch: 1300 loss: 451.70474479\n",
      "epoch: 1400 loss: 248.28397279\n",
      "epoch: 1500 loss: 302.80056763\n",
      "epoch: 1600 loss: 391.94868397\n",
      "epoch: 1700 loss: 240.33382579\n",
      "epoch: 1800 loss: 229.89854141\n",
      "epoch: 1900 loss: 168.38535704\n"
     ]
    }
   ],
   "source": [
    "epochs = 2000\n",
    "\n",
    "for i in range(epochs):\n",
    "    running_loss = 0.0\n",
    "    for j, (x, y) in enumerate(train_loader):\n",
    "        optimizer.zero_grad()\n",
    "        y_pred = model(x)\n",
    "        loss = loss_function(y_pred, y)\n",
    "        loss.backward()\n",
    "        optimizer.step()\n",
    "        running_loss += loss.item()\n",
    "    if i%100 == 0:\n",
    "        print(f'epoch: {i:3} loss: {running_loss/len(train_loader):10.8f}')\n",
    "    running_loss = 0.0\n",
    "\n",
    "print(f'epoch: {i:3} loss: {loss.item():10.10f}')"
   ]
  },
  {
   "cell_type": "markdown",
   "id": "2b210e2b",
   "metadata": {},
   "source": [
    "Let's validate if the model learned something:"
   ]
  },
  {
   "cell_type": "code",
   "execution_count": null,
   "id": "e18caa13",
   "metadata": {},
   "outputs": [],
   "source": [
    "import numpy as np"
   ]
  },
  {
   "cell_type": "code",
   "execution_count": null,
   "id": "6d534052",
   "metadata": {},
   "outputs": [],
   "source": [
    "df_pred = df.copy()\n",
    "\n",
    "train_preds = model(X_train).tolist()\n",
    "df_pred['train'] = np.NaN\n",
    "df_pred.iloc[INPUT_WINDOW:INPUT_WINDOW+len(train_preds),1] = train_preds\n",
    "\n",
    "test_pred_offset = len(df) - TEST_DATA_SIZE + INPUT_WINDOW\n",
    "test_preds = model(X_test).tolist()\n",
    "df_pred['test'] = np.NaN\n",
    "df_pred.iloc[test_pred_offset:test_pred_offset+len(test_preds),2] = test_preds\n",
    "df_pred.plot(figsize=(15, 5))"
   ]
  },
  {
   "cell_type": "markdown",
   "id": "a50194b6",
   "metadata": {},
   "source": [
    "## Save the model and upload \n",
    "\n",
    "We will compile the model using TorchScript, for more information, check https://pytorch.org/docs/stable/jit.html#torch.jit.save"
   ]
  },
  {
   "cell_type": "code",
   "execution_count": null,
   "id": "ea611a55",
   "metadata": {},
   "outputs": [],
   "source": [
    "from waylay import WaylayClient, RestResponseError\n",
    "waylay = WaylayClient.from_profile(PROFILE)"
   ]
  },
  {
   "cell_type": "code",
   "execution_count": null,
   "id": "4a950c93",
   "metadata": {
    "tags": [
     "doc_exclude"
    ]
   },
   "outputs": [],
   "source": [
    "import time\n",
    "# clean up existing model\n",
    "try:\n",
    "    waylay.byoml.model.remove(MODEL_NAME)\n",
    "    time.sleep(10)\n",
    "    display(f'Removed: {MODEL_NAME}')\n",
    "except RestResponseError as e:\n",
    "    display(f'Ignored: {e}')"
   ]
  },
  {
   "cell_type": "markdown",
   "id": "620eacdb",
   "metadata": {},
   "source": [
    "And now upload it to Waylay:"
   ]
  },
  {
   "cell_type": "code",
   "execution_count": null,
   "id": "3ae5ad14",
   "metadata": {},
   "outputs": [],
   "source": [
    "result = waylay.byoml.model.upload(\n",
    "    model_name=MODEL_NAME, \n",
    "    trained_model=model, \n",
    "    framework='pytorch', \n",
    "    description='pytorch example'\n",
    ")\n",
    "result"
   ]
  },
  {
   "cell_type": "code",
   "execution_count": null,
   "id": "0384170a",
   "metadata": {},
   "outputs": [],
   "source": [
    "waylay.byoml.model.get(MODEL_NAME, params={'debug':True})"
   ]
  },
  {
   "cell_type": "code",
   "execution_count": null,
   "id": "67c73dc0",
   "metadata": {},
   "outputs": [],
   "source": [
    "features = X_test.tolist()\n",
    "result = waylay.byoml.model.predict(MODEL_NAME, features)\n",
    "        \n",
    "result"
   ]
  },
  {
   "cell_type": "code",
   "execution_count": null,
   "id": "aabe1c2a",
   "metadata": {},
   "outputs": [],
   "source": [
    "df_pred = df.copy()\n",
    "df_pred['test'] = np.NaN\n",
    "df_pred.iloc[test_pred_offset:,1] = result\n",
    "df_pred.plot(figsize=(15, 5))"
   ]
  },
  {
   "cell_type": "code",
   "execution_count": null,
   "id": "9aacff56",
   "metadata": {},
   "outputs": [],
   "source": [
    "input_data = df.loc[:,'passengers'].to_list()\n",
    "\n",
    "all_features, _ = create_X_y(input_data)\n",
    "preds = waylay.byoml.model.predict(MODEL_NAME, all_features.tolist())\n",
    "df_pred = df.copy()\n",
    "df_pred['test'] = np.NaN\n",
    "df_pred.iloc[INPUT_WINDOW:INPUT_WINDOW+len(preds),1] = preds\n",
    "\n",
    "# prediction for Jan 1961\n",
    "feat_jan_1961 = df.iloc[-INPUT_WINDOW:, 0].to_list()\n",
    "df_pred.loc[((1961,'Jan')),'test'] = waylay.byoml.model.predict(MODEL_NAME, [feat_jan_1961])[0]\n",
    "\n",
    "\n",
    "df_pred.plot(figsize=(15, 5))"
   ]
  },
  {
   "cell_type": "code",
   "execution_count": null,
   "id": "ba975a8f",
   "metadata": {},
   "outputs": [],
   "source": [
    "waylay.byoml.model.remove(MODEL_NAME)"
   ]
  },
  {
   "cell_type": "markdown",
   "id": "baf572f9",
   "metadata": {},
   "source": [
    "## More advanced TorchScript\n",
    "\n",
    "In the example above we uploaded the model straight away, but if we want to add some pre- or postprocessing, we can also use TorchScript for this.\n",
    "\n",
    "In this example we do the sliding window feature extraction in the model itself."
   ]
  },
  {
   "cell_type": "code",
   "execution_count": null,
   "id": "1c8617ba",
   "metadata": {},
   "outputs": [],
   "source": [
    "example_input = X_test[:4]\n",
    "\n",
    "class MyScriptModule(torch.jit.ScriptModule):\n",
    "    __constants__ = ['window']\n",
    "    \n",
    "    def __init__(self, window=INPUT_WINDOW):\n",
    "        super(MyScriptModule, self).__init__()\n",
    "        self.model = torch.jit.trace(model, example_input)\n",
    "        self.window = window\n",
    "\n",
    "    @torch.jit.script_method\n",
    "    def forward(self, inputs):\n",
    "        features = torch.as_strided(inputs, (len(inputs)-self.window+1, self.window), (1,1))\n",
    "        return self.model(features)"
   ]
  },
  {
   "cell_type": "code",
   "execution_count": null,
   "id": "6eac2b89",
   "metadata": {},
   "outputs": [],
   "source": [
    "script_model = MyScriptModule(INPUT_WINDOW)"
   ]
  },
  {
   "cell_type": "code",
   "execution_count": null,
   "id": "d21978a6",
   "metadata": {},
   "outputs": [],
   "source": [
    "all_data = df.iloc[:,0].to_list()\n",
    "script_model(torch.FloatTensor(all_data))"
   ]
  },
  {
   "cell_type": "code",
   "execution_count": null,
   "id": "a888afde",
   "metadata": {
    "tags": [
     "doc_exclude"
    ]
   },
   "outputs": [],
   "source": [
    "import time\n",
    "# clean up existing model\n",
    "try:\n",
    "    waylay.byoml.model.remove(MODEL_NAME_ADVANCED)\n",
    "    time.sleep(10)\n",
    "    display(f'Removed: {MODEL_NAME_ADVANCED}')\n",
    "except RestResponseError as e:\n",
    "    display(f'Ignored: {e}')"
   ]
  },
  {
   "cell_type": "code",
   "execution_count": null,
   "id": "0b24e273",
   "metadata": {},
   "outputs": [],
   "source": [
    "result = waylay.byoml.model.upload(\n",
    "    model_name=MODEL_NAME_ADVANCED, \n",
    "    trained_model=script_model, \n",
    "    framework='pytorch',\n",
    "    description='pytorch example'\n",
    ")\n",
    "result"
   ]
  },
  {
   "cell_type": "code",
   "execution_count": null,
   "id": "93f545ab",
   "metadata": {
    "scrolled": true
   },
   "outputs": [],
   "source": [
    "preds = waylay.byoml.model.predict(MODEL_NAME_ADVANCED, all_data)\n",
    "\n",
    "df_pred = df.copy()\n",
    "df_pred['all'] = np.NaN\n",
    "df_pred.loc[((1961,'Jan')),'all'] = np.NaN\n",
    "df_pred.iloc[INPUT_WINDOW:INPUT_WINDOW+len(preds),1] = preds\n",
    "df_pred.plot(figsize=(15, 5))"
   ]
  },
  {
   "cell_type": "code",
   "execution_count": null,
   "id": "d100194f",
   "metadata": {
    "scrolled": true,
    "tags": [
     "doc_exclude"
    ]
   },
   "outputs": [],
   "source": [
    "waylay.byoml.model.remove(MODEL_NAME_ADVANCED)"
   ]
  },
  {
   "cell_type": "code",
   "execution_count": null,
   "id": "f8fc777c",
   "metadata": {},
   "outputs": [],
   "source": []
  }
 ],
 "metadata": {
  "celltoolbar": "Tags",
  "kernelspec": {
   "display_name": "Python 3 (ipykernel)",
   "language": "python",
   "name": "python3"
  },
  "language_info": {
   "codemirror_mode": {
    "name": "ipython",
    "version": 3
   },
   "file_extension": ".py",
   "mimetype": "text/x-python",
   "name": "python",
   "nbconvert_exporter": "python",
   "pygments_lexer": "ipython3",
   "version": "3.7.12"
  }
 },
 "nbformat": 4,
 "nbformat_minor": 5
}
