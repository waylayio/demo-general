{
 "cells": [
  {
   "cell_type": "markdown",
   "metadata": {},
   "source": [
    "## Normalization example\n",
    "\n",
    "expanded on https://scikit-learn.org/stable/auto_examples/compose/plot_transformed_target.html#real-world-data-set"
   ]
  },
  {
   "cell_type": "code",
   "execution_count": 1,
   "metadata": {},
   "outputs": [
    {
     "ename": "ModuleNotFoundError",
     "evalue": "No module named 'sklearn'",
     "output_type": "error",
     "traceback": [
      "\u001b[0;31m---------------------------------------------------------------------------\u001b[0m",
      "\u001b[0;31mModuleNotFoundError\u001b[0m                       Traceback (most recent call last)",
      "\u001b[0;32m<ipython-input-1-506acfeb5bcd>\u001b[0m in \u001b[0;36m<module>\u001b[0;34m\u001b[0m\n\u001b[1;32m      4\u001b[0m \u001b[0;32mfrom\u001b[0m \u001b[0mdistutils\u001b[0m\u001b[0;34m.\u001b[0m\u001b[0mversion\u001b[0m \u001b[0;32mimport\u001b[0m \u001b[0mLooseVersion\u001b[0m\u001b[0;34m\u001b[0m\u001b[0;34m\u001b[0m\u001b[0m\n\u001b[1;32m      5\u001b[0m \u001b[0;34m\u001b[0m\u001b[0m\n\u001b[0;32m----> 6\u001b[0;31m \u001b[0;32mfrom\u001b[0m \u001b[0msklearn\u001b[0m\u001b[0;34m.\u001b[0m\u001b[0mmodel_selection\u001b[0m \u001b[0;32mimport\u001b[0m \u001b[0mtrain_test_split\u001b[0m\u001b[0;34m\u001b[0m\u001b[0;34m\u001b[0m\u001b[0m\n\u001b[0m\u001b[1;32m      7\u001b[0m \u001b[0;32mfrom\u001b[0m \u001b[0msklearn\u001b[0m\u001b[0;34m.\u001b[0m\u001b[0mlinear_model\u001b[0m \u001b[0;32mimport\u001b[0m \u001b[0mRidge\u001b[0m\u001b[0;34m,\u001b[0m \u001b[0mRidgeCV\u001b[0m\u001b[0;34m\u001b[0m\u001b[0;34m\u001b[0m\u001b[0m\n\u001b[1;32m      8\u001b[0m \u001b[0;32mfrom\u001b[0m \u001b[0msklearn\u001b[0m\u001b[0;34m.\u001b[0m\u001b[0mcompose\u001b[0m \u001b[0;32mimport\u001b[0m \u001b[0mTransformedTargetRegressor\u001b[0m\u001b[0;34m\u001b[0m\u001b[0;34m\u001b[0m\u001b[0m\n",
      "\u001b[0;31mModuleNotFoundError\u001b[0m: No module named 'sklearn'"
     ]
    }
   ],
   "source": [
    "import numpy as np\n",
    "import matplotlib\n",
    "import matplotlib.pyplot as plt\n",
    "from distutils.version import LooseVersion\n",
    "\n",
    "from sklearn.model_selection import train_test_split\n",
    "from sklearn.linear_model import Ridge, RidgeCV\n",
    "from sklearn.compose import TransformedTargetRegressor\n",
    "from sklearn.ensemble import RandomForestRegressor, ExtraTreesRegressor\n",
    "from sklearn.feature_selection import SelectFromModel\n",
    "from sklearn.neighbors import KNeighborsRegressor\n",
    "from sklearn.metrics import median_absolute_error, r2_score\n",
    "from sklearn.datasets import load_boston\n",
    "from sklearn.preprocessing import QuantileTransformer, quantile_transform\n",
    "from sklearn.model_selection import GridSearchCV\n",
    "from sklearn.pipeline import Pipeline"
   ]
  },
  {
   "cell_type": "code",
   "execution_count": null,
   "metadata": {},
   "outputs": [],
   "source": [
    "# `normed` is being deprecated in favor of `density` in histograms\n",
    "if LooseVersion(matplotlib.__version__) >= '2.1':\n",
    "    density_param = {'density': True}\n",
    "else:\n",
    "    density_param = {'normed': True}"
   ]
  },
  {
   "cell_type": "markdown",
   "metadata": {},
   "source": [
    "## Load dataset"
   ]
  },
  {
   "cell_type": "code",
   "execution_count": null,
   "metadata": {},
   "outputs": [],
   "source": [
    "dataset = load_boston()\n",
    "from IPython.display import display, Markdown\n",
    "display(Markdown(dataset['DESCR']))\n",
    "\n",
    "target = np.array(dataset.feature_names) == \"DIS\"\n",
    "X = dataset.data[:, np.logical_not(target)]\n",
    "y = dataset.data[:, target].squeeze()\n",
    "y_trans = quantile_transform(\n",
    "    dataset.data[:, target],\n",
    "    n_quantiles=300,\n",
    "    output_distribution='normal',\n",
    "    copy=True\n",
    ").squeeze()\n"
   ]
  },
  {
   "cell_type": "code",
   "execution_count": null,
   "metadata": {},
   "outputs": [],
   "source": [
    "\n",
    "f, (ax0, ax1) = plt.subplots(1, 2, figsize=(16, 6))\n",
    "\n",
    "ax0.hist(y, bins=100, **density_param)\n",
    "ax0.set_ylabel('Probability')\n",
    "ax0.set_xlabel('Target')\n",
    "ax0.set_title('Target distribution')\n",
    "\n",
    "ax1.hist(y_trans, bins=100, **density_param)\n",
    "ax1.set_ylabel('Probability')\n",
    "ax1.set_xlabel('Target')\n",
    "ax1.set_title('Transformed target distribution')\n",
    "\n",
    "f.suptitle(\"Boston housing data: distance to employment centers\", y=0.035)\n",
    "f.tight_layout(rect=[0.05, 0.05, 0.95, 0.95])\n",
    "\n",
    "X_train, X_test, y_train, y_test = train_test_split(X, y, random_state=1)\n"
   ]
  },
  {
   "cell_type": "markdown",
   "metadata": {},
   "source": [
    "## Create baseline"
   ]
  },
  {
   "cell_type": "code",
   "execution_count": null,
   "metadata": {},
   "outputs": [],
   "source": [
    "regr = RidgeCV()\n",
    "regr.fit(X_train, y_train)\n",
    "y_pred_baseline = regr.predict(X_test)"
   ]
  },
  {
   "cell_type": "markdown",
   "metadata": {},
   "source": [
    "## Do grid search"
   ]
  },
  {
   "cell_type": "code",
   "execution_count": null,
   "metadata": {},
   "outputs": [],
   "source": [
    "# Create a pipeline\n",
    "pipe = Pipeline([('feature_selection', SelectFromModel(ExtraTreesRegressor())),\n",
    "                 ('regressor', TransformedTargetRegressor(\n",
    "                                    regressor=RidgeCV(),\n",
    "                                    transformer=QuantileTransformer(n_quantiles=300,\n",
    "                                                                    output_distribution='normal'))),\n",
    "                 \n",
    "                ])\n",
    "\n",
    "# Create space of candidate learning algorithms and their hyperparameters\n",
    "search_space = [\n",
    "                {\n",
    "                    'regressor__regressor': [RandomForestRegressor()],\n",
    "                    'regressor__regressor__n_estimators': [10, 100, 1000]\n",
    "                },\n",
    "                {\n",
    "                    'regressor__regressor': [Ridge()]\n",
    "                },\n",
    "                {\n",
    "                    'regressor__regressor': [KNeighborsRegressor()],\n",
    "                    'regressor__regressor__n_neighbors': range(2,8)\n",
    "                }\n",
    "               ]\n",
    "\n",
    "# Create grid search \n",
    "clf = GridSearchCV(pipe, search_space, scoring='neg_mean_absolute_error', cv=5, verbose=0)\n",
    "\n",
    "\n",
    "# Fit grid search\n",
    "best_model = clf.fit(X_train, y_train)"
   ]
  },
  {
   "cell_type": "code",
   "execution_count": null,
   "metadata": {},
   "outputs": [],
   "source": [
    "best_model.best_estimator_['regressor'].regressor"
   ]
  },
  {
   "cell_type": "code",
   "execution_count": null,
   "metadata": {},
   "outputs": [],
   "source": [
    "y_pred = best_model.predict(X_test)"
   ]
  },
  {
   "cell_type": "markdown",
   "metadata": {},
   "source": [
    "## Check if gridsearch had improvement"
   ]
  },
  {
   "cell_type": "code",
   "execution_count": null,
   "metadata": {},
   "outputs": [],
   "source": [
    "f, (ax0, ax1) = plt.subplots(1, 2, sharey=True, figsize=(16, 6))\n",
    "\n",
    "ax0.scatter(y_test, y_pred_baseline)\n",
    "ax0.plot([0, 10], [0, 10], '--k')\n",
    "ax0.set_ylabel('Target predicted')\n",
    "ax0.set_xlabel('True Target')\n",
    "ax0.set_title('Ridge regression \\n without target transformation')\n",
    "ax0.text(1, 9, r'$R^2$=%.2f, MAE=%.2f' % (\n",
    "    r2_score(y_test, y_pred_baseline), median_absolute_error(y_test, y_pred_baseline)))\n",
    "ax0.set_xlim([0, 10])\n",
    "ax0.set_ylim([0, 10])\n",
    "\n",
    "ax1.scatter(y_test, y_pred)\n",
    "ax1.plot([0, 10], [0, 10], '--k')\n",
    "ax1.set_ylabel('Target predicted')\n",
    "ax1.set_xlabel('True Target')\n",
    "ax1.set_title('Gridsearch regression \\n with target transformation')\n",
    "ax1.text(1, 9, r'$R^2$=%.2f, MAE=%.2f' % (\n",
    "    r2_score(y_test, y_pred), median_absolute_error(y_test, y_pred)))\n",
    "ax1.set_xlim([0, 10])\n",
    "ax1.set_ylim([0, 10])\n",
    "\n",
    "f.suptitle(\"Boston housing data: distance to employment centers\", y=0.035)\n",
    "f.tight_layout(rect=[0.05, 0.05, 0.95, 0.95])\n",
    "\n",
    "plt.show()"
   ]
  },
  {
   "cell_type": "markdown",
   "metadata": {},
   "source": [
    "## Save model\n",
    "\n",
    "We can save our best model, which also contains the feature selection step and the normalization/denormalization, so users of the model do not have to know any specifics."
   ]
  },
  {
   "cell_type": "code",
   "execution_count": null,
   "metadata": {},
   "outputs": [],
   "source": [
    "from waylay import WaylayClient, RestResponseError\n",
    "waylay = WaylayClient.from_profile()"
   ]
  },
  {
   "cell_type": "code",
   "execution_count": null,
   "metadata": {},
   "outputs": [],
   "source": [
    "model_name = 'sklearn-demo'\n",
    "model_description = \"\"\"\n",
    "A model to predict the weighted distance to five Boston employment centers, \n",
    "using the following features: \n",
    " - CRIM per capita crime rate by town,\n",
    " - ZN proportion of residential land zoned for lots over 25,000 sq.ft.\n",
    " - INDUS proportion of non-retail business acres per town,\n",
    " - CHAS Charles River dummy variable (= 1 if tract bounds river; 0 otherwise),\n",
    " - NOX nitric oxides concentration (parts per 10 million)RM average number of rooms per dwelling,\n",
    " - AGE proportion of owner-occupied units built prior to 1940,\n",
    " - DIS weighted distances to five Boston employment centres,\n",
    " - RAD index of accessibility to radial highways,\n",
    " - TAX full-value property-tax rate per $10,000,\n",
    " - PTRATIO pupil-teacher ratio by town,\n",
    " - B 1000(Bk - 0.63)^2 where Bk is the proportion of blacks by town,\n",
    " - LSTAT % lower status of the population.\n",
    " - MEDV Median value of owner-occupied homes in $1000's\n",
    "\"\"\"\n",
    "try:\n",
    "    waylay.byoml.model.remove(model_name)\n",
    "except RestResponseError as e:\n",
    "    display(f'Ignored: {e}')"
   ]
  },
  {
   "cell_type": "code",
   "execution_count": null,
   "metadata": {},
   "outputs": [],
   "source": [
    "waylay.byoml.model.upload(\n",
    "    model_name=model_name, \n",
    "    trained_model=best_model, \n",
    "    framework='sklearn', \n",
    "    description=model_description\n",
    ")"
   ]
  },
  {
   "cell_type": "code",
   "execution_count": null,
   "metadata": {},
   "outputs": [],
   "source": [
    "waylay.byoml.model.get(model_name)"
   ]
  },
  {
   "cell_type": "markdown",
   "metadata": {},
   "source": [
    "## Check if upload worked"
   ]
  },
  {
   "cell_type": "code",
   "execution_count": null,
   "metadata": {},
   "outputs": [],
   "source": [
    "best_model.predict(X_test[:2])"
   ]
  },
  {
   "cell_type": "code",
   "execution_count": null,
   "metadata": {},
   "outputs": [],
   "source": [
    "result = waylay.byoml.model.predict(model_name, X)\n",
    "\n",
    "import pandas as pd\n",
    "df = pd.DataFrame(dataset.data, columns=dataset.feature_names)\n",
    "df['prediction'] = result\n",
    "df"
   ]
  },
  {
   "cell_type": "code",
   "execution_count": null,
   "metadata": {},
   "outputs": [],
   "source": [
    "df.plot.scatter( x=\"DIS\", y='prediction', s='ZN', c='AGE', figsize=(16, 6))"
   ]
  },
  {
   "cell_type": "markdown",
   "metadata": {},
   "source": [
    "## Cleanup"
   ]
  },
  {
   "cell_type": "code",
   "execution_count": null,
   "metadata": {},
   "outputs": [],
   "source": [
    "waylay.byoml.model.remove(model_name)"
   ]
  },
  {
   "cell_type": "code",
   "execution_count": null,
   "metadata": {},
   "outputs": [],
   "source": []
  }
 ],
 "metadata": {
  "kernelspec": {
   "display_name": "Python 3",
   "language": "python",
   "name": "python3"
  },
  "language_info": {
   "codemirror_mode": {
    "name": "ipython",
    "version": 3
   },
   "file_extension": ".py",
   "mimetype": "text/x-python",
   "name": "python",
   "nbconvert_exporter": "python",
   "pygments_lexer": "ipython3",
   "version": "3.7.10"
  }
 },
 "nbformat": 4,
 "nbformat_minor": 4
}
