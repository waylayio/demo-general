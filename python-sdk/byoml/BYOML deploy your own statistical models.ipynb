{
 "cells": [
  {
   "cell_type": "code",
   "execution_count": 8,
   "metadata": {},
   "outputs": [],
   "source": [
    "from waylay import WaylayClient, WaylayError"
   ]
  },
  {
   "cell_type": "markdown",
   "metadata": {},
   "source": [
    "# deploy  your own statistical models (BYOML)\n",
    "This notebook illustrates how to use `queries.query` and `byoml` services through the Waylay Python SDK.\n",
    "\n",
    "We create a simple statistical model, train it, deploy it to the [Bring Your Own Model](https://docs.waylay.io/features/byoml/) server, and test it."
   ]
  },
  {
   "cell_type": "code",
   "execution_count": 9,
   "metadata": {},
   "outputs": [],
   "source": [
    "waylay_client = WaylayClient.from_profile('demo')"
   ]
  },
  {
   "cell_type": "markdown",
   "metadata": {},
   "source": [
    "The following calls illustrate how to check your access to the BYOML services, list currently deployed models,\n",
    "and get the metadata for an existing model."
   ]
  },
  {
   "cell_type": "code",
   "execution_count": 10,
   "metadata": {},
   "outputs": [
    {
     "data": {
      "text/plain": [
       "{'name': 'byoml', 'version': '1.5.3+3.g1d5c050'}"
      ]
     },
     "execution_count": 10,
     "metadata": {},
     "output_type": "execute_result"
    }
   ],
   "source": [
    "waylay_client.byoml.about.health()"
   ]
  },
  {
   "cell_type": "markdown",
   "metadata": {},
   "source": [
    "## gathering test data\n",
    "For this example we use timeseries data already stored on the platform, and query it using the `queries.query` api/"
   ]
  },
  {
   "cell_type": "code",
   "execution_count": 11,
   "metadata": {},
   "outputs": [
    {
     "data": {
      "text/html": [
       "<div>\n",
       "<style scoped>\n",
       "    .dataframe tbody tr th:only-of-type {\n",
       "        vertical-align: middle;\n",
       "    }\n",
       "\n",
       "    .dataframe tbody tr th {\n",
       "        vertical-align: top;\n",
       "    }\n",
       "\n",
       "    .dataframe thead tr th {\n",
       "        text-align: left;\n",
       "    }\n",
       "\n",
       "    .dataframe thead tr:last-of-type th {\n",
       "        text-align: right;\n",
       "    }\n",
       "</style>\n",
       "<table border=\"1\" class=\"dataframe\">\n",
       "  <thead>\n",
       "    <tr>\n",
       "      <th>resource</th>\n",
       "      <th>weather_data</th>\n",
       "    </tr>\n",
       "    <tr>\n",
       "      <th>metric</th>\n",
       "      <th>temperature</th>\n",
       "    </tr>\n",
       "    <tr>\n",
       "      <th>aggregation</th>\n",
       "      <th>mean</th>\n",
       "    </tr>\n",
       "    <tr>\n",
       "      <th>timestamp</th>\n",
       "      <th></th>\n",
       "    </tr>\n",
       "  </thead>\n",
       "  <tbody>\n",
       "    <tr>\n",
       "      <th>2022-01-01 00:00:00+00:00</th>\n",
       "      <td>107.333333</td>\n",
       "    </tr>\n",
       "    <tr>\n",
       "      <th>2022-01-01 01:00:00+00:00</th>\n",
       "      <td>111.000000</td>\n",
       "    </tr>\n",
       "    <tr>\n",
       "      <th>2022-01-01 02:00:00+00:00</th>\n",
       "      <td>106.000000</td>\n",
       "    </tr>\n",
       "    <tr>\n",
       "      <th>2022-01-01 03:00:00+00:00</th>\n",
       "      <td>106.000000</td>\n",
       "    </tr>\n",
       "    <tr>\n",
       "      <th>2022-01-01 04:00:00+00:00</th>\n",
       "      <td>3403.666667</td>\n",
       "    </tr>\n",
       "    <tr>\n",
       "      <th>...</th>\n",
       "      <td>...</td>\n",
       "    </tr>\n",
       "    <tr>\n",
       "      <th>2022-01-07 19:00:00+00:00</th>\n",
       "      <td>11.000000</td>\n",
       "    </tr>\n",
       "    <tr>\n",
       "      <th>2022-01-07 20:00:00+00:00</th>\n",
       "      <td>17.000000</td>\n",
       "    </tr>\n",
       "    <tr>\n",
       "      <th>2022-01-07 21:00:00+00:00</th>\n",
       "      <td>11.500000</td>\n",
       "    </tr>\n",
       "    <tr>\n",
       "      <th>2022-01-07 22:00:00+00:00</th>\n",
       "      <td>0.000000</td>\n",
       "    </tr>\n",
       "    <tr>\n",
       "      <th>2022-01-07 23:00:00+00:00</th>\n",
       "      <td>6.000000</td>\n",
       "    </tr>\n",
       "  </tbody>\n",
       "</table>\n",
       "<p>168 rows × 1 columns</p>\n",
       "</div>"
      ],
      "text/plain": [
       "resource                  weather_data\n",
       "metric                     temperature\n",
       "aggregation                       mean\n",
       "timestamp                             \n",
       "2022-01-01 00:00:00+00:00   107.333333\n",
       "2022-01-01 01:00:00+00:00   111.000000\n",
       "2022-01-01 02:00:00+00:00   106.000000\n",
       "2022-01-01 03:00:00+00:00   106.000000\n",
       "2022-01-01 04:00:00+00:00  3403.666667\n",
       "...                                ...\n",
       "2022-01-07 19:00:00+00:00    11.000000\n",
       "2022-01-07 20:00:00+00:00    17.000000\n",
       "2022-01-07 21:00:00+00:00    11.500000\n",
       "2022-01-07 22:00:00+00:00     0.000000\n",
       "2022-01-07 23:00:00+00:00     6.000000\n",
       "\n",
       "[168 rows x 1 columns]"
      ]
     },
     "execution_count": 11,
     "metadata": {},
     "output_type": "execute_result"
    }
   ],
   "source": [
    "train_query = dict(\n",
    "    resource='weather_data',\n",
    "    metric='temperature', \n",
    "    freq='PT1H',\n",
    "    aggregation='mean',\n",
    "    until='2022-01-08T00:00:00Z',\n",
    "    data=[dict(metric='temperature')]\n",
    ")\n",
    "train_df = waylay_client.queries.query.execute(train_query)\n",
    "train_df"
   ]
  },
  {
   "cell_type": "markdown",
   "metadata": {},
   "source": [
    "## creating a model\n",
    "We create a simple [sklearn outlier detection](https://scikit-learn.org/stable/modules/outlier_detection.html#outlier-detection) model and fit it to the above data."
   ]
  },
  {
   "cell_type": "code",
   "execution_count": 12,
   "metadata": {},
   "outputs": [],
   "source": [
    "from sklearn.covariance import EllipticEnvelope\n",
    "import pandas as pd\n",
    "\n",
    "cov_model = EllipticEnvelope(random_state=0, contamination=0.05).fit(train_df)"
   ]
  },
  {
   "cell_type": "markdown",
   "metadata": {},
   "source": [
    "## validate the model locally\n",
    "we use a modified query to retrieve a dataset that validates the model locally (using the sklearn `predict` call)"
   ]
  },
  {
   "cell_type": "code",
   "execution_count": 13,
   "metadata": {},
   "outputs": [
    {
     "data": {
      "text/plain": [
       "<AxesSubplot:xlabel='timestamp'>"
      ]
     },
     "execution_count": 13,
     "metadata": {},
     "output_type": "execute_result"
    },
    {
     "data": {
      "image/png": "[encoded data removed]",
      "text/plain": [
       "<Figure size 1500x500 with 1 Axes>"
      ]
     },
     "metadata": {},
     "output_type": "display_data"
    }
   ],
   "source": [
    "validation_query = dict(train_query)\n",
    "validation_query['until']='2022-01-08'\n",
    "df_validate = waylay_client.queries.query.execute(validation_query)\n",
    "df_estimate=pd.DataFrame(\n",
    "    cov_model.predict(df_validate), \n",
    "    index=df_validate.index\n",
    ")\n",
    "pd.concat([df_validate,df_estimate], axis=1).plot(figsize=(15,5))"
   ]
  },
  {
   "cell_type": "markdown",
   "metadata": {},
   "source": [
    "## upload the model to BYOML\n",
    "we upload the model under a the name `live-coding` (but first delete any existing model under that name)"
   ]
  },
  {
   "cell_type": "code",
   "execution_count": 7,
   "metadata": {},
   "outputs": [],
   "source": [
    "model_name=\"live-coding\""
   ]
  },
  {
   "cell_type": "code",
   "execution_count": 8,
   "metadata": {},
   "outputs": [
    {
     "data": {
      "text/plain": [
       "{'createdOn': '2021-01-04T00:00:00+00:00',\n",
       " 'description': 'live coding !!!',\n",
       " 'framework': 'sklearn',\n",
       " 'framework_version': '0.24',\n",
       " 'message': 'Model successfully uploaded',\n",
       " 'metadata': {'description': 'live coding !!!'},\n",
       " 'name': 'live-coding',\n",
       " 'updatedOn': '2021-01-04T00:00:00+00:00',\n",
       " 'version': '1'}"
      ]
     },
     "execution_count": 8,
     "metadata": {},
     "output_type": "execute_result"
    }
   ],
   "source": [
    "try:\n",
    "    waylay_client.byoml.model.remove(model_name)\n",
    "except WaylayError as exc:\n",
    "    print(exc)\n",
    "waylay_client.byoml.model.upload(model_name, cov_model, framework=\"sklearn\", description=\"live coding !!!\")"
   ]
  },
  {
   "cell_type": "markdown",
   "metadata": {},
   "source": [
    "Retrieve the model attributes with a  `get` action. Not that initially, the `ready` state might be `False`, indicating that the model is still deploying"
   ]
  },
  {
   "cell_type": "code",
   "execution_count": 9,
   "metadata": {},
   "outputs": [
    {
     "data": {
      "text/plain": [
       "{'createdBy': 'users/0476f99d-ac60-4f86-bc45-7215962754cd',\n",
       " 'createdOn': '2022-09-05T12:14:13.099000+00:00',\n",
       " 'description': 'live coding !!!',\n",
       " 'framework': 'sklearn',\n",
       " 'framework_version': '0.24',\n",
       " 'metadata': {'description': 'live coding !!!'},\n",
       " 'name': 'live-coding',\n",
       " 'ready': False,\n",
       " 'supported_endpoints': [],\n",
       " 'updatedBy': 'users/0476f99d-ac60-4f86-bc45-7215962754cd',\n",
       " 'updatedOn': '2022-09-05T12:14:14.801000+00:00',\n",
       " 'version': '1'}"
      ]
     },
     "execution_count": 9,
     "metadata": {},
     "output_type": "execute_result"
    }
   ],
   "source": [
    "waylay_client.byoml.model.get(model_name)"
   ]
  },
  {
   "cell_type": "markdown",
   "metadata": {},
   "source": [
    "With `retry_until_ready=True` you instruct the SDK to keep polling until the model is ready. \n",
    "\n",
    "The retry attempts and maximal poll time can be set by `retry_attempts` (default `20`) and `retry_max_delay` (default `180` seconds) "
   ]
  },
  {
   "cell_type": "code",
   "execution_count": 11,
   "metadata": {},
   "outputs": [
    {
     "data": {
      "text/plain": [
       "{'createdBy': 'users/0476f99d-ac60-4f86-bc45-7215962754cd',\n",
       " 'createdOn': '2022-09-05T12:14:13.099000+00:00',\n",
       " 'description': 'live coding !!!',\n",
       " 'framework': 'sklearn',\n",
       " 'framework_version': '0.24',\n",
       " 'metadata': {'description': 'live coding !!!'},\n",
       " 'name': 'live-coding',\n",
       " 'ready': True,\n",
       " 'supported_endpoints': ['predict'],\n",
       " 'updatedBy': 'users/0476f99d-ac60-4f86-bc45-7215962754cd',\n",
       " 'updatedOn': '2022-09-05T12:14:14.801000+00:00',\n",
       " 'version': '1'}"
      ]
     },
     "execution_count": 11,
     "metadata": {},
     "output_type": "execute_result"
    }
   ],
   "source": [
    "waylay_client.byoml.model.get(model_name, retry_until_ready=True, retry_max_delay=100)"
   ]
  },
  {
   "cell_type": "markdown",
   "metadata": {},
   "source": [
    "## use the BYOML model\n",
    "\n",
    "Use `byoml.model.predict` to make an inference with your model. \n",
    "This method will also retry until the model is ready."
   ]
  },
  {
   "cell_type": "code",
   "execution_count": 12,
   "metadata": {},
   "outputs": [
    {
     "data": {
      "text/html": [
       "<div>\n",
       "<style scoped>\n",
       "    .dataframe tbody tr th:only-of-type {\n",
       "        vertical-align: middle;\n",
       "    }\n",
       "\n",
       "    .dataframe tbody tr th {\n",
       "        vertical-align: top;\n",
       "    }\n",
       "\n",
       "    .dataframe thead th {\n",
       "        text-align: right;\n",
       "    }\n",
       "</style>\n",
       "<table border=\"1\" class=\"dataframe\">\n",
       "  <thead>\n",
       "    <tr style=\"text-align: right;\">\n",
       "      <th></th>\n",
       "      <th>0</th>\n",
       "    </tr>\n",
       "  </thead>\n",
       "  <tbody>\n",
       "    <tr>\n",
       "      <th>0</th>\n",
       "      <td>1</td>\n",
       "    </tr>\n",
       "    <tr>\n",
       "      <th>1</th>\n",
       "      <td>1</td>\n",
       "    </tr>\n",
       "    <tr>\n",
       "      <th>2</th>\n",
       "      <td>1</td>\n",
       "    </tr>\n",
       "    <tr>\n",
       "      <th>3</th>\n",
       "      <td>1</td>\n",
       "    </tr>\n",
       "    <tr>\n",
       "      <th>4</th>\n",
       "      <td>-1</td>\n",
       "    </tr>\n",
       "    <tr>\n",
       "      <th>...</th>\n",
       "      <td>...</td>\n",
       "    </tr>\n",
       "    <tr>\n",
       "      <th>163</th>\n",
       "      <td>1</td>\n",
       "    </tr>\n",
       "    <tr>\n",
       "      <th>164</th>\n",
       "      <td>1</td>\n",
       "    </tr>\n",
       "    <tr>\n",
       "      <th>165</th>\n",
       "      <td>1</td>\n",
       "    </tr>\n",
       "    <tr>\n",
       "      <th>166</th>\n",
       "      <td>1</td>\n",
       "    </tr>\n",
       "    <tr>\n",
       "      <th>167</th>\n",
       "      <td>1</td>\n",
       "    </tr>\n",
       "  </tbody>\n",
       "</table>\n",
       "<p>168 rows × 1 columns</p>\n",
       "</div>"
      ],
      "text/plain": [
       "     0\n",
       "0    1\n",
       "1    1\n",
       "2    1\n",
       "3    1\n",
       "4   -1\n",
       "..  ..\n",
       "163  1\n",
       "164  1\n",
       "165  1\n",
       "166  1\n",
       "167  1\n",
       "\n",
       "[168 rows x 1 columns]"
      ]
     },
     "execution_count": 12,
     "metadata": {},
     "output_type": "execute_result"
    }
   ],
   "source": [
    "try:\n",
    "    result = waylay_client.byoml.model.predict(model_name, df_validate.values.tolist())\n",
    "except WaylayError as exc:\n",
    "    result = str(exc)\n",
    "pd.DataFrame(result)"
   ]
  },
  {
   "cell_type": "markdown",
   "metadata": {},
   "source": [
    "By default the data is returned as a _numpy_ array.\n",
    "\n",
    "You can use the `raw` or `response_constructor` parameters if this doesn't suite your needs.\n",
    "See [Custom Response Handling](Custom%20Response%20Handling.ipynb) for more details."
   ]
  },
  {
   "cell_type": "code",
   "execution_count": 13,
   "metadata": {},
   "outputs": [
    {
     "data": {
      "text/html": [
       "<div>\n",
       "<style scoped>\n",
       "    .dataframe tbody tr th:only-of-type {\n",
       "        vertical-align: middle;\n",
       "    }\n",
       "\n",
       "    .dataframe tbody tr th {\n",
       "        vertical-align: top;\n",
       "    }\n",
       "\n",
       "    .dataframe thead th {\n",
       "        text-align: right;\n",
       "    }\n",
       "</style>\n",
       "<table border=\"1\" class=\"dataframe\">\n",
       "  <thead>\n",
       "    <tr style=\"text-align: right;\">\n",
       "      <th></th>\n",
       "      <th>is_anomaly</th>\n",
       "    </tr>\n",
       "  </thead>\n",
       "  <tbody>\n",
       "    <tr>\n",
       "      <th>0</th>\n",
       "      <td>1</td>\n",
       "    </tr>\n",
       "    <tr>\n",
       "      <th>1</th>\n",
       "      <td>1</td>\n",
       "    </tr>\n",
       "    <tr>\n",
       "      <th>2</th>\n",
       "      <td>1</td>\n",
       "    </tr>\n",
       "    <tr>\n",
       "      <th>3</th>\n",
       "      <td>1</td>\n",
       "    </tr>\n",
       "    <tr>\n",
       "      <th>4</th>\n",
       "      <td>-1</td>\n",
       "    </tr>\n",
       "    <tr>\n",
       "      <th>...</th>\n",
       "      <td>...</td>\n",
       "    </tr>\n",
       "    <tr>\n",
       "      <th>163</th>\n",
       "      <td>1</td>\n",
       "    </tr>\n",
       "    <tr>\n",
       "      <th>164</th>\n",
       "      <td>1</td>\n",
       "    </tr>\n",
       "    <tr>\n",
       "      <th>165</th>\n",
       "      <td>1</td>\n",
       "    </tr>\n",
       "    <tr>\n",
       "      <th>166</th>\n",
       "      <td>1</td>\n",
       "    </tr>\n",
       "    <tr>\n",
       "      <th>167</th>\n",
       "      <td>1</td>\n",
       "    </tr>\n",
       "  </tbody>\n",
       "</table>\n",
       "<p>168 rows × 1 columns</p>\n",
       "</div>"
      ],
      "text/plain": [
       "     is_anomaly\n",
       "0             1\n",
       "1             1\n",
       "2             1\n",
       "3             1\n",
       "4            -1\n",
       "..          ...\n",
       "163           1\n",
       "164           1\n",
       "165           1\n",
       "166           1\n",
       "167           1\n",
       "\n",
       "[168 rows x 1 columns]"
      ]
     },
     "execution_count": 13,
     "metadata": {},
     "output_type": "execute_result"
    },
    {
     "data": {
      "image/png": "[encoded data removed]",
      "text/plain": [
       "<Figure size 1500x500 with 1 Axes>"
      ]
     },
     "metadata": {},
     "output_type": "display_data"
    }
   ],
   "source": [
    "def to_anomaly_df(data):\n",
    "    return pd.DataFrame(data, columns=['is_anomaly'])\n",
    "\n",
    "try:\n",
    "    predictions = waylay_client.byoml.model.predict(\n",
    "        model_name, df_validate.values.tolist(),\n",
    "        response_constructor=to_anomaly_df\n",
    "    )\n",
    "    predictions.plot(figsize=(15,5))\n",
    "except WaylayError as exc:\n",
    "    predictions = str(exc)\n",
    "predictions"
   ]
  },
  {
   "cell_type": "markdown",
   "metadata": {},
   "source": [
    "Byoml models can be deleted as follows.\n",
    "(in this case we check that previous cells executed correctly before deleting)"
   ]
  },
  {
   "cell_type": "code",
   "execution_count": 14,
   "metadata": {},
   "outputs": [
    {
     "data": {
      "text/plain": [
       "{'message': 'Model live-coding: all versions deleted',\n",
       " 'name': 'live-coding',\n",
       " 'versions': ['0.0.1']}"
      ]
     },
     "execution_count": 14,
     "metadata": {},
     "output_type": "execute_result"
    }
   ],
   "source": [
    "result='ignoring delete'\n",
    "if isinstance(predictions, pd.DataFrame):\n",
    "    try:\n",
    "        result = waylay_client.byoml.model.remove(model_name)\n",
    "    except WaylayError as exc:\n",
    "        result = str(exc)\n",
    "result"
   ]
  },
  {
   "cell_type": "code",
   "execution_count": null,
   "metadata": {},
   "outputs": [],
   "source": []
  }
 ],
 "metadata": {
  "kernelspec": {
   "display_name": "Python 3 (ipykernel)",
   "language": "python",
   "name": "python3"
  },
  "language_info": {
   "codemirror_mode": {
    "name": "ipython",
    "version": 3
   },
   "file_extension": ".py",
   "mimetype": "text/x-python",
   "name": "python",
   "nbconvert_exporter": "python",
   "pygments_lexer": "ipython3",
   "version": "3.7.17"
  }
 },
 "nbformat": 4,
 "nbformat_minor": 4
}
