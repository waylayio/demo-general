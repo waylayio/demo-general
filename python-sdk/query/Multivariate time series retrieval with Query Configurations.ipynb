{
 "cells": [
  {
   "cell_type": "markdown",
   "metadata": {},
   "source": [
    "# timeseries query\n",
    "\n",
    "An Query defines a multivariate time series query on the Waylay timeseries database, and can be stored under a name as a Query Configuration.\n",
    "\n",
    "These Query Configurations can be authored and tested on the console https://console.waylay.io/analytics/queries and be saved name. \n",
    "\n",
    "The `analtyics.query` resource in the Waylay Python SDK uses the analytics backend REST services to read, create, update, delete and execute Query Configuration using a standardised JSON representation. \n",
    "\n",
    "A JSON definition of Query can also be executed without storing in a Configuration.\n",
    "\n",
    "See https://docs.waylay.io/api/query/ or https://docs-io.waylay.io/#/features/query/ for more documentation."
   ]
  },
  {
   "cell_type": "markdown",
   "metadata": {},
   "source": [
    "## example usage\n",
    "Import the client and check your backend connections"
   ]
  },
  {
   "cell_type": "code",
   "execution_count": 1,
   "metadata": {},
   "outputs": [],
   "source": [
    "from waylay import WaylayClient\n",
    "waylay_client = WaylayClient.from_profile()"
   ]
  },
  {
   "cell_type": "code",
   "execution_count": 2,
   "metadata": {},
   "outputs": [
    {
     "data": {
      "text/plain": [
       "'tsanalytics.server 0.20.3+1.gdf522f4'"
      ]
     },
     "execution_count": 2,
     "metadata": {},
     "output_type": "execute_result"
    }
   ],
   "source": [
    "waylay_client.analytics.about.version()"
   ]
  },
  {
   "cell_type": "markdown",
   "metadata": {},
   "source": [
    "... assuming you have previously saved a query under the `151CF-temperature` temperature name ...\n",
    "\n",
    "`waylay_client.analytics.query.get` fetches the query _definition_."
   ]
  },
  {
   "cell_type": "code",
   "execution_count": 3,
   "metadata": {},
   "outputs": [
    {
     "data": {
      "text/plain": [
       "{'data': [{'resource': '151CF', 'aggregation': 'median'},\n",
       "  {'metric': 'avgSnr', 'resource': '151CF'},\n",
       "  {'metric': 'lightAmbi', 'aggregation': 'median'},\n",
       "  {'metric': 'avgSnr', 'resource': '151D8'}],\n",
       " 'freq': 'P1D',\n",
       " 'metric': 'temperature',\n",
       " 'window': 'P2M',\n",
       " 'resource': '151CF',\n",
       " 'aggregation': 'median',\n",
       " 'interpolation': {'method': 'pad'}}"
      ]
     },
     "execution_count": 3,
     "metadata": {},
     "output_type": "execute_result"
    }
   ],
   "source": [
    "q_151CF_temp = waylay_client.analytics.query.get('151CF-temperature')\n",
    "q_151CF_temp"
   ]
  },
  {
   "cell_type": "markdown",
   "metadata": {},
   "source": [
    "By default, only the query definition is returned. If you want all metadata, use the `raw` parameter\n"
   ]
  },
  {
   "cell_type": "code",
   "execution_count": 4,
   "metadata": {},
   "outputs": [
    {
     "data": {
      "text/plain": [
       "{'messages': [],\n",
       " 'name': '151CF-temperature',\n",
       " 'query': {'data': [{'resource': '151CF', 'aggregation': 'median'},\n",
       "   {'metric': 'avgSnr', 'resource': '151CF'},\n",
       "   {'metric': 'lightAmbi', 'aggregation': 'median'},\n",
       "   {'metric': 'avgSnr', 'resource': '151D8'}],\n",
       "  'freq': 'P1D',\n",
       "  'metric': 'temperature',\n",
       "  'window': 'P2M',\n",
       "  'resource': '151CF',\n",
       "  'aggregation': 'median',\n",
       "  'interpolation': {'method': 'pad'}},\n",
       " 'meta': {'name': 'temperature',\n",
       "  'tags': ['imported'],\n",
       "  '_links': {'source': 'https://ts-analytics-staging.waylay.io/config/151CF/temperature'},\n",
       "  'author': 'users/0476f99d-ac60-4f86-bc45-7215962754cd',\n",
       "  'source': \"/resources/151CF#tsa_2/configs/*[name='temperature']\",\n",
       "  'modified': '2019-10-16T13:51:22.991765+00:00',\n",
       "  'resource': '151CF'},\n",
       " 'attrs': {'created': '2019-10-16T13:51:22.991765+00:00',\n",
       "  'created_by': 'users/0476f99d-ac60-4f86-bc45-7215962754cd',\n",
       "  'modified': '2020-08-25T11:53:21.406523+00:00',\n",
       "  'modified_by': 'users/0476f99d-ac60-4f86-bc45-7215962754cd'},\n",
       " '_links': {'self': {'href': 'https://ts-analytics-staging.waylay.io/config/query/151CF-temperature'}}}"
      ]
     },
     "execution_count": 4,
     "metadata": {},
     "output_type": "execute_result"
    }
   ],
   "source": [
    "waylay_client.analytics.query.get('151CF-temperature', raw=True).body"
   ]
  },
  {
   "cell_type": "markdown",
   "metadata": {},
   "source": [
    "To execute the saved query, use the `data` operation.\n",
    "\n",
    "By default, this returns a [pandas DataFrame](https://pandas.pydata.org/pandas-docs/stable/reference/api/pandas.DataFrame.html), which render nicely in jupyter notebooks and have built-in support for plots."
   ]
  },
  {
   "cell_type": "code",
   "execution_count": 5,
   "metadata": {},
   "outputs": [
    {
     "data": {
      "text/html": [
       "<div>\n",
       "<style scoped>\n",
       "    .dataframe tbody tr th:only-of-type {\n",
       "        vertical-align: middle;\n",
       "    }\n",
       "\n",
       "    .dataframe tbody tr th {\n",
       "        vertical-align: top;\n",
       "    }\n",
       "\n",
       "    .dataframe thead tr th {\n",
       "        text-align: left;\n",
       "    }\n",
       "\n",
       "    .dataframe thead tr:last-of-type th {\n",
       "        text-align: right;\n",
       "    }\n",
       "</style>\n",
       "<table border=\"1\" class=\"dataframe\">\n",
       "  <thead>\n",
       "    <tr>\n",
       "      <th>resource</th>\n",
       "      <th colspan=\"3\" halign=\"left\">151CF</th>\n",
       "      <th>151D8</th>\n",
       "    </tr>\n",
       "    <tr>\n",
       "      <th>metric</th>\n",
       "      <th>temperature</th>\n",
       "      <th>avgSnr</th>\n",
       "      <th>lightAmbi</th>\n",
       "      <th>avgSnr</th>\n",
       "    </tr>\n",
       "    <tr>\n",
       "      <th>aggregation</th>\n",
       "      <th>median</th>\n",
       "      <th>median</th>\n",
       "      <th>median</th>\n",
       "      <th>median</th>\n",
       "    </tr>\n",
       "    <tr>\n",
       "      <th>timestamp</th>\n",
       "      <th></th>\n",
       "      <th></th>\n",
       "      <th></th>\n",
       "      <th></th>\n",
       "    </tr>\n",
       "  </thead>\n",
       "  <tbody>\n",
       "    <tr>\n",
       "      <th>2021-04-04 00:00:00+00:00</th>\n",
       "      <td>NaN</td>\n",
       "      <td>None</td>\n",
       "      <td>NaN</td>\n",
       "      <td>None</td>\n",
       "    </tr>\n",
       "    <tr>\n",
       "      <th>2021-04-05 00:00:00+00:00</th>\n",
       "      <td>NaN</td>\n",
       "      <td>None</td>\n",
       "      <td>NaN</td>\n",
       "      <td>None</td>\n",
       "    </tr>\n",
       "    <tr>\n",
       "      <th>2021-04-06 00:00:00+00:00</th>\n",
       "      <td>NaN</td>\n",
       "      <td>None</td>\n",
       "      <td>NaN</td>\n",
       "      <td>None</td>\n",
       "    </tr>\n",
       "    <tr>\n",
       "      <th>2021-04-07 00:00:00+00:00</th>\n",
       "      <td>NaN</td>\n",
       "      <td>None</td>\n",
       "      <td>NaN</td>\n",
       "      <td>None</td>\n",
       "    </tr>\n",
       "    <tr>\n",
       "      <th>2021-04-08 00:00:00+00:00</th>\n",
       "      <td>NaN</td>\n",
       "      <td>None</td>\n",
       "      <td>NaN</td>\n",
       "      <td>None</td>\n",
       "    </tr>\n",
       "  </tbody>\n",
       "</table>\n",
       "</div>"
      ],
      "text/plain": [
       "resource                        151CF                   151D8\n",
       "metric                    temperature avgSnr lightAmbi avgSnr\n",
       "aggregation                    median median    median median\n",
       "timestamp                                                    \n",
       "2021-04-04 00:00:00+00:00         NaN   None       NaN   None\n",
       "2021-04-05 00:00:00+00:00         NaN   None       NaN   None\n",
       "2021-04-06 00:00:00+00:00         NaN   None       NaN   None\n",
       "2021-04-07 00:00:00+00:00         NaN   None       NaN   None\n",
       "2021-04-08 00:00:00+00:00         NaN   None       NaN   None"
      ]
     },
     "execution_count": 5,
     "metadata": {},
     "output_type": "execute_result"
    }
   ],
   "source": [
    "df_now = waylay_client.analytics.query.data('151CF-temperature', params={\"from\":\"-P200D\"}, timeout=2000)\n",
    "df_now.head(5)"
   ]
  },
  {
   "cell_type": "code",
   "execution_count": 6,
   "metadata": {},
   "outputs": [
    {
     "data": {
      "text/plain": [
       "<AxesSubplot:xlabel='timestamp'>"
      ]
     },
     "execution_count": 6,
     "metadata": {},
     "output_type": "execute_result"
    },
    {
     "data": {
      "image/png": "[encoded data removed]",
      "text/plain": [
       "<Figure size 1080x360 with 1 Axes>"
      ]
     },
     "metadata": {
      "needs_background": "light"
     },
     "output_type": "display_data"
    }
   ],
   "source": [
    "df_now.plot(figsize=(15,5))"
   ]
  },
  {
   "cell_type": "markdown",
   "metadata": {},
   "source": [
    "You can override parameters of the query definition in a `params` argument."
   ]
  },
  {
   "cell_type": "code",
   "execution_count": 15,
   "metadata": {},
   "outputs": [
    {
     "data": {
      "text/html": [
       "<div>\n",
       "<style scoped>\n",
       "    .dataframe tbody tr th:only-of-type {\n",
       "        vertical-align: middle;\n",
       "    }\n",
       "\n",
       "    .dataframe tbody tr th {\n",
       "        vertical-align: top;\n",
       "    }\n",
       "\n",
       "    .dataframe thead tr th {\n",
       "        text-align: left;\n",
       "    }\n",
       "</style>\n",
       "<table border=\"1\" class=\"dataframe\">\n",
       "  <thead>\n",
       "    <tr>\n",
       "      <th>resource</th>\n",
       "      <th colspan=\"2\" halign=\"left\">151CF</th>\n",
       "    </tr>\n",
       "    <tr>\n",
       "      <th>metric</th>\n",
       "      <th>temperature</th>\n",
       "      <th>lightAmbi</th>\n",
       "    </tr>\n",
       "    <tr>\n",
       "      <th>aggregation</th>\n",
       "      <th>median</th>\n",
       "      <th>median</th>\n",
       "    </tr>\n",
       "  </thead>\n",
       "  <tbody>\n",
       "    <tr>\n",
       "      <th>count</th>\n",
       "      <td>94.000000</td>\n",
       "      <td>94.000000</td>\n",
       "    </tr>\n",
       "    <tr>\n",
       "      <th>mean</th>\n",
       "      <td>18.526596</td>\n",
       "      <td>100.680851</td>\n",
       "    </tr>\n",
       "    <tr>\n",
       "      <th>std</th>\n",
       "      <td>4.627156</td>\n",
       "      <td>83.346145</td>\n",
       "    </tr>\n",
       "    <tr>\n",
       "      <th>min</th>\n",
       "      <td>10.000000</td>\n",
       "      <td>26.000000</td>\n",
       "    </tr>\n",
       "    <tr>\n",
       "      <th>25%</th>\n",
       "      <td>14.250000</td>\n",
       "      <td>52.375000</td>\n",
       "    </tr>\n",
       "    <tr>\n",
       "      <th>50%</th>\n",
       "      <td>19.000000</td>\n",
       "      <td>77.000000</td>\n",
       "    </tr>\n",
       "    <tr>\n",
       "      <th>75%</th>\n",
       "      <td>22.000000</td>\n",
       "      <td>131.625000</td>\n",
       "    </tr>\n",
       "    <tr>\n",
       "      <th>max</th>\n",
       "      <td>28.000000</td>\n",
       "      <td>709.000000</td>\n",
       "    </tr>\n",
       "  </tbody>\n",
       "</table>\n",
       "</div>"
      ],
      "text/plain": [
       "resource          151CF            \n",
       "metric      temperature   lightAmbi\n",
       "aggregation      median      median\n",
       "count         94.000000   94.000000\n",
       "mean          18.526596  100.680851\n",
       "std            4.627156   83.346145\n",
       "min           10.000000   26.000000\n",
       "25%           14.250000   52.375000\n",
       "50%           19.000000   77.000000\n",
       "75%           22.000000  131.625000\n",
       "max           28.000000  709.000000"
      ]
     },
     "execution_count": 15,
     "metadata": {},
     "output_type": "execute_result"
    }
   ],
   "source": [
    "df_100_days_ago = waylay_client.analytics.query.data('151CF-temperature', params={\n",
    "    'window': 'P100D','until':'-P100D'\n",
    "})\n",
    "df_100_days_ago.describe()"
   ]
  },
  {
   "cell_type": "code",
   "execution_count": 16,
   "metadata": {},
   "outputs": [
    {
     "data": {
      "text/plain": [
       "<AxesSubplot:xlabel='timestamp'>"
      ]
     },
     "execution_count": 16,
     "metadata": {},
     "output_type": "execute_result"
    },
    {
     "data": {
      "image/png": "[encoded data removed]",
      "text/plain": [
       "<Figure size 1080x360 with 1 Axes>"
      ]
     },
     "metadata": {
      "needs_background": "light"
     },
     "output_type": "display_data"
    }
   ],
   "source": [
    "df_100_days_ago.plot(figsize=(15,5))"
   ]
  },
  {
   "cell_type": "markdown",
   "metadata": {},
   "source": [
    "You can suppress the conversion to dataframes by setting `response_constructor=False`."
   ]
  },
  {
   "cell_type": "code",
   "execution_count": 18,
   "metadata": {},
   "outputs": [
    {
     "data": {
      "text/plain": [
       "[{'columns': ['timestamp',\n",
       "   {'resource': '151CF', 'metric': 'temperature', 'aggregation': 'median'},\n",
       "   {'resource': '151CF', 'metric': 'avgSnr', 'aggregation': 'median'},\n",
       "   {'resource': '151CF', 'metric': 'lightAmbi', 'aggregation': 'median'},\n",
       "   {'resource': '151D8', 'metric': 'avgSnr', 'aggregation': 'median'}],\n",
       "  'data': [[1611705600000, 20, None, 2, None],\n",
       "   [1611792000000, 20, None, 2, None],\n",
       "   [1611878400000, 19, None, 2, None],\n",
       "   [1611964800000, 18, None, 2, None],\n",
       "   [1612051200000, 19, None, 2, None]],\n",
       "  'data_axis': 'column',\n",
       "  'attributes': {'role': 'input'},\n",
       "  'window_spec': {'from': 1611705600000,\n",
       "   'until': 1612137600000,\n",
       "   'window': 'P5D',\n",
       "   'freq': 'P1D'}}]"
      ]
     },
     "execution_count": 18,
     "metadata": {},
     "output_type": "execute_result"
    }
   ],
   "source": [
    "waylay_client.analytics.query.data(\n",
    "    '151CF-temperature',\n",
    "    params={'until':'2021-02-01', 'window':'P5D'},\n",
    "    response_constructor=False\n",
    ")"
   ]
  },
  {
   "cell_type": "markdown",
   "metadata": {},
   "source": [
    "You can build your own query config definitions, store them `analytics.query.create`, and execute them."
   ]
  },
  {
   "cell_type": "code",
   "execution_count": 19,
   "metadata": {},
   "outputs": [
    {
     "data": {
      "text/plain": [
       "{'name': '151CF-temperature-demo',\n",
       " 'query': {'data': [{'resource': '151CF', 'aggregation': 'median'},\n",
       "   {'metric': 'avgSnr', 'resource': '151CF'},\n",
       "   {'metric': 'avgSnr', 'resource': '151D8'}],\n",
       "  'freq': 'P1D',\n",
       "  'metric': 'temperature',\n",
       "  'window': 'P30D',\n",
       "  'resource': '151CF',\n",
       "  'aggregation': 'median',\n",
       "  'interpolation': {'method': 'pad'},\n",
       "  'until': '2021-02-01'},\n",
       " 'meta': {'description': 'demo, modified version of 151CF-temperature'}}"
      ]
     },
     "execution_count": 19,
     "metadata": {},
     "output_type": "execute_result"
    }
   ],
   "source": [
    "new_query_cfg_name = '151CF-temperature-demo'\n",
    "new_query_cfg = { \n",
    "    'name': new_query_cfg_name,\n",
    "    'query': {},\n",
    "    'meta': { 'description': 'demo, modified version of 151CF-temperature'}\n",
    "}\n",
    "new_query = dict(q_151CF_temp)\n",
    "new_query_cfg['query'] = new_query\n",
    "new_query['data'] = [ series for series in new_query['data'] if (series.get('metric') != 'lightAmbi') ]\n",
    "new_query['until'] = '2021-02-01'\n",
    "new_query['window'] = 'P30D'\n",
    "new_query_cfg"
   ]
  },
  {
   "cell_type": "markdown",
   "metadata": {},
   "source": [
    "We first delete any existing query config under that name"
   ]
  },
  {
   "cell_type": "code",
   "execution_count": 20,
   "metadata": {},
   "outputs": [
    {
     "name": "stdout",
     "output_type": "stream",
     "text": [
      "'151CF-temperature-demo' deleted\n"
     ]
    }
   ],
   "source": [
    "### need to delete any existing query config first\n",
    "from waylay import RestResponseError\n",
    "try: \n",
    "    waylay_client.analytics.query.remove(new_query_cfg_name)\n",
    "    print(f\"'{new_query_cfg_name}' deleted\")\n",
    "except RestResponseError as exc:\n",
    "    print(exc)"
   ]
  },
  {
   "cell_type": "code",
   "execution_count": 21,
   "metadata": {},
   "outputs": [
    {
     "data": {
      "text/plain": [
       "{'data': [{'resource': '151CF', 'aggregation': 'median'},\n",
       "  {'metric': 'avgSnr', 'resource': '151CF'},\n",
       "  {'metric': 'avgSnr', 'resource': '151D8'}],\n",
       " 'freq': 'P1D',\n",
       " 'until': '2021-02-01',\n",
       " 'metric': 'temperature',\n",
       " 'window': 'P30D',\n",
       " 'resource': '151CF',\n",
       " 'aggregation': 'median',\n",
       " 'interpolation': {'method': 'pad'}}"
      ]
     },
     "execution_count": 21,
     "metadata": {},
     "output_type": "execute_result"
    }
   ],
   "source": [
    "waylay_client.analytics.query.create(body=new_query_cfg)"
   ]
  },
  {
   "cell_type": "code",
   "execution_count": 22,
   "metadata": {},
   "outputs": [
    {
     "data": {
      "text/plain": [
       "<AxesSubplot:xlabel='timestamp'>"
      ]
     },
     "execution_count": 22,
     "metadata": {},
     "output_type": "execute_result"
    },
    {
     "data": {
      "image/png": "[encoded data removed]",
      "text/plain": [
       "<Figure size 1080x360 with 1 Axes>"
      ]
     },
     "metadata": {
      "needs_background": "light"
     },
     "output_type": "display_data"
    }
   ],
   "source": [
    "waylay_client.analytics.query.data(new_query_cfg_name).plot(figsize=(15,5))"
   ]
  },
  {
   "cell_type": "markdown",
   "metadata": {},
   "source": [
    "a query config can be updated (the representation cannot have a name in it then)"
   ]
  },
  {
   "cell_type": "code",
   "execution_count": 23,
   "metadata": {},
   "outputs": [
    {
     "data": {
      "text/plain": [
       "<AxesSubplot:xlabel='timestamp'>"
      ]
     },
     "execution_count": 23,
     "metadata": {},
     "output_type": "execute_result"
    },
    {
     "data": {
      "image/png": "[encoded data removed]",
      "text/plain": [
       "<Figure size 1080x360 with 1 Axes>"
      ]
     },
     "metadata": {
      "needs_background": "light"
     },
     "output_type": "display_data"
    }
   ],
   "source": [
    "new_query['until'] = '2021-03-01'\n",
    "waylay_client.analytics.query.replace('151CF-temperature-demo', body={'query': new_query})\n",
    "waylay_client.analytics.query.data('151CF-temperature-demo').plot(figsize=(15,5))"
   ]
  },
  {
   "cell_type": "markdown",
   "metadata": {},
   "source": [
    "If a query does not need to be stored, you can use  `analytics.query.execute` to execute a query without saving it as a Query Configuration"
   ]
  },
  {
   "cell_type": "code",
   "execution_count": 26,
   "metadata": {},
   "outputs": [
    {
     "data": {
      "text/html": [
       "<div>\n",
       "<style scoped>\n",
       "    .dataframe tbody tr th:only-of-type {\n",
       "        vertical-align: middle;\n",
       "    }\n",
       "\n",
       "    .dataframe tbody tr th {\n",
       "        vertical-align: top;\n",
       "    }\n",
       "\n",
       "    .dataframe thead tr th {\n",
       "        text-align: left;\n",
       "    }\n",
       "\n",
       "    .dataframe thead tr:last-of-type th {\n",
       "        text-align: right;\n",
       "    }\n",
       "</style>\n",
       "<table border=\"1\" class=\"dataframe\">\n",
       "  <thead>\n",
       "    <tr>\n",
       "      <th>resource</th>\n",
       "      <th colspan=\"2\" halign=\"left\">151CF</th>\n",
       "      <th>151D8</th>\n",
       "    </tr>\n",
       "    <tr>\n",
       "      <th>metric</th>\n",
       "      <th>temperature</th>\n",
       "      <th>avgSnr</th>\n",
       "      <th>avgSnr</th>\n",
       "    </tr>\n",
       "    <tr>\n",
       "      <th>aggregation</th>\n",
       "      <th>median</th>\n",
       "      <th>median</th>\n",
       "      <th>median</th>\n",
       "    </tr>\n",
       "    <tr>\n",
       "      <th>timestamp</th>\n",
       "      <th></th>\n",
       "      <th></th>\n",
       "      <th></th>\n",
       "    </tr>\n",
       "  </thead>\n",
       "  <tbody>\n",
       "    <tr>\n",
       "      <th>2021-02-24 00:00:00+00:00</th>\n",
       "      <td>19</td>\n",
       "      <td>None</td>\n",
       "      <td>None</td>\n",
       "    </tr>\n",
       "    <tr>\n",
       "      <th>2021-02-25 00:00:00+00:00</th>\n",
       "      <td>18</td>\n",
       "      <td>None</td>\n",
       "      <td>None</td>\n",
       "    </tr>\n",
       "    <tr>\n",
       "      <th>2021-02-26 00:00:00+00:00</th>\n",
       "      <td>18</td>\n",
       "      <td>None</td>\n",
       "      <td>None</td>\n",
       "    </tr>\n",
       "    <tr>\n",
       "      <th>2021-02-27 00:00:00+00:00</th>\n",
       "      <td>18</td>\n",
       "      <td>None</td>\n",
       "      <td>None</td>\n",
       "    </tr>\n",
       "    <tr>\n",
       "      <th>2021-02-28 00:00:00+00:00</th>\n",
       "      <td>18</td>\n",
       "      <td>None</td>\n",
       "      <td>None</td>\n",
       "    </tr>\n",
       "  </tbody>\n",
       "</table>\n",
       "</div>"
      ],
      "text/plain": [
       "resource                        151CF         151D8\n",
       "metric                    temperature avgSnr avgSnr\n",
       "aggregation                    median median median\n",
       "timestamp                                          \n",
       "2021-02-24 00:00:00+00:00          19   None   None\n",
       "2021-02-25 00:00:00+00:00          18   None   None\n",
       "2021-02-26 00:00:00+00:00          18   None   None\n",
       "2021-02-27 00:00:00+00:00          18   None   None\n",
       "2021-02-28 00:00:00+00:00          18   None   None"
      ]
     },
     "execution_count": 26,
     "metadata": {},
     "output_type": "execute_result"
    }
   ],
   "source": [
    "waylay_client.analytics.query.execute(body=new_query, params={'window':'P5D'})"
   ]
  },
  {
   "cell_type": "code",
   "execution_count": null,
   "metadata": {},
   "outputs": [],
   "source": []
  }
 ],
 "metadata": {
  "kernelspec": {
   "display_name": "Python 3 (ipykernel)",
   "language": "python",
   "name": "python3"
  },
  "language_info": {
   "codemirror_mode": {
    "name": "ipython",
    "version": 3
   },
   "file_extension": ".py",
   "mimetype": "text/x-python",
   "name": "python",
   "nbconvert_exporter": "python",
   "pygments_lexer": "ipython3",
   "version": "3.8.12"
  }
 },
 "nbformat": 4,
 "nbformat_minor": 4
}
