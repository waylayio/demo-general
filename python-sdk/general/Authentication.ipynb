{
 "cells": [
  {
   "cell_type": "markdown",
   "metadata": {},
   "source": [
    "# Python SDK configuration\n",
    "\n",
    "This notebook illustrates how to connect to the Waylay Platform using the Python SDK (waylay-py)\n",
    "\n",
    "When connecting to the waylay platform, the calls that the SDK makes must be properly authenticated, and use the correct endpoints.\n",
    "\n",
    "In general\n",
    "* you authenticate with _client credentials_ in the form of an `apiKey` and `apiSecret` that you have created using the Waylay Console application.\n",
    "* since version `0.5.0` the configuration relies on a single `gateway_url` (`api.waylay.io` for the Enterprise platform) to indicate the Waylay platform. Legacy clients configure an authorisation server `accounts_url` (`accounts-api.waylay.io` for Enterprise). \n",
    "* the client exchanges these _credentials_ for a _waylay token_ with limited time validity, and uses this token to perform backend calls.\n",
    "* For legacy clients configured with `accounts_url`, the client uses the _global settings_ configurations (managed in the Waylay Console) to define any specific url endpoints.\n",
    "* Both endpoint configuration methods allow local endpoint overrides which can be saved in configuration profiles.\n",
    "\n",
    "This notebook illustrates an interactive authentication method that is intended for usage in python notebooks:\n",
    "* it does not leak secrets into the notebook\n",
    "* if requested, it stores authentication information on as a _profile_ file in a [platform-specific user config directory](https://pypi.org/project/appdirs/) on the local file system. \n",
    "\n",
    "Non-interactive authentication methods (e.g. for integration in scripts) are discussed at the end of the notebook.\n",
    "\n",
    "The `WaylayClient` object represents a (configured) client that has access to multiple Waylay Services.\n",
    "\n",
    "The `WaylayConfig` object represents a local client settings object, that can be saved."
   ]
  },
  {
   "cell_type": "code",
   "execution_count": 1,
   "metadata": {},
   "outputs": [
    {
     "data": {
      "text/plain": [
       "'v0.7.0'"
      ]
     },
     "execution_count": 1,
     "metadata": {},
     "output_type": "execute_result"
    }
   ],
   "source": [
    "from waylay import WaylayConfig, WaylayClient, __version__ as version\n",
    "version"
   ]
  },
  {
   "cell_type": "markdown",
   "metadata": {},
   "source": [
    "## Authentication with stored profiles\n",
    "\n",
    "The Python SDK connection settings can be stored in local profile files.\n",
    "\n",
    "For this demo, we first delete the 'demo' profile (if it exists)"
   ]
  },
  {
   "cell_type": "code",
   "execution_count": 2,
   "metadata": {},
   "outputs": [
    {
     "name": "stderr",
     "output_type": "stream",
     "text": [
      "waylay configuration removed: /Users/thomas/Library/Application Support/Waylay/python_sdk/.profile.demo.json\n"
     ]
    },
    {
     "data": {
      "text/plain": [
       "'/Users/thomas/Library/Application Support/Waylay/python_sdk/.profile.demo.json'"
      ]
     },
     "execution_count": 2,
     "metadata": {},
     "output_type": "execute_result"
    }
   ],
   "source": [
    "WaylayConfig.delete('demo')"
   ]
  },
  {
   "cell_type": "markdown",
   "metadata": {},
   "source": [
    "You can authenticate with a profile as follows. When the profile is not found on the file system, it will be created interactively"
   ]
  },
  {
   "cell_type": "code",
   "execution_count": 3,
   "metadata": {},
   "outputs": [
    {
     "name": "stdout",
     "output_type": "stream",
     "text": [
      "Authenticating to the Waylay Platform\n",
      "Proposed api gateway: https://api.waylay.io\n",
      "Please confirm, or specify a gateway by platform id, hostname or url.\n",
      "Examples:\n",
      "    'enterprise' (or 'api.waylay.io') for the Enterprise platform,\n",
      "    'https://waylay-api.mycompany.com' as a custom endpoint url\n",
      "        \n"
     ]
    },
    {
     "name": "stdin",
     "output_type": "stream",
     "text": [
      "> Press enter to confirm, or specify an alternate gateway [https://api.waylay.io]:  api.waylay.io\n"
     ]
    },
    {
     "name": "stdout",
     "output_type": "stream",
     "text": [
      "Using gateway: https://api.waylay.io\n",
      "Please provide client credentials for the waylay data client.\n"
     ]
    },
    {
     "name": "stdin",
     "output_type": "stream",
     "text": [
      "> apiKey :  41e9fa5124307d9ebeed7909\n",
      "> apiSecret :  ········\n",
      "> Do you want to store these credentials with profile=demo? [Y]:  Y\n"
     ]
    },
    {
     "name": "stdout",
     "output_type": "stream",
     "text": [
      "Credential configuration stored as \n",
      "\t/Users/thomas/Library/Application Support/Waylay/python_sdk/.profile.demo.json\n",
      "Please make sure this file is treated securely.\n",
      "If compromised, _Revoke_ the api-key on the Waylay Console!\n"
     ]
    }
   ],
   "source": [
    "waylay_client = WaylayClient.from_profile('demo')"
   ]
  },
  {
   "cell_type": "markdown",
   "metadata": {},
   "source": [
    "Once a profile exists, it can be used until you delete it."
   ]
  },
  {
   "cell_type": "code",
   "execution_count": 4,
   "metadata": {},
   "outputs": [],
   "source": [
    "waylay_client = WaylayClient.from_profile('demo')"
   ]
  },
  {
   "cell_type": "markdown",
   "metadata": {},
   "source": [
    "A client will use the endpoint configurations defined in the tenant (global) settings."
   ]
  },
  {
   "cell_type": "code",
   "execution_count": 5,
   "metadata": {},
   "outputs": [
    {
     "data": {
      "text/plain": [
       "{'byoml': 'https://api.waylay.io/ml/v1',\n",
       " 'query': 'https://api.waylay.io/queries/v1',\n",
       " 'resources': 'https://api.waylay.io/resources/v1',\n",
       " 'storage': 'https://api.waylay.io/storage/v1',\n",
       " 'etl': 'https://api.waylay.io/etl/v1',\n",
       " 'data': 'https://api.waylay.io/data/v1'}"
      ]
     },
     "execution_count": 5,
     "metadata": {},
     "output_type": "execute_result"
    }
   ],
   "source": [
    "waylay_client.list_root_urls()"
   ]
  },
  {
   "cell_type": "code",
   "execution_count": 6,
   "metadata": {},
   "outputs": [
    {
     "data": {
      "text/plain": [
       "'0.3.0'"
      ]
     },
     "execution_count": 6,
     "metadata": {},
     "output_type": "execute_result"
    }
   ],
   "source": [
    "waylay_client.queries.about.version()"
   ]
  },
  {
   "cell_type": "markdown",
   "metadata": {},
   "source": [
    "you can check connection profile by printing the config object"
   ]
  },
  {
   "cell_type": "code",
   "execution_count": 7,
   "metadata": {},
   "outputs": [
    {
     "name": "stdout",
     "output_type": "stream",
     "text": [
      "{\"credentials\": {\"type\": \"client_credentials\", \"api_key\": \"41e9fa5124307d9ebeed7909\", \"api_secret\": \"********\", \"gateway_url\": \"https://api.waylay.io\", \"accounts_url\": null}, \"profile\": \"demo\", \"settings\": {}}\n"
     ]
    }
   ],
   "source": [
    "print(waylay_client.config)"
   ]
  },
  {
   "cell_type": "markdown",
   "metadata": {},
   "source": [
    "you can override endpoints and save the updates"
   ]
  },
  {
   "cell_type": "code",
   "execution_count": 8,
   "metadata": {},
   "outputs": [
    {
     "data": {
      "text/plain": [
       "{'byoml': 'https://api.waylay.io/ml/v1',\n",
       " 'query': 'https://api.waylay.io/queries/v1',\n",
       " 'resources': 'https://api.waylay.io/resources/v1',\n",
       " 'storage': 'https://storage.waylay.io',\n",
       " 'etl': 'https://api.waylay.io/etl/v1',\n",
       " 'data': 'https://api.waylay.io/data/v1'}"
      ]
     },
     "execution_count": 8,
     "metadata": {},
     "output_type": "execute_result"
    }
   ],
   "source": [
    "waylay_client.storage.set_root_url('https://storage.waylay.io')\n",
    "waylay_client.list_root_urls()"
   ]
  },
  {
   "cell_type": "code",
   "execution_count": 9,
   "metadata": {},
   "outputs": [
    {
     "data": {
      "text/plain": [
       "'0.3.0'"
      ]
     },
     "execution_count": 9,
     "metadata": {},
     "output_type": "execute_result"
    }
   ],
   "source": [
    "waylay_client.queries.about.version()"
   ]
  },
  {
   "cell_type": "markdown",
   "metadata": {},
   "source": [
    ".. and save it in the stored profile"
   ]
  },
  {
   "cell_type": "code",
   "execution_count": 10,
   "metadata": {},
   "outputs": [
    {
     "name": "stdout",
     "output_type": "stream",
     "text": [
      "{\"credentials\": {\"type\": \"client_credentials\", \"api_key\": \"41e9fa5124307d9ebeed7909\", \"api_secret\": \"********\", \"gateway_url\": \"https://api.waylay.io\", \"accounts_url\": null}, \"profile\": \"demo\", \"settings\": {\"waylay_storage\": \"https://storage.waylay.io\"}}\n"
     ]
    }
   ],
   "source": [
    "waylay_client.config.save()\n",
    "\n",
    "print(WaylayConfig.load('demo'))"
   ]
  },
  {
   "cell_type": "markdown",
   "metadata": {},
   "source": [
    "when not specifying a profile name, the `_default_` profile is used."
   ]
  },
  {
   "cell_type": "code",
   "execution_count": 11,
   "metadata": {},
   "outputs": [
    {
     "name": "stdout",
     "output_type": "stream",
     "text": [
      "{\"credentials\": {\"type\": \"client_credentials\", \"api_key\": \"fc29ca8f37544723fc39d908\", \"api_secret\": \"********\", \"gateway_url\": \"https://api-aws-dev.waylay.io\", \"accounts_url\": null}, \"profile\": \"_default_\", \"settings\": {}}\n"
     ]
    }
   ],
   "source": [
    "# WaylayConfig.delete()\n",
    "waylay_client = WaylayClient.from_profile()\n",
    "print(waylay_client.config)"
   ]
  },
  {
   "cell_type": "markdown",
   "metadata": {},
   "source": [
    "## Managing config profiles\n",
    "\n",
    "The _WaylayConfig_ class provides the following methods to interact with config profiles."
   ]
  },
  {
   "cell_type": "code",
   "execution_count": 12,
   "metadata": {},
   "outputs": [
    {
     "name": "stderr",
     "output_type": "stream",
     "text": [
      "waylay configuration not found: /Users/thomas/Library/Application Support/Waylay/python_sdk/.profile.example_notebook.json\n"
     ]
    },
    {
     "data": {
      "text/plain": [
       "<WaylayConfig({\"credentials\": {\"type\": \"client_credentials\", \"api_key\": \"41e9fa5124307d9ebeed7909\", \"api_secret\": \"********\", \"gateway_url\": \"https://api.waylay.io\", \"accounts_url\": null}, \"profile\": \"demo_copy\", \"settings\": {\"waylay_storage\": \"https://storage.waylay.io\"}})>"
      ]
     },
     "execution_count": 12,
     "metadata": {},
     "output_type": "execute_result"
    }
   ],
   "source": [
    "# list profiles\n",
    "WaylayConfig.list_profiles()\n",
    "\n",
    "# delete profiles\n",
    "WaylayConfig.delete('example_notebook')\n",
    "\n",
    "# load configuration from profile\n",
    "config = WaylayConfig.load('demo')\n",
    "waylay_client = WaylayClient(config)\n",
    "\n",
    "# .. alternatively ...\n",
    "WaylayClient.from_profile('demo')\n",
    "\n",
    "# save (altered) configuration in a profile\n",
    "config.profile = 'demo_copy'\n",
    "config.save()\n",
    "config"
   ]
  },
  {
   "cell_type": "markdown",
   "metadata": {},
   "source": [
    "## Alternative authentication methods\n",
    "Alternatively explicitely configure a Waylay Client with client credentials or waylay token. (e.g. reading it from you own-defined environment variables)"
   ]
  },
  {
   "cell_type": "markdown",
   "metadata": {},
   "source": [
    "### Authenticate with client credentials"
   ]
  },
  {
   "cell_type": "code",
   "execution_count": 13,
   "metadata": {},
   "outputs": [
    {
     "data": {
      "text/plain": [
       "'{\"credentials\": {\"type\": \"client_credentials\", \"api_key\": \"fc29ca8f37544723fc39d908\", \"api_secret\": \"********\", \"gateway_url\": \"https://api-aws-dev.waylay.io\", \"accounts_url\": null}, \"profile\": \"_default_\", \"settings\": {}}'"
      ]
     },
     "execution_count": 13,
     "metadata": {},
     "output_type": "execute_result"
    }
   ],
   "source": [
    "import os\n",
    "api_key = os.getenv('WAYLAY_TEST_USER_ID')\n",
    "api_secret = os.getenv('WAYLAY_TEST_USER_SECRET')\n",
    "gateway_url = os.getenv('WAYLAY_TEST_GATEWAY_URL',  'https://api-aws-dev.waylay.io')\n",
    "waylay_client_from_cc = WaylayClient.from_client_credentials(api_key, api_secret, gateway_url=gateway_url)\n",
    "str(waylay_client_from_cc.config)"
   ]
  },
  {
   "cell_type": "markdown",
   "metadata": {},
   "source": [
    "### Authenticate with a waylay token"
   ]
  },
  {
   "cell_type": "code",
   "execution_count": 14,
   "metadata": {},
   "outputs": [],
   "source": [
    "# temporary user token generated from the client credentials above\n",
    "token = waylay_client_from_cc.config.get_valid_token()"
   ]
  },
  {
   "cell_type": "code",
   "execution_count": 15,
   "metadata": {},
   "outputs": [
    {
     "data": {
      "text/plain": [
       "'staging.dev.waylay.io'"
      ]
     },
     "execution_count": 15,
     "metadata": {},
     "output_type": "execute_result"
    }
   ],
   "source": [
    "token.domain"
   ]
  },
  {
   "cell_type": "code",
   "execution_count": 16,
   "metadata": {},
   "outputs": [],
   "source": [
    "# string representation is the signed token\n",
    "signed_token_string = str(token)"
   ]
  },
  {
   "cell_type": "code",
   "execution_count": 17,
   "metadata": {},
   "outputs": [],
   "source": [
    "waylay_client_from_token = WaylayClient.from_token(\n",
    "    signed_token_string, \n",
    "    gateway_url=waylay_client_from_cc.config.gateway_url\n",
    ")"
   ]
  },
  {
   "cell_type": "code",
   "execution_count": 18,
   "metadata": {},
   "outputs": [
    {
     "data": {
      "text/plain": [
       "'{\"credentials\": {\"type\": \"token\", \"token\": \"*********\", \"gateway_url\": \"https://api-aws-dev.waylay.io\", \"accounts_url\": null}, \"profile\": \"_default_\", \"settings\": {}}'"
      ]
     },
     "execution_count": 18,
     "metadata": {},
     "output_type": "execute_result"
    }
   ],
   "source": [
    "str(waylay_client_from_token.config)"
   ]
  },
  {
   "cell_type": "markdown",
   "metadata": {},
   "source": [
    "Note that clients with a _token credential_ configuration will fail after the token has expired. \n",
    "\n",
    "Clients with _client credentials_ will renew the token automatically when it expires."
   ]
  },
  {
   "cell_type": "markdown",
   "metadata": {},
   "source": [
    "### saving a profile elsewhere\n",
    "You can export and reconstruct configurations also manually:"
   ]
  },
  {
   "cell_type": "code",
   "execution_count": 19,
   "metadata": {},
   "outputs": [],
   "source": [
    "demo_config = WaylayConfig.load('demo')"
   ]
  },
  {
   "cell_type": "code",
   "execution_count": 20,
   "metadata": {},
   "outputs": [
    {
     "data": {
      "text/plain": [
       "{'credentials': {'type': 'client_credentials',\n",
       "  'api_key': '41e9fa5124307d9ebeed7909',\n",
       "  'api_secret': '********',\n",
       "  'gateway_url': 'https://api.waylay.io',\n",
       "  'accounts_url': None},\n",
       " 'profile': 'demo',\n",
       " 'settings': {'waylay_storage': 'https://storage.waylay.io'}}"
      ]
     },
     "execution_count": 20,
     "metadata": {},
     "output_type": "execute_result"
    }
   ],
   "source": [
    "demo_config_json = demo_config.to_dict(obfuscate=False)\n",
    "restored_config = WaylayConfig.from_dict(demo_config_json)\n",
    "restored_config.to_dict()"
   ]
  },
  {
   "cell_type": "code",
   "execution_count": 21,
   "metadata": {},
   "outputs": [],
   "source": [
    "restored_client = WaylayClient(restored_config)"
   ]
  },
  {
   "cell_type": "code",
   "execution_count": 22,
   "metadata": {},
   "outputs": [
    {
     "data": {
      "text/plain": [
       "{'byoml': 'https://api.waylay.io/ml/v1',\n",
       " 'query': 'https://api.waylay.io/queries/v1',\n",
       " 'resources': 'https://api.waylay.io/resources/v1',\n",
       " 'storage': 'https://storage.waylay.io',\n",
       " 'etl': 'https://api.waylay.io/etl/v1',\n",
       " 'data': 'https://api.waylay.io/data/v1'}"
      ]
     },
     "execution_count": 22,
     "metadata": {},
     "output_type": "execute_result"
    }
   ],
   "source": [
    "restored_client.list_root_urls()"
   ]
  },
  {
   "cell_type": "code",
   "execution_count": 23,
   "metadata": {},
   "outputs": [
    {
     "data": {
      "text/plain": [
       "<WaylayClient(services=[byoml,timeseries,queries,resources,storage,util,etl,data],config={\"credentials\": {\"type\": \"client_credentials\", \"api_key\": \"41e9fa5124307d9ebeed7909\", \"api_secret\": \"********\", \"gateway_url\": \"https://api.waylay.io\", \"accounts_url\": null}, \"profile\": \"demo\", \"settings\": {\"waylay_storage\": \"https://storage.waylay.io\"}})>"
      ]
     },
     "execution_count": 23,
     "metadata": {},
     "output_type": "execute_result"
    }
   ],
   "source": [
    "demo_config_json = demo_config.to_dict(obfuscate=False)\n",
    "\n",
    "WaylayClient(WaylayConfig.from_dict(demo_config_json))"
   ]
  },
  {
   "cell_type": "code",
   "execution_count": null,
   "metadata": {},
   "outputs": [],
   "source": []
  },
  {
   "cell_type": "code",
   "execution_count": null,
   "metadata": {},
   "outputs": [],
   "source": []
  }
 ],
 "metadata": {
  "kernelspec": {
   "display_name": "Python 3 (ipykernel)",
   "language": "python",
   "name": "python3"
  },
  "language_info": {
   "codemirror_mode": {
    "name": "ipython",
    "version": 3
   },
   "file_extension": ".py",
   "mimetype": "text/x-python",
   "name": "python",
   "nbconvert_exporter": "python",
   "pygments_lexer": "ipython3",
   "version": "3.9.18"
  }
 },
 "nbformat": 4,
 "nbformat_minor": 4
}
