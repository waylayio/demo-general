{
 "cells": [
  {
   "cell_type": "code",
   "execution_count": 1,
   "id": "d24c389a",
   "metadata": {
    "tags": [
     "doc_exclude"
    ]
   },
   "outputs": [],
   "source": [
    "## requirements\n",
    "# conda install --file env/byoml_tensorflow.environment.yml\n",
    "# conda activate byoml_tensorflow \n",
    "# pip install -r env/byoml_tensorflow.requirements.txt"
   ]
  },
  {
   "cell_type": "code",
   "execution_count": 2,
   "id": "5bb79bc3",
   "metadata": {
    "tags": [
     "parameters"
    ]
   },
   "outputs": [],
   "source": [
    "MODEL_NAME='retries-example'\n",
    "WINDOW=12\n",
    "TEST_DATA_SIZE = 24"
   ]
  },
  {
   "cell_type": "markdown",
   "id": "29e342be",
   "metadata": {},
   "source": [
    "## Retries example based on a TensorFlow model\n",
    "\n",
    "In this notebook we show how you can create and upload a TensorFlow model to Waylay. We will expect you to save your model using the [SavedModel format](https://www.tensorflow.org/guide/saved_model).\n",
    "When a model is uploaded to Waylay, it takes a moment to compile the model. After compilation, the model will be available for use. If a request ('get' or 'predict') is done before the model is compiled, a 409 Error will be returned. Python SDK has a standard Retry policy, but this can be configured by the user as they wish. If logging is turned on, more info on each retry will be logged.\n",
    "\n",
    "First let's import a dataset:"
   ]
  },
  {
   "cell_type": "code",
   "execution_count": 3,
   "id": "d56a83cf",
   "metadata": {},
   "outputs": [
    {
     "ename": "ModuleNotFoundError",
     "evalue": "No module named 'seaborn'",
     "output_type": "error",
     "traceback": [
      "\u001b[0;31m---------------------------------------------------------------------------\u001b[0m",
      "\u001b[0;31mModuleNotFoundError\u001b[0m                       Traceback (most recent call last)",
      "\u001b[0;32m/var/folders/07/zn347xhn33z8m79l8xtz1hn80000gp/T/ipykernel_24865/2202055616.py\u001b[0m in \u001b[0;36m<module>\u001b[0;34m\u001b[0m\n\u001b[0;32m----> 1\u001b[0;31m \u001b[0;32mimport\u001b[0m \u001b[0mseaborn\u001b[0m \u001b[0;32mas\u001b[0m \u001b[0msns\u001b[0m\u001b[0;34m\u001b[0m\u001b[0;34m\u001b[0m\u001b[0m\n\u001b[0m\u001b[1;32m      2\u001b[0m \u001b[0;32mimport\u001b[0m \u001b[0mpandas\u001b[0m \u001b[0;32mas\u001b[0m \u001b[0mpd\u001b[0m\u001b[0;34m\u001b[0m\u001b[0;34m\u001b[0m\u001b[0m\n\u001b[1;32m      3\u001b[0m \u001b[0;32mimport\u001b[0m \u001b[0mlogging\u001b[0m\u001b[0;34m\u001b[0m\u001b[0;34m\u001b[0m\u001b[0m\n\u001b[1;32m      4\u001b[0m \u001b[0;34m\u001b[0m\u001b[0m\n\u001b[1;32m      5\u001b[0m \u001b[0mlogging\u001b[0m\u001b[0;34m.\u001b[0m\u001b[0mbasicConfig\u001b[0m\u001b[0;34m(\u001b[0m\u001b[0mlevel\u001b[0m\u001b[0;34m=\u001b[0m\u001b[0mlogging\u001b[0m\u001b[0;34m.\u001b[0m\u001b[0mINFO\u001b[0m\u001b[0;34m)\u001b[0m\u001b[0;34m\u001b[0m\u001b[0;34m\u001b[0m\u001b[0m\n",
      "\u001b[0;31mModuleNotFoundError\u001b[0m: No module named 'seaborn'"
     ]
    }
   ],
   "source": [
    "import seaborn as sns\n",
    "import pandas as pd\n",
    "import logging\n",
    "\n",
    "logging.basicConfig(level=logging.INFO)"
   ]
  },
  {
   "cell_type": "code",
   "execution_count": 4,
   "id": "25acbbbb",
   "metadata": {},
   "outputs": [
    {
     "ename": "NameError",
     "evalue": "name 'sns' is not defined",
     "output_type": "error",
     "traceback": [
      "\u001b[0;31m---------------------------------------------------------------------------\u001b[0m",
      "\u001b[0;31mNameError\u001b[0m                                 Traceback (most recent call last)",
      "\u001b[0;32m/var/folders/07/zn347xhn33z8m79l8xtz1hn80000gp/T/ipykernel_24865/3497578304.py\u001b[0m in \u001b[0;36m<module>\u001b[0;34m\u001b[0m\n\u001b[0;32m----> 1\u001b[0;31m \u001b[0mdf\u001b[0m \u001b[0;34m=\u001b[0m \u001b[0msns\u001b[0m\u001b[0;34m.\u001b[0m\u001b[0mload_dataset\u001b[0m\u001b[0;34m(\u001b[0m\u001b[0;34m'flights'\u001b[0m\u001b[0;34m)\u001b[0m\u001b[0;34m\u001b[0m\u001b[0;34m\u001b[0m\u001b[0m\n\u001b[0m\u001b[1;32m      2\u001b[0m \u001b[0mdf\u001b[0m \u001b[0;34m=\u001b[0m \u001b[0mdf\u001b[0m\u001b[0;34m.\u001b[0m\u001b[0mset_index\u001b[0m\u001b[0;34m(\u001b[0m\u001b[0;34m[\u001b[0m\u001b[0;34m'year'\u001b[0m\u001b[0;34m,\u001b[0m \u001b[0;34m'month'\u001b[0m\u001b[0;34m]\u001b[0m\u001b[0;34m)\u001b[0m\u001b[0;34m\u001b[0m\u001b[0;34m\u001b[0m\u001b[0m\n\u001b[1;32m      3\u001b[0m \u001b[0mdf\u001b[0m\u001b[0;34m.\u001b[0m\u001b[0mplot\u001b[0m\u001b[0;34m(\u001b[0m\u001b[0mfigsize\u001b[0m\u001b[0;34m=\u001b[0m\u001b[0;34m(\u001b[0m\u001b[0;36m16\u001b[0m\u001b[0;34m,\u001b[0m\u001b[0;36m6\u001b[0m\u001b[0;34m)\u001b[0m\u001b[0;34m)\u001b[0m\u001b[0;34m\u001b[0m\u001b[0;34m\u001b[0m\u001b[0m\n\u001b[1;32m      4\u001b[0m \u001b[0mdf\u001b[0m\u001b[0;34m.\u001b[0m\u001b[0munstack\u001b[0m\u001b[0;34m(\u001b[0m\u001b[0;34m'month'\u001b[0m\u001b[0;34m)\u001b[0m\u001b[0;34m\u001b[0m\u001b[0;34m\u001b[0m\u001b[0m\n",
      "\u001b[0;31mNameError\u001b[0m: name 'sns' is not defined"
     ]
    }
   ],
   "source": [
    "df = sns.load_dataset('flights')\n",
    "df = df.set_index(['year', 'month'])\n",
    "df.plot(figsize=(16,6))\n",
    "df.unstack('month')"
   ]
  },
  {
   "cell_type": "code",
   "execution_count": 5,
   "id": "9c0df4f4",
   "metadata": {},
   "outputs": [],
   "source": [
    "import tensorflow as tf\n",
    "import numpy as np"
   ]
  },
  {
   "cell_type": "code",
   "execution_count": 6,
   "id": "d713e2a9",
   "metadata": {},
   "outputs": [
    {
     "data": {
      "text/html": [
       "<div>\n",
       "<style scoped>\n",
       "    .dataframe tbody tr th:only-of-type {\n",
       "        vertical-align: middle;\n",
       "    }\n",
       "\n",
       "    .dataframe tbody tr th {\n",
       "        vertical-align: top;\n",
       "    }\n",
       "\n",
       "    .dataframe thead tr th {\n",
       "        text-align: left;\n",
       "    }\n",
       "\n",
       "    .dataframe thead tr:last-of-type th {\n",
       "        text-align: right;\n",
       "    }\n",
       "</style>\n",
       "<table border=\"1\" class=\"dataframe\">\n",
       "  <thead>\n",
       "    <tr>\n",
       "      <th></th>\n",
       "      <th></th>\n",
       "      <th colspan=\"12\" halign=\"left\">features</th>\n",
       "      <th>labels</th>\n",
       "    </tr>\n",
       "    <tr>\n",
       "      <th></th>\n",
       "      <th></th>\n",
       "      <th>+0M</th>\n",
       "      <th>+1M</th>\n",
       "      <th>+2M</th>\n",
       "      <th>+3M</th>\n",
       "      <th>+4M</th>\n",
       "      <th>+5M</th>\n",
       "      <th>+6M</th>\n",
       "      <th>+7M</th>\n",
       "      <th>+8M</th>\n",
       "      <th>+9M</th>\n",
       "      <th>+10M</th>\n",
       "      <th>+11M</th>\n",
       "      <th>+12M</th>\n",
       "    </tr>\n",
       "    <tr>\n",
       "      <th>year</th>\n",
       "      <th>month</th>\n",
       "      <th></th>\n",
       "      <th></th>\n",
       "      <th></th>\n",
       "      <th></th>\n",
       "      <th></th>\n",
       "      <th></th>\n",
       "      <th></th>\n",
       "      <th></th>\n",
       "      <th></th>\n",
       "      <th></th>\n",
       "      <th></th>\n",
       "      <th></th>\n",
       "      <th></th>\n",
       "    </tr>\n",
       "  </thead>\n",
       "  <tbody>\n",
       "    <tr>\n",
       "      <th rowspan=\"5\" valign=\"top\">1949</th>\n",
       "      <th>Jan</th>\n",
       "      <td>112</td>\n",
       "      <td>118</td>\n",
       "      <td>132</td>\n",
       "      <td>129</td>\n",
       "      <td>121</td>\n",
       "      <td>135</td>\n",
       "      <td>148</td>\n",
       "      <td>148</td>\n",
       "      <td>136</td>\n",
       "      <td>119</td>\n",
       "      <td>104</td>\n",
       "      <td>118</td>\n",
       "      <td>115</td>\n",
       "    </tr>\n",
       "    <tr>\n",
       "      <th>Feb</th>\n",
       "      <td>118</td>\n",
       "      <td>132</td>\n",
       "      <td>129</td>\n",
       "      <td>121</td>\n",
       "      <td>135</td>\n",
       "      <td>148</td>\n",
       "      <td>148</td>\n",
       "      <td>136</td>\n",
       "      <td>119</td>\n",
       "      <td>104</td>\n",
       "      <td>118</td>\n",
       "      <td>115</td>\n",
       "      <td>126</td>\n",
       "    </tr>\n",
       "    <tr>\n",
       "      <th>Mar</th>\n",
       "      <td>132</td>\n",
       "      <td>129</td>\n",
       "      <td>121</td>\n",
       "      <td>135</td>\n",
       "      <td>148</td>\n",
       "      <td>148</td>\n",
       "      <td>136</td>\n",
       "      <td>119</td>\n",
       "      <td>104</td>\n",
       "      <td>118</td>\n",
       "      <td>115</td>\n",
       "      <td>126</td>\n",
       "      <td>141</td>\n",
       "    </tr>\n",
       "    <tr>\n",
       "      <th>Apr</th>\n",
       "      <td>129</td>\n",
       "      <td>121</td>\n",
       "      <td>135</td>\n",
       "      <td>148</td>\n",
       "      <td>148</td>\n",
       "      <td>136</td>\n",
       "      <td>119</td>\n",
       "      <td>104</td>\n",
       "      <td>118</td>\n",
       "      <td>115</td>\n",
       "      <td>126</td>\n",
       "      <td>141</td>\n",
       "      <td>135</td>\n",
       "    </tr>\n",
       "    <tr>\n",
       "      <th>May</th>\n",
       "      <td>121</td>\n",
       "      <td>135</td>\n",
       "      <td>148</td>\n",
       "      <td>148</td>\n",
       "      <td>136</td>\n",
       "      <td>119</td>\n",
       "      <td>104</td>\n",
       "      <td>118</td>\n",
       "      <td>115</td>\n",
       "      <td>126</td>\n",
       "      <td>141</td>\n",
       "      <td>135</td>\n",
       "      <td>125</td>\n",
       "    </tr>\n",
       "    <tr>\n",
       "      <th>...</th>\n",
       "      <th>...</th>\n",
       "      <td>...</td>\n",
       "      <td>...</td>\n",
       "      <td>...</td>\n",
       "      <td>...</td>\n",
       "      <td>...</td>\n",
       "      <td>...</td>\n",
       "      <td>...</td>\n",
       "      <td>...</td>\n",
       "      <td>...</td>\n",
       "      <td>...</td>\n",
       "      <td>...</td>\n",
       "      <td>...</td>\n",
       "      <td>...</td>\n",
       "    </tr>\n",
       "    <tr>\n",
       "      <th rowspan=\"5\" valign=\"top\">1957</th>\n",
       "      <th>Aug</th>\n",
       "      <td>467</td>\n",
       "      <td>404</td>\n",
       "      <td>347</td>\n",
       "      <td>305</td>\n",
       "      <td>336</td>\n",
       "      <td>340</td>\n",
       "      <td>318</td>\n",
       "      <td>362</td>\n",
       "      <td>348</td>\n",
       "      <td>363</td>\n",
       "      <td>435</td>\n",
       "      <td>491</td>\n",
       "      <td>505</td>\n",
       "    </tr>\n",
       "    <tr>\n",
       "      <th>Sep</th>\n",
       "      <td>404</td>\n",
       "      <td>347</td>\n",
       "      <td>305</td>\n",
       "      <td>336</td>\n",
       "      <td>340</td>\n",
       "      <td>318</td>\n",
       "      <td>362</td>\n",
       "      <td>348</td>\n",
       "      <td>363</td>\n",
       "      <td>435</td>\n",
       "      <td>491</td>\n",
       "      <td>505</td>\n",
       "      <td>404</td>\n",
       "    </tr>\n",
       "    <tr>\n",
       "      <th>Oct</th>\n",
       "      <td>347</td>\n",
       "      <td>305</td>\n",
       "      <td>336</td>\n",
       "      <td>340</td>\n",
       "      <td>318</td>\n",
       "      <td>362</td>\n",
       "      <td>348</td>\n",
       "      <td>363</td>\n",
       "      <td>435</td>\n",
       "      <td>491</td>\n",
       "      <td>505</td>\n",
       "      <td>404</td>\n",
       "      <td>359</td>\n",
       "    </tr>\n",
       "    <tr>\n",
       "      <th>Nov</th>\n",
       "      <td>305</td>\n",
       "      <td>336</td>\n",
       "      <td>340</td>\n",
       "      <td>318</td>\n",
       "      <td>362</td>\n",
       "      <td>348</td>\n",
       "      <td>363</td>\n",
       "      <td>435</td>\n",
       "      <td>491</td>\n",
       "      <td>505</td>\n",
       "      <td>404</td>\n",
       "      <td>359</td>\n",
       "      <td>310</td>\n",
       "    </tr>\n",
       "    <tr>\n",
       "      <th>Dec</th>\n",
       "      <td>336</td>\n",
       "      <td>340</td>\n",
       "      <td>318</td>\n",
       "      <td>362</td>\n",
       "      <td>348</td>\n",
       "      <td>363</td>\n",
       "      <td>435</td>\n",
       "      <td>491</td>\n",
       "      <td>505</td>\n",
       "      <td>404</td>\n",
       "      <td>359</td>\n",
       "      <td>310</td>\n",
       "      <td>337</td>\n",
       "    </tr>\n",
       "  </tbody>\n",
       "</table>\n",
       "<p>108 rows × 13 columns</p>\n",
       "</div>"
      ],
      "text/plain": [
       "           features                                                         \\\n",
       "                +0M  +1M  +2M  +3M  +4M  +5M  +6M  +7M  +8M  +9M +10M +11M   \n",
       "year month                                                                   \n",
       "1949 Jan        112  118  132  129  121  135  148  148  136  119  104  118   \n",
       "     Feb        118  132  129  121  135  148  148  136  119  104  118  115   \n",
       "     Mar        132  129  121  135  148  148  136  119  104  118  115  126   \n",
       "     Apr        129  121  135  148  148  136  119  104  118  115  126  141   \n",
       "     May        121  135  148  148  136  119  104  118  115  126  141  135   \n",
       "...             ...  ...  ...  ...  ...  ...  ...  ...  ...  ...  ...  ...   \n",
       "1957 Aug        467  404  347  305  336  340  318  362  348  363  435  491   \n",
       "     Sep        404  347  305  336  340  318  362  348  363  435  491  505   \n",
       "     Oct        347  305  336  340  318  362  348  363  435  491  505  404   \n",
       "     Nov        305  336  340  318  362  348  363  435  491  505  404  359   \n",
       "     Dec        336  340  318  362  348  363  435  491  505  404  359  310   \n",
       "\n",
       "           labels  \n",
       "             +12M  \n",
       "year month         \n",
       "1949 Jan      115  \n",
       "     Feb      126  \n",
       "     Mar      141  \n",
       "     Apr      135  \n",
       "     May      125  \n",
       "...           ...  \n",
       "1957 Aug      505  \n",
       "     Sep      404  \n",
       "     Oct      359  \n",
       "     Nov      310  \n",
       "     Dec      337  \n",
       "\n",
       "[108 rows x 13 columns]"
      ]
     },
     "metadata": {},
     "output_type": "display_data"
    }
   ],
   "source": [
    "\n",
    "\n",
    "# features are a sliding window over the last 12 months, predicting the following month\n",
    "def features_and_labels(input_df, window=WINDOW):\n",
    "    feat_columns = [ f'+{i}M' for i in range(window) ]\n",
    "    label_columns = [f'+{window}M']\n",
    "    index = input_df.index[:len(input_df.index) - window]\n",
    "    \n",
    "    ds = tf.data.Dataset.from_tensor_slices(input_df['passengers'].values)\n",
    "    feat_ds = ds.window(window, shift=1, drop_remainder=True).take(len(index))\n",
    "    \n",
    "    df_feat = pd.DataFrame(\n",
    "        data=(list(w.as_numpy_iterator()) for w in feat_ds), \n",
    "        index=index, \n",
    "        columns=feat_columns\n",
    "    )\n",
    "\n",
    "    df_labels = pd.DataFrame(\n",
    "        data=input_df.iloc[window:,0].values, \n",
    "        index=index, \n",
    "        columns=label_columns\n",
    "    )\n",
    "    \n",
    "    return pd.concat([df_feat, df_labels], axis=1, keys=['features','labels'])\n",
    "\n",
    "df_train = features_and_labels(df.iloc[:-TEST_DATA_SIZE])\n",
    "display(df_train)\n",
    "df_test = features_and_labels(df.iloc[-TEST_DATA_SIZE-WINDOW:])"
   ]
  },
  {
   "cell_type": "code",
   "execution_count": 7,
   "id": "3b92b467",
   "metadata": {},
   "outputs": [],
   "source": [
    "X_train = tf.convert_to_tensor(df_train.xs('features',axis=1).values)\n",
    "y_train = tf.convert_to_tensor(df_train.xs('labels',axis=1).values)\n",
    "X_test = tf.convert_to_tensor(df_test.xs('features',axis=1).values)\n",
    "y_test = tf.convert_to_tensor(df_test.xs('labels',axis=1).values)"
   ]
  },
  {
   "cell_type": "markdown",
   "id": "bd86553a",
   "metadata": {},
   "source": [
    "Now we can create the model, a simple one:"
   ]
  },
  {
   "cell_type": "code",
   "execution_count": 8,
   "id": "9dddccc4",
   "metadata": {},
   "outputs": [],
   "source": [
    "model = tf.keras.models.Sequential()\n",
    "model.add(tf.keras.layers.Input(shape=(X_train.shape[1],), name=\"previous_month\"))\n",
    "model.add(tf.keras.layers.Reshape((X_train.shape[1],1)))\n",
    "model.add(tf.keras.layers.LSTM(100))\n",
    "model.add(tf.keras.layers.Dense(1))\n",
    "\n",
    "model.compile(optimizer='adam' , loss='mse')"
   ]
  },
  {
   "cell_type": "code",
   "execution_count": 9,
   "id": "e4294cfe",
   "metadata": {},
   "outputs": [
    {
     "name": "stdout",
     "output_type": "stream",
     "text": [
      "Train on 108 samples\n",
      "Epoch 1/10\n",
      "108/108 [==============================] - 1s 10ms/sample - loss: 74631.4653\n",
      "Epoch 2/10\n",
      "108/108 [==============================] - 0s 1ms/sample - loss: 73083.7011\n",
      "Epoch 3/10\n",
      "108/108 [==============================] - 0s 971us/sample - loss: 70656.0453\n",
      "Epoch 4/10\n",
      "108/108 [==============================] - 0s 1ms/sample - loss: 68279.0922\n",
      "Epoch 5/10\n",
      "108/108 [==============================] - 0s 948us/sample - loss: 66537.4433\n",
      "Epoch 6/10\n",
      "108/108 [==============================] - 0s 978us/sample - loss: 65179.4780\n",
      "Epoch 7/10\n",
      "108/108 [==============================] - 0s 958us/sample - loss: 63847.1635\n",
      "Epoch 8/10\n",
      "108/108 [==============================] - 0s 1ms/sample - loss: 62693.3294\n",
      "Epoch 9/10\n",
      "108/108 [==============================] - 0s 1ms/sample - loss: 61622.8995\n",
      "Epoch 10/10\n",
      "108/108 [==============================] - 0s 1ms/sample - loss: 60589.2310\n"
     ]
    }
   ],
   "source": [
    "history = model.fit(X_train, y_train,\n",
    "                    batch_size=4,\n",
    "                    epochs=10,\n",
    "                    verbose=1)"
   ]
  },
  {
   "cell_type": "markdown",
   "id": "9969d707",
   "metadata": {},
   "source": [
    "Let's validate if the model learned something:"
   ]
  },
  {
   "cell_type": "code",
   "execution_count": 10,
   "id": "7cff56d9",
   "metadata": {},
   "outputs": [
    {
     "data": {
      "text/plain": [
       "<AxesSubplot:xlabel='year,month'>"
      ]
     },
     "execution_count": 10,
     "metadata": {},
     "output_type": "execute_result"
    },
    {
     "data": {
      "image/png": "[encoded data removed]",
      "text/plain": [
       "<Figure size 1152x432 with 1 Axes>"
      ]
     },
     "metadata": {
      "needs_background": "light"
     },
     "output_type": "display_data"
    }
   ],
   "source": [
    "df_pred = df.copy()\n",
    "df_pred['fitted'] = np.NaN\n",
    "df_pred['predicted'] = np.NaN\n",
    "df_pred.iloc[-TEST_DATA_SIZE:,1] = model.predict(X_test)\n",
    "df_pred.iloc[WINDOW:-TEST_DATA_SIZE,2] =  model.predict(X_train)\n",
    "\n",
    "df_pred.plot(figsize=(16,6))"
   ]
  },
  {
   "cell_type": "markdown",
   "id": "6f02524a",
   "metadata": {},
   "source": [
    "## Save the model and upload \n",
    "\n",
    "We will save the model in SavedModel format and then upload it to Waylay. "
   ]
  },
  {
   "cell_type": "code",
   "execution_count": 11,
   "id": "b3d03b26",
   "metadata": {},
   "outputs": [],
   "source": [
    "from waylay import WaylayClient, RestResponseError\n",
    "import tempfile\n",
    "\n",
    "waylay = WaylayClient.from_profile()"
   ]
  },
  {
   "cell_type": "markdown",
   "id": "fb045b70",
   "metadata": {},
   "source": [
    "There are many other ways to create a SavedModel, for example using [Estimators](https://www.tensorflow.org/guide/estimator#savedmodels_from_estimators) or using a custom [Module](https://www.tensorflow.org/guide/saved_model#saving_a_custom_model), all follow the same flow to upload the model to Waylay. Just pass the directory where you saved your model to the SDK and we will do the rest."
   ]
  },
  {
   "cell_type": "code",
   "execution_count": 19,
   "id": "d02cfa01",
   "metadata": {
    "tags": [
     "doc_exclude"
    ]
   },
   "outputs": [
    {
     "data": {
      "text/plain": [
       "\"Ignored: ByomlActionError(404: 'Model does not exist'; DELETE 'https://byoml-staging.waylay.io/models/retries-example')\""
      ]
     },
     "metadata": {},
     "output_type": "display_data"
    }
   ],
   "source": [
    "# clean up existing model\n",
    "import time\n",
    "try:\n",
    "    waylay.byoml.model.remove(MODEL_NAME)\n",
    "    display(f'Removed: {MODEL_NAME}')\n",
    "except RestResponseError as e:\n",
    "    display(f'Ignored: {e}')"
   ]
  },
  {
   "cell_type": "code",
   "execution_count": 20,
   "id": "8f7d450a",
   "metadata": {},
   "outputs": [
    {
     "name": "stderr",
     "output_type": "stream",
     "text": [
      "INFO:tensorflow:Assets written to: /var/folders/07/zn347xhn33z8m79l8xtz1hn80000gp/T/tmplfychimh/assets\n"
     ]
    },
    {
     "data": {
      "text/plain": [
       "{'createdBy': 'users/0476f99d-ac60-4f86-bc45-7215962754cd',\n",
       " 'createdOn': '2021-08-26T12:42:37.897410+00:00',\n",
       " 'description': 'tensorflow example',\n",
       " 'framework': 'tensorflow',\n",
       " 'framework_version': '2.1',\n",
       " 'message': 'Model successfully uploaded',\n",
       " 'metadata': {'description': 'tensorflow example',\n",
       "  'inputs': None,\n",
       "  'outputs': None},\n",
       " 'name': 'retries-example',\n",
       " 'updatedOn': '2021-08-26T12:42:37.897442+00:00',\n",
       " 'version': '1'}"
      ]
     },
     "execution_count": 20,
     "metadata": {},
     "output_type": "execute_result"
    }
   ],
   "source": [
    "result = waylay.byoml.model.upload(\n",
    "    model_name=MODEL_NAME, \n",
    "    trained_model=model, \n",
    "    framework='tensorflow', \n",
    "    description='tensorflow example'\n",
    ")\n",
    "\n",
    "result"
   ]
  },
  {
   "cell_type": "markdown",
   "id": "5f31da1e",
   "metadata": {},
   "source": [
    "After upload, it can take a few seconds before the model is available for execution.\n",
    "\n",
    "This can be seen when by inspecting the `ready` property when retrieving the model."
   ]
  },
  {
   "cell_type": "code",
   "execution_count": 21,
   "id": "16f53b31",
   "metadata": {},
   "outputs": [
    {
     "data": {
      "text/plain": [
       "{'createdBy': 'users/0476f99d-ac60-4f86-bc45-7215962754cd',\n",
       " 'createdOn': '2021-08-26T12:42:37.849000+00:00',\n",
       " 'description': 'tensorflow example',\n",
       " 'framework': 'tensorflow',\n",
       " 'framework_version': '2.1',\n",
       " 'metadata': {'description': 'tensorflow example',\n",
       "  'inputs': None,\n",
       "  'outputs': None},\n",
       " 'name': 'retries-example',\n",
       " 'ready': False,\n",
       " 'supported_endpoints': [],\n",
       " 'updatedBy': 'users/0476f99d-ac60-4f86-bc45-7215962754cd',\n",
       " 'updatedOn': '2021-08-26T12:42:37.849000+00:00',\n",
       " 'version': '1'}"
      ]
     },
     "metadata": {},
     "output_type": "display_data"
    }
   ],
   "source": [
    "try:\n",
    "    result = waylay.byoml.model.get(MODEL_NAME)\n",
    "    display(result)\n",
    "except Exception as e:\n",
    "    display(e)"
   ]
  },
  {
   "cell_type": "markdown",
   "id": "ac051d64",
   "metadata": {},
   "source": [
    "For resources such as a BYOML model, you can poll until the deployment is ready by including the `retry_until_ready` flag."
   ]
  },
  {
   "cell_type": "code",
   "execution_count": 23,
   "id": "0be0fbad",
   "metadata": {},
   "outputs": [
    {
     "data": {
      "text/plain": [
       "TypeError(\"get() got an unexpected keyword argument 'retry_until_ready'\")"
      ]
     },
     "metadata": {},
     "output_type": "display_data"
    }
   ],
   "source": [
    "try:\n",
    "    result = waylay.byoml.model.get(MODEL_NAME, retry_until_ready=True)\n",
    "    display(result)\n",
    "except Exception as e:\n",
    "    display(e)\n"
   ]
  },
  {
   "cell_type": "markdown",
   "id": "58d62681",
   "metadata": {},
   "source": [
    "When making predictions, retry handling will also wait until the model is ready:"
   ]
  },
  {
   "cell_type": "code",
   "execution_count": 29,
   "id": "b17b9084",
   "metadata": {},
   "outputs": [
    {
     "data": {
      "text/plain": [
       "array([[31.3370075],\n",
       "       [31.3370152],\n",
       "       [31.3370113]])"
      ]
     },
     "metadata": {},
     "output_type": "display_data"
    }
   ],
   "source": [
    "try:\n",
    "    predictions = waylay.byoml.model.predict(MODEL_NAME, X_test.numpy())\n",
    "    display(predictions[:3])\n",
    "except Exception as e:\n",
    "    display(e)\n",
    "    "
   ]
  },
  {
   "cell_type": "markdown",
   "id": "c5e43d13",
   "metadata": {},
   "source": [
    "You can provide additional parameters to influence the retry behaviour:\n",
    "* `retry_attempts=20`   : Maximal number of retries.\n",
    "* `retry_max_delay=120` : Maximal delay in seconds.\n",
    "* `timeout`             : Maximal number of seconds that the client will wait for one attempt. This parameter is available on most Python SDK calls."
   ]
  },
  {
   "cell_type": "code",
   "execution_count": 40,
   "id": "7186463a",
   "metadata": {},
   "outputs": [
    {
     "data": {
      "text/plain": [
       "waylay.service.byoml._exceptions.ByomlActionError('operation=server_error')"
      ]
     },
     "metadata": {},
     "output_type": "display_data"
    }
   ],
   "source": [
    "try:\n",
    "    predictions = waylay.byoml.model.predict(MODEL_NAME, X_test.numpy(), retry_attempts=1, retry_max_delay=1)\n",
    "    display(predictions[:3])\n",
    "except Exception as e:\n",
    "    display(e)\n",
    "    "
   ]
  },
  {
   "cell_type": "raw",
   "id": "b2611919",
   "metadata": {},
   "source": [
    "We redeploy the model and to demonstrate this behaviour:"
   ]
  },
  {
   "cell_type": "code",
   "execution_count": 48,
   "id": "d477ce5a",
   "metadata": {},
   "outputs": [
    {
     "data": {
      "text/plain": [
       "\"ByomlActionError(404: 'Model does not exist'; DELETE 'https://byoml-staging.waylay.io/models/retries-example')\""
      ]
     },
     "metadata": {},
     "output_type": "display_data"
    }
   ],
   "source": [
    "try:\n",
    "    waylay.byoml.model.remove(MODEL_NAME)\n",
    "except Exception as e:\n",
    "    display(f'{e}')"
   ]
  },
  {
   "cell_type": "markdown",
   "id": "8ffe82d9",
   "metadata": {},
   "source": [
    "Retry behaviour won't be triggered by non-existing resources, but only on responses with specific HTTP status codes (`409`, `429`, `500`, `502`, `503`, `504`, `508`). The _NOT FOUND_ `404` error will just be forwarded to the user:\n"
   ]
  },
  {
   "cell_type": "code",
   "execution_count": 51,
   "id": "b27c39b0",
   "metadata": {},
   "outputs": [
    {
     "data": {
      "text/plain": [
       "array([[31.3370075],\n",
       "       [31.3370152],\n",
       "       [31.3370113]])"
      ]
     },
     "metadata": {},
     "output_type": "display_data"
    }
   ],
   "source": [
    "try:\n",
    "    predictions = waylay.byoml.model.predict(MODEL_NAME, X_test.numpy())\n",
    "    display(predictions[:3])\n",
    "except Exception as e:\n",
    "    display(e)"
   ]
  },
  {
   "cell_type": "code",
   "execution_count": 49,
   "id": "83d185a4",
   "metadata": {},
   "outputs": [
    {
     "name": "stderr",
     "output_type": "stream",
     "text": [
      "INFO:tensorflow:Assets written to: /var/folders/07/zn347xhn33z8m79l8xtz1hn80000gp/T/tmpk3_4x5u8/assets\n"
     ]
    },
    {
     "data": {
      "text/plain": [
       "{'createdBy': 'users/0476f99d-ac60-4f86-bc45-7215962754cd',\n",
       " 'createdOn': '2021-08-26T13:04:43.527452+00:00',\n",
       " 'description': 'tensorflow example',\n",
       " 'framework': 'tensorflow',\n",
       " 'framework_version': '2.1',\n",
       " 'message': 'Model successfully uploaded',\n",
       " 'metadata': {'description': 'tensorflow example',\n",
       "  'inputs': None,\n",
       "  'outputs': None},\n",
       " 'name': 'retries-example',\n",
       " 'updatedOn': '2021-08-26T13:04:43.527509+00:00',\n",
       " 'version': '1'}"
      ]
     },
     "execution_count": 49,
     "metadata": {},
     "output_type": "execute_result"
    }
   ],
   "source": [
    "result = waylay.byoml.model.upload(\n",
    "    model_name=MODEL_NAME, \n",
    "    trained_model=model, \n",
    "    framework='tensorflow', \n",
    "    description='tensorflow example',\n",
    "    timeout=300\n",
    ")\n",
    "\n",
    "result"
   ]
  },
  {
   "cell_type": "markdown",
   "id": "d31c3343",
   "metadata": {},
   "source": [
    "We immediately try prediction on the new model with a low `timeout=5` and `retry_attempts = 1`: this should fail as the endpoint will not be ready."
   ]
  },
  {
   "cell_type": "code",
   "execution_count": 43,
   "id": "ac5e5402",
   "metadata": {},
   "outputs": [
    {
     "data": {
      "text/plain": [
       "waylay.service.byoml._exceptions.ByomlActionError('operation=not_found_error')"
      ]
     },
     "metadata": {},
     "output_type": "display_data"
    }
   ],
   "source": [
    "try:\n",
    "    predictions = waylay.byoml.model.predict(MODEL_NAME, X_test.numpy(), timeout=5, retry_attempts = 1)\n",
    "    display(predictions[:3])\n",
    "except Exception as e:\n",
    "    display(e)\n",
    "    \n"
   ]
  },
  {
   "cell_type": "markdown",
   "id": "5e91f2b5",
   "metadata": {},
   "source": [
    "Calling without extra parameters should normally wait/retry long enough for succesfull results."
   ]
  },
  {
   "cell_type": "code",
   "execution_count": 53,
   "id": "9dafec61",
   "metadata": {},
   "outputs": [
    {
     "data": {
      "text/plain": [
       "24"
      ]
     },
     "execution_count": 53,
     "metadata": {},
     "output_type": "execute_result"
    }
   ],
   "source": [
    "predictions = waylay.byoml.model.predict(MODEL_NAME, X_test.numpy())\n",
    "display(predictions[:3])"
   ]
  },
  {
   "cell_type": "code",
   "execution_count": 24,
   "id": "a2d8621c",
   "metadata": {
    "tags": [
     "doc_exclude"
    ]
   },
   "outputs": [
    {
     "data": {
      "text/plain": [
       "{'message': 'Model successfully deleted'}"
      ]
     },
     "execution_count": 24,
     "metadata": {},
     "output_type": "execute_result"
    }
   ],
   "source": [
    "waylay.byoml.model.remove(MODEL_NAME)"
   ]
  }
 ],
 "metadata": {
  "celltoolbar": "Tags",
  "kernelspec": {
   "display_name": "Python 3 (ipykernel)",
   "language": "python",
   "name": "python3"
  },
  "language_info": {
   "codemirror_mode": {
    "name": "ipython",
    "version": 3
   },
   "file_extension": ".py",
   "mimetype": "text/x-python",
   "name": "python",
   "nbconvert_exporter": "python",
   "pygments_lexer": "ipython3",
   "version": "3.8.12"
  }
 },
 "nbformat": 4,
 "nbformat_minor": 5
}
