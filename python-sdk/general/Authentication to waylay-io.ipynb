{
 "cells": [
  {
   "cell_type": "markdown",
   "metadata": {},
   "source": [
    "# Python SDK configuration for _waylay-io_\n",
    "\n",
    "This notebook illustrates how to connect to the Waylay Platform using the Python SDK (waylay-py) **on the `waylay-io` platform**.\n",
    "\n",
    "The steps are the same as in [Authentication for the Enterprise platform](Authentication.ipynb), except that the \n",
    "_authentication provider_ endpoint is \n",
    "\n",
    "> `https://accounts-api-io.waylay.io`\n"
   ]
  },
  {
   "cell_type": "code",
   "execution_count": 1,
   "metadata": {},
   "outputs": [],
   "source": [
    "from waylay import WaylayConfig, WaylayClient"
   ]
  },
  {
   "cell_type": "markdown",
   "metadata": {},
   "source": [
    "## Authentication with stored profiles\n",
    "\n",
    "The Python SDK connection settings can be stored in local profile files.\n",
    "\n",
    "For this demo, we first delete the 'demo' profile (if it exists)"
   ]
  },
  {
   "cell_type": "code",
   "execution_count": 2,
   "metadata": {},
   "outputs": [
    {
     "name": "stderr",
     "output_type": "stream",
     "text": [
      "waylay configuration removed: /Users/thomas/Library/Application Support/Waylay/python_sdk/.profile.demo-io.json\n"
     ]
    },
    {
     "data": {
      "text/plain": [
       "'/Users/thomas/Library/Application Support/Waylay/python_sdk/.profile.demo-io.json'"
      ]
     },
     "execution_count": 2,
     "metadata": {},
     "output_type": "execute_result"
    }
   ],
   "source": [
    "WaylayConfig.delete('demo-io')"
   ]
  },
  {
   "cell_type": "markdown",
   "metadata": {},
   "source": [
    "You can authenticate with a profile as follows. When the profile is not found on the file system, it will be created interactively"
   ]
  },
  {
   "cell_type": "code",
   "execution_count": 4,
   "metadata": {},
   "outputs": [
    {
     "name": "stdout",
     "output_type": "stream",
     "text": [
      "Authenticating to the Waylay Platform\n",
      "Using authentication provider at [https://accounts-api.waylay.io]\n",
      "> alternative endpoint (press enter to continue)?: https://accounts-api-io.waylay.io\n",
      "Authenticating at '@waylay/auth'\n",
      "Please provide client credentials for the waylay data client.\n",
      "> apiKey : 86724b383e6318ae2551de28\n",
      "> apiSecret : ········\n",
      "> Do you want to store these credentials with profile=demo-io? [Y]: Y\n",
      "Credential configuration stored as \n",
      "\t/Users/thomas/Library/Application Support/Waylay/python_sdk/.profile.demo-io.json\n",
      "Please make sure this file is treated securely.\n",
      "If compromised, _Revoke_ the api-key on the Waylay Console!\n"
     ]
    }
   ],
   "source": [
    "waylay_client = WaylayClient.from_profile('demo-io')"
   ]
  },
  {
   "cell_type": "markdown",
   "metadata": {},
   "source": [
    "Once a profile exists, it will be used until you delete it."
   ]
  },
  {
   "cell_type": "code",
   "execution_count": 5,
   "metadata": {},
   "outputs": [],
   "source": [
    "waylay_client = WaylayClient.from_profile('demo-io')"
   ]
  },
  {
   "cell_type": "markdown",
   "metadata": {},
   "source": [
    "A client will use the endpoint configurations defined in the tenant (global) settings."
   ]
  },
  {
   "cell_type": "code",
   "execution_count": 6,
   "metadata": {},
   "outputs": [
    {
     "data": {
      "text/plain": [
       "{'analytics': 'https://ts-analytics-io.waylay.io',\n",
       " 'byoml': 'https://byoml-io.waylay.io',\n",
       " 'api': 'https://io-testing.waylay.io',\n",
       " 'storage': 'https://storage-io.waylay.io',\n",
       " 'etl': 'https://etl-export-io.waylay.io',\n",
       " 'data': 'https://data-io.waylay.io'}"
      ]
     },
     "execution_count": 6,
     "metadata": {},
     "output_type": "execute_result"
    }
   ],
   "source": [
    "waylay_client.list_root_urls()"
   ]
  },
  {
   "cell_type": "code",
   "execution_count": 7,
   "metadata": {},
   "outputs": [
    {
     "data": {
      "text/plain": [
       "'tsanalytics.server 0.20.3'"
      ]
     },
     "execution_count": 7,
     "metadata": {},
     "output_type": "execute_result"
    }
   ],
   "source": [
    "waylay_client.analytics.about.version()"
   ]
  },
  {
   "cell_type": "markdown",
   "metadata": {},
   "source": [
    "you can check connection profile by printing the config object"
   ]
  },
  {
   "cell_type": "code",
   "execution_count": 8,
   "metadata": {},
   "outputs": [
    {
     "name": "stdout",
     "output_type": "stream",
     "text": [
      "{\"credentials\": {\"type\": \"client_credentials\", \"api_key\": \"86724b383e6318ae2551de28\", \"api_secret\": \"********\", \"accounts_url\": \"https://accounts-api-io.waylay.io\"}, \"profile\": \"demo-io\", \"settings\": {}}\n"
     ]
    }
   ],
   "source": [
    "print(waylay_client.config)"
   ]
  },
  {
   "cell_type": "markdown",
   "metadata": {},
   "source": [
    "## Managing config profiles\n",
    "\n",
    "The _WaylayConfig_ class provides the following methods to interact with config profiles."
   ]
  },
  {
   "cell_type": "code",
   "execution_count": 9,
   "metadata": {},
   "outputs": [
    {
     "name": "stderr",
     "output_type": "stream",
     "text": [
      "waylay configuration removed: /Users/thomas/Library/Application Support/Waylay/python_sdk/.profile.demo-copy.json\n"
     ]
    },
    {
     "data": {
      "text/plain": [
       "<WaylayConfig({\"credentials\": {\"type\": \"client_credentials\", \"api_key\": \"86724b383e6318ae2551de28\", \"api_secret\": \"********\", \"accounts_url\": \"https://accounts-api-io.waylay.io\"}, \"profile\": \"demo-copy\", \"settings\": {}})>"
      ]
     },
     "execution_count": 9,
     "metadata": {},
     "output_type": "execute_result"
    }
   ],
   "source": [
    "# list profiles\n",
    "WaylayConfig.list_profiles()\n",
    "\n",
    "# delete profiles\n",
    "WaylayConfig.delete('demo-copy')\n",
    "\n",
    "# load configuration from profile\n",
    "config = WaylayConfig.load('demo-io')\n",
    "waylay_client = WaylayClient(config)\n",
    "\n",
    "# .. alternatively ...\n",
    "WaylayClient.from_profile('demo-io')\n",
    "\n",
    "# save (altered) configuration in a profile\n",
    "config.profile = 'demo-copy'\n",
    "config.save()\n",
    "config"
   ]
  },
  {
   "cell_type": "markdown",
   "metadata": {},
   "source": [
    "## Alternative authentication methods\n",
    "Alternatively explicitely configure a Waylay Client with client credentials or waylay token. (e.g. reading it from you own-defined environment variables)"
   ]
  },
  {
   "cell_type": "markdown",
   "metadata": {},
   "source": [
    "### Authenticate with client credentials"
   ]
  },
  {
   "cell_type": "code",
   "execution_count": 10,
   "metadata": {},
   "outputs": [
    {
     "data": {
      "text/plain": [
       "'{\"credentials\": {\"type\": \"client_credentials\", \"api_key\": \"ca8b5bed95e6f29aeaaa4a2b\", \"api_secret\": \"********\", \"accounts_url\": \"https://accounts-api-staging.waylay.io\"}, \"profile\": \"_default_\", \"settings\": {}}'"
      ]
     },
     "execution_count": 10,
     "metadata": {},
     "output_type": "execute_result"
    }
   ],
   "source": [
    "import os\n",
    "api_key = os.getenv('WAYLAY_TEST_USER_ID')\n",
    "api_secret = os.getenv('WAYLAY_TEST_USER_SECRET')\n",
    "accounts_url = os.getenv('WAYLAY_TEST_ACCOUNTS_URL',  'https://accounts-api-staging.waylay.io')\n",
    "waylay_client_from_cc = WaylayClient.from_client_credentials(api_key, api_secret, accounts_url)\n",
    "str(waylay_client_from_cc.config)"
   ]
  },
  {
   "cell_type": "markdown",
   "metadata": {},
   "source": [
    "### Authenticate with a waylay token"
   ]
  },
  {
   "cell_type": "code",
   "execution_count": 11,
   "metadata": {},
   "outputs": [],
   "source": [
    "# temporary user token generated from the client credentials above\n",
    "token = waylay_client.config.get_valid_token()"
   ]
  },
  {
   "cell_type": "code",
   "execution_count": 12,
   "metadata": {},
   "outputs": [
    {
     "data": {
      "text/plain": [
       "'io-testing.waylay.io'"
      ]
     },
     "execution_count": 12,
     "metadata": {},
     "output_type": "execute_result"
    }
   ],
   "source": [
    "token.domain"
   ]
  },
  {
   "cell_type": "code",
   "execution_count": 13,
   "metadata": {},
   "outputs": [],
   "source": [
    "# string representation is the signed token\n",
    "signed_token_string = str(token)"
   ]
  },
  {
   "cell_type": "code",
   "execution_count": 14,
   "metadata": {},
   "outputs": [],
   "source": [
    "waylay_client = WaylayClient.from_token(\n",
    "    signed_token_string, \n",
    "    accounts_url=waylay_client.config.accounts_url\n",
    ")"
   ]
  },
  {
   "cell_type": "code",
   "execution_count": 15,
   "metadata": {},
   "outputs": [
    {
     "data": {
      "text/plain": [
       "'{\"credentials\": {\"type\": \"token\", \"token\": \"*********\", \"accounts_url\": \"https://accounts-api-io.waylay.io\"}, \"profile\": \"_default_\", \"settings\": {}}'"
      ]
     },
     "execution_count": 15,
     "metadata": {},
     "output_type": "execute_result"
    }
   ],
   "source": [
    "str(waylay_client.config)"
   ]
  },
  {
   "cell_type": "markdown",
   "metadata": {},
   "source": [
    "Note that clients with a _token credential_ configuration will fail after the token has expired. \n",
    "\n",
    "Clients with _client credentials_ will renew the token automatically when it expires."
   ]
  },
  {
   "cell_type": "markdown",
   "metadata": {},
   "source": [
    "### saving a profile elsewhere\n",
    "You can export and reconstruct configurations also manually:"
   ]
  },
  {
   "cell_type": "code",
   "execution_count": 16,
   "metadata": {},
   "outputs": [],
   "source": [
    "demo_config = WaylayConfig.load('demo-io')"
   ]
  },
  {
   "cell_type": "code",
   "execution_count": 17,
   "metadata": {},
   "outputs": [
    {
     "data": {
      "text/plain": [
       "{'credentials': {'type': 'client_credentials',\n",
       "  'api_key': '86724b383e6318ae2551de28',\n",
       "  'api_secret': '********',\n",
       "  'accounts_url': 'https://accounts-api-io.waylay.io'},\n",
       " 'profile': 'demo-io',\n",
       " 'settings': {}}"
      ]
     },
     "execution_count": 17,
     "metadata": {},
     "output_type": "execute_result"
    }
   ],
   "source": [
    "demo_config_json = demo_config.to_dict(obfuscate=False)\n",
    "restored_config = WaylayConfig.from_dict(demo_config_json)\n",
    "restored_config.to_dict()"
   ]
  },
  {
   "cell_type": "code",
   "execution_count": 18,
   "metadata": {},
   "outputs": [],
   "source": [
    "restored_client = WaylayClient(restored_config)"
   ]
  },
  {
   "cell_type": "code",
   "execution_count": 19,
   "metadata": {},
   "outputs": [
    {
     "data": {
      "text/plain": [
       "{'analytics': 'https://ts-analytics-io.waylay.io',\n",
       " 'byoml': 'https://byoml-io.waylay.io',\n",
       " 'api': 'https://io-testing.waylay.io',\n",
       " 'storage': 'https://storage-io.waylay.io',\n",
       " 'etl': 'https://etl-export-io.waylay.io',\n",
       " 'data': 'https://data-io.waylay.io'}"
      ]
     },
     "execution_count": 19,
     "metadata": {},
     "output_type": "execute_result"
    }
   ],
   "source": [
    "restored_client.list_root_urls()"
   ]
  },
  {
   "cell_type": "code",
   "execution_count": 20,
   "metadata": {},
   "outputs": [
    {
     "data": {
      "text/plain": [
       "<WaylayClient(services=[analytics,byoml,timeseries,api,storage,util,etl,data],config={\"credentials\": {\"type\": \"client_credentials\", \"api_key\": \"86724b383e6318ae2551de28\", \"api_secret\": \"********\", \"accounts_url\": \"https://accounts-api-io.waylay.io\"}, \"profile\": \"demo-io\", \"settings\": {}})>"
      ]
     },
     "execution_count": 20,
     "metadata": {},
     "output_type": "execute_result"
    }
   ],
   "source": [
    "demo_config_json = demo_config.to_dict(obfuscate=False)\n",
    "\n",
    "WaylayClient(WaylayConfig.from_dict(demo_config_json))"
   ]
  },
  {
   "cell_type": "code",
   "execution_count": null,
   "metadata": {},
   "outputs": [],
   "source": []
  }
 ],
 "metadata": {
  "kernelspec": {
   "display_name": "Python 3 (ipykernel)",
   "language": "python",
   "name": "python3"
  },
  "language_info": {
   "codemirror_mode": {
    "name": "ipython",
    "version": 3
   },
   "file_extension": ".py",
   "mimetype": "text/x-python",
   "name": "python",
   "nbconvert_exporter": "python",
   "pygments_lexer": "ipython3",
   "version": "3.8.12"
  }
 },
 "nbformat": 4,
 "nbformat_minor": 4
}
