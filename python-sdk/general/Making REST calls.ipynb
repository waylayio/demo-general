{
 "cells": [
  {
   "cell_type": "code",
   "execution_count": 11,
   "metadata": {},
   "outputs": [],
   "source": [
    "from waylay import WaylayClient, RestResponseError\n",
    "waylay_client = WaylayClient.from_profile('io')"
   ]
  },
  {
   "cell_type": "markdown",
   "metadata": {},
   "source": [
    "# Waylay Python SDK - Making REST calls\n",
    "\n",
    "The Waylay Python SDK exposes a number of _REST Services_, each a collection of _REST Resources_ that have _action methods_.\n",
    "\n",
    "For an overview, see \n",
    "> `[IO]` https://docs-io.waylay.io/#/api/sdk/python<br>\n",
    "> `[Enterprise]` https://docs.waylay.io/api/sdk/python/\n",
    "\n",
    "In most cases these _action methods_ directly correspond to an underlying REST endpoint of the waylay platform.\n",
    "\n",
    "In general, the Python SDK takes care of\n",
    "* authentication\n",
    "* the endpoint url to call, and HTTP method to use\n",
    "* converting JSON responses to Python objects, extracting the relevant data\n",
    "* converting Python request body objects to JSON\n",
    "* handling errors \n",
    "\n",
    "Check out the documentation sites ([io](https://docs-io.waylay.io/#/api/sdk/python), [enterprise](https://docs.waylay.io/api/sdk/python/)) on\n",
    "\n",
    "* how requests and response are exactly represented as json\n",
    "* which additional parameters can be provided\n",
    "* what the preconditions and effects are of your call\n",
    "\n",
    "### request arguments\n",
    "These are the general rules for making requests, corresponding to the REST documentation of the underlying REST action:\n",
    "* url **path parameters** are passed as **positional arguments**:\n",
    "  ###### example\n",
    "\n",
    "  > `waylay_client.analytics.query.get('151CF-temperature')` \n",
    "\n",
    "  will use 151CF-temperature to construct a request to fetch this query definition\n",
    "\n",
    "  > `GET .../config/query/151CF-temperature` \n",
    "\n",
    "* **query parameters** belong in a named **`params` argument**:\n",
    "  ###### example\n",
    "  > `waylay_client.analytics.query.data('151CF-temperature', params={'from':'2021-03-01T10:00:00+00:00'})`\n",
    "  \n",
    "  will bind the `from` parameter\n",
    "\n",
    "* **request objects** are passed into a **`body` argument**:\n",
    "  ###### example\n",
    "  > `waylay_client.analytics.query.execute(body={'resource':'RDJ_89839','metric':'revolutions'})`}|\n",
    "\n",
    "### response handling\n",
    "These are the general rules on how the SDK treats results of REST calls:\n",
    "* Only successfull responses (HTTP status `2XX`) return a result, other responses raise an exception.\n",
    "* The SDK extracts the most relevant part of the (json) response body. You can use the `select_path` argument to override this behaviour.\n",
    "* When the REST call produces **timeseries data**, the SDK will return a **pandas DataFrame**.\n",
    "* By providing the  `raw=True` argument, you instruct the SDK to skip all error and response handling, and **just return the HTTP response**.\n",
    "\n",
    "### error handling\n",
    "\n",
    "The SDK uses the following exception hierarchy to notify problems. These exception classes belong to the `waylay.exception` module. They all descend from a `WaylayError` base class.\n",
    "\n",
    "| exception class | raised in case of |\n",
    "| --------------- | ----------- |\n",
    "| `AuthError` | Waylay authentication errors. |\n",
    "| `ConfigError` |  Waylay client configuration errors. |\n",
    "| `RequestError` | Errors in tools and utilities that are not directly related to a REST call. |\n",
    "| `RestRequestError` | Failure to prepare a REST call. |\n",
    "| `RestResponseError` | Wraps the result of a failed REST call. |\n",
    "| `RestResponseParseError` | Failure to parse the result of a succesfull REST call. |\n",
    "\n",
    "Errors of type `RestResponse` have the following attributes that you can use to handle problems:\n",
    "\n",
    "* `response` contains the full HTTP Response object of the REST call, which lets you inspect the status code (`response.status_code`) , response body (`response.body`) and other attributes such as _headers_.\n",
    "* `message` will give you the most relevant error message\n",
    "\n",
    "\n"
   ]
  },
  {
   "cell_type": "markdown",
   "metadata": {},
   "source": [
    "### http response information\n",
    "\n",
    "Most _action methods_ support a `raw=True` parameter. This will prevent exeption handling and parsing of the REST call by the SDK. The unparsed result and http response information is returned in a _Response_ object with attributes\n",
    " * `body` : the result data (json and csv data is parsed to python data structures)\n",
    " * standard http information such as `url`, `method`, `headers`, `status_code`, `client_response`"
   ]
  },
  {
   "cell_type": "code",
   "execution_count": 12,
   "metadata": {},
   "outputs": [
    {
     "ename": "AnalyticsActionError",
     "evalue": "AnalyticsActionError(404: 'operation=not_found_error'; GET 'https://ts-analytics-io.waylay.io/config/query/151CF-temperature?api_version=0.19')",
     "output_type": "error",
     "traceback": [
      "\u001b[0;31m---------------------------------------------------------------------------\u001b[0m",
      "\u001b[0;31mNotFoundError\u001b[0m                             Traceback (most recent call last)",
      "\u001b[0;32m~/opt/anaconda3/envs/wp_validate/lib/python3.8/site-packages/waylay/service/analytics/_decorators.py\u001b[0m in \u001b[0;36mwrapped\u001b[0;34m(*args, **kwargs)\u001b[0m\n\u001b[1;32m     28\u001b[0m         \u001b[0;32mtry\u001b[0m\u001b[0;34m:\u001b[0m\u001b[0;34m\u001b[0m\u001b[0;34m\u001b[0m\u001b[0m\n\u001b[0;32m---> 29\u001b[0;31m             \u001b[0;32mreturn\u001b[0m \u001b[0maction_method\u001b[0m\u001b[0;34m(\u001b[0m\u001b[0;34m*\u001b[0m\u001b[0margs\u001b[0m\u001b[0;34m,\u001b[0m \u001b[0;34m**\u001b[0m\u001b[0mkwargs\u001b[0m\u001b[0;34m)\u001b[0m\u001b[0;34m\u001b[0m\u001b[0;34m\u001b[0m\u001b[0m\n\u001b[0m\u001b[1;32m     30\u001b[0m         \u001b[0;32mexcept\u001b[0m \u001b[0mErrorWithResponse\u001b[0m \u001b[0;32mas\u001b[0m \u001b[0mexc\u001b[0m\u001b[0;34m:\u001b[0m\u001b[0;34m\u001b[0m\u001b[0;34m\u001b[0m\u001b[0m\n",
      "\u001b[0;32m~/opt/anaconda3/envs/wp_validate/lib/python3.8/site-packages/simple_rest_client/resource.py\u001b[0m in \u001b[0;36maction_method\u001b[0;34m(self, body, params, headers, action_name, *args, **kwargs)\u001b[0m\n\u001b[1;32m    100\u001b[0m             \u001b[0mrequest\u001b[0m\u001b[0;34m.\u001b[0m\u001b[0mheaders\u001b[0m\u001b[0;34m.\u001b[0m\u001b[0mupdate\u001b[0m\u001b[0;34m(\u001b[0m\u001b[0mself\u001b[0m\u001b[0;34m.\u001b[0m\u001b[0mheaders\u001b[0m\u001b[0;34m)\u001b[0m\u001b[0;34m\u001b[0m\u001b[0;34m\u001b[0m\u001b[0m\n\u001b[0;32m--> 101\u001b[0;31m             \u001b[0;32mreturn\u001b[0m \u001b[0mmake_request\u001b[0m\u001b[0;34m(\u001b[0m\u001b[0mself\u001b[0m\u001b[0;34m.\u001b[0m\u001b[0mclient\u001b[0m\u001b[0;34m,\u001b[0m \u001b[0mrequest\u001b[0m\u001b[0;34m)\u001b[0m\u001b[0;34m\u001b[0m\u001b[0;34m\u001b[0m\u001b[0m\n\u001b[0m\u001b[1;32m    102\u001b[0m \u001b[0;34m\u001b[0m\u001b[0m\n",
      "\u001b[0;32m~/opt/anaconda3/envs/wp_validate/lib/python3.8/site-packages/simple_rest_client/decorators.py\u001b[0m in \u001b[0;36mwrapper\u001b[0;34m(*args, **kwargs)\u001b[0m\n\u001b[1;32m     39\u001b[0m \u001b[0;34m\u001b[0m\u001b[0m\n\u001b[0;32m---> 40\u001b[0;31m         \u001b[0mvalidate_response\u001b[0m\u001b[0;34m(\u001b[0m\u001b[0mresponse\u001b[0m\u001b[0;34m)\u001b[0m\u001b[0;34m\u001b[0m\u001b[0;34m\u001b[0m\u001b[0m\n\u001b[0m\u001b[1;32m     41\u001b[0m \u001b[0;34m\u001b[0m\u001b[0m\n",
      "\u001b[0;32m~/opt/anaconda3/envs/wp_validate/lib/python3.8/site-packages/simple_rest_client/decorators.py\u001b[0m in \u001b[0;36mvalidate_response\u001b[0;34m(response)\u001b[0m\n\u001b[1;32m     23\u001b[0m     \u001b[0;32mif\u001b[0m \u001b[0mresponse\u001b[0m\u001b[0;34m.\u001b[0m\u001b[0mstatus_code\u001b[0m \u001b[0;34m==\u001b[0m \u001b[0mstatus\u001b[0m\u001b[0;34m.\u001b[0m\u001b[0mHTTP_404_NOT_FOUND\u001b[0m\u001b[0;34m:\u001b[0m\u001b[0;34m\u001b[0m\u001b[0;34m\u001b[0m\u001b[0m\n\u001b[0;32m---> 24\u001b[0;31m         \u001b[0;32mraise\u001b[0m \u001b[0mNotFoundError\u001b[0m\u001b[0;34m(\u001b[0m\u001b[0;34m\"operation=not_found_error,\"\u001b[0m \u001b[0;34m+\u001b[0m \u001b[0merror_suffix\u001b[0m\u001b[0;34m,\u001b[0m \u001b[0mresponse\u001b[0m\u001b[0;34m)\u001b[0m\u001b[0;34m\u001b[0m\u001b[0;34m\u001b[0m\u001b[0m\n\u001b[0m\u001b[1;32m     25\u001b[0m     \u001b[0;32mif\u001b[0m \u001b[0mstatus\u001b[0m\u001b[0;34m.\u001b[0m\u001b[0mis_client_error\u001b[0m\u001b[0;34m(\u001b[0m\u001b[0mcode\u001b[0m\u001b[0;34m=\u001b[0m\u001b[0mresponse\u001b[0m\u001b[0;34m.\u001b[0m\u001b[0mstatus_code\u001b[0m\u001b[0;34m)\u001b[0m\u001b[0;34m:\u001b[0m\u001b[0;34m\u001b[0m\u001b[0;34m\u001b[0m\u001b[0m\n",
      "\u001b[0;31mNotFoundError\u001b[0m: (\"operation=not_found_error, response=Response(url='https://ts-analytics-io.waylay.io/config/query/151CF-temperature?api_version=0.19', method='GET', body={'messages': []}, headers=Headers({'server': 'envoy', 'date': 'Thu, 21 Oct 2021 17:04:41 GMT', 'content-type': 'application/json', 'content-length': '16', 'server-timing': 'config; dur=25.171756744384766; env=on-demand; method=GET; tenant=66417857-9f49-4a83-9307-e12ad5fbda45; domain=io-testing.waylay.io', 'access-control-allow-origin': '*', 'x-envoy-upstream-service-time': '203'}), status_code=404, client_response=<Response [404 Not Found]>)\", Response(url='https://ts-analytics-io.waylay.io/config/query/151CF-temperature?api_version=0.19', method='GET', body={'messages': []}, headers=Headers({'server': 'envoy', 'date': 'Thu, 21 Oct 2021 17:04:41 GMT', 'content-type': 'application/json', 'content-length': '16', 'server-timing': 'config; dur=25.171756744384766; env=on-demand; method=GET; tenant=66417857-9f49-4a83-9307-e12ad5fbda45; domain=io-testing.waylay.io', 'access-control-allow-origin': '*', 'x-envoy-upstream-service-time': '203'}), status_code=404, client_response=<Response [404 Not Found]>))",
      "\nThe above exception was the direct cause of the following exception:\n",
      "\u001b[0;31mAnalyticsActionError\u001b[0m                      Traceback (most recent call last)",
      "\u001b[0;32m/var/folders/07/zn347xhn33z8m79l8xtz1hn80000gp/T/ipykernel_24881/914538372.py\u001b[0m in \u001b[0;36m<module>\u001b[0;34m\u001b[0m\n\u001b[0;32m----> 1\u001b[0;31m \u001b[0mhttp_response\u001b[0m \u001b[0;34m=\u001b[0m \u001b[0mwaylay_client\u001b[0m\u001b[0;34m.\u001b[0m\u001b[0manalytics\u001b[0m\u001b[0;34m.\u001b[0m\u001b[0mquery\u001b[0m\u001b[0;34m.\u001b[0m\u001b[0mget\u001b[0m\u001b[0;34m(\u001b[0m\u001b[0;34m'151CF-temperature'\u001b[0m\u001b[0;34m,\u001b[0m \u001b[0mraw\u001b[0m\u001b[0;34m=\u001b[0m\u001b[0;32mTrue\u001b[0m\u001b[0;34m)\u001b[0m\u001b[0;34m\u001b[0m\u001b[0;34m\u001b[0m\u001b[0m\n\u001b[0m\u001b[1;32m      2\u001b[0m {\n\u001b[1;32m      3\u001b[0m     \u001b[0;34m'url'\u001b[0m\u001b[0;34m:\u001b[0m\u001b[0mhttp_response\u001b[0m\u001b[0;34m.\u001b[0m\u001b[0murl\u001b[0m\u001b[0;34m,\u001b[0m\u001b[0;34m\u001b[0m\u001b[0;34m\u001b[0m\u001b[0m\n\u001b[1;32m      4\u001b[0m     \u001b[0;34m'method'\u001b[0m\u001b[0;34m:\u001b[0m\u001b[0mhttp_response\u001b[0m\u001b[0;34m.\u001b[0m\u001b[0mmethod\u001b[0m\u001b[0;34m,\u001b[0m\u001b[0;34m\u001b[0m\u001b[0;34m\u001b[0m\u001b[0m\n\u001b[1;32m      5\u001b[0m     \u001b[0;34m'content-type'\u001b[0m\u001b[0;34m:\u001b[0m\u001b[0mhttp_response\u001b[0m\u001b[0;34m.\u001b[0m\u001b[0mheaders\u001b[0m\u001b[0;34m[\u001b[0m\u001b[0;34m'content-type'\u001b[0m\u001b[0;34m]\u001b[0m\u001b[0;34m,\u001b[0m\u001b[0;34m\u001b[0m\u001b[0;34m\u001b[0m\u001b[0m\n",
      "\u001b[0;32m~/opt/anaconda3/envs/wp_validate/lib/python3.8/site-packages/waylay/service/_decorators.py\u001b[0m in \u001b[0;36mwrapped\u001b[0;34m(*args, **kwargs)\u001b[0m\n\u001b[1;32m    136\u001b[0m                 \u001b[0;34m'response_constructor'\u001b[0m\u001b[0;34m,\u001b[0m \u001b[0mdefault_response_constructor\u001b[0m\u001b[0;34m\u001b[0m\u001b[0;34m\u001b[0m\u001b[0m\n\u001b[1;32m    137\u001b[0m             ) or identity_transform\n\u001b[0;32m--> 138\u001b[0;31m             \u001b[0mresponse\u001b[0m \u001b[0;34m=\u001b[0m \u001b[0maction_method\u001b[0m\u001b[0;34m(\u001b[0m\u001b[0;34m*\u001b[0m\u001b[0margs\u001b[0m\u001b[0;34m,\u001b[0m \u001b[0;34m**\u001b[0m\u001b[0mkwargs\u001b[0m\u001b[0;34m)\u001b[0m\u001b[0;34m\u001b[0m\u001b[0;34m\u001b[0m\u001b[0m\n\u001b[0m\u001b[1;32m    139\u001b[0m             \u001b[0;32mif\u001b[0m \u001b[0mraw\u001b[0m\u001b[0;34m:\u001b[0m\u001b[0;34m\u001b[0m\u001b[0;34m\u001b[0m\u001b[0m\n\u001b[1;32m    140\u001b[0m                 \u001b[0;32mreturn\u001b[0m \u001b[0mresponse\u001b[0m\u001b[0;34m\u001b[0m\u001b[0;34m\u001b[0m\u001b[0m\n",
      "\u001b[0;32m~/opt/anaconda3/envs/wp_validate/lib/python3.8/site-packages/waylay/service/analytics/_decorators.py\u001b[0m in \u001b[0;36mwrapped\u001b[0;34m(*args, **kwargs)\u001b[0m\n\u001b[1;32m     29\u001b[0m             \u001b[0;32mreturn\u001b[0m \u001b[0maction_method\u001b[0m\u001b[0;34m(\u001b[0m\u001b[0;34m*\u001b[0m\u001b[0margs\u001b[0m\u001b[0;34m,\u001b[0m \u001b[0;34m**\u001b[0m\u001b[0mkwargs\u001b[0m\u001b[0;34m)\u001b[0m\u001b[0;34m\u001b[0m\u001b[0;34m\u001b[0m\u001b[0m\n\u001b[1;32m     30\u001b[0m         \u001b[0;32mexcept\u001b[0m \u001b[0mErrorWithResponse\u001b[0m \u001b[0;32mas\u001b[0m \u001b[0mexc\u001b[0m\u001b[0;34m:\u001b[0m\u001b[0;34m\u001b[0m\u001b[0;34m\u001b[0m\u001b[0m\n\u001b[0;32m---> 31\u001b[0;31m             \u001b[0;32mraise\u001b[0m \u001b[0mAnalyticsActionError\u001b[0m\u001b[0;34m.\u001b[0m\u001b[0mfrom_cause\u001b[0m\u001b[0;34m(\u001b[0m\u001b[0mexc\u001b[0m\u001b[0;34m)\u001b[0m \u001b[0;32mfrom\u001b[0m \u001b[0mexc\u001b[0m\u001b[0;34m\u001b[0m\u001b[0;34m\u001b[0m\u001b[0m\n\u001b[0m\u001b[1;32m     32\u001b[0m         \u001b[0;32mexcept\u001b[0m \u001b[0mClientConnectionError\u001b[0m \u001b[0;32mas\u001b[0m \u001b[0mexc\u001b[0m\u001b[0;34m:\u001b[0m\u001b[0;34m\u001b[0m\u001b[0;34m\u001b[0m\u001b[0m\n\u001b[1;32m     33\u001b[0m             \u001b[0;32mraise\u001b[0m \u001b[0mRestConnectionError\u001b[0m\u001b[0;34m.\u001b[0m\u001b[0mfrom_cause\u001b[0m\u001b[0;34m(\u001b[0m\u001b[0mexc\u001b[0m\u001b[0;34m)\u001b[0m \u001b[0;32mfrom\u001b[0m \u001b[0mexc\u001b[0m\u001b[0;34m\u001b[0m\u001b[0;34m\u001b[0m\u001b[0m\n",
      "\u001b[0;31mAnalyticsActionError\u001b[0m: AnalyticsActionError(404: 'operation=not_found_error'; GET 'https://ts-analytics-io.waylay.io/config/query/151CF-temperature?api_version=0.19')"
     ]
    }
   ],
   "source": [
    "http_response = waylay_client.analytics.query.get('151CF-temperature', raw=True)\n",
    "{\n",
    "    'url':http_response.url,\n",
    "    'method':http_response.method,\n",
    "    'content-type':http_response.headers['content-type'],\n",
    "    'status_code':http_response.status_code,\n",
    "    'name':http_response.body['name'],\n",
    "}\n"
   ]
  },
  {
   "cell_type": "markdown",
   "metadata": {},
   "source": [
    "### access http response information from an error\n",
    "When an request is unsuccessfull, the client will raise an exception. \n",
    "\n",
    "These exceptions (from the `waylay.exceptions` module) are either (instances of subclasses of)\n",
    "* a `RestRequestError` that indicates a problem before sending an api call to waylay (e.g. when input argument conversion fails)\n",
    "* a `RestResponseError` that reports a problem from or after the api call to waylay. This exception gives you access to the underlying response (`response` attribute)\n",
    "  * a `RestResponseParseError` error indicates a problem in processing a succesfull response from the waylay platform. All other `RestResponseError` will come from errors reported by the waylay platform itself (http status code above the `200` range).\n",
    "  \n",
    "Other errors can occur (such as standard python `ValueError`,`TypeError` or `AttributeError`) but these will normally indicate a programming error. Networking failures will normally result in a `ClientConnectionError`"
   ]
  },
  {
   "cell_type": "code",
   "execution_count": 3,
   "metadata": {},
   "outputs": [
    {
     "name": "stdout",
     "output_type": "stream",
     "text": [
      "operation=not_found_error\n",
      "404\n",
      "https://ts-analytics.waylay.io/config/query/where%20are%20you?api_version=0.19\n"
     ]
    }
   ],
   "source": [
    "# try to get the representation of a `query` entity that does not exist. \n",
    "# this will result in a `404 NOT FOUND` error \n",
    "try:\n",
    "   waylay_client.analytics.query.get('where are you???')\n",
    "except RestResponseError as exc:\n",
    "   print(exc.message)\n",
    "   print(exc.response.status_code)\n",
    "   print(exc.response.url)\n",
    "    \n"
   ]
  },
  {
   "cell_type": "markdown",
   "metadata": {},
   "source": [
    "## accessing the complete response\n",
    "The SDK extracts the most relevant part of the (json) response body. You can use the `select_path` argument to override this behaviour"
   ]
  },
  {
   "cell_type": "code",
   "execution_count": 4,
   "metadata": {},
   "outputs": [
    {
     "data": {
      "text/plain": [
       "{'data': [{'metric': 'temperature',\n",
       "   'resource': '151CF',\n",
       "   'aggregation': 'median'},\n",
       "  {'metric': 'temperature', 'resource': '151D8', 'aggregation': 'median'}],\n",
       " 'freq': 'P1D',\n",
       " 'window': 'P14D'}"
      ]
     },
     "execution_count": 4,
     "metadata": {},
     "output_type": "execute_result"
    }
   ],
   "source": [
    "# the `query` entity in the REST response is given as default response on the SDK action\n",
    "waylay_client.analytics.query.get('151CF-temperature')"
   ]
  },
  {
   "cell_type": "code",
   "execution_count": 5,
   "metadata": {},
   "outputs": [
    {
     "data": {
      "text/plain": [
       "{'messages': [],\n",
       " 'name': '151CF-temperature',\n",
       " 'query': {'data': [{'metric': 'temperature',\n",
       "    'resource': '151CF',\n",
       "    'aggregation': 'median'},\n",
       "   {'metric': 'temperature', 'resource': '151D8', 'aggregation': 'median'}],\n",
       "  'freq': 'P1D',\n",
       "  'window': 'P14D'},\n",
       " 'meta': None,\n",
       " 'attrs': {'created': '2020-08-29T09:01:34.566657+00:00',\n",
       "  'created_by': 'users/dcf8612b-94fa-4cd4-85fb-e66a1724712a',\n",
       "  'modified': '2021-03-05T14:15:40.405655+00:00',\n",
       "  'modified_by': 'users/dcf8612b-94fa-4cd4-85fb-e66a1724712a'},\n",
       " '_links': {'self': {'href': 'https://ts-analytics.waylay.io/config/query/151CF-temperature'}}}"
      ]
     },
     "execution_count": 5,
     "metadata": {},
     "output_type": "execute_result"
    }
   ],
   "source": [
    "waylay_client.analytics.query.get('151CF-temperature', select_path=False)"
   ]
  },
  {
   "cell_type": "code",
   "execution_count": 6,
   "metadata": {},
   "outputs": [
    {
     "data": {
      "text/plain": [
       "'2021-03-05T14:15:40.405655+00:00'"
      ]
     },
     "execution_count": 6,
     "metadata": {},
     "output_type": "execute_result"
    }
   ],
   "source": [
    "waylay_client.analytics.query.get('151CF-temperature', select_path=['attrs','modified'])"
   ]
  },
  {
   "cell_type": "markdown",
   "metadata": {},
   "source": [
    "## customise or replace dataframe conversions\n",
    "The methods of the `analytics.query` that return timeseries data, will normally return their data as a pandas `DataFrame`. These have immediate display support in jupyter notebooks:"
   ]
  },
  {
   "cell_type": "code",
   "execution_count": 7,
   "metadata": {},
   "outputs": [
    {
     "data": {
      "text/html": [
       "<div>\n",
       "<style scoped>\n",
       "    .dataframe tbody tr th:only-of-type {\n",
       "        vertical-align: middle;\n",
       "    }\n",
       "\n",
       "    .dataframe tbody tr th {\n",
       "        vertical-align: top;\n",
       "    }\n",
       "\n",
       "    .dataframe thead tr th {\n",
       "        text-align: left;\n",
       "    }\n",
       "\n",
       "    .dataframe thead tr:last-of-type th {\n",
       "        text-align: right;\n",
       "    }\n",
       "</style>\n",
       "<table border=\"1\" class=\"dataframe\">\n",
       "  <thead>\n",
       "    <tr>\n",
       "      <th>resource</th>\n",
       "      <th>151CF</th>\n",
       "      <th>151D8</th>\n",
       "    </tr>\n",
       "    <tr>\n",
       "      <th>metric</th>\n",
       "      <th>temperature</th>\n",
       "      <th>temperature</th>\n",
       "    </tr>\n",
       "    <tr>\n",
       "      <th>aggregation</th>\n",
       "      <th>median</th>\n",
       "      <th>median</th>\n",
       "    </tr>\n",
       "    <tr>\n",
       "      <th>timestamp</th>\n",
       "      <th></th>\n",
       "      <th></th>\n",
       "    </tr>\n",
       "  </thead>\n",
       "  <tbody>\n",
       "    <tr>\n",
       "      <th>2020-01-26 00:00:00+00:00</th>\n",
       "      <td>17</td>\n",
       "      <td>16</td>\n",
       "    </tr>\n",
       "    <tr>\n",
       "      <th>2020-01-27 00:00:00+00:00</th>\n",
       "      <td>21</td>\n",
       "      <td>21</td>\n",
       "    </tr>\n",
       "    <tr>\n",
       "      <th>2020-01-28 00:00:00+00:00</th>\n",
       "      <td>21</td>\n",
       "      <td>20</td>\n",
       "    </tr>\n",
       "    <tr>\n",
       "      <th>2020-01-29 00:00:00+00:00</th>\n",
       "      <td>21</td>\n",
       "      <td>20</td>\n",
       "    </tr>\n",
       "    <tr>\n",
       "      <th>2020-01-30 00:00:00+00:00</th>\n",
       "      <td>21</td>\n",
       "      <td>20</td>\n",
       "    </tr>\n",
       "  </tbody>\n",
       "</table>\n",
       "</div>"
      ],
      "text/plain": [
       "resource                        151CF       151D8\n",
       "metric                    temperature temperature\n",
       "aggregation                    median      median\n",
       "timestamp                                        \n",
       "2020-01-26 00:00:00+00:00          17          16\n",
       "2020-01-27 00:00:00+00:00          21          21\n",
       "2020-01-28 00:00:00+00:00          21          20\n",
       "2020-01-29 00:00:00+00:00          21          20\n",
       "2020-01-30 00:00:00+00:00          21          20"
      ]
     },
     "execution_count": 7,
     "metadata": {},
     "output_type": "execute_result"
    }
   ],
   "source": [
    "waylay_client.analytics.query.data(\n",
    "    '151CF-temperature', \n",
    "    params={'window': 'P5D', 'until':'2020-01-31'}\n",
    ")"
   ]
  },
  {
   "cell_type": "markdown",
   "metadata": {},
   "source": [
    "You can use the `response_constructor` parameter to replace the dataframe constructor with your own method. \n",
    "\n",
    "Other _action methods_ that apply conversions to raw json data structures normally support this same optional parameter.\n",
    "\n",
    "A falsy value will let the method return just the json data payload (as python object)."
   ]
  },
  {
   "cell_type": "code",
   "execution_count": 8,
   "metadata": {},
   "outputs": [
    {
     "data": {
      "text/plain": [
       "[{'columns': ['timestamp',\n",
       "   {'resource': '151CF', 'metric': 'temperature', 'aggregation': 'median'},\n",
       "   {'resource': '151D8', 'metric': 'temperature', 'aggregation': 'median'}],\n",
       "  'data': [[1579996800000, 17, 16],\n",
       "   [1580083200000, 21, 21],\n",
       "   [1580169600000, 21, 20],\n",
       "   [1580256000000, 21, 20],\n",
       "   [1580342400000, 21, 20]],\n",
       "  'data_axis': 'column',\n",
       "  'attributes': {'role': 'input'},\n",
       "  'window_spec': {'from': 1579996800000,\n",
       "   'until': 1580428800000,\n",
       "   'window': 'P5D',\n",
       "   'freq': 'P1D'}}]"
      ]
     },
     "execution_count": 8,
     "metadata": {},
     "output_type": "execute_result"
    }
   ],
   "source": [
    "waylay_client.analytics.query.data(\n",
    "    '151CF-temperature', \n",
    "    params={'window': 'P5D', 'until':'2020-01-31'},\n",
    "    response_constructor=False\n",
    ")"
   ]
  },
  {
   "cell_type": "code",
   "execution_count": 9,
   "metadata": {},
   "outputs": [
    {
     "data": {
      "text/plain": [
       "{1578700800000: [17.0, 16.0],\n",
       " 1578787200000: [17.0, 16.0],\n",
       " 1578873600000: [21.0, 20.0],\n",
       " 1578960000000: [21.0, 20.0],\n",
       " 1579046400000: [21.0, 20.0],\n",
       " 1579132800000: [21.0, 20.5],\n",
       " 1579219200000: [21.0, 20.0],\n",
       " 1579305600000: [17.0, 16.0],\n",
       " 1579392000000: [17.0, 16.0],\n",
       " 1579478400000: [21.0, 20.0],\n",
       " 1579564800000: [20.0, 20.0],\n",
       " 1579651200000: [20.5, 20.0],\n",
       " 1579737600000: [21.0, 20.0],\n",
       " 1579824000000: [20.5, 20.0],\n",
       " 1579910400000: [17.0, 16.0],\n",
       " 1579996800000: [17.0, 16.0],\n",
       " 1580083200000: [21.0, 21.0],\n",
       " 1580169600000: [21.0, 20.0],\n",
       " 1580256000000: [21.0, 20.0],\n",
       " 1580342400000: [21.0, 20.0]}"
      ]
     },
     "execution_count": 9,
     "metadata": {},
     "output_type": "execute_result"
    }
   ],
   "source": [
    "# return a map with timestamps as keys, the observation values as value. \n",
    "waylay_client.analytics.query.data(\n",
    "    '151CF-temperature', \n",
    "    params={'window': 'P20D', 'until':'2020-01-31'},\n",
    "    response_constructor=lambda d: { row[0] : row[1:] for row in d[0]['data'] }\n",
    ")"
   ]
  },
  {
   "cell_type": "code",
   "execution_count": 10,
   "metadata": {},
   "outputs": [
    {
     "data": {
      "text/plain": [
       "array([[1.5787008e+12, 1.5787872e+12, 1.5788736e+12, 1.5789600e+12,\n",
       "        1.5790464e+12, 1.5791328e+12, 1.5792192e+12, 1.5793056e+12,\n",
       "        1.5793920e+12, 1.5794784e+12, 1.5795648e+12, 1.5796512e+12,\n",
       "        1.5797376e+12, 1.5798240e+12, 1.5799104e+12, 1.5799968e+12,\n",
       "        1.5800832e+12, 1.5801696e+12, 1.5802560e+12, 1.5803424e+12],\n",
       "       [1.7000000e+01, 1.7000000e+01, 2.1000000e+01, 2.1000000e+01,\n",
       "        2.1000000e+01, 2.1000000e+01, 2.1000000e+01, 1.7000000e+01,\n",
       "        1.7000000e+01, 2.1000000e+01, 2.0000000e+01, 2.0500000e+01,\n",
       "        2.1000000e+01, 2.0500000e+01, 1.7000000e+01, 1.7000000e+01,\n",
       "        2.1000000e+01, 2.1000000e+01, 2.1000000e+01, 2.1000000e+01],\n",
       "       [1.6000000e+01, 1.6000000e+01, 2.0000000e+01, 2.0000000e+01,\n",
       "        2.0000000e+01, 2.0500000e+01, 2.0000000e+01, 1.6000000e+01,\n",
       "        1.6000000e+01, 2.0000000e+01, 2.0000000e+01, 2.0000000e+01,\n",
       "        2.0000000e+01, 2.0000000e+01, 1.6000000e+01, 1.6000000e+01,\n",
       "        2.1000000e+01, 2.0000000e+01, 2.0000000e+01, 2.0000000e+01]])"
      ]
     },
     "execution_count": 10,
     "metadata": {},
     "output_type": "execute_result"
    }
   ],
   "source": [
    "import numpy as np\n",
    "# return timeseries data as a numpy array, transposed as an array per series \n",
    "waylay_client.analytics.query.data(\n",
    "    '151CF-temperature', \n",
    "    params={'window': 'P20D', 'until':'2020-01-31'},\n",
    "    response_constructor=lambda d: np.transpose(d[0]['data'])\n",
    ")"
   ]
  },
  {
   "cell_type": "code",
   "execution_count": null,
   "metadata": {},
   "outputs": [],
   "source": []
  }
 ],
 "metadata": {
  "kernelspec": {
   "display_name": "Python 3 (ipykernel)",
   "language": "python",
   "name": "python3"
  },
  "language_info": {
   "codemirror_mode": {
    "name": "ipython",
    "version": 3
   },
   "file_extension": ".py",
   "mimetype": "text/x-python",
   "name": "python",
   "nbconvert_exporter": "python",
   "pygments_lexer": "ipython3",
   "version": "3.8.12"
  }
 },
 "nbformat": 4,
 "nbformat_minor": 4
}
