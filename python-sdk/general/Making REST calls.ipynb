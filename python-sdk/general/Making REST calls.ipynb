{
 "cells": [
  {
   "cell_type": "code",
   "execution_count": 1,
   "metadata": {},
   "outputs": [],
   "source": [
    "from waylay import WaylayClient, RestResponseError\n",
    "waylay_client = WaylayClient.from_profile('demo')"
   ]
  },
  {
   "cell_type": "markdown",
   "metadata": {},
   "source": [
    "# Waylay Python SDK - Making REST calls\n",
    "\n",
    "The Waylay Python SDK exposes a number of _REST Services_, each a collection of _REST Resources_ that have _action methods_.\n",
    "\n",
    "For an overview, see \n",
    "> `[Enterprise]` https://docs.waylay.io/#/api/sdk/python\n",
    "\n",
    "In most cases these _action methods_ directly correspond to an underlying REST endpoint of the waylay platform.\n",
    "\n",
    "In general, the Python SDK takes care of\n",
    "* authentication\n",
    "* the endpoint url to call, and HTTP method to use\n",
    "* converting JSON responses to Python objects, extracting the relevant data\n",
    "* converting Python request body objects to JSON\n",
    "* handling errors \n",
    "\n",
    "Check out the documentation sites ([enterprise](https://docs.waylay.io/#/api/sdk/python)) on\n",
    "\n",
    "* how requests and response are exactly represented as json\n",
    "* which additional parameters can be provided\n",
    "* what the preconditions and effects are of your call\n",
    "\n",
    "### request arguments\n",
    "These are the general rules for making requests, corresponding to the REST documentation of the underlying REST action:\n",
    "* url **path parameters** are passed as **positional arguments**:\n",
    "  ###### example\n",
    "\n",
    "  > `waylay_client.queries.query.get('151CF-temperature')` \n",
    "\n",
    "  will use 151CF-temperature to construct a request to fetch this query definition\n",
    "\n",
    "  > `GET https://api.waylay.io/queries/v1/query/151CF-temperature` \n",
    "\n",
    "* **query parameters** belong in a named **`params` argument**:\n",
    "  ###### example\n",
    "  > `waylay_client.queries.query.execute('151CF-temperature', params={'from':'2021-03-01T10:00:00+00:00'})`\n",
    "  \n",
    "  will bind the `from` parameter\n",
    "\n",
    "* **request objects** are passed into a **`body` argument**:\n",
    "  ###### example\n",
    "  > `waylay_client.queries.query.execute(body={'resource':'RDJ_89839','metric':'revolutions'})`}|\n",
    "\n",
    "### response handling\n",
    "These are the general rules on how the SDK treats results of REST calls:\n",
    "* Only successfull responses (HTTP status `2XX`) return a result, other responses raise an exception.\n",
    "* The SDK extracts the most relevant part of the (json) response body. You can use the `select_path` argument to override this behaviour.\n",
    "* When the REST call produces **timeseries data**, the SDK will return a **pandas DataFrame**.\n",
    "* By providing the  `raw=True` argument, you instruct the SDK to skip all error and response handling, and **just return the HTTP response**.\n",
    "\n",
    "### error handling\n",
    "\n",
    "The SDK uses the following exception hierarchy to notify problems. These exception classes belong to the `waylay.exception` module. They all descend from a `WaylayError` base class.\n",
    "\n",
    "| exception class | raised in case of |\n",
    "| --------------- | ----------- |\n",
    "| `AuthError` | Waylay authentication errors. |\n",
    "| `ConfigError` |  Waylay client configuration errors. |\n",
    "| `RequestError` | Errors in tools and utilities that are not directly related to a REST call. |\n",
    "| `RestRequestError` | Failure to prepare a REST call. |\n",
    "| `RestResponseError` | Wraps the result of a failed REST call. |\n",
    "| `RestResponseParseError` | Failure to parse the result of a succesfull REST call. |\n",
    "\n",
    "Errors of type `RestResponse` have the following attributes that you can use to handle problems:\n",
    "\n",
    "* `response` contains the full HTTP Response object of the REST call, which lets you inspect the status code (`response.status_code`) , response body (`response.body`) and other attributes such as _headers_.\n",
    "* `message` will give you the most relevant error message\n",
    "\n",
    "\n"
   ]
  },
  {
   "cell_type": "markdown",
   "metadata": {},
   "source": [
    "### http response information\n",
    "\n",
    "Most _action methods_ support a `raw=True` parameter. This will prevent exception handling and parsing of the REST call by the SDK. The unparsed result and http response information is returned in a _Response_ object with attributes\n",
    " * `body` : the result data (json and csv data is parsed to python data structures)\n",
    " * standard http information such as `url`, `method`, `headers`, `status_code`, `client_response`"
   ]
  },
  {
   "cell_type": "code",
   "execution_count": 2,
   "metadata": {},
   "outputs": [
    {
     "data": {
      "text/plain": [
       "['151CF-temperature',\n",
       " '151CF-temperature-demo',\n",
       " '151CF-temperature-wrong',\n",
       " ' battery-life-testset',\n",
       " 'battery-life-testset',\n",
       " 'battery-life-testset2',\n",
       " 'battery-life-testset-sdk0.3',\n",
       " 'BearingQuery',\n",
       " 'BearingQuery_EngineA',\n",
       " 'BearingQuery_EngineX']"
      ]
     },
     "execution_count": 2,
     "metadata": {},
     "output_type": "execute_result"
    }
   ],
   "source": [
    "waylay_client.queries.query.list()"
   ]
  },
  {
   "cell_type": "code",
   "execution_count": 3,
   "metadata": {},
   "outputs": [
    {
     "data": {
      "text/plain": [
       "{'url': 'https://api.waylay.io/queries/v1/query/battery-life-testset',\n",
       " 'method': 'GET',\n",
       " 'content-type': 'application/json',\n",
       " 'status_code': 200,\n",
       " 'name': 'battery-life-testset'}"
      ]
     },
     "execution_count": 3,
     "metadata": {},
     "output_type": "execute_result"
    }
   ],
   "source": [
    "http_response = waylay_client.queries.query.get('battery-life-testset', raw=True)\n",
    "{\n",
    "    'url':http_response.url,\n",
    "    'method':http_response.method,\n",
    "    'content-type':http_response.headers['content-type'],\n",
    "    'status_code':http_response.status_code,\n",
    "    'name':http_response.body['name'],\n",
    "}\n"
   ]
  },
  {
   "cell_type": "markdown",
   "metadata": {},
   "source": [
    "### access http response information from an error\n",
    "When an request is unsuccessfull, the client will raise an exception. \n",
    "\n",
    "These exceptions (from the `waylay.exceptions` module) are either (instances of subclasses of)\n",
    "* a `RestRequestError` that indicates a problem before sending an api call to waylay (e.g. when input argument conversion fails)\n",
    "* a `RestResponseError` that reports a problem from or after the api call to waylay. This exception gives you access to the underlying response (`response` attribute)\n",
    "  * a `RestResponseParseError` error indicates a problem in processing a succesfull response from the waylay platform. All other `RestResponseError` will come from errors reported by the waylay platform itself (http status code above the `200` range).\n",
    "  \n",
    "Other errors can occur (such as standard python `ValueError`,`TypeError` or `AttributeError`) but these will normally indicate a programming error. Networking failures will normally result in a `ClientConnectionError`"
   ]
  },
  {
   "cell_type": "code",
   "execution_count": 4,
   "metadata": {},
   "outputs": [
    {
     "name": "stdout",
     "output_type": "stream",
     "text": [
      "operation=not_found_error\n",
      "404\n",
      "https://api.waylay.io/queries/v1/query/where%20are%20you?%3F%3F=\n"
     ]
    }
   ],
   "source": [
    "# try to get the representation of a `query` entity that does not exist. \n",
    "# this will result in a `404 NOT FOUND` error \n",
    "try:\n",
    "   waylay_client.queries.query.get('where are you???')\n",
    "except RestResponseError as exc:\n",
    "   print(exc.message)\n",
    "   print(exc.response.status_code)\n",
    "   print(exc.response.url)\n",
    "    \n"
   ]
  },
  {
   "cell_type": "markdown",
   "metadata": {},
   "source": [
    "## accessing the complete response\n",
    "The SDK extracts the most relevant part of the (json) response body. You can use the `select_path` argument to override this behaviour"
   ]
  },
  {
   "cell_type": "code",
   "execution_count": 5,
   "metadata": {},
   "outputs": [
    {
     "data": {
      "text/plain": [
       "{'data': [{'metric': 'cycle_number', 'resource': 'battery-life-testset'},\n",
       "  {'metric': 'policy', 'resource': 'battery-life-testset'},\n",
       "  {'metric': 'IR', 'resource': 'battery-life-testset'},\n",
       "  {'metric': 'QD', 'resource': 'battery-life-testset'},\n",
       "  {'metric': 'Discharge_time', 'resource': 'battery-life-testset'},\n",
       "  {'metric': 'Qdlin_mean', 'resource': 'battery-life-testset'},\n",
       "  {'metric': 'Qdlin_first', 'resource': 'battery-life-testset'},\n",
       "  {'metric': 'Qdlin_last', 'resource': 'battery-life-testset'},\n",
       "  {'metric': 'Qdlin_median', 'resource': 'battery-life-testset'},\n",
       "  {'metric': 'Qdlin_25p', 'resource': 'battery-life-testset'},\n",
       "  {'metric': 'Qdlin_75p', 'resource': 'battery-life-testset'},\n",
       "  {'metric': 'Qdlin_0.1', 'resource': 'battery-life-testset'},\n",
       "  {'metric': 'Qdlin_0.9', 'resource': 'battery-life-testset'},\n",
       "  {'metric': 'Vdlin_mean', 'resource': 'battery-life-testset'},\n",
       "  {'metric': 'Vdlin_first', 'resource': 'battery-life-testset'},\n",
       "  {'metric': 'Vdlin_last', 'resource': 'battery-life-testset'},\n",
       "  {'metric': 'Tdlin_mean', 'resource': 'battery-life-testset'},\n",
       "  {'metric': 'Tdlin_first', 'resource': 'battery-life-testset'},\n",
       "  {'metric': 'Tdlin_last', 'resource': 'battery-life-testset'}],\n",
       " 'from': '2018-12-21T08:00:00Z'}"
      ]
     },
     "execution_count": 5,
     "metadata": {},
     "output_type": "execute_result"
    }
   ],
   "source": [
    "# the `query` entity in the REST response is given as default response on the SDK action\n",
    "waylay_client.queries.query.get('battery-life-testset')"
   ]
  },
  {
   "cell_type": "code",
   "execution_count": 6,
   "metadata": {},
   "outputs": [
    {
     "data": {
      "text/plain": [
       "{'_links': {'self': {'href': 'https://api.waylay.io/queries/v1/query/battery-life-testset'},\n",
       "  'execute': {'href': 'https://api.waylay.io/queries/v1/data/battery-life-testset'}},\n",
       " 'attrs': {'created': '2021-11-08T12:39:27.625655+00:00',\n",
       "  'created_by': 'users/f16ccae4-8f0f-4f39-912b-5c2cb13ff6b6',\n",
       "  'modified': '2021-11-08T12:39:27.625655+00:00',\n",
       "  'modified_by': 'users/f16ccae4-8f0f-4f39-912b-5c2cb13ff6b6',\n",
       "  'path': '/tsa/query/battery-life-testset'},\n",
       " 'name': 'battery-life-testset',\n",
       " 'meta': {},\n",
       " 'query': {'data': [{'metric': 'cycle_number',\n",
       "    'resource': 'battery-life-testset'},\n",
       "   {'metric': 'policy', 'resource': 'battery-life-testset'},\n",
       "   {'metric': 'IR', 'resource': 'battery-life-testset'},\n",
       "   {'metric': 'QD', 'resource': 'battery-life-testset'},\n",
       "   {'metric': 'Discharge_time', 'resource': 'battery-life-testset'},\n",
       "   {'metric': 'Qdlin_mean', 'resource': 'battery-life-testset'},\n",
       "   {'metric': 'Qdlin_first', 'resource': 'battery-life-testset'},\n",
       "   {'metric': 'Qdlin_last', 'resource': 'battery-life-testset'},\n",
       "   {'metric': 'Qdlin_median', 'resource': 'battery-life-testset'},\n",
       "   {'metric': 'Qdlin_25p', 'resource': 'battery-life-testset'},\n",
       "   {'metric': 'Qdlin_75p', 'resource': 'battery-life-testset'},\n",
       "   {'metric': 'Qdlin_0.1', 'resource': 'battery-life-testset'},\n",
       "   {'metric': 'Qdlin_0.9', 'resource': 'battery-life-testset'},\n",
       "   {'metric': 'Vdlin_mean', 'resource': 'battery-life-testset'},\n",
       "   {'metric': 'Vdlin_first', 'resource': 'battery-life-testset'},\n",
       "   {'metric': 'Vdlin_last', 'resource': 'battery-life-testset'},\n",
       "   {'metric': 'Tdlin_mean', 'resource': 'battery-life-testset'},\n",
       "   {'metric': 'Tdlin_first', 'resource': 'battery-life-testset'},\n",
       "   {'metric': 'Tdlin_last', 'resource': 'battery-life-testset'}],\n",
       "  'from': '2018-12-21T08:00:00Z'}}"
      ]
     },
     "execution_count": 6,
     "metadata": {},
     "output_type": "execute_result"
    }
   ],
   "source": [
    "waylay_client.queries.query.get('battery-life-testset', select_path=False)"
   ]
  },
  {
   "cell_type": "code",
   "execution_count": 7,
   "metadata": {},
   "outputs": [
    {
     "data": {
      "text/plain": [
       "'2021-11-08T12:39:27.625655+00:00'"
      ]
     },
     "execution_count": 7,
     "metadata": {},
     "output_type": "execute_result"
    }
   ],
   "source": [
    "waylay_client.queries.query.get('battery-life-testset', select_path=['attrs','modified'])"
   ]
  },
  {
   "cell_type": "markdown",
   "metadata": {},
   "source": [
    "## customise or replace dataframe conversions\n",
    "The methods of the `queries.query` that return timeseries data, will normally return their data as a pandas `DataFrame`. These have immediate display support in jupyter notebooks:"
   ]
  },
  {
   "cell_type": "code",
   "execution_count": 8,
   "metadata": {},
   "outputs": [
    {
     "data": {
      "text/html": [
       "<div>\n",
       "<style scoped>\n",
       "    .dataframe tbody tr th:only-of-type {\n",
       "        vertical-align: middle;\n",
       "    }\n",
       "\n",
       "    .dataframe tbody tr th {\n",
       "        vertical-align: top;\n",
       "    }\n",
       "\n",
       "    .dataframe thead tr th {\n",
       "        text-align: left;\n",
       "    }\n",
       "\n",
       "    .dataframe thead tr:last-of-type th {\n",
       "        text-align: right;\n",
       "    }\n",
       "</style>\n",
       "<table border=\"1\" class=\"dataframe\">\n",
       "  <thead>\n",
       "    <tr>\n",
       "      <th>resource</th>\n",
       "      <th colspan=\"5\" halign=\"left\">06e267b9-8714-4c58-ac53-df6a291b59dc</th>\n",
       "    </tr>\n",
       "    <tr>\n",
       "      <th>metric</th>\n",
       "      <th>temperature</th>\n",
       "      <th>temp_feel</th>\n",
       "      <th>pressure</th>\n",
       "      <th>wind_speed</th>\n",
       "      <th>humidity</th>\n",
       "    </tr>\n",
       "    <tr>\n",
       "      <th>timestamp</th>\n",
       "      <th></th>\n",
       "      <th></th>\n",
       "      <th></th>\n",
       "      <th></th>\n",
       "      <th></th>\n",
       "    </tr>\n",
       "  </thead>\n",
       "  <tbody>\n",
       "    <tr>\n",
       "      <th>2023-10-12 03:21:43.794000+00:00</th>\n",
       "      <td>15.11</td>\n",
       "      <td>15.18</td>\n",
       "      <td>1012.0</td>\n",
       "      <td>3.06</td>\n",
       "      <td>96.0</td>\n",
       "    </tr>\n",
       "    <tr>\n",
       "      <th>2023-10-13 03:21:44.306000+00:00</th>\n",
       "      <td>17.89</td>\n",
       "      <td>18.22</td>\n",
       "      <td>1009.0</td>\n",
       "      <td>5.60</td>\n",
       "      <td>95.0</td>\n",
       "    </tr>\n",
       "    <tr>\n",
       "      <th>2023-10-14 03:21:43.979000+00:00</th>\n",
       "      <td>10.50</td>\n",
       "      <td>9.46</td>\n",
       "      <td>1009.0</td>\n",
       "      <td>4.98</td>\n",
       "      <td>71.0</td>\n",
       "    </tr>\n",
       "    <tr>\n",
       "      <th>2023-10-15 03:21:43.698000+00:00</th>\n",
       "      <td>7.05</td>\n",
       "      <td>4.45</td>\n",
       "      <td>1020.0</td>\n",
       "      <td>3.86</td>\n",
       "      <td>79.0</td>\n",
       "    </tr>\n",
       "    <tr>\n",
       "      <th>2023-10-16 03:21:44.505000+00:00</th>\n",
       "      <td>4.48</td>\n",
       "      <td>3.51</td>\n",
       "      <td>1023.0</td>\n",
       "      <td>1.39</td>\n",
       "      <td>68.0</td>\n",
       "    </tr>\n",
       "  </tbody>\n",
       "</table>\n",
       "</div>"
      ],
      "text/plain": [
       "resource                         06e267b9-8714-4c58-ac53-df6a291b59dc  \\\n",
       "metric                                                    temperature   \n",
       "timestamp                                                               \n",
       "2023-10-12 03:21:43.794000+00:00                                15.11   \n",
       "2023-10-13 03:21:44.306000+00:00                                17.89   \n",
       "2023-10-14 03:21:43.979000+00:00                                10.50   \n",
       "2023-10-15 03:21:43.698000+00:00                                 7.05   \n",
       "2023-10-16 03:21:44.505000+00:00                                 4.48   \n",
       "\n",
       "resource                                                                 \n",
       "metric                           temp_feel pressure wind_speed humidity  \n",
       "timestamp                                                                \n",
       "2023-10-12 03:21:43.794000+00:00     15.18   1012.0       3.06     96.0  \n",
       "2023-10-13 03:21:44.306000+00:00     18.22   1009.0       5.60     95.0  \n",
       "2023-10-14 03:21:43.979000+00:00      9.46   1009.0       4.98     71.0  \n",
       "2023-10-15 03:21:43.698000+00:00      4.45   1020.0       3.86     79.0  \n",
       "2023-10-16 03:21:44.505000+00:00      3.51   1023.0       1.39     68.0  "
      ]
     },
     "execution_count": 8,
     "metadata": {},
     "output_type": "execute_result"
    }
   ],
   "source": [
    "waylay_client=WaylayClient.from_profile('staging')\n",
    "waylay_client.queries.query.execute(\n",
    "    'weatherHistoryDaily'\n",
    ")"
   ]
  },
  {
   "cell_type": "markdown",
   "metadata": {},
   "source": [
    "You can use the `response_constructor` parameter to replace the dataframe constructor with your own method. \n",
    "\n",
    "Other _action methods_ that apply conversions to raw json data structures normally support this same optional parameter.\n",
    "\n",
    "A falsy value will let the method return just the json data payload (as python object)."
   ]
  },
  {
   "cell_type": "code",
   "execution_count": 9,
   "metadata": {},
   "outputs": [
    {
     "data": {
      "text/plain": [
       "[{'columns': ['timestamp',\n",
       "   {'resource': '06e267b9-8714-4c58-ac53-df6a291b59dc',\n",
       "    'metric': 'temperature',\n",
       "    'aggregation': 'mean'},\n",
       "   {'resource': '06e267b9-8714-4c58-ac53-df6a291b59dc',\n",
       "    'metric': 'temp_feel',\n",
       "    'aggregation': 'mean'},\n",
       "   {'resource': '06e267b9-8714-4c58-ac53-df6a291b59dc',\n",
       "    'metric': 'pressure',\n",
       "    'aggregation': 'mean'},\n",
       "   {'resource': '06e267b9-8714-4c58-ac53-df6a291b59dc',\n",
       "    'metric': 'wind_speed',\n",
       "    'aggregation': 'mean'},\n",
       "   {'resource': '06e267b9-8714-4c58-ac53-df6a291b59dc',\n",
       "    'metric': 'humidity',\n",
       "    'aggregation': 'mean'}],\n",
       "  'data': [[1694649600000,\n",
       "    15.110000000000001,\n",
       "    14.694285714285712,\n",
       "    1012.5714285714286,\n",
       "    3.6271428571428572,\n",
       "    77.28571428571429],\n",
       "   [1695254400000,\n",
       "    12.522857142857143,\n",
       "    11.778571428571427,\n",
       "    1012.2857142857143,\n",
       "    3.8700000000000006,\n",
       "    80.14285714285714],\n",
       "   [1695859200000,\n",
       "    14.772857142857143,\n",
       "    14.378571428571428,\n",
       "    1018.7142857142857,\n",
       "    4.32,\n",
       "    79.42857142857143],\n",
       "   [1696464000000,\n",
       "    13.358571428571429,\n",
       "    12.884285714285715,\n",
       "    1021.5714285714286,\n",
       "    3.742857142857143,\n",
       "    81.71428571428571],\n",
       "   [1697068800000, 11.006, 10.164, 1014.6, 3.778, 81.8]],\n",
       "  'data_axis': 'column',\n",
       "  'attributes': {'role': 'input'},\n",
       "  'window_spec': {'from': 1694649600000,\n",
       "   'until': 1697673600000,\n",
       "   'window': 'P35D',\n",
       "   'freq': 'P1W'}}]"
      ]
     },
     "execution_count": 9,
     "metadata": {},
     "output_type": "execute_result"
    }
   ],
   "source": [
    "waylay_client.queries.query.execute(\n",
    "    'weatherHistoryDaily', \n",
    "    params={ 'from': '-P30D', 'freq': 'P7D', 'aggregation': 'max'},\n",
    "    response_constructor=False\n",
    ")"
   ]
  },
  {
   "cell_type": "code",
   "execution_count": 10,
   "metadata": {},
   "outputs": [
    {
     "data": {
      "text/plain": [
       "{1694649600000: [15.110000000000001,\n",
       "  14.694285714285712,\n",
       "  1012.5714285714286,\n",
       "  3.6271428571428572,\n",
       "  77.28571428571429],\n",
       " 1695254400000: [12.522857142857143,\n",
       "  11.778571428571427,\n",
       "  1012.2857142857143,\n",
       "  3.8700000000000006,\n",
       "  80.14285714285714],\n",
       " 1695859200000: [14.772857142857143,\n",
       "  14.378571428571428,\n",
       "  1018.7142857142857,\n",
       "  4.32,\n",
       "  79.42857142857143],\n",
       " 1696464000000: [13.358571428571429,\n",
       "  12.884285714285715,\n",
       "  1021.5714285714286,\n",
       "  3.742857142857143,\n",
       "  81.71428571428571],\n",
       " 1697068800000: [11.006, 10.164, 1014.6, 3.778, 81.8]}"
      ]
     },
     "execution_count": 10,
     "metadata": {},
     "output_type": "execute_result"
    }
   ],
   "source": [
    "# return a map with timestamps as keys, the observation values as value. \n",
    "waylay_client.queries.query.execute(\n",
    "    'weatherHistoryDaily', \n",
    "    params={ 'from': '-P30D', 'freq': 'P7D', 'aggregation': 'max'},\n",
    "    response_constructor=lambda d: { row[0] : row[1:] for row in d[0]['data'] }\n",
    ")"
   ]
  },
  {
   "cell_type": "code",
   "execution_count": 11,
   "metadata": {
    "scrolled": true
   },
   "outputs": [
    {
     "data": {
      "text/plain": [
       "array([[1.69464960e+12, 1.69525440e+12, 1.69585920e+12, 1.69646400e+12,\n",
       "        1.69706880e+12],\n",
       "       [1.51100000e+01, 1.25228571e+01, 1.47728571e+01, 1.33585714e+01,\n",
       "        1.10060000e+01],\n",
       "       [1.46942857e+01, 1.17785714e+01, 1.43785714e+01, 1.28842857e+01,\n",
       "        1.01640000e+01],\n",
       "       [1.01257143e+03, 1.01228571e+03, 1.01871429e+03, 1.02157143e+03,\n",
       "        1.01460000e+03],\n",
       "       [3.62714286e+00, 3.87000000e+00, 4.32000000e+00, 3.74285714e+00,\n",
       "        3.77800000e+00],\n",
       "       [7.72857143e+01, 8.01428571e+01, 7.94285714e+01, 8.17142857e+01,\n",
       "        8.18000000e+01]])"
      ]
     },
     "execution_count": 11,
     "metadata": {},
     "output_type": "execute_result"
    }
   ],
   "source": [
    "import numpy as np\n",
    "# return timeseries data as a numpy array, transposed as an array per series \n",
    "waylay_client.queries.query.execute(\n",
    "    'weatherHistoryDaily', \n",
    "    params={ 'from': '-P30D', 'freq': 'P7D', 'aggregation': 'max'},\n",
    "    response_constructor=lambda d: np.transpose(d[0]['data'])\n",
    ")"
   ]
  }
 ],
 "metadata": {
  "kernelspec": {
   "display_name": "Python 3 (ipykernel)",
   "language": "python",
   "name": "python3"
  },
  "language_info": {
   "codemirror_mode": {
    "name": "ipython",
    "version": 3
   },
   "file_extension": ".py",
   "mimetype": "text/x-python",
   "name": "python",
   "nbconvert_exporter": "python",
   "pygments_lexer": "ipython3",
   "version": "3.9.18"
  }
 },
 "nbformat": 4,
 "nbformat_minor": 4
}
