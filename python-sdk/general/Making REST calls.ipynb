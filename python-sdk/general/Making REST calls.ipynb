{
 "cells": [
  {
   "cell_type": "code",
   "execution_count": 1,
   "metadata": {},
   "outputs": [],
   "source": [
    "from waylay import WaylayClient, RestResponseError\n",
    "waylay_client = WaylayClient.from_profile('io')"
   ]
  },
  {
   "cell_type": "markdown",
   "metadata": {},
   "source": [
    "# Waylay Python SDK - Making REST calls\n",
    "\n",
    "The Waylay Python SDK exposes a number of _REST Services_, each a collection of _REST Resources_ that have _action methods_.\n",
    "\n",
    "For an overview, see \n",
    "> `[IO]` https://docs-io.waylay.io/#/api/sdk/python<br>\n",
    "> `[Enterprise]` https://docs.waylay.io/api/sdk/python/\n",
    "\n",
    "In most cases these _action methods_ directly correspond to an underlying REST endpoint of the waylay platform.\n",
    "\n",
    "In general, the Python SDK takes care of\n",
    "* authentication\n",
    "* the endpoint url to call, and HTTP method to use\n",
    "* converting JSON responses to Python objects, extracting the relevant data\n",
    "* converting Python request body objects to JSON\n",
    "* handling errors \n",
    "\n",
    "Check out the documentation sites ([io](https://docs-io.waylay.io/#/api/sdk/python), [enterprise](https://docs.waylay.io/api/sdk/python/)) on\n",
    "\n",
    "* how requests and response are exactly represented as json\n",
    "* which additional parameters can be provided\n",
    "* what the preconditions and effects are of your call\n",
    "\n",
    "### request arguments\n",
    "These are the general rules for making requests, corresponding to the REST documentation of the underlying REST action:\n",
    "* url **path parameters** are passed as **positional arguments**:\n",
    "  ###### example\n",
    "\n",
    "  > `waylay_client.queries.query.get('151CF-temperature')` \n",
    "\n",
    "  will use 151CF-temperature to construct a request to fetch this query definition\n",
    "\n",
    "  > `GET .../config/query/151CF-temperature` \n",
    "\n",
    "* **query parameters** belong in a named **`params` argument**:\n",
    "  ###### example\n",
    "  > `waylay_client.queries.query.execute('151CF-temperature', params={'from':'2021-03-01T10:00:00+00:00'})`\n",
    "  \n",
    "  will bind the `from` parameter\n",
    "\n",
    "* **request objects** are passed into a **`body` argument**:\n",
    "  ###### example\n",
    "  > `waylay_client.queries.query.execute(body={'resource':'RDJ_89839','metric':'revolutions'})`}|\n",
    "\n",
    "### response handling\n",
    "These are the general rules on how the SDK treats results of REST calls:\n",
    "* Only successfull responses (HTTP status `2XX`) return a result, other responses raise an exception.\n",
    "* The SDK extracts the most relevant part of the (json) response body. You can use the `select_path` argument to override this behaviour.\n",
    "* When the REST call produces **timeseries data**, the SDK will return a **pandas DataFrame**.\n",
    "* By providing the  `raw=True` argument, you instruct the SDK to skip all error and response handling, and **just return the HTTP response**.\n",
    "\n",
    "### error handling\n",
    "\n",
    "The SDK uses the following exception hierarchy to notify problems. These exception classes belong to the `waylay.exception` module. They all descend from a `WaylayError` base class.\n",
    "\n",
    "| exception class | raised in case of |\n",
    "| --------------- | ----------- |\n",
    "| `AuthError` | Waylay authentication errors. |\n",
    "| `ConfigError` |  Waylay client configuration errors. |\n",
    "| `RequestError` | Errors in tools and utilities that are not directly related to a REST call. |\n",
    "| `RestRequestError` | Failure to prepare a REST call. |\n",
    "| `RestResponseError` | Wraps the result of a failed REST call. |\n",
    "| `RestResponseParseError` | Failure to parse the result of a succesfull REST call. |\n",
    "\n",
    "Errors of type `RestResponse` have the following attributes that you can use to handle problems:\n",
    "\n",
    "* `response` contains the full HTTP Response object of the REST call, which lets you inspect the status code (`response.status_code`) , response body (`response.body`) and other attributes such as _headers_.\n",
    "* `message` will give you the most relevant error message\n",
    "\n",
    "\n"
   ]
  },
  {
   "cell_type": "markdown",
   "metadata": {},
   "source": [
    "### http response information\n",
    "\n",
    "Most _action methods_ support a `raw=True` parameter. This will prevent exception handling and parsing of the REST call by the SDK. The unparsed result and http response information is returned in a _Response_ object with attributes\n",
    " * `body` : the result data (json and csv data is parsed to python data structures)\n",
    " * standard http information such as `url`, `method`, `headers`, `status_code`, `client_response`"
   ]
  },
  {
   "cell_type": "code",
   "execution_count": 2,
   "metadata": {},
   "outputs": [
    {
     "data": {
      "text/plain": [
       "['hvac_0001',\n",
       " 'plant-monitor-overview',\n",
       " 'query-byoml-tutorial-2021-06-23-0201',\n",
       " 'query-byoml-tutorial-2021-06-23-0698',\n",
       " 'weather_query']"
      ]
     },
     "execution_count": 2,
     "metadata": {},
     "output_type": "execute_result"
    }
   ],
   "source": [
    "waylay_client.queries.query.list()"
   ]
  },
  {
   "cell_type": "code",
   "execution_count": 3,
   "metadata": {},
   "outputs": [
    {
     "data": {
      "text/plain": [
       "{'url': 'https://api-io.waylay.io/queries/v1/query/plant-monitor-overview',\n",
       " 'method': 'GET',\n",
       " 'content-type': 'application/json',\n",
       " 'status_code': 200,\n",
       " 'name': 'plant-monitor-overview'}"
      ]
     },
     "execution_count": 3,
     "metadata": {},
     "output_type": "execute_result"
    }
   ],
   "source": [
    "http_response = waylay_client.queries.query.get('plant-monitor-overview', raw=True)\n",
    "{\n",
    "    'url':http_response.url,\n",
    "    'method':http_response.method,\n",
    "    'content-type':http_response.headers['content-type'],\n",
    "    'status_code':http_response.status_code,\n",
    "    'name':http_response.body['name'],\n",
    "}\n"
   ]
  },
  {
   "cell_type": "markdown",
   "metadata": {},
   "source": [
    "### access http response information from an error\n",
    "When an request is unsuccessfull, the client will raise an exception. \n",
    "\n",
    "These exceptions (from the `waylay.exceptions` module) are either (instances of subclasses of)\n",
    "* a `RestRequestError` that indicates a problem before sending an api call to waylay (e.g. when input argument conversion fails)\n",
    "* a `RestResponseError` that reports a problem from or after the api call to waylay. This exception gives you access to the underlying response (`response` attribute)\n",
    "  * a `RestResponseParseError` error indicates a problem in processing a succesfull response from the waylay platform. All other `RestResponseError` will come from errors reported by the waylay platform itself (http status code above the `200` range).\n",
    "  \n",
    "Other errors can occur (such as standard python `ValueError`,`TypeError` or `AttributeError`) but these will normally indicate a programming error. Networking failures will normally result in a `ClientConnectionError`"
   ]
  },
  {
   "cell_type": "code",
   "execution_count": 4,
   "metadata": {},
   "outputs": [
    {
     "name": "stdout",
     "output_type": "stream",
     "text": [
      "operation=not_found_error\n",
      "404\n",
      "https://api-io.waylay.io/queries/v1/query/where%20are%20you\n"
     ]
    }
   ],
   "source": [
    "# try to get the representation of a `query` entity that does not exist. \n",
    "# this will result in a `404 NOT FOUND` error \n",
    "try:\n",
    "   waylay_client.queries.query.get('where are you???')\n",
    "except RestResponseError as exc:\n",
    "   print(exc.message)\n",
    "   print(exc.response.status_code)\n",
    "   print(exc.response.url)\n",
    "    \n"
   ]
  },
  {
   "cell_type": "markdown",
   "metadata": {},
   "source": [
    "## accessing the complete response\n",
    "The SDK extracts the most relevant part of the (json) response body. You can use the `select_path` argument to override this behaviour"
   ]
  },
  {
   "cell_type": "code",
   "execution_count": 5,
   "metadata": {},
   "outputs": [
    {
     "data": {
      "text/plain": [
       "{'until': 'now',\n",
       " 'data': [{'metric': 'moisture',\n",
       "   'resource': '0086b26b-5ae7-439b-b3da-35c0dd227a0f',\n",
       "   'aggregation': 'mean'},\n",
       "  {'metric': 'temperature',\n",
       "   'resource': '0086b26b-5ae7-439b-b3da-35c0dd227a0f',\n",
       "   'aggregation': 'mean'},\n",
       "  {'metric': 'humidity',\n",
       "   'resource': '0086b26b-5ae7-439b-b3da-35c0dd227a0f',\n",
       "   'aggregation': 'mean'},\n",
       "  {'metric': 'light',\n",
       "   'resource': '0086b26b-5ae7-439b-b3da-35c0dd227a0f',\n",
       "   'aggregation': 'mean'}],\n",
       " 'window': 'PT24H'}"
      ]
     },
     "execution_count": 5,
     "metadata": {},
     "output_type": "execute_result"
    }
   ],
   "source": [
    "# the `query` entity in the REST response is given as default response on the SDK action\n",
    "waylay_client.queries.query.get('plant-monitor-overview')"
   ]
  },
  {
   "cell_type": "code",
   "execution_count": 6,
   "metadata": {},
   "outputs": [
    {
     "data": {
      "text/plain": [
       "{'_links': {'self': {'href': 'https://api-io.waylay.io/queries/v1/query/plant-monitor-overview'},\n",
       "  'execute': {'href': 'https://api-io.waylay.io/queries/v1/data/plant-monitor-overview'}},\n",
       " 'attrs': {'created': '2021-05-09T16:14:47.631611+00:00',\n",
       "  'created_by': 'users/89b417eb-5a88-4410-9adb-e3a9c393cc8f',\n",
       "  'modified': '2021-05-09T16:14:47.631611+00:00',\n",
       "  'modified_by': 'users/89b417eb-5a88-4410-9adb-e3a9c393cc8f',\n",
       "  'path': '/tsa/query/plant-monitor-overview'},\n",
       " 'name': 'plant-monitor-overview',\n",
       " 'meta': {},\n",
       " 'query': {'until': 'now',\n",
       "  'data': [{'metric': 'moisture',\n",
       "    'resource': '0086b26b-5ae7-439b-b3da-35c0dd227a0f',\n",
       "    'aggregation': 'mean'},\n",
       "   {'metric': 'temperature',\n",
       "    'resource': '0086b26b-5ae7-439b-b3da-35c0dd227a0f',\n",
       "    'aggregation': 'mean'},\n",
       "   {'metric': 'humidity',\n",
       "    'resource': '0086b26b-5ae7-439b-b3da-35c0dd227a0f',\n",
       "    'aggregation': 'mean'},\n",
       "   {'metric': 'light',\n",
       "    'resource': '0086b26b-5ae7-439b-b3da-35c0dd227a0f',\n",
       "    'aggregation': 'mean'}],\n",
       "  'window': 'PT24H'}}"
      ]
     },
     "execution_count": 6,
     "metadata": {},
     "output_type": "execute_result"
    }
   ],
   "source": [
    "waylay_client.queries.query.get('plant-monitor-overview', select_path=False)"
   ]
  },
  {
   "cell_type": "code",
   "execution_count": 7,
   "metadata": {},
   "outputs": [
    {
     "data": {
      "text/plain": [
       "'2021-05-09T16:14:47.631611+00:00'"
      ]
     },
     "execution_count": 7,
     "metadata": {},
     "output_type": "execute_result"
    }
   ],
   "source": [
    "waylay_client.queries.query.get('plant-monitor-overview', select_path=['attrs','modified'])"
   ]
  },
  {
   "cell_type": "markdown",
   "metadata": {},
   "source": [
    "## customise or replace dataframe conversions\n",
    "The methods of the `queries.query` that return timeseries data, will normally return their data as a pandas `DataFrame`. These have immediate display support in jupyter notebooks:"
   ]
  },
  {
   "cell_type": "code",
   "execution_count": 8,
   "metadata": {},
   "outputs": [
    {
     "data": {
      "text/html": [
       "<div>\n",
       "<style scoped>\n",
       "    .dataframe tbody tr th:only-of-type {\n",
       "        vertical-align: middle;\n",
       "    }\n",
       "\n",
       "    .dataframe tbody tr th {\n",
       "        vertical-align: top;\n",
       "    }\n",
       "\n",
       "    .dataframe thead tr th {\n",
       "        text-align: left;\n",
       "    }\n",
       "\n",
       "    .dataframe thead tr:last-of-type th {\n",
       "        text-align: right;\n",
       "    }\n",
       "</style>\n",
       "<table border=\"1\" class=\"dataframe\">\n",
       "  <thead>\n",
       "    <tr>\n",
       "      <th>resource</th>\n",
       "      <th colspan=\"4\" halign=\"left\">0086b26b-5ae7-439b-b3da-35c0dd227a0f</th>\n",
       "    </tr>\n",
       "    <tr>\n",
       "      <th>metric</th>\n",
       "      <th>moisture</th>\n",
       "      <th>temperature</th>\n",
       "      <th>humidity</th>\n",
       "      <th>light</th>\n",
       "    </tr>\n",
       "    <tr>\n",
       "      <th>timestamp</th>\n",
       "      <th></th>\n",
       "      <th></th>\n",
       "      <th></th>\n",
       "      <th></th>\n",
       "    </tr>\n",
       "  </thead>\n",
       "  <tbody>\n",
       "    <tr>\n",
       "      <th>2021-08-15 00:00:03.566000+00:00</th>\n",
       "      <td>1</td>\n",
       "      <td>25</td>\n",
       "      <td>56</td>\n",
       "      <td>0</td>\n",
       "    </tr>\n",
       "    <tr>\n",
       "      <th>2021-08-15 00:10:06.316000+00:00</th>\n",
       "      <td>0</td>\n",
       "      <td>25</td>\n",
       "      <td>56</td>\n",
       "      <td>0</td>\n",
       "    </tr>\n",
       "    <tr>\n",
       "      <th>2021-08-15 00:20:08.804000+00:00</th>\n",
       "      <td>0</td>\n",
       "      <td>25</td>\n",
       "      <td>56</td>\n",
       "      <td>0</td>\n",
       "    </tr>\n",
       "    <tr>\n",
       "      <th>2021-08-15 00:30:12.968000+00:00</th>\n",
       "      <td>0</td>\n",
       "      <td>24</td>\n",
       "      <td>56</td>\n",
       "      <td>0</td>\n",
       "    </tr>\n",
       "    <tr>\n",
       "      <th>2021-08-15 00:40:16.387000+00:00</th>\n",
       "      <td>0</td>\n",
       "      <td>24</td>\n",
       "      <td>56</td>\n",
       "      <td>0</td>\n",
       "    </tr>\n",
       "    <tr>\n",
       "      <th>...</th>\n",
       "      <td>...</td>\n",
       "      <td>...</td>\n",
       "      <td>...</td>\n",
       "      <td>...</td>\n",
       "    </tr>\n",
       "    <tr>\n",
       "      <th>2021-08-15 23:19:41.255000+00:00</th>\n",
       "      <td>0</td>\n",
       "      <td>24</td>\n",
       "      <td>48</td>\n",
       "      <td>0</td>\n",
       "    </tr>\n",
       "    <tr>\n",
       "      <th>2021-08-15 23:29:43.719000+00:00</th>\n",
       "      <td>1</td>\n",
       "      <td>24</td>\n",
       "      <td>57</td>\n",
       "      <td>0</td>\n",
       "    </tr>\n",
       "    <tr>\n",
       "      <th>2021-08-15 23:39:46.340000+00:00</th>\n",
       "      <td>0</td>\n",
       "      <td>24</td>\n",
       "      <td>48</td>\n",
       "      <td>0</td>\n",
       "    </tr>\n",
       "    <tr>\n",
       "      <th>2021-08-15 23:49:50.271000+00:00</th>\n",
       "      <td>0</td>\n",
       "      <td>24</td>\n",
       "      <td>49</td>\n",
       "      <td>0</td>\n",
       "    </tr>\n",
       "    <tr>\n",
       "      <th>2021-08-15 23:59:53.009000+00:00</th>\n",
       "      <td>8</td>\n",
       "      <td>24</td>\n",
       "      <td>48</td>\n",
       "      <td>0</td>\n",
       "    </tr>\n",
       "  </tbody>\n",
       "</table>\n",
       "<p>142 rows × 4 columns</p>\n",
       "</div>"
      ],
      "text/plain": [
       "resource                         0086b26b-5ae7-439b-b3da-35c0dd227a0f  \\\n",
       "metric                                                       moisture   \n",
       "timestamp                                                               \n",
       "2021-08-15 00:00:03.566000+00:00                                    1   \n",
       "2021-08-15 00:10:06.316000+00:00                                    0   \n",
       "2021-08-15 00:20:08.804000+00:00                                    0   \n",
       "2021-08-15 00:30:12.968000+00:00                                    0   \n",
       "2021-08-15 00:40:16.387000+00:00                                    0   \n",
       "...                                                               ...   \n",
       "2021-08-15 23:19:41.255000+00:00                                    0   \n",
       "2021-08-15 23:29:43.719000+00:00                                    1   \n",
       "2021-08-15 23:39:46.340000+00:00                                    0   \n",
       "2021-08-15 23:49:50.271000+00:00                                    0   \n",
       "2021-08-15 23:59:53.009000+00:00                                    8   \n",
       "\n",
       "resource                                                     \n",
       "metric                           temperature humidity light  \n",
       "timestamp                                                    \n",
       "2021-08-15 00:00:03.566000+00:00          25       56     0  \n",
       "2021-08-15 00:10:06.316000+00:00          25       56     0  \n",
       "2021-08-15 00:20:08.804000+00:00          25       56     0  \n",
       "2021-08-15 00:30:12.968000+00:00          24       56     0  \n",
       "2021-08-15 00:40:16.387000+00:00          24       56     0  \n",
       "...                                      ...      ...   ...  \n",
       "2021-08-15 23:19:41.255000+00:00          24       48     0  \n",
       "2021-08-15 23:29:43.719000+00:00          24       57     0  \n",
       "2021-08-15 23:39:46.340000+00:00          24       48     0  \n",
       "2021-08-15 23:49:50.271000+00:00          24       49     0  \n",
       "2021-08-15 23:59:53.009000+00:00          24       48     0  \n",
       "\n",
       "[142 rows x 4 columns]"
      ]
     },
     "execution_count": 8,
     "metadata": {},
     "output_type": "execute_result"
    }
   ],
   "source": [
    "waylay_client.queries.query.execute(\n",
    "    'plant-monitor-overview', \n",
    "    params={ \"until\": \"16-08-2021\" }\n",
    ")"
   ]
  },
  {
   "cell_type": "markdown",
   "metadata": {},
   "source": [
    "You can use the `response_constructor` parameter to replace the dataframe constructor with your own method. \n",
    "\n",
    "Other _action methods_ that apply conversions to raw json data structures normally support this same optional parameter.\n",
    "\n",
    "A falsy value will let the method return just the json data payload (as python object)."
   ]
  },
  {
   "cell_type": "code",
   "execution_count": 9,
   "metadata": {},
   "outputs": [
    {
     "data": {
      "text/plain": [
       "[{'columns': ['timestamp',\n",
       "   {'resource': '0086b26b-5ae7-439b-b3da-35c0dd227a0f', 'metric': 'moisture'},\n",
       "   {'resource': '0086b26b-5ae7-439b-b3da-35c0dd227a0f',\n",
       "    'metric': 'temperature'},\n",
       "   {'resource': '0086b26b-5ae7-439b-b3da-35c0dd227a0f', 'metric': 'humidity'},\n",
       "   {'resource': '0086b26b-5ae7-439b-b3da-35c0dd227a0f', 'metric': 'light'}],\n",
       "  'data': [[1629068977415, 0, 24, 47, 0],\n",
       "   [1629069581255, 0, 24, 48, 0],\n",
       "   [1629070183719, 1, 24, 57, 0],\n",
       "   [1629070786340, 0, 24, 48, 0],\n",
       "   [1629071390271, 0, 24, 49, 0],\n",
       "   [1629071993009, 8, 24, 48, 0]],\n",
       "  'data_axis': 'column',\n",
       "  'attributes': {'role': 'input'},\n",
       "  'window_spec': {'from': 1629068977415,\n",
       "   'until': 1629072596009,\n",
       "   'window': 'PT3618.594S',\n",
       "   'freq': 'PT603S'}}]"
      ]
     },
     "execution_count": 9,
     "metadata": {},
     "output_type": "execute_result"
    }
   ],
   "source": [
    "waylay_client.queries.query.execute(\n",
    "    'plant-monitor-overview', \n",
    "    params={ 'until' : \"16-08-2021\", 'window': 'PT1H'},\n",
    "    response_constructor=False\n",
    ")"
   ]
  },
  {
   "cell_type": "code",
   "execution_count": 10,
   "metadata": {},
   "outputs": [
    {
     "data": {
      "text/plain": [
       "{1629068977415: [0, 24, 47, 0],\n",
       " 1629069581255: [0, 24, 48, 0],\n",
       " 1629070183719: [1, 24, 57, 0],\n",
       " 1629070786340: [0, 24, 48, 0],\n",
       " 1629071390271: [0, 24, 49, 0],\n",
       " 1629071993009: [8, 24, 48, 0]}"
      ]
     },
     "execution_count": 10,
     "metadata": {},
     "output_type": "execute_result"
    }
   ],
   "source": [
    "# return a map with timestamps as keys, the observation values as value. \n",
    "waylay_client.queries.query.execute(\n",
    "    'plant-monitor-overview', \n",
    "    params={ 'until' : \"16-08-2021\", 'window': 'PT1H'},\n",
    "    response_constructor=lambda d: { row[0] : row[1:] for row in d[0]['data'] }\n",
    ")"
   ]
  },
  {
   "cell_type": "code",
   "execution_count": 11,
   "metadata": {
    "scrolled": true
   },
   "outputs": [
    {
     "data": {
      "text/plain": [
       "array([[1629068977415, 1629069581255, 1629070183719, 1629070786340,\n",
       "        1629071390271, 1629071993009],\n",
       "       [            0,             0,             1,             0,\n",
       "                    0,             8],\n",
       "       [           24,            24,            24,            24,\n",
       "                   24,            24],\n",
       "       [           47,            48,            57,            48,\n",
       "                   49,            48],\n",
       "       [            0,             0,             0,             0,\n",
       "                    0,             0]])"
      ]
     },
     "execution_count": 11,
     "metadata": {},
     "output_type": "execute_result"
    }
   ],
   "source": [
    "import numpy as np\n",
    "# return timeseries data as a numpy array, transposed as an array per series \n",
    "waylay_client.queries.query.execute(\n",
    "   'plant-monitor-overview', \n",
    "    params={ 'until' : \"16-08-2021\", 'window': 'PT1H'},\n",
    "    response_constructor=lambda d: np.transpose(d[0]['data'])\n",
    ")"
   ]
  }
 ],
 "metadata": {
  "kernelspec": {
   "display_name": "Python 3 (ipykernel)",
   "language": "python",
   "name": "python3"
  },
  "language_info": {
   "codemirror_mode": {
    "name": "ipython",
    "version": 3
   },
   "file_extension": ".py",
   "mimetype": "text/x-python",
   "name": "python",
   "nbconvert_exporter": "python",
   "pygments_lexer": "ipython3",
   "version": "3.7.12"
  }
 },
 "nbformat": 4,
 "nbformat_minor": 4
}
