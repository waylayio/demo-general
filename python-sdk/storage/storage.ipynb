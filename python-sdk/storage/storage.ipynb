{
 "cells": [
  {
   "cell_type": "code",
   "execution_count": 1,
   "id": "ef7450d4",
   "metadata": {},
   "outputs": [],
   "source": [
    "import random\n",
    "import httpx\n",
    "import tempfile\n",
    "\n",
    "# notebook parameters\n",
    "PROFILE='demo'\n",
    "EXAMPLE_ASSET_FOLDER=f'demo/test'\n",
    "EXAMPLE_ASSET=f'{EXAMPLE_ASSET_FOLDER}/example_{random.randint(0,10000):04d}.txt'\n",
    "EXAMPLE_ASSET\n",
    "TEMP_DIR=tempfile.mkdtemp('storagedemo')"
   ]
  },
  {
   "cell_type": "markdown",
   "id": "541ce0fe",
   "metadata": {},
   "source": [
    "### Initialise the waylay client"
   ]
  },
  {
   "cell_type": "code",
   "execution_count": 33,
   "id": "42f7727d",
   "metadata": {},
   "outputs": [
    {
     "data": {
      "text/plain": [
       "'v0.7.0'"
      ]
     },
     "execution_count": 33,
     "metadata": {},
     "output_type": "execute_result"
    }
   ],
   "source": [
    "from waylay import WaylayClient, __version__\n",
    "__version__"
   ]
  },
  {
   "cell_type": "code",
   "execution_count": 34,
   "id": "acfc3de5",
   "metadata": {},
   "outputs": [
    {
     "data": {
      "text/plain": [
       "{'credentials': {'type': 'client_credentials',\n",
       "  'api_key': '41e9fa5124307d9ebeed7909',\n",
       "  'api_secret': '********',\n",
       "  'gateway_url': 'https://api.waylay.io',\n",
       "  'accounts_url': None},\n",
       " 'profile': 'demo',\n",
       " 'settings': {'waylay_storage': 'https://storage.waylay.io'}}"
      ]
     },
     "execution_count": 34,
     "metadata": {},
     "output_type": "execute_result"
    }
   ],
   "source": [
    "waylay = WaylayClient.from_profile(PROFILE)\n",
    "waylay.config.to_dict()"
   ]
  },
  {
   "cell_type": "markdown",
   "id": "36036253",
   "metadata": {},
   "source": [
    "# Using Waylay Storage in the python SDK\n"
   ]
  },
  {
   "cell_type": "markdown",
   "id": "5ceb803c-6f92-4861-b64c-6327b213b892",
   "metadata": {},
   "source": [
    "## Using `storage.content` to upload and download objects\n",
    "\n",
    "The `content` utility calls to the Waylay Storage service to get signed URLs to the content, and then execute download or upload actions on these endpoints."
   ]
  },
  {
   "cell_type": "markdown",
   "id": "3ae90cbc-1916-4e4e-bf2d-f95072b234ef",
   "metadata": {},
   "source": [
    "##### an example text file"
   ]
  },
  {
   "cell_type": "code",
   "execution_count": 35,
   "id": "f70fa06a",
   "metadata": {},
   "outputs": [],
   "source": [
    "file_name=f'{TEMP_DIR}/hi.txt'\n",
    "with open(file_name, mode='w') as f:\n",
    "    f.write('Hi storage demo')"
   ]
  },
  {
   "cell_type": "markdown",
   "id": "91ac015a-5da7-4c5b-940a-70cbf96e8e36",
   "metadata": {},
   "source": [
    "##### put the file at the `EXAMPLE_ASSET` location"
   ]
  },
  {
   "cell_type": "code",
   "execution_count": 36,
   "id": "16aa0c1b",
   "metadata": {},
   "outputs": [
    {
     "name": "stdout",
     "output_type": "stream",
     "text": [
      "Uploading content to assets/demo/test/example_8363.txt ...\n",
      "... done.\n"
     ]
    },
    {
     "data": {
      "text/plain": [
       "'OK'"
      ]
     },
     "execution_count": 36,
     "metadata": {},
     "output_type": "execute_result"
    }
   ],
   "source": [
    "waylay.storage.content.put('assets', EXAMPLE_ASSET, from_file=file_name)"
   ]
  },
  {
   "cell_type": "markdown",
   "id": "4b1ad11b-5f0b-439e-9463-81e78faccbef",
   "metadata": {},
   "source": [
    "##### get the file from the `EXAMPLE_ASSET` location"
   ]
  },
  {
   "cell_type": "code",
   "execution_count": 37,
   "id": "f5de216d",
   "metadata": {},
   "outputs": [],
   "source": [
    "res= waylay.storage.content.get('assets', EXAMPLE_ASSET)"
   ]
  },
  {
   "cell_type": "code",
   "execution_count": 38,
   "id": "b16bbf7c",
   "metadata": {},
   "outputs": [
    {
     "data": {
      "text/plain": [
       "'Hi storage demo'"
      ]
     },
     "execution_count": 38,
     "metadata": {},
     "output_type": "execute_result"
    }
   ],
   "source": [
    "res.text"
   ]
  },
  {
   "cell_type": "code",
   "execution_count": 39,
   "id": "4ca31380",
   "metadata": {},
   "outputs": [
    {
     "data": {
      "text/plain": [
       "'binary/octet-stream'"
      ]
     },
     "execution_count": 39,
     "metadata": {},
     "output_type": "execute_result"
    }
   ],
   "source": [
    "res.headers['content-type']"
   ]
  },
  {
   "cell_type": "markdown",
   "id": "326474f2-7ab0-4c37-9fee-949b5cbc2401",
   "metadata": {},
   "source": [
    "##### use the correct content type (`text/plain`) to upload the file"
   ]
  },
  {
   "cell_type": "code",
   "execution_count": 40,
   "id": "17f5f680",
   "metadata": {},
   "outputs": [
    {
     "name": "stdout",
     "output_type": "stream",
     "text": [
      "Uploading content to assets/demo/test/example_8363.txt ...\n",
      "... done.\n"
     ]
    },
    {
     "data": {
      "text/plain": [
       "'OK'"
      ]
     },
     "execution_count": 40,
     "metadata": {},
     "output_type": "execute_result"
    }
   ],
   "source": [
    "waylay.storage.content.put('assets', EXAMPLE_ASSET, from_file=file_name, content_type='text/plain')"
   ]
  },
  {
   "cell_type": "code",
   "execution_count": 41,
   "id": "091d017b-34e0-4c15-81e7-ebb030429224",
   "metadata": {},
   "outputs": [],
   "source": [
    "res= waylay.storage.content.get('assets', EXAMPLE_ASSET)"
   ]
  },
  {
   "cell_type": "code",
   "execution_count": 42,
   "id": "36eed108-851a-4320-be9f-8b21f61a0338",
   "metadata": {},
   "outputs": [
    {
     "data": {
      "text/plain": [
       "'text/plain'"
      ]
     },
     "execution_count": 42,
     "metadata": {},
     "output_type": "execute_result"
    }
   ],
   "source": [
    "res.headers['content-type']"
   ]
  },
  {
   "cell_type": "markdown",
   "id": "36dd8ae0-1f44-4392-aa83-c7611102a20a",
   "metadata": {},
   "source": [
    "###### remove the object"
   ]
  },
  {
   "cell_type": "code",
   "execution_count": 50,
   "id": "4da64b69-4647-4bb5-b58c-c47f762372b8",
   "metadata": {},
   "outputs": [
    {
     "data": {
      "text/plain": [
       "{'_links': {'removed': {'href': 'https://storage.waylay.io/bucket/assets/demo/test/example_8363.txt'}}}"
      ]
     },
     "execution_count": 50,
     "metadata": {},
     "output_type": "execute_result"
    }
   ],
   "source": [
    "waylay.storage.object.remove('assets', EXAMPLE_ASSET)"
   ]
  },
  {
   "cell_type": "markdown",
   "id": "bf956fb9",
   "metadata": {},
   "source": [
    "### `storage.bucket` api\n",
    "A _bucket_ is a collection of storage objects private to the Waylay tenant."
   ]
  },
  {
   "cell_type": "markdown",
   "id": "64b18cd7",
   "metadata": {},
   "source": [
    "#### `storage.bucket.list`"
   ]
  },
  {
   "cell_type": "code",
   "execution_count": 51,
   "id": "41cacce8",
   "metadata": {},
   "outputs": [
    {
     "data": {
      "text/plain": [
       "'You have access to 5 buckets on demo.waylay.io'"
      ]
     },
     "execution_count": 51,
     "metadata": {},
     "output_type": "execute_result"
    }
   ],
   "source": [
    "f'You have access to {len(waylay.storage.bucket.list())} buckets on {waylay.config.auth.current_token.domain}'\n"
   ]
  },
  {
   "cell_type": "markdown",
   "id": "6e709e9c",
   "metadata": {},
   "source": [
    "#### `storage.bucket.get`"
   ]
  },
  {
   "cell_type": "code",
   "execution_count": 52,
   "id": "0bd39615",
   "metadata": {},
   "outputs": [
    {
     "data": {
      "text/plain": [
       "{'_links': {'self': {'href': 'https://storage.waylay.io/bucket/assets'},\n",
       "  'list': {'href': 'https://storage.waylay.io/bucket/assets/'},\n",
       "  'sign_post': {'href': 'https://storage.waylay.io/bucket/assets/?sign=POST&expiry_seconds=300'},\n",
       "  'subscriptions': {'href': 'https://storage.waylay.io/subscription/assets'},\n",
       "  'store': {'href': 's3://prod-ws-assets-fa31ec5f-bf6d-4cdb-930f-2cdd38b53e21'}},\n",
       " 'alias': 'assets',\n",
       " 'name': 'prod-ws-assets-fa31ec5f-bf6d-4cdb-930f-2cdd38b53e21',\n",
       " 'store': {'type': 'minio_s3',\n",
       "  'name': 's3',\n",
       "  'url': 'https://object-storage.waylay.io'}}"
      ]
     },
     "execution_count": 52,
     "metadata": {},
     "output_type": "execute_result"
    }
   ],
   "source": [
    "# the 'assets' bucket are generic objects that only waylay users of that tenant can access.\n",
    "waylay.storage.bucket.get('assets')"
   ]
  },
  {
   "cell_type": "markdown",
   "id": "e3c19af7",
   "metadata": {},
   "source": [
    "### `storage.object` api\n",
    "A storage _object_ is a pointer to a single file.\n"
   ]
  },
  {
   "cell_type": "markdown",
   "id": "47a7aa0f",
   "metadata": {},
   "source": [
    "#### `storage.object.list`"
   ]
  },
  {
   "cell_type": "code",
   "execution_count": 53,
   "id": "d2605a30",
   "metadata": {},
   "outputs": [
    {
     "data": {
      "text/plain": [
       "[{'_links': {'self': {'href': 'https://storage.waylay.io/bucket/assets/demo/test/?stat=true'},\n",
       "   'list': {'href': 'https://storage.waylay.io/bucket/assets/demo/test/'},\n",
       "   'sign_post': {'href': 'https://storage.waylay.io/bucket/assets/demo/test/?sign=POST&expiry_seconds=300'},\n",
       "   'sign_put': {'href': 'https://storage.waylay.io/bucket/assets/demo/test/?sign=PUT&expiry_seconds=300'},\n",
       "   'remove': {'href': 'https://storage.waylay.io/bucket/assets/demo/test/',\n",
       "    'method': 'DELETE'}},\n",
       "  'bucket': {'_links': {'self': {'href': 'https://storage.waylay.io/bucket/assets'}},\n",
       "   'alias': 'assets',\n",
       "   'name': 'prod-ws-assets-fa31ec5f-bf6d-4cdb-930f-2cdd38b53e21'},\n",
       "  'name': 'demo/test/',\n",
       "  'etag': '',\n",
       "  'size': 0,\n",
       "  'is_dir': True}]"
      ]
     },
     "execution_count": 53,
     "metadata": {},
     "output_type": "execute_result"
    }
   ],
   "source": [
    "# list all object with a given prefix, gives an empty list when nothing is found.\n",
    "waylay.storage.object.list('assets',EXAMPLE_ASSET_FOLDER)"
   ]
  },
  {
   "cell_type": "code",
   "execution_count": 54,
   "id": "d24101c4",
   "metadata": {
    "scrolled": true
   },
   "outputs": [
    {
     "data": {
      "text/plain": [
       "[]"
      ]
     },
     "execution_count": 54,
     "metadata": {},
     "output_type": "execute_result"
    }
   ],
   "source": [
    "waylay.storage.object.list('assets',EXAMPLE_ASSET)"
   ]
  },
  {
   "cell_type": "markdown",
   "id": "6680f0c1",
   "metadata": {},
   "source": [
    "#### `storage.object.stat`"
   ]
  },
  {
   "cell_type": "code",
   "execution_count": 55,
   "id": "196b78bf",
   "metadata": {},
   "outputs": [
    {
     "name": "stdout",
     "output_type": "stream",
     "text": [
      "RestResponseError(404: 'operation=not_found_error'; GET 'https://storage.waylay.io/bucket/assets/demo/test/example_8363.txt?stat=true')\n"
     ]
    }
   ],
   "source": [
    "# show metadata of a specific object, fail if not found\n",
    "try:\n",
    "    waylay.storage.object.stat('assets',EXAMPLE_ASSET)\n",
    "except Exception as e:\n",
    "    print(e)"
   ]
  },
  {
   "cell_type": "code",
   "execution_count": 56,
   "id": "f59a0baa",
   "metadata": {},
   "outputs": [
    {
     "name": "stdout",
     "output_type": "stream",
     "text": [
      "Uploading content to assets/demo/test/example_8363.txt ...\n",
      "... done.\n"
     ]
    },
    {
     "data": {
      "text/plain": [
       "'OK'"
      ]
     },
     "execution_count": 56,
     "metadata": {},
     "output_type": "execute_result"
    }
   ],
   "source": [
    "waylay.storage.content.put('assets',EXAMPLE_ASSET, content='Example')"
   ]
  },
  {
   "cell_type": "code",
   "execution_count": 57,
   "id": "f4e246a7",
   "metadata": {},
   "outputs": [
    {
     "data": {
      "text/plain": [
       "{'_links': {'self': {'href': 'https://storage.waylay.io/bucket/assets/demo/test/example_8363.txt?stat=true'},\n",
       "  'sign_get': {'href': 'https://storage.waylay.io/bucket/assets/demo/test/example_8363.txt?sign=GET&expiry_seconds=300'},\n",
       "  'sign_put': {'href': 'https://storage.waylay.io/bucket/assets/demo/test/example_8363.txt?sign=PUT&expiry_seconds=300'},\n",
       "  'remove': {'href': 'https://storage.waylay.io/bucket/assets/demo/test/example_8363.txt',\n",
       "   'method': 'DELETE'}},\n",
       " 'bucket': {'_links': {'self': {'href': 'https://storage.waylay.io/bucket/assets'}},\n",
       "  'alias': 'assets',\n",
       "  'name': 'prod-ws-assets-fa31ec5f-bf6d-4cdb-930f-2cdd38b53e21'},\n",
       " 'name': 'demo/test/example_8363.txt',\n",
       " 'last_modified': '2023-10-16T12:02:58+00:00',\n",
       " 'etag': '0a52730597fb4ffa01fc117d9e71e3a9',\n",
       " 'size': 7,\n",
       " 'content_type': 'binary/octet-stream',\n",
       " 'is_dir': False}"
      ]
     },
     "execution_count": 57,
     "metadata": {},
     "output_type": "execute_result"
    }
   ],
   "source": [
    "waylay.storage.object.stat('assets',EXAMPLE_ASSET)"
   ]
  },
  {
   "cell_type": "code",
   "execution_count": 58,
   "id": "4920bfef",
   "metadata": {},
   "outputs": [
    {
     "data": {
      "text/plain": [
       "'Example'"
      ]
     },
     "execution_count": 58,
     "metadata": {},
     "output_type": "execute_result"
    }
   ],
   "source": [
    "res = waylay.storage.content.get('assets',EXAMPLE_ASSET)\n",
    "res.text"
   ]
  },
  {
   "cell_type": "code",
   "execution_count": 59,
   "id": "c765c7a0",
   "metadata": {
    "scrolled": true
   },
   "outputs": [
    {
     "data": {
      "text/plain": [
       "[{'_links': {'self': {'href': 'https://storage.waylay.io/bucket/assets/50MBFile?stat=true'},\n",
       "   'sign_get': {'href': 'https://storage.waylay.io/bucket/assets/50MBFile?sign=GET&expiry_seconds=300'},\n",
       "   'sign_put': {'href': 'https://storage.waylay.io/bucket/assets/50MBFile?sign=PUT&expiry_seconds=300'},\n",
       "   'remove': {'href': 'https://storage.waylay.io/bucket/assets/50MBFile',\n",
       "    'method': 'DELETE'}},\n",
       "  'bucket': {'_links': {'self': {'href': 'https://storage.waylay.io/bucket/assets'}},\n",
       "   'alias': 'assets',\n",
       "   'name': 'prod-ws-assets-fa31ec5f-bf6d-4cdb-930f-2cdd38b53e21'},\n",
       "  'name': '50MBFile',\n",
       "  'last_modified': '2023-09-20T17:09:29+00:00',\n",
       "  'etag': '25e317773f308e446cc84c503a6d1f85',\n",
       "  'size': 52428800,\n",
       "  'is_dir': False}]"
      ]
     },
     "execution_count": 59,
     "metadata": {},
     "output_type": "execute_result"
    }
   ],
   "source": [
    "waylay.storage.object.list('assets','', params={ 'max_keys':1})"
   ]
  },
  {
   "cell_type": "markdown",
   "id": "0e3d53e5",
   "metadata": {},
   "source": [
    "#### `storage.object.iter_list_all`"
   ]
  },
  {
   "cell_type": "code",
   "execution_count": 60,
   "id": "4f383fef",
   "metadata": {},
   "outputs": [
    {
     "name": "stdout",
     "output_type": "stream",
     "text": [
      "50MBFile\n",
      "demo/test/example_6402.csv\n",
      "demo/test/example_8363.txt\n",
      "demo/test/example_9064.txt\n",
      "demo/test/example_9087.txt\n"
     ]
    }
   ],
   "source": [
    "# iterate over all items using a paging generator\n",
    "# note that this can invoke multiple http requests if the list is huge\n",
    "count=0\n",
    "for x in waylay.storage.object.iter_list_all('assets','', params={'recursive': True}):\n",
    "  print(x['name'])\n",
    "  count += 1\n",
    "  if count >= 5:\n",
    "    break"
   ]
  },
  {
   "cell_type": "markdown",
   "id": "9ac4fffd",
   "metadata": {},
   "source": [
    "## Advanced usage: signed urls"
   ]
  },
  {
   "cell_type": "markdown",
   "id": "9f2341f0",
   "metadata": {},
   "source": [
    "#### `storage.object.sign_get` ,  `storage.object.sign_put`,   `storage.object.sign_post` "
   ]
  },
  {
   "cell_type": "code",
   "execution_count": 61,
   "id": "840f79f9",
   "metadata": {},
   "outputs": [
    {
     "data": {
      "text/plain": [
       "'Hello Waylay Demo'"
      ]
     },
     "execution_count": 61,
     "metadata": {},
     "output_type": "execute_result"
    }
   ],
   "source": [
    "### SEE `storage.content` API above for shortcuts ...\n",
    "# create a signed url for uploading to a (existing or new) location\n",
    "put_url = waylay.storage.object.sign_put('assets',EXAMPLE_ASSET)\n",
    "httpx.put(put_url, content='Hello Waylay Demo')\n",
    "# creat a signed url to read a location\n",
    "get_url = waylay.storage.object.sign_get('assets',EXAMPLE_ASSET)\n",
    "httpx.get(get_url).text"
   ]
  },
  {
   "cell_type": "code",
   "execution_count": 62,
   "id": "b6777215",
   "metadata": {},
   "outputs": [
    {
     "name": "stdout",
     "output_type": "stream",
     "text": [
      "Hi storage demo\n"
     ]
    }
   ],
   "source": [
    "# an example file\n",
    "file_name=f'{TEMP_DIR}/hi.txt'\n",
    "with open(file_name, mode='w') as f:\n",
    "    f.write('Hi storage demo')\n",
    "    \n",
    "with open(file_name, mode='r') as f:\n",
    "    print(f.read())"
   ]
  },
  {
   "cell_type": "code",
   "execution_count": 63,
   "id": "391b413e",
   "metadata": {},
   "outputs": [
    {
     "data": {
      "text/plain": [
       "{'href': 'https://object-storage.waylay.io/prod-ws-assets-fa31ec5f-bf6d-4cdb-930f-2cdd38b53e21/',\n",
       " 'method': 'POST',\n",
       " 'form_data': {'x-amz-algorithm': 'AWS4-HMAC-SHA256',\n",
       "  'x-amz-credential': 'fa31ec5f-bf6d-4cdb-930f-2cdd38b53e21.assets_readwritedelete/20231016/eu-west-1/s3/aws4_request',\n",
       "  'x-amz-date': '20231016T120334Z',\n",
       "  'policy': 'eyJleHBpcmF0aW9uIjogIjIwMjMtMTAtMTZUMTI6MDg6MzQuMjE2WiIsICJjb25kaXRpb25zIjogW1siZXEiLCAiJGJ1Y2tldCIsICJwcm9kLXdzLWFzc2V0cy1mYTMxZWM1Zi1iZjZkLTRjZGItOTMwZi0yY2RkMzhiNTNlMjEiXSwgWyJzdGFydHMtd2l0aCIsICIka2V5IiwgImRlbW8vdGVzdCJdLCBbImVxIiwgIiR4LWFtei1hbGdvcml0aG0iLCAiQVdTNC1ITUFDLVNIQTI1NiJdLCBbImVxIiwgIiR4LWFtei1jcmVkZW50aWFsIiwgImZhMzFlYzVmLWJmNmQtNGNkYi05MzBmLTJjZGQzOGI1M2UyMS5hc3NldHNfcmVhZHdyaXRlZGVsZXRlLzIwMjMxMDE2L2V1LXdlc3QtMS9zMy9hd3M0X3JlcXVlc3QiXSwgWyJlcSIsICIkeC1hbXotZGF0ZSIsICIyMDIzMTAxNlQxMjAzMzRaIl1dfQ==',\n",
       "  'x-amz-signature': '245c2623325a8a8fc6092e88b6669f7c5280f961ba3b25c6f70854bfa58e7eb6',\n",
       "  'bucket': 'prod-ws-assets-fa31ec5f-bf6d-4cdb-930f-2cdd38b53e21',\n",
       "  'key': 'demo/test'}}"
      ]
     },
     "execution_count": 63,
     "metadata": {},
     "output_type": "execute_result"
    }
   ],
   "source": [
    "## use these POST parameters to post an object to any path below the signed pat\n",
    "post_cfg=waylay.storage.object.sign_post('assets',EXAMPLE_ASSET_FOLDER, params={'content-type':'text/plain'})\n",
    "post_cfg"
   ]
  },
  {
   "cell_type": "code",
   "execution_count": 64,
   "id": "1a7c5b7c",
   "metadata": {},
   "outputs": [
    {
     "data": {
      "text/plain": [
       "<Response [204 No Content]>"
      ]
     },
     "execution_count": 64,
     "metadata": {},
     "output_type": "execute_result"
    }
   ],
   "source": [
    "# use any http library that supports form data:\n",
    "# for httpx: https://www.python-httpx.org/quickstart/#sending-multipart-file-uploads\n",
    "with open(file_name, mode='rb') as f: # needs a binary stream\n",
    "    res = httpx.post(\n",
    "        post_cfg['href'], # the object-storage url\n",
    "        files={ 'file': f }, \n",
    "        data={ \n",
    "            **post_cfg['form_data'], # copy over the signed form data\n",
    "            'key': EXAMPLE_ASSET # override 'key' to the exact path (must have prefix compatible with the signed url)\n",
    "        }\n",
    "    )\n",
    "res"
   ]
  },
  {
   "cell_type": "code",
   "execution_count": 65,
   "id": "0212f9bd",
   "metadata": {},
   "outputs": [
    {
     "data": {
      "text/plain": [
       "'Hi storage demo'"
      ]
     },
     "execution_count": 65,
     "metadata": {},
     "output_type": "execute_result"
    }
   ],
   "source": [
    "waylay.storage.content.get('assets', EXAMPLE_ASSET).text"
   ]
  },
  {
   "cell_type": "code",
   "execution_count": 66,
   "id": "7aea0fef",
   "metadata": {},
   "outputs": [
    {
     "data": {
      "text/plain": [
       "{'_links': {'removed': {'href': 'https://storage.waylay.io/bucket/assets/demo/test/example_8363.txt'}}}"
      ]
     },
     "execution_count": 66,
     "metadata": {},
     "output_type": "execute_result"
    }
   ],
   "source": [
    "waylay.storage.object.remove('assets', EXAMPLE_ASSET)"
   ]
  }
 ],
 "metadata": {
  "kernelspec": {
   "display_name": "Python 3 (ipykernel)",
   "language": "python",
   "name": "python3"
  },
  "language_info": {
   "codemirror_mode": {
    "name": "ipython",
    "version": 3
   },
   "file_extension": ".py",
   "mimetype": "text/x-python",
   "name": "python",
   "nbconvert_exporter": "python",
   "pygments_lexer": "ipython3",
   "version": "3.9.18"
  }
 },
 "nbformat": 4,
 "nbformat_minor": 5
}
