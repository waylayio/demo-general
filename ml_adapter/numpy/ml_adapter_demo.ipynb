{
 "cells": [
  {
   "cell_type": "markdown",
   "id": "66cd854b-9a6e-4bac-9650-5d86b3ea56d5",
   "metadata": {},
   "source": [
    "#### Preamble\n",
    "\n",
    "Demo of the `ml_adapter` functionality using a simple _numpy_ model"
   ]
  },
  {
   "cell_type": "code",
   "execution_count": 1,
   "id": "ff574a4a-5501-4448-ad58-000a7d0599e9",
   "metadata": {},
   "outputs": [],
   "source": [
    "# notebook parameters\n",
    "# the sdk profile used to connect\n",
    "PROFILE='_default_'\n",
    "LOG_LEVEL='INFO'\n",
    "WS_NAME='myFirstDemo'\n",
    "WS_VERSION='1.0.1'\n",
    "PLUG_NAME='myFirstDemo'\n",
    "PLUG_VERSION='1.0.1'"
   ]
  },
  {
   "cell_type": "code",
   "execution_count": 2,
   "id": "bd36ec52-3bb8-44d2-8da8-238ac0398635",
   "metadata": {},
   "outputs": [],
   "source": [
    "# setup INFO logging to see http requests made.\n",
    "import logging\n",
    "logging.basicConfig(\n",
    "    format='%(asctime)s %(levelname)-8s %(message)s',\n",
    "    level=LOG_LEVEL,\n",
    "    datefmt='%Y-%m-%d %H:%M:%S'\n",
    ")"
   ]
  },
  {
   "cell_type": "markdown",
   "id": "46523964-f381-46ff-b009-76b32cdc3b00",
   "metadata": {},
   "source": [
    "# An ML adapter demo\n",
    "\n",
    "This demo show how _ml adapters_ allow to expose Machine Learning models in webscripts and plugs.\n",
    "\n",
    "We use a simple function as a model in this demo, as it is not about the training and testing of models itself.\n",
    "\n"
   ]
  },
  {
   "cell_type": "markdown",
   "id": "7bb17b8a-4fee-4c16-83ac-788a2f2626b5",
   "metadata": {},
   "source": [
    "## models as functions\n",
    "\n",
    "The simplest models are just functions that take numerical data (normally numpy tensors) in. \n",
    "\n",
    "In real-world cases, these models would be provided by libraries such as `scikit-learn` or `pytorch`.\n"
   ]
  },
  {
   "cell_type": "code",
   "execution_count": 3,
   "id": "19d5c0b0-0e98-447e-a221-96c7f6d5d069",
   "metadata": {},
   "outputs": [],
   "source": [
    "def doubler(x):\n",
    "  return 2 * x"
   ]
  },
  {
   "cell_type": "code",
   "execution_count": 4,
   "id": "c1fcff5c-44bd-4e80-acd9-009d06b11947",
   "metadata": {},
   "outputs": [
    {
     "data": {
      "text/plain": [
       "6"
      ]
     },
     "execution_count": 4,
     "metadata": {},
     "output_type": "execute_result"
    }
   ],
   "source": [
    "doubler(3)"
   ]
  },
  {
   "cell_type": "code",
   "execution_count": 5,
   "id": "1abeed38-e6e2-4c76-8649-5c5484ccbcf2",
   "metadata": {},
   "outputs": [
    {
     "data": {
      "text/plain": [
       "[3, 4, 5, 6, 3, 4, 5, 6]"
      ]
     },
     "execution_count": 5,
     "metadata": {},
     "output_type": "execute_result"
    }
   ],
   "source": [
    "doubler([3,4,5,6])"
   ]
  },
  {
   "cell_type": "code",
   "execution_count": 6,
   "id": "f55f86d5-bf9e-441c-89eb-9abccb05a4f1",
   "metadata": {},
   "outputs": [
    {
     "data": {
      "text/plain": [
       "array([ 6,  8, 10, 12])"
      ]
     },
     "execution_count": 6,
     "metadata": {},
     "output_type": "execute_result"
    }
   ],
   "source": [
    "import numpy as np\n",
    "doubler(np.array([3,4,5,6]))"
   ]
  },
  {
   "cell_type": "code",
   "execution_count": 7,
   "id": "9c56a8d4-4972-49d4-bd9b-c58a2f98f15e",
   "metadata": {},
   "outputs": [
    {
     "data": {
      "text/plain": [
       "'a_tensor.shape'"
      ]
     },
     "metadata": {},
     "output_type": "display_data"
    },
    {
     "data": {
      "text/plain": [
       "(2, 4, 1)"
      ]
     },
     "metadata": {},
     "output_type": "display_data"
    },
    {
     "data": {
      "text/plain": [
       "'result'"
      ]
     },
     "metadata": {},
     "output_type": "display_data"
    },
    {
     "data": {
      "text/plain": [
       "array([[[ 6],\n",
       "        [ 8],\n",
       "        [10],\n",
       "        [12]],\n",
       "\n",
       "       [[ 6],\n",
       "        [ 8],\n",
       "        [10],\n",
       "        [12]]])"
      ]
     },
     "metadata": {},
     "output_type": "display_data"
    },
    {
     "data": {
      "text/plain": [
       "'result.shape'"
      ]
     },
     "metadata": {},
     "output_type": "display_data"
    },
    {
     "data": {
      "text/plain": [
       "(2, 4, 1)"
      ]
     },
     "metadata": {},
     "output_type": "display_data"
    }
   ],
   "source": [
    "a_tensor=np.array([[[3],[4],[5],[6]],[[3],[4],[5],[6]]])\n",
    "display('a_tensor.shape', a_tensor.shape)\n",
    "result = doubler(a_tensor)\n",
    "display('result', result)\n",
    "display('result.shape',result.shape)"
   ]
  },
  {
   "cell_type": "code",
   "execution_count": 8,
   "id": "9f79401f-7063-408c-b6a6-c001b829c579",
   "metadata": {},
   "outputs": [],
   "source": [
    "class MyModel():\n",
    "    def __init__(self, multiplier=2.14):\n",
    "        self.multiplier = np.array(multiplier)\n",
    "\n",
    "    def __call__(self, x, y=np.array([1,2,3])):\n",
    "        return { \n",
    "            'main': x + self.multiplier * y, \n",
    "            'multiplier': self.multiplier \n",
    "        }"
   ]
  },
  {
   "cell_type": "code",
   "execution_count": 9,
   "id": "da49c571-fee2-4e40-9de2-74a9898457cc",
   "metadata": {},
   "outputs": [
    {
     "data": {
      "text/plain": [
       "{'main': array([-0.3, -1.6, -2.9]), 'multiplier': array(-2.3)}"
      ]
     },
     "metadata": {},
     "output_type": "display_data"
    },
    {
     "data": {
      "text/plain": [
       "{'main': array([-4.9, -8.5, -2.9]), 'multiplier': array(-2.3)}"
      ]
     },
     "metadata": {},
     "output_type": "display_data"
    }
   ],
   "source": [
    "my_model=MyModel(-2.3)\n",
    "\n",
    "display(my_model(np.array([2,3,4])))\n",
    "display(my_model(np.array([2,3,4]),np.array([3,5,3])))\n",
    "                    "
   ]
  },
  {
   "cell_type": "markdown",
   "id": "b0d60d66-e4a7-413b-9d3d-4d91d07ef99a",
   "metadata": {},
   "source": [
    "#### ML adapter as protocol adapter\n",
    "ML Adapters take care of the protocol conversion from REST to the function interface (e.g. numpy arrays)\n",
    "\n",
    "We support the following serialization protocols:\n",
    "* `V1` : https://kserve.github.io/website/master/modelserving/data_plane/v1_protocol\n",
    "* `V2` : https://github.com/kserve/open-inference-protocol/tree/main "
   ]
  },
  {
   "cell_type": "code",
   "execution_count": 10,
   "id": "a5f2bff1-532d-437a-92cb-9e27f6368637",
   "metadata": {},
   "outputs": [],
   "source": [
    "from ml_adapter.numpy import V1NumpyModelAdapter"
   ]
  },
  {
   "cell_type": "code",
   "execution_count": 11,
   "id": "b11a17be-12b2-41cc-8821-e9d86771e610",
   "metadata": {},
   "outputs": [
    {
     "data": {
      "text/plain": [
       "{'predictions': [4, 6, 8]}"
      ]
     },
     "execution_count": 11,
     "metadata": {},
     "output_type": "execute_result"
    }
   ],
   "source": [
    "adapter = V1NumpyModelAdapter(model=doubler)\n",
    "await adapter.call({'instances': [2,3,4]})"
   ]
  },
  {
   "cell_type": "code",
   "execution_count": 12,
   "id": "054bb378-c9c8-4287-be78-00f3352a522d",
   "metadata": {},
   "outputs": [
    {
     "data": {
      "text/plain": [
       "{'outputs': {'main': [[11.42, 15.56, 4.0]], 'multiplier': 3.14}}"
      ]
     },
     "execution_count": 12,
     "metadata": {},
     "output_type": "execute_result"
    }
   ],
   "source": [
    "adapter = V1NumpyModelAdapter(model=MyModel(3.14))\n",
    "await adapter.call({\n",
    "    'instances': [{'x':[2,3,4], 'y':[3,4,0]}]\n",
    "}) "
   ]
  },
  {
   "cell_type": "markdown",
   "id": "39a37e23-441f-4746-8f6f-afd98167c577",
   "metadata": {},
   "source": [
    "# ML adapter as model serializer.\n",
    "\n",
    "ML adapter also take care of serializing the model.\n",
    "\n",
    "Currently the following options are available:\n",
    "* `joblib` creates `model.joblib` or `model.joblib.gz` files\n",
    "* `dill` creates `model.dill` files\n",
    "* custome serialization to `model.sav` files: requires registering a `model_class` that has a `save` and `load` method\n",
    "* no serialization: requires that the model as a argument when creating the adapter (e.g. in the webscript or plug)\n",
    "\n"
   ]
  },
  {
   "cell_type": "code",
   "execution_count": 13,
   "id": "615b51b4-7398-47b4-8d65-464a1fe7c777",
   "metadata": {},
   "outputs": [],
   "source": [
    "# when creating a model, a folder where the assets are stored needs to be present\n",
    "LOC='demo_webscript'\n",
    "! rm -fr demo_webscript"
   ]
  },
  {
   "cell_type": "code",
   "execution_count": 14,
   "id": "b508e926-24b7-4402-a6b2-c6bd9d0d3f85",
   "metadata": {},
   "outputs": [],
   "source": [
    "adapter = V1NumpyModelAdapter(location=LOC, model=doubler)\n",
    "adapter.model_class"
   ]
  },
  {
   "cell_type": "code",
   "execution_count": 15,
   "id": "c36f9e09-2bba-49eb-aa9a-7b97f8d14ad5",
   "metadata": {},
   "outputs": [
    {
     "data": {
      "text/plain": [
       "<ml_adapter.numpy.adapter.V1NumpyModelAdapter at 0x110e2ad10>"
      ]
     },
     "execution_count": 15,
     "metadata": {},
     "output_type": "execute_result"
    }
   ],
   "source": [
    "await adapter.save()"
   ]
  },
  {
   "cell_type": "markdown",
   "id": "55b21684-ffeb-4c18-b850-49f5f8b73080",
   "metadata": {},
   "source": [
    "Lets have a look at what is saved  in the `demo_webscript` folder"
   ]
  },
  {
   "cell_type": "code",
   "execution_count": 16,
   "id": "e36a463c-24d6-4d6d-bfe5-8d80132c7b76",
   "metadata": {},
   "outputs": [
    {
     "data": {
      "text/plain": [
       "132"
      ]
     },
     "execution_count": 16,
     "metadata": {},
     "output_type": "execute_result"
    }
   ],
   "source": [
    "adapter = await V1NumpyModelAdapter(location=LOC).load()\n",
    "adapter.model(66)"
   ]
  },
  {
   "cell_type": "code",
   "execution_count": 17,
   "id": "fd712631-2f17-4fb2-b85e-c21d83501b26",
   "metadata": {},
   "outputs": [
    {
     "data": {
      "text/plain": [
       "{'predictions': [4, 6, 8]}"
      ]
     },
     "execution_count": 17,
     "metadata": {},
     "output_type": "execute_result"
    }
   ],
   "source": [
    "await adapter.call({'instances': [2,3,4]})"
   ]
  },
  {
   "cell_type": "code",
   "execution_count": 18,
   "id": "417ddba1-f52c-4acc-b5e2-0ecf00458496",
   "metadata": {},
   "outputs": [
    {
     "data": {
      "text/plain": [
       "<ml_adapter.numpy.adapter.V1NumpyModelAdapter at 0x117865fd0>"
      ]
     },
     "execution_count": 18,
     "metadata": {},
     "output_type": "execute_result"
    }
   ],
   "source": [
    "adapter.as_webscript({ 'name': WS_NAME , 'version': WS_VERSION})\n",
    "await adapter.save()"
   ]
  },
  {
   "cell_type": "code",
   "execution_count": 19,
   "id": "2cfc9324-88b6-4533-8cec-b6c2439e184c",
   "metadata": {
    "scrolled": true
   },
   "outputs": [
    {
     "data": {
      "text/plain": [
       "PosixPath('demo_webscript.tar.gz')"
      ]
     },
     "execution_count": 19,
     "metadata": {},
     "output_type": "execute_result"
    }
   ],
   "source": [
    "# you can save the webscript archive here, and upload it via console. Alternatively, use the sdk as below.\n",
    "archive_loc = await adapter.save_archive()\n",
    "archive_loc"
   ]
  },
  {
   "cell_type": "markdown",
   "id": "fc10851b-1ea7-4d13-b329-d2af273444ee",
   "metadata": {},
   "source": [
    "## Using the the new python sdk"
   ]
  },
  {
   "cell_type": "code",
   "execution_count": 21,
   "id": "e1febbef-e7c9-48a7-8970-415167a2eba9",
   "metadata": {},
   "outputs": [],
   "source": [
    "from waylay.sdk import WaylayClient\n",
    "from waylay.sdk.exceptions import RestResponseError"
   ]
  },
  {
   "cell_type": "code",
   "execution_count": 22,
   "id": "a48ea4ad-a3ca-459a-8ece-cc23c93ccdf4",
   "metadata": {},
   "outputs": [
    {
     "data": {
      "text/plain": [
       "<WaylayClient(services=[gateway,rules,registry],tools=[ml_tool],config={\"credentials\": {\"type\": \"client_credentials\", \"api_key\": \"fc29ca8f37544723fc39d908\", \"api_secret\": \"********\", \"gateway_url\": \"https://api-aws-dev.waylay.io\", \"accounts_url\": null}, \"profile\": \"_default_\", \"settings\": {}})>"
      ]
     },
     "execution_count": 22,
     "metadata": {},
     "output_type": "execute_result"
    }
   ],
   "source": [
    "client = WaylayClient.from_profile()\n",
    "client"
   ]
  },
  {
   "cell_type": "markdown",
   "id": "7708571f-e8ad-488c-969e-5844f8cc6091",
   "metadata": {},
   "source": [
    "### MLAdapter tool in waylay.sdk\n",
    "When the `waylay-sdk-ml-adapter` module is loaded, a `waylay.ml_adapter.sdk.MLTool` tool plugin is available.\n",
    "This tool assists in the creation of _plugs_ and _webscripts_ that wrap ML models using an MLAdapter. "
   ]
  },
  {
   "cell_type": "code",
   "execution_count": 23,
   "id": "b06045e4-da09-41c3-8df2-d30098b06d04",
   "metadata": {},
   "outputs": [
    {
     "name": "stdout",
     "output_type": "stream",
     "text": [
      "ML Adapter Tool\n",
      "\n",
      "Helps creating waylay webscripts and plugs that wrap a machine learning model.\n",
      "\n"
     ]
    }
   ],
   "source": [
    "from ml_adapter.sdk.tool import MLTool\n",
    "client.ml_tool\n",
    "print(client.ml_tool.title)\n",
    "print(client.ml_tool.description)"
   ]
  },
  {
   "cell_type": "code",
   "execution_count": 24,
   "id": "bcd685c8-8503-4fe9-93ae-9e90f5dc9bf1",
   "metadata": {},
   "outputs": [
    {
     "name": "stderr",
     "output_type": "stream",
     "text": [
      "2024-06-11 09:59:58 INFO     HTTP Request: POST https://api-aws-dev.waylay.io/accounts/v1/tokens?grant_type=client_credentials \"HTTP/1.1 200 OK\"\n",
      "2024-06-11 09:59:58 INFO     HTTP Request: DELETE https://api-aws-dev.waylay.io/registry/v2/webscripts/myFirstDemo \"HTTP/1.1 202 Accepted\"\n"
     ]
    }
   ],
   "source": [
    "# remove the webscript if it already exists\n",
    "try:\n",
    "    await client.registry.webscripts.remove_versions(WS_NAME)\n",
    "except RestResponseError as exc:\n",
    "    logging.info(exc.response)"
   ]
  },
  {
   "cell_type": "code",
   "execution_count": 25,
   "id": "b4b8a798-87fd-4c01-8e05-2a9bc2fb93cc",
   "metadata": {},
   "outputs": [
    {
     "name": "stderr",
     "output_type": "stream",
     "text": [
      "2024-06-11 10:00:02 INFO     HTTP Request: POST https://api-aws-dev.waylay.io/registry/v2/webscripts/?draft=true&comment=&async=true \"HTTP/1.1 202 Accepted\"\n"
     ]
    },
    {
     "data": {
      "text/plain": [
       "{'message': 'Building and deploying webscript myFirstDemo@1.0.1',\n",
       " '_links': {'event': {'href': 'https://api-aws-dev.waylay.io/registry/v2/jobs/events?type=verify&id=740799ef-d515-4704-8718-903851c9899e$9DlidM4oOe5vfJO2HukHX&children=true'},\n",
       "  'job': {'href': 'https://api-aws-dev.waylay.io/registry/v2/jobs/verify/740799ef-d515-4704-8718-903851c9899e$9DlidM4oOe5vfJO2HukHX'}},\n",
       " 'entity': {'createdBy': 'users/08e92c94-0a45-4f69-8405-3c2e46dd0cf9',\n",
       "  'createdAt': '2024-06-11T08:00:02.751Z',\n",
       "  'updatedBy': 'users/08e92c94-0a45-4f69-8405-3c2e46dd0cf9',\n",
       "  'updatedAt': '2024-06-11T08:00:02.764Z',\n",
       "  'updates': [{'operation': 'create',\n",
       "    'at': '2024-06-11T08:00:02.764Z',\n",
       "    'by': 'users/08e92c94-0a45-4f69-8405-3c2e46dd0cf9',\n",
       "    'comment': '',\n",
       "    'jobs': ['740799ef-d515-4704-8718-903851c9899e$9DlidM4oOe5vfJO2HukHX',\n",
       "     '740799ef-d515-4704-8718-903851c9899e$z10KIXR2W24RCPc80Wr0t',\n",
       "     '740799ef-d515-4704-8718-903851c9899e$BgbLl1bxgJ1ErMyAPPoC1']}],\n",
       "  'status': 'pending',\n",
       "  'runtime': {'deprecated': False,\n",
       "   'upgradable': False,\n",
       "   'name': 'web-python3',\n",
       "   'version': '0.2.0'},\n",
       "  'deprecated': False,\n",
       "  'draft': True,\n",
       "  'webscript': {'name': 'myFirstDemo',\n",
       "   'version': '1.0.1',\n",
       "   'runtime': 'web-python3',\n",
       "   'metadata': {},\n",
       "   'private': True,\n",
       "   'allowHmac': True},\n",
       "  'secret': 'p28LTqX0K56wyIwYwWMYBMeriCMr/QZ76E3naHUdctU='}}"
      ]
     },
     "execution_count": 25,
     "metadata": {},
     "output_type": "execute_result"
    }
   ],
   "source": [
    "# update adapter for webscript and deploy\n",
    "ref = await client.ml_tool.create_webscript(adapter, name=WS_NAME, version=WS_VERSION, draft=True)\n",
    "ref"
   ]
  },
  {
   "cell_type": "code",
   "execution_count": 26,
   "id": "c2878f7e-5b96-474c-b4d3-0aaa96027e29",
   "metadata": {},
   "outputs": [
    {
     "name": "stderr",
     "output_type": "stream",
     "text": [
      "2024-06-11 10:00:03 INFO     Waiting for myFirstDemo@1.0.1 to be ready:\n",
      "2024-06-11 10:00:03 INFO     listening on https://api-aws-dev.waylay.io/registry/v2/jobs/events?type=verify&id=740799ef-d515-4704-8718-903851c9899e$9DlidM4oOe5vfJO2HukHX&children=true\n",
      "2024-06-11 10:00:04 INFO     HTTP Request: GET https://api-aws-dev.waylay.io/registry/v2/jobs/events?type=verify&id=740799ef-d515-4704-8718-903851c9899e$9DlidM4oOe5vfJO2HukHX&children=true \"HTTP/1.1 200 OK\"\n",
      "2024-06-11 10:00:04 INFO     ack: Listening to events of jobs dependent on job 740799ef-d515-4704-8718-903851c9899e$9DlidM4oOe5vfJO2HukHX\n",
      "2024-06-11 10:00:04 INFO     myFirstDemo@1.0.1 build: active\n",
      "2024-06-11 10:00:04 INFO     myFirstDemo@1.0.1 verify: waiting-children\n",
      "2024-06-11 10:00:04 INFO     myFirstDemo@1.0.1 deploy: waiting-children\n",
      "2024-06-11 10:00:23 INFO     myFirstDemo@1.0.1 build: completed\n",
      "{'data': {'returnvalue': {'digest': '468881c8d9579ed0c08b6c8c06d0e52b8a96ee28bfa94086bad90eaf2bf593fb', 'log': [], 'status': 'success'}}, 'job': {'id': '740799ef-d515-4704-8718-903851c9899e$BgbLl1bxgJ1ErMyAPPoC1', 'type': 'build'}, 'timestamp': '2024-06-11T08:00:23.102Z', 'function': {'name': 'myFirstDemo', 'version': '1.0.1', 'functionType': 'webscripts', 'runtime': 'web-python3', 'runtimeVersion': '0.2.0'}, '_links': {'job': {'href': 'https://api-aws-dev.waylay.io/registry/v2/jobs/build/740799ef-d515-4704-8718-903851c9899e$BgbLl1bxgJ1ErMyAPPoC1'}, 'webscript': {'href': 'https://api-aws-dev.waylay.io/registry/v2/webscripts/myFirstDemo/versions/1.0.1'}}}\n",
      "2024-06-11 10:00:23 INFO     myFirstDemo@1.0.1 deploy: waiting\n",
      "2024-06-11 10:00:23 INFO     myFirstDemo@1.0.1 deploy: active\n",
      "2024-06-11 10:00:23 INFO     myFirstDemo@1.0.1 deploy: completed\n",
      "{'data': {'returnvalue': {'deploySpec': {'service': 'web-6a594392ce185520d1ab82318f10f5faceb7b620', 'image': 'eu.gcr.io/quiet-mechanic-140114/openfaas-plugs/740799ef-d515-4704-8718-903851c9899e/9bc6b8d86b3542e9a453902b12258eadfae2f0f2:1.0.1', 'namespace': 'openfaas-fn-740799ef-d515-4704-8718-903851c9899e', 'labels': {'networking/allow-internet-egress': 'true', 'com.openfaas.scale.zero': 'true', 'com.openfaas.scale.zero-duration': '12h', 'com.openfaas.scale.min': '1', 'com.openfaas.scale.max': '10', 'com.openfaas.scale.target': '20', 'com.openfaas.scale.target-proportion': '0.90', 'com.openfaas.scale.type': 'rps', 'io.waylay.runtime.name': 'web-python3', 'io.waylay.runtime.version': '0.2.0', 'io.waylay.tenant': '740799ef-d515-4704-8718-903851c9899e'}, 'annotations': {'io.waylay.registry.version': '2.14.0b1', 'io.waylay.function.name': 'myFirstDemo', 'io.waylay.function.version': '1.0.1', 'io.waylay.function.revision': 'f5bde77ac382bff6445cfc166d9d367a2315328a1e03fc68cd9f5577670f0ceb', 'com.openfaas.health.http.initialDelay': '1s', 'com.openfaas.health.http.periodSeconds': '5s', 'com.openfaas.profile': 'fn-nodepool-profile', 'hpa.autoscaling.banzaicloud.io/minReplicas': '1', 'hpa.autoscaling.banzaicloud.io/maxReplicas': '10', 'cpu.hpa.autoscaling.banzaicloud.io/targetAverageUtilization': '80', 'memory.hpa.autoscaling.banzaicloud.io/targetAverageUtilization': '80'}, 'limits': {'memory': '128Mi', 'cpu': '150m'}, 'requests': {'memory': '64Mi', 'cpu': '25m'}}}}, 'job': {'id': '740799ef-d515-4704-8718-903851c9899e$z10KIXR2W24RCPc80Wr0t', 'type': 'deploy'}, 'timestamp': '2024-06-11T08:00:23.147Z', 'function': {'name': 'myFirstDemo', 'version': '1.0.1', 'functionType': 'webscripts', 'runtime': 'web-python3', 'runtimeVersion': '0.2.0'}, '_links': {'job': {'href': 'https://api-aws-dev.waylay.io/registry/v2/jobs/deploy/740799ef-d515-4704-8718-903851c9899e$z10KIXR2W24RCPc80Wr0t'}, 'webscript': {'href': 'https://api-aws-dev.waylay.io/registry/v2/webscripts/myFirstDemo/versions/1.0.1'}}}\n",
      "2024-06-11 10:00:23 INFO     myFirstDemo@1.0.1 verify: waiting\n",
      "2024-06-11 10:00:23 INFO     myFirstDemo@1.0.1 verify: active\n",
      "2024-06-11 10:00:29 INFO     keep-alive: {}\n",
      "2024-06-11 10:00:35 INFO     close: Job with id 740799ef-d515-4704-8718-903851c9899e$9DlidM4oOe5vfJO2HukHX has completed\n",
      "2024-06-11 10:00:35 INFO     HTTP Request: GET https://api-aws-dev.waylay.io/registry/v2/webscripts/myFirstDemo/versions/1.0.1 \"HTTP/1.1 200 OK\"\n",
      "2024-06-11 10:00:35 INFO     function myFirstDemo@1.0.1 has status running\n"
     ]
    },
    {
     "data": {
      "text/plain": [
       "{'entity': {'createdBy': 'users/08e92c94-0a45-4f69-8405-3c2e46dd0cf9',\n",
       "  'createdAt': '2024-06-11T08:00:02.751Z',\n",
       "  'updatedBy': 'users/08e92c94-0a45-4f69-8405-3c2e46dd0cf9',\n",
       "  'updatedAt': '2024-06-11T08:00:02.764Z',\n",
       "  'updates': [{'operation': 'create',\n",
       "    'at': '2024-06-11T08:00:02.764Z',\n",
       "    'by': 'users/08e92c94-0a45-4f69-8405-3c2e46dd0cf9',\n",
       "    'comment': '',\n",
       "    'jobs': ['740799ef-d515-4704-8718-903851c9899e$9DlidM4oOe5vfJO2HukHX',\n",
       "     '740799ef-d515-4704-8718-903851c9899e$z10KIXR2W24RCPc80Wr0t',\n",
       "     '740799ef-d515-4704-8718-903851c9899e$BgbLl1bxgJ1ErMyAPPoC1']}],\n",
       "  'status': 'running',\n",
       "  'runtime': {'deprecated': False,\n",
       "   'upgradable': False,\n",
       "   'name': 'web-python3',\n",
       "   'version': '0.2.0'},\n",
       "  'deprecated': False,\n",
       "  'draft': True,\n",
       "  'webscript': {'name': 'myFirstDemo',\n",
       "   'version': '1.0.1',\n",
       "   'runtime': 'web-python3',\n",
       "   'metadata': {},\n",
       "   'private': True,\n",
       "   'allowHmac': True},\n",
       "  'secret': 'p28LTqX0K56wyIwYwWMYBMeriCMr/QZ76E3naHUdctU='},\n",
       " '_links': {'invoke': {'href': 'https://api-aws-dev.waylay.io/functions/v1/740799ef-d515-4704-8718-903851c9899e/myFirstDemo'},\n",
       "  'jobs': {'href': 'https://api-aws-dev.waylay.io/registry/v2/webscripts/myFirstDemo/versions/1.0.1/jobs'}}}"
      ]
     },
     "execution_count": 26,
     "metadata": {},
     "output_type": "execute_result"
    }
   ],
   "source": [
    "# wait until the webscript is build, deployed and verified to be running ...\n",
    "ref = await client.ml_tool.wait_until_ready(ref)\n",
    "ref"
   ]
  },
  {
   "cell_type": "code",
   "execution_count": 27,
   "id": "918501cf-a298-4bde-b79b-a381bfb6a7a8",
   "metadata": {},
   "outputs": [
    {
     "name": "stderr",
     "output_type": "stream",
     "text": [
      "2024-06-11 10:00:36 INFO     HTTP Request: POST https://api-aws-dev.waylay.io/functions/v1/740799ef-d515-4704-8718-903851c9899e/myFirstDemo \"HTTP/1.1 200 OK\"\n"
     ]
    },
    {
     "data": {
      "text/plain": [
       "[46.8]"
      ]
     },
     "execution_count": 27,
     "metadata": {},
     "output_type": "execute_result"
    }
   ],
   "source": [
    "# test the webscript invocation\n",
    "await client.ml_tool.test_webscript(ref, [23.4])"
   ]
  },
  {
   "cell_type": "code",
   "execution_count": 28,
   "id": "b7513810-7e69-447c-8912-2fdafdea450f",
   "metadata": {},
   "outputs": [
    {
     "name": "stderr",
     "output_type": "stream",
     "text": [
      "2024-06-11 10:00:40 INFO     HTTP Request: POST https://api-aws-dev.waylay.io/registry/v2/webscripts/myFirstDemo/versions/1.0.1/publish \"HTTP/1.1 201 Created\"\n"
     ]
    },
    {
     "data": {
      "text/plain": [
       "{'message': 'Published webscript myFirstDemo@1.0.1',\n",
       " 'entity': {'createdBy': 'users/08e92c94-0a45-4f69-8405-3c2e46dd0cf9',\n",
       "  'createdAt': '2024-06-11T08:00:02.751Z',\n",
       "  'updatedBy': 'users/08e92c94-0a45-4f69-8405-3c2e46dd0cf9',\n",
       "  'updatedAt': '2024-06-11T08:00:40.844Z',\n",
       "  'updates': [{'operation': 'publish',\n",
       "    'at': '2024-06-11T08:00:40.844Z',\n",
       "    'by': 'users/08e92c94-0a45-4f69-8405-3c2e46dd0cf9'},\n",
       "   {'operation': 'create',\n",
       "    'at': '2024-06-11T08:00:02.764Z',\n",
       "    'by': 'users/08e92c94-0a45-4f69-8405-3c2e46dd0cf9',\n",
       "    'comment': '',\n",
       "    'jobs': ['740799ef-d515-4704-8718-903851c9899e$9DlidM4oOe5vfJO2HukHX',\n",
       "     '740799ef-d515-4704-8718-903851c9899e$z10KIXR2W24RCPc80Wr0t',\n",
       "     '740799ef-d515-4704-8718-903851c9899e$BgbLl1bxgJ1ErMyAPPoC1']}],\n",
       "  'status': 'running',\n",
       "  'runtime': {'deprecated': False,\n",
       "   'upgradable': False,\n",
       "   'name': 'web-python3',\n",
       "   'version': '0.2.0'},\n",
       "  'deprecated': False,\n",
       "  'draft': False,\n",
       "  'webscript': {'name': 'myFirstDemo',\n",
       "   'version': '1.0.1',\n",
       "   'runtime': 'web-python3',\n",
       "   'metadata': {},\n",
       "   'private': True,\n",
       "   'allowHmac': True},\n",
       "  'secret': 'p28LTqX0K56wyIwYwWMYBMeriCMr/QZ76E3naHUdctU='}}"
      ]
     },
     "execution_count": 28,
     "metadata": {},
     "output_type": "execute_result"
    }
   ],
   "source": [
    "# if succesful, we can _publish_ the webscripts (available on its normal endpoint, any changes will require a new version)\n",
    "await client.ml_tool.publish(ref)"
   ]
  },
  {
   "cell_type": "code",
   "execution_count": 31,
   "id": "be9a8e90-0d17-458b-8f4b-1b9815ae9246",
   "metadata": {},
   "outputs": [
    {
     "name": "stderr",
     "output_type": "stream",
     "text": [
      "2024-06-11 10:01:09 INFO     HTTP Request: GET https://api-aws-dev.waylay.io/registry/v2/webscripts/myFirstDemo/versions \"HTTP/1.1 200 OK\"\n"
     ]
    },
    {
     "data": {
      "text/plain": [
       "[_Model(createdBy='users/08e92c94-0a45-4f69-8405-3c2e46dd0cf9', createdAt='2024-06-11T08:00:02.751Z', updatedBy='users/08e92c94-0a45-4f69-8405-3c2e46dd0cf9', updatedAt='2024-06-11T08:00:40.844Z', updates=[_Model(operation='publish', at='2024-06-11T08:00:40.844Z', by='users/08e92c94-0a45-4f69-8405-3c2e46dd0cf9'), _Model(operation='create', at='2024-06-11T08:00:02.764Z', by='users/08e92c94-0a45-4f69-8405-3c2e46dd0cf9', comment='', jobs=['740799ef-d515-4704-8718-903851c9899e$9DlidM4oOe5vfJO2HukHX', '740799ef-d515-4704-8718-903851c9899e$z10KIXR2W24RCPc80Wr0t', '740799ef-d515-4704-8718-903851c9899e$BgbLl1bxgJ1ErMyAPPoC1'])], status='running', runtime=_Model(deprecated=False, upgradable=False, name='web-python3', version='0.2.0'), deprecated=False, draft=False, webscript=_Model(name='myFirstDemo', version='1.0.1', runtime='web-python3', metadata=_Model(), private=True, allowHmac=True), secret='p28LTqX0K56wyIwYwWMYBMeriCMr/QZ76E3naHUdctU=', _links={'invoke': {'href': 'https://api-aws-dev.waylay.io/functions/v1/740799ef-d515-4704-8718-903851c9899e/myFirstDemo'}})]"
      ]
     },
     "execution_count": 31,
     "metadata": {},
     "output_type": "execute_result"
    }
   ],
   "source": [
    "# use the regular sdk client e.g. inspect versions\n",
    "await client.registry.webscripts.list_versions(WS_NAME, select_path='entities')"
   ]
  },
  {
   "cell_type": "code",
   "execution_count": 32,
   "id": "1d5c730b-9929-49ad-bce9-242f174ebb2d",
   "metadata": {},
   "outputs": [
    {
     "name": "stderr",
     "output_type": "stream",
     "text": [
      "2024-06-11 10:01:16 INFO     HTTP Request: DELETE https://api-aws-dev.waylay.io/registry/v2/webscripts/myFirstDemo/versions/1.0.1?force=true \"HTTP/1.1 202 Accepted\"\n"
     ]
    },
    {
     "data": {
      "text/plain": [
       "{'message': 'Deleting webscript myFirstDemo@1.0.1',\n",
       " '_links': {'event': {'href': 'https://api-aws-dev.waylay.io/registry/v2/jobs/events?type=undeploy&id=740799ef-d515-4704-8718-903851c9899e$YQE9Y693vabremtRcf0dO&children=true'},\n",
       "  'job': {'href': 'https://api-aws-dev.waylay.io/registry/v2/jobs/undeploy/740799ef-d515-4704-8718-903851c9899e$YQE9Y693vabremtRcf0dO'}},\n",
       " 'versions': ['1.0.1']}"
      ]
     },
     "execution_count": 32,
     "metadata": {},
     "output_type": "execute_result"
    }
   ],
   "source": [
    "await client.ml_tool.remove(ref)"
   ]
  },
  {
   "cell_type": "code",
   "execution_count": 33,
   "id": "2f060b37-8ac6-4999-8bb2-cb686368dcdf",
   "metadata": {},
   "outputs": [
    {
     "name": "stderr",
     "output_type": "stream",
     "text": [
      "2024-06-11 10:01:18 INFO     HTTP Request: GET https://api-aws-dev.waylay.io/registry/v2/webscripts/myFirstDemo/versions \"HTTP/1.1 200 OK\"\n"
     ]
    },
    {
     "data": {
      "text/plain": [
       "_Model(count=0, entities=[], limit=20)"
      ]
     },
     "execution_count": 33,
     "metadata": {},
     "output_type": "execute_result"
    }
   ],
   "source": [
    "await client.registry.webscripts.list_versions(WS_NAME)"
   ]
  },
  {
   "cell_type": "markdown",
   "id": "ce8b476d-360d-4e9e-a4b4-0c3374a33eef",
   "metadata": {},
   "source": [
    "## Alternative: use `curl` to upload a webscript archive\n",
    "Alternatively, you can use the archive directly to create the webscript via a `curl` command or the upload feature of the _waylay console_.\n",
    "Execute the commands shown below in a separate CLI terminal."
   ]
  },
  {
   "cell_type": "code",
   "execution_count": 35,
   "id": "1da9a9a6-c234-4723-965f-cc84851bd37a",
   "metadata": {},
   "outputs": [
    {
     "name": "stdout",
     "output_type": "stream",
     "text": [
      "\n",
      "# upload webscript\n",
      "curl -u $WU https://api-aws-dev.waylay.io/registry/v2/webscripts --data-binary @demo_webscript.tar.gz -H 'content-type: application/tar+gzip'\n",
      "# check status\n",
      "curl -u $WU f'https://api-aws-dev.waylay.io/registry/v2/webscripts/myFirstDemo/versions/1.0.1'\n",
      "# check events\n",
      "curl -u $WU 'https://api-aws-dev.waylay.io/registry/v2/jobs/events' -n\n",
      "# invoke webscript\n",
      "INVOKE_URL='https://api-aws-dev.waylay.io/functions/v1/740799ef-d515-4704-8718-903851c9899e/myFirstDemo'\n",
      "curl -u $WU $INVOKE_URL -X POST -d '{ \"instances\" : [[[[39849,59995]]]] }'\n",
      "# inspect if anything went wrong:\n",
      "curl -s -u $WU f'https://api-aws-dev.waylay.io/registry/v2/webscripts/myFirstDemo/versions/0.0.1/jobs' | jq\n",
      "\n",
      "\n"
     ]
    }
   ],
   "source": [
    "print(f'''\n",
    "# upload webscript\n",
    "curl -u $WU https://api-aws-dev.waylay.io/registry/v2/webscripts --data-binary @{archive_loc} -H 'content-type: application/tar+gzip'\n",
    "# check status\n",
    "curl -u $WU f'https://api-aws-dev.waylay.io/registry/v2/webscripts/{WS_NAME}/versions/{WS_VERSION}'\n",
    "# check events\n",
    "curl -u $WU 'https://api-aws-dev.waylay.io/registry/v2/jobs/events' -n\n",
    "# invoke webscript\n",
    "INVOKE_URL='{ref[\"_links\"][\"invoke\"][\"href\"]}'\n",
    "curl -u $WU $INVOKE_URL -X POST -d '{{ \"instances\" : [[[[39849,59995]]]] }}'\n",
    "# inspect if anything went wrong:\n",
    "curl -s -u $WU f'https://api-aws-dev.waylay.io/registry/v2/webscripts/{WS_NAME}/versions/0.0.1/jobs' | jq\n",
    "\n",
    "''')"
   ]
  },
  {
   "cell_type": "markdown",
   "id": "0996ba47-5b94-49b3-8016-b9b22ca44a4d",
   "metadata": {
    "jp-MarkdownHeadingCollapsed": true
   },
   "source": [
    "Lets have a look at console at https://console-aws.dev.waylay.io/webscripts?query=myFirst "
   ]
  },
  {
   "cell_type": "markdown",
   "id": "cc456d89-31cd-4ffe-a250-125f157c1e54",
   "metadata": {},
   "source": [
    "# ML Adapter in plugs\n",
    "\n",
    "Alternatively, you can deploy your model as a _plug_ for the waylay rule engine."
   ]
  },
  {
   "cell_type": "code",
   "execution_count": 37,
   "id": "47b2b042-c794-46e0-b9d3-284e2687643a",
   "metadata": {},
   "outputs": [],
   "source": [
    "# when creating a model, a folder where the assets are stored needs to be present\n",
    "PLUG_LOC='demo_plug'\n",
    "!rm -fr 'demo_plug' 'demo_plug.tar.gz'"
   ]
  },
  {
   "cell_type": "code",
   "execution_count": 38,
   "id": "0c5998f2-755a-4d31-a37c-e825bab65b90",
   "metadata": {},
   "outputs": [
    {
     "data": {
      "text/plain": [
       "<ml_adapter.numpy.adapter.V1NumpyModelAdapter at 0x1366a4050>"
      ]
     },
     "execution_count": 38,
     "metadata": {},
     "output_type": "execute_result"
    }
   ],
   "source": [
    "adapter = V1NumpyModelAdapter(location=PLUG_LOC, model=doubler)\n",
    "adapter.as_plug({ 'name': PLUG_NAME })"
   ]
  },
  {
   "cell_type": "code",
   "execution_count": 40,
   "id": "d1f14203-7f83-4b44-9b7a-1c2bdbf26f78",
   "metadata": {},
   "outputs": [
    {
     "data": {
      "text/plain": [
       "PosixPath('demo_plug.tar.gz')"
      ]
     },
     "execution_count": 40,
     "metadata": {},
     "output_type": "execute_result"
    }
   ],
   "source": [
    "archive_loc = await adapter.save_archive()\n",
    "archive_loc"
   ]
  },
  {
   "cell_type": "code",
   "execution_count": 42,
   "id": "ef0b8610-b815-4a15-80b9-b6ebce9b8606",
   "metadata": {},
   "outputs": [
    {
     "name": "stderr",
     "output_type": "stream",
     "text": [
      "2024-06-11 10:05:45 INFO     HTTP Request: DELETE https://api-aws-dev.waylay.io/registry/v2/plugs/myFirstDemo?force=true \"HTTP/1.1 404 Not Found\"\n"
     ]
    },
    {
     "name": "stdout",
     "output_type": "stream",
     "text": [
      "ApiError('Error response.')\n",
      "Status: 404\n",
      "Reason: Not Found\n",
      "Response headers: Headers({'access-control-allow-origin': '*', 'content-type': 'application/json; charset=utf-8', 'content-length': '50', 'date': 'Tue, 11 Jun 2024 08:05:45 GMT', 'x-envoy-upstream-service-time': '8', 'server': 'istio-envoy'})\n",
      "Response content: <bytes: len=50>\n",
      "Response data: statusCode=404 error=\"No plug 'myFirstDemo'\"\n"
     ]
    }
   ],
   "source": [
    "try:\n",
    "  await client.registry.plugs.remove_versions(PLUG_NAME, query={'force':True})\n",
    "except RestResponseError as exc:\n",
    "    print(exc)"
   ]
  },
  {
   "cell_type": "code",
   "execution_count": 43,
   "id": "125a1488-9ec8-4dec-af6b-5b7d640d315c",
   "metadata": {},
   "outputs": [
    {
     "name": "stderr",
     "output_type": "stream",
     "text": [
      "2024-06-11 10:05:51 INFO     HTTP Request: POST https://api-aws-dev.waylay.io/registry/v2/plugs/?draft=false&comment=&async=true \"HTTP/1.1 202 Accepted\"\n"
     ]
    }
   ],
   "source": [
    "ref = await client.ml_tool.create_plug(adapter)"
   ]
  },
  {
   "cell_type": "code",
   "execution_count": 44,
   "id": "2aad6407-49cd-4a8d-b209-2e4272a678b7",
   "metadata": {},
   "outputs": [
    {
     "name": "stderr",
     "output_type": "stream",
     "text": [
      "2024-06-11 10:05:52 INFO     Waiting for myFirstDemo@0.0.1 to be ready:\n",
      "2024-06-11 10:05:52 INFO     listening on https://api-aws-dev.waylay.io/registry/v2/jobs/events?type=verify&id=740799ef-d515-4704-8718-903851c9899e$HoLoBIHR73NQKzlGJ0w64&children=true\n",
      "2024-06-11 10:05:52 INFO     HTTP Request: GET https://api-aws-dev.waylay.io/registry/v2/jobs/events?type=verify&id=740799ef-d515-4704-8718-903851c9899e$HoLoBIHR73NQKzlGJ0w64&children=true \"HTTP/1.1 200 OK\"\n",
      "2024-06-11 10:05:52 INFO     ack: Listening to events of jobs dependent on job 740799ef-d515-4704-8718-903851c9899e$HoLoBIHR73NQKzlGJ0w64\n",
      "2024-06-11 10:05:52 INFO     myFirstDemo@0.0.1 build: active\n",
      "2024-06-11 10:05:52 INFO     myFirstDemo@0.0.1 verify: waiting-children\n",
      "2024-06-11 10:05:52 INFO     myFirstDemo@0.0.1 deploy: waiting-children\n",
      "2024-06-11 10:06:08 INFO     myFirstDemo@0.0.1 build: completed\n",
      "{'data': {'returnvalue': {'digest': 'f84975db0865f814fa39a14fb5aef9bc0aee3da8dff7f978e5e8af26a6e38ea6', 'log': [], 'status': 'success'}}, 'job': {'id': '740799ef-d515-4704-8718-903851c9899e$3tYiRss-LVwzV4wfIbTpA', 'type': 'build'}, 'timestamp': '2024-06-11T08:06:08.318Z', 'function': {'name': 'myFirstDemo', 'version': '0.0.1', 'functionType': 'plugs', 'runtime': 'plug-python3', 'runtimeVersion': '0.2.0'}, '_links': {'job': {'href': 'https://api-aws-dev.waylay.io/registry/v2/jobs/build/740799ef-d515-4704-8718-903851c9899e$3tYiRss-LVwzV4wfIbTpA'}, 'plug': {'href': 'https://api-aws-dev.waylay.io/registry/v2/plugs/myFirstDemo/versions/0.0.1'}}}\n",
      "2024-06-11 10:06:08 INFO     myFirstDemo@0.0.1 deploy: waiting\n",
      "2024-06-11 10:06:08 INFO     myFirstDemo@0.0.1 deploy: active\n",
      "2024-06-11 10:06:08 INFO     myFirstDemo@0.0.1 deploy: completed\n",
      "{'data': {'returnvalue': {'deploySpec': {'service': 'fn-307aad75ed51ed21682a5871d062cddce1bdf84c', 'image': 'eu.gcr.io/quiet-mechanic-140114/openfaas-plugs/740799ef-d515-4704-8718-903851c9899e/26b7ef3c42e3634dde33c0d9d6470017563cdd71:0.0.1', 'namespace': 'openfaas-fn-740799ef-d515-4704-8718-903851c9899e', 'labels': {'networking/allow-internet-egress': 'true', 'com.openfaas.scale.zero': 'true', 'com.openfaas.scale.zero-duration': '12h', 'com.openfaas.scale.min': '1', 'com.openfaas.scale.max': '10', 'com.openfaas.scale.target': '20', 'com.openfaas.scale.target-proportion': '0.90', 'com.openfaas.scale.type': 'rps', 'io.waylay.runtime.name': 'plug-python3', 'io.waylay.runtime.version': '0.2.0', 'io.waylay.tenant': '740799ef-d515-4704-8718-903851c9899e', 'io.waylay.plugs.type': 'sensor'}, 'annotations': {'io.waylay.registry.version': '2.14.0b1', 'io.waylay.function.name': 'myFirstDemo', 'io.waylay.function.version': '0.0.1', 'io.waylay.function.revision': 'abe91211fa132fc8c3314ab00fddb876850f8eed7d1d325b57fa66a193adf878', 'com.openfaas.health.http.initialDelay': '1s', 'com.openfaas.health.http.periodSeconds': '5s', 'com.openfaas.profile': 'fn-nodepool-profile', 'hpa.autoscaling.banzaicloud.io/minReplicas': '1', 'hpa.autoscaling.banzaicloud.io/maxReplicas': '10', 'cpu.hpa.autoscaling.banzaicloud.io/targetAverageUtilization': '80', 'memory.hpa.autoscaling.banzaicloud.io/targetAverageUtilization': '80'}, 'limits': {'memory': '256Mi', 'cpu': '600m'}, 'requests': {'memory': '128Mi', 'cpu': '25m'}}}}, 'job': {'id': '740799ef-d515-4704-8718-903851c9899e$KdOaX99-X75fYEUMhrzRs', 'type': 'deploy'}, 'timestamp': '2024-06-11T08:06:08.368Z', 'function': {'name': 'myFirstDemo', 'version': '0.0.1', 'functionType': 'plugs', 'runtime': 'plug-python3', 'runtimeVersion': '0.2.0'}, '_links': {'job': {'href': 'https://api-aws-dev.waylay.io/registry/v2/jobs/deploy/740799ef-d515-4704-8718-903851c9899e$KdOaX99-X75fYEUMhrzRs'}, 'plug': {'href': 'https://api-aws-dev.waylay.io/registry/v2/plugs/myFirstDemo/versions/0.0.1'}}}\n",
      "2024-06-11 10:06:08 INFO     myFirstDemo@0.0.1 verify: waiting\n",
      "2024-06-11 10:06:08 INFO     myFirstDemo@0.0.1 verify: active\n",
      "2024-06-11 10:06:15 INFO     close: Job with id 740799ef-d515-4704-8718-903851c9899e$HoLoBIHR73NQKzlGJ0w64 has completed\n",
      "2024-06-11 10:06:16 INFO     HTTP Request: GET https://api-aws-dev.waylay.io/registry/v2/plugs/myFirstDemo/versions/0.0.1 \"HTTP/1.1 200 OK\"\n",
      "2024-06-11 10:06:16 INFO     function myFirstDemo@0.0.1 has status running\n"
     ]
    },
    {
     "data": {
      "text/plain": [
       "{'entity': {'createdBy': 'users/08e92c94-0a45-4f69-8405-3c2e46dd0cf9',\n",
       "  'createdAt': '2024-06-11T08:05:51.104Z',\n",
       "  'updatedBy': 'users/08e92c94-0a45-4f69-8405-3c2e46dd0cf9',\n",
       "  'updatedAt': '2024-06-11T08:05:51.126Z',\n",
       "  'updates': [{'operation': 'create',\n",
       "    'at': '2024-06-11T08:05:51.126Z',\n",
       "    'by': 'users/08e92c94-0a45-4f69-8405-3c2e46dd0cf9',\n",
       "    'comment': '',\n",
       "    'jobs': ['740799ef-d515-4704-8718-903851c9899e$HoLoBIHR73NQKzlGJ0w64',\n",
       "     '740799ef-d515-4704-8718-903851c9899e$KdOaX99-X75fYEUMhrzRs',\n",
       "     '740799ef-d515-4704-8718-903851c9899e$3tYiRss-LVwzV4wfIbTpA']}],\n",
       "  'status': 'running',\n",
       "  'runtime': {'deprecated': False,\n",
       "   'upgradable': False,\n",
       "   'name': 'plug-python3',\n",
       "   'version': '0.2.0'},\n",
       "  'deprecated': False,\n",
       "  'draft': False,\n",
       "  'plug': {'name': 'myFirstDemo',\n",
       "   'version': '0.0.1',\n",
       "   'runtime': 'plug-python3',\n",
       "   'metadata': {'tags': [{'name': 'MLAdapter', 'color': '#4153ea'}],\n",
       "    'documentation': {'description': '',\n",
       "     'states': [{'name': 'PREDICTED',\n",
       "       'description': 'The model inference succeeded.'},\n",
       "      {'name': 'FAILED', 'description': 'The model inference failed.'}],\n",
       "     'input': [{'name': 'instances',\n",
       "       'description': 'A tensor of numeric input data (KServe V1 protocol)'}],\n",
       "     'output': [{'name': 'predictions',\n",
       "       'description': 'A tensor of numeric output data (KServe V1 protocol)'},\n",
       "      {'name': 'error',\n",
       "       'description': 'Failure reasion when FAILED. the predictions will be empty.'}]}},\n",
       "   'type': 'sensor',\n",
       "   'interface': {'states': ['PREDICTED', 'FAILED'],\n",
       "    'input': [{'name': 'instances', 'dataType': 'object', 'mandatory': True}],\n",
       "    'output': [{'name': 'predictions',\n",
       "      'dataType': 'object',\n",
       "      'mandatory': True},\n",
       "     {'name': 'error', 'dataType': 'string', 'mandatory': False}]}}},\n",
       " '_links': {'jobs': {'href': 'https://api-aws-dev.waylay.io/registry/v2/plugs/myFirstDemo/versions/0.0.1/jobs'}}}"
      ]
     },
     "execution_count": 44,
     "metadata": {},
     "output_type": "execute_result"
    }
   ],
   "source": [
    "ref = await client.ml_tool.wait_until_ready(ref)\n",
    "ref"
   ]
  },
  {
   "cell_type": "code",
   "execution_count": 45,
   "id": "fb18ac3d-6980-4f42-9a23-91329086edb9",
   "metadata": {},
   "outputs": [
    {
     "name": "stderr",
     "output_type": "stream",
     "text": [
      "2024-06-11 10:06:20 INFO     HTTP Request: POST https://api-aws-dev.waylay.io/rules/v1/sensors/myFirstDemo/versions/0.0.1 \"HTTP/1.1 200 OK\"\n"
     ]
    },
    {
     "data": {
      "text/plain": [
       "[46.8]"
      ]
     },
     "execution_count": 45,
     "metadata": {},
     "output_type": "execute_result"
    }
   ],
   "source": [
    "await client.ml_tool.test_plug(ref, [23.4])"
   ]
  },
  {
   "cell_type": "code",
   "execution_count": 46,
   "id": "214bcca7-1584-4a15-975d-e9c0008f0bd8",
   "metadata": {},
   "outputs": [
    {
     "name": "stderr",
     "output_type": "stream",
     "text": [
      "2024-06-11 10:06:21 INFO     HTTP Request: GET https://api-aws-dev.waylay.io/registry/v2/plugs/myFirstDemo \"HTTP/1.1 200 OK\"\n"
     ]
    },
    {
     "name": "stdout",
     "output_type": "stream",
     "text": [
      "\n",
      "version: 0.0.1\n",
      "status: running\n",
      "runtime: deprecated=False upgradable=False name='plug-python3' version='0.2.0'\n",
      "\n"
     ]
    }
   ],
   "source": [
    "resp = await client.registry.plugs.get_latest(PLUG_NAME)\n",
    "print(f'''\n",
    "version: {resp.entity.plug.version}\n",
    "status: {resp.entity.status}\n",
    "runtime: {resp.entity.runtime}\n",
    "''')"
   ]
  },
  {
   "cell_type": "code",
   "execution_count": 47,
   "id": "173b45ac-0b1b-42ed-b883-bb7b262a03d9",
   "metadata": {},
   "outputs": [
    {
     "name": "stderr",
     "output_type": "stream",
     "text": [
      "2024-06-11 10:06:30 INFO     HTTP Request: POST https://api-aws-dev.waylay.io/rules/v1/sensors/myFirstDemo \"HTTP/1.1 200 OK\"\n"
     ]
    },
    {
     "data": {
      "text/plain": [
       "{'result': True,\n",
       " 'state': 'PREDICTED',\n",
       " 'rawData': {'predictions': [4, 6, 8]},\n",
       " 'log': []}"
      ]
     },
     "execution_count": 47,
     "metadata": {},
     "output_type": "execute_result"
    }
   ],
   "source": [
    "# ALT use waylay.rules.plugs.test()\n",
    "resp = await client.rules.plugs_execution.execute_sensor(PLUG_NAME,\n",
    "    json={'properties': {'instances': [2,3,4] }},\n",
    "    response_type=dict\n",
    ")\n",
    "resp"
   ]
  },
  {
   "cell_type": "code",
   "execution_count": 48,
   "id": "f221763a-8b0f-4336-94c4-2ec2519b21f4",
   "metadata": {},
   "outputs": [
    {
     "name": "stderr",
     "output_type": "stream",
     "text": [
      "2024-06-11 10:06:49 INFO     HTTP Request: GET https://api-aws-dev.waylay.io/registry/v2/plugs/myFirstDemo/versions \"HTTP/1.1 200 OK\"\n",
      "/opt/homebrew/Caskroom/miniconda/base/envs/ml_adapter_numpy/lib/python3.11/site-packages/pydantic/_internal/_generate_schema.py:394: UserWarning: <built-in function any> is not a Python type (it may be an instance of an object), Pydantic will allow any object with no validation since we cannot even enforce that the input is an instance of the given type. To get rid of this error wrap the type with `pydantic.SkipValidation`.\n",
      "  warn(\n"
     ]
    },
    {
     "data": {
      "text/plain": [
       "[{'createdBy': 'users/08e92c94-0a45-4f69-8405-3c2e46dd0cf9',\n",
       "  'createdAt': '2024-06-11T08:05:51.104Z',\n",
       "  'updatedBy': 'users/08e92c94-0a45-4f69-8405-3c2e46dd0cf9',\n",
       "  'updatedAt': '2024-06-11T08:05:51.126Z',\n",
       "  'updates': [{'operation': 'create',\n",
       "    'at': '2024-06-11T08:05:51.126Z',\n",
       "    'by': 'users/08e92c94-0a45-4f69-8405-3c2e46dd0cf9',\n",
       "    'comment': '',\n",
       "    'jobs': ['740799ef-d515-4704-8718-903851c9899e$HoLoBIHR73NQKzlGJ0w64',\n",
       "     '740799ef-d515-4704-8718-903851c9899e$KdOaX99-X75fYEUMhrzRs',\n",
       "     '740799ef-d515-4704-8718-903851c9899e$3tYiRss-LVwzV4wfIbTpA']}],\n",
       "  'status': 'running',\n",
       "  'runtime': {'deprecated': False,\n",
       "   'upgradable': False,\n",
       "   'name': 'plug-python3',\n",
       "   'version': '0.2.0'},\n",
       "  'deprecated': False,\n",
       "  'draft': False,\n",
       "  'plug': {'name': 'myFirstDemo',\n",
       "   'version': '0.0.1',\n",
       "   'runtime': 'plug-python3',\n",
       "   'metadata': {'tags': [{'name': 'MLAdapter', 'color': '#4153ea'}],\n",
       "    'documentation': {'description': '',\n",
       "     'states': [{'name': 'PREDICTED',\n",
       "       'description': 'The model inference succeeded.'},\n",
       "      {'name': 'FAILED', 'description': 'The model inference failed.'}],\n",
       "     'input': [{'name': 'instances',\n",
       "       'description': 'A tensor of numeric input data (KServe V1 protocol)'}],\n",
       "     'output': [{'name': 'predictions',\n",
       "       'description': 'A tensor of numeric output data (KServe V1 protocol)'},\n",
       "      {'name': 'error',\n",
       "       'description': 'Failure reasion when FAILED. the predictions will be empty.'}]}},\n",
       "   'type': 'sensor',\n",
       "   'interface': {'states': ['PREDICTED', 'FAILED'],\n",
       "    'input': [{'name': 'instances', 'dataType': 'object', 'mandatory': True}],\n",
       "    'output': [{'name': 'predictions',\n",
       "      'dataType': 'object',\n",
       "      'mandatory': True},\n",
       "     {'name': 'error', 'dataType': 'string', 'mandatory': False}]}}}]"
      ]
     },
     "execution_count": 48,
     "metadata": {},
     "output_type": "execute_result"
    }
   ],
   "source": [
    "await client.registry.plugs.list_versions(PLUG_NAME, select_path='entities', response_type=any)"
   ]
  },
  {
   "cell_type": "code",
   "execution_count": 49,
   "id": "423de326-ae6f-430b-81ae-2065f2731350",
   "metadata": {},
   "outputs": [
    {
     "name": "stderr",
     "output_type": "stream",
     "text": [
      "2024-06-11 10:06:54 INFO     HTTP Request: DELETE https://api-aws-dev.waylay.io/registry/v2/plugs/myFirstDemo/versions/0.0.1?force=true \"HTTP/1.1 202 Accepted\"\n"
     ]
    },
    {
     "data": {
      "text/plain": [
       "{'message': 'Removing plug version myFirstDemo@0.0.1',\n",
       " '_links': {'event': {'href': 'https://api-aws-dev.waylay.io/registry/v2/jobs/events?type=undeploy&id=740799ef-d515-4704-8718-903851c9899e$8SJ1_hu3RqW81wr345eOY&children=true'},\n",
       "  'job': {'href': 'https://api-aws-dev.waylay.io/registry/v2/jobs/undeploy/740799ef-d515-4704-8718-903851c9899e$8SJ1_hu3RqW81wr345eOY'}},\n",
       " 'versions': ['0.0.1']}"
      ]
     },
     "execution_count": 49,
     "metadata": {},
     "output_type": "execute_result"
    }
   ],
   "source": [
    "await client.ml_tool.remove(ref)"
   ]
  }
 ],
 "metadata": {
  "kernelspec": {
   "display_name": "Python 3 (ipykernel)",
   "language": "python",
   "name": "python3"
  },
  "language_info": {
   "codemirror_mode": {
    "name": "ipython",
    "version": 3
   },
   "file_extension": ".py",
   "mimetype": "text/x-python",
   "name": "python",
   "nbconvert_exporter": "python",
   "pygments_lexer": "ipython3",
   "version": "3.11.9"
  }
 },
 "nbformat": 4,
 "nbformat_minor": 5
}
