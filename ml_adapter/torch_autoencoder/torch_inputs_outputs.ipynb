{
 "cells": [
  {
   "cell_type": "markdown",
   "id": "dc17f0c9-b519-42f7-901e-591d9b15bb5e",
   "metadata": {},
   "source": [
    "# Torch tensor input and output mapping (V1 protocol)\n",
    "\n",
    "This notebooks illustrates the how inputs and outputs are marshalled from the plug/webscript invocation to a tensor model.\n",
    "\n",
    "\n",
    "\n",
    "It illustrates the behaviour of the [ml_adapter.torch.V1TorchMarshaller](https://github.com/waylayio/ml-adapters/blob/main/pkg/mla-torch/src/ml_adapter/torch/marshall.py) which is the default marshalling for the torch adapters `ml_adapter.torch.V1TorchAdapter` and `ml_adapter.torch.V1TorchNoLoadAdapter`. \n",
    "\n",
    "The encoding in json follows the [KServe V1 protocol](https://kserve.github.io/website/master/modelserving/data_plane/v1_protocol/).\n",
    "\n"
   ]
  },
  {
   "cell_type": "code",
   "execution_count": 1,
   "id": "76741d36-8be8-4aff-b78b-904d6556e87f",
   "metadata": {},
   "outputs": [],
   "source": [
    "import torch\n",
    "import numpy as np\n",
    "from ml_adapter.torch import V1TorchAdapter\n",
    "from ml_adapter.torch import V1TorchNoLoadAdapter\n",
    "\n",
    "from IPython.display import Markdown\n"
   ]
  },
  {
   "cell_type": "markdown",
   "id": "b91a1b4f-2457-43bd-b9d3-4213b860b478",
   "metadata": {},
   "source": [
    "### single tensor in/out"
   ]
  },
  {
   "cell_type": "code",
   "execution_count": 2,
   "id": "dd7f86d7-66ba-4723-8990-b8c8f3acf27d",
   "metadata": {},
   "outputs": [],
   "source": [
    "class Simple():\n",
    "    \"\"\"Simplest of torch models that doubles the input tensor\"\"\"\n",
    "    def __call__(self, x: torch.Tensor):\n",
    "        return x * 2"
   ]
  },
  {
   "cell_type": "code",
   "execution_count": 3,
   "id": "ed19b705-f5a3-4ecd-b15d-d1c3ace91a8b",
   "metadata": {},
   "outputs": [
    {
     "data": {
      "text/plain": [
       "tensor([2, 4, 6])"
      ]
     },
     "execution_count": 3,
     "metadata": {},
     "output_type": "execute_result"
    }
   ],
   "source": [
    "# call directly the model\n",
    "Simple()(torch.tensor([1,2,3]))"
   ]
  },
  {
   "cell_type": "code",
   "execution_count": 4,
   "id": "5d0d9251-9c7e-4417-89e3-a6f4b9917ae8",
   "metadata": {},
   "outputs": [],
   "source": [
    "# a model adapter \n",
    "adapter = V1TorchNoLoadAdapter(model=Simple())"
   ]
  },
  {
   "cell_type": "code",
   "execution_count": 5,
   "id": "de10e1d2-1a41-45c5-97bb-48ba3bc15cac",
   "metadata": {},
   "outputs": [
    {
     "data": {
      "text/markdown": [
       "#### supported cases"
      ],
      "text/plain": [
       "<IPython.core.display.Markdown object>"
      ]
     },
     "metadata": {},
     "output_type": "display_data"
    },
    {
     "data": {
      "text/markdown": [
       "| title | input | output | description |\n",
       "| ----- | ----- | -----  | ----- |\n",
       " | v1 instances | {'instances': [[1, 2, 3], [4, 1, 2]]} | {'predictions': [[2, 4, 6], [8, 2, 4]]} | single tensor as `instances` |\n",
       " | v1 instances dict named | {'instances': [{'x': [1, 2, 3]}, {'x': [4, 1, 2]}]} | {'predictions': [[2, 4, 6], [8, 2, 4]]} | a list of instances with named inputs |\n",
       " | v1 instances dict main | {'instances': [{'main': [1, 2, 3]}, {'main': [4, 1, 2]}]} | {'predictions': [[2, 4, 6], [8, 2, 4]]} | a list of instances with default inputs |\n",
       " | v1 inputs named  | {'inputs': {'x': [[1, 2, 3], [4, 1, 2]]}} | {'outputs': [[2, 4, 6], [8, 2, 4]]} | a single named input tensor |\n",
       " | v1 inputs main  | {'inputs': {'main': [[1, 2, 3], [4, 1, 2]]}} | {'outputs': [[2, 4, 6], [8, 2, 4]]} | a single `main` input tensor |\n",
       " | v1 inputs main ignored y  | {'inputs': {'main': [[1, 2, 3], [4, 1, 2]], 'y': [0, 0, 0]}} | {'outputs': [[2, 4, 6], [8, 2, 4]]} | non-mapped y input |\n",
       " | v1 inputs named ignored main  | {'inputs': {'main': [[1, 2, 3], [4, 1, 2]], 'x': [0, 0, 0]}} | {'outputs': [0, 0, 0]} | non-mapped main input |\n",
       " | v1 inputs named ignored y | {'inputs': {'x': [[1, 2, 3], [4, 1, 2]], 'y': [0, 0, 0]}} | {'outputs': [[2, 4, 6], [8, 2, 4]]} | non-mapped additiona input input |\n",
       " | v1 inputs tensor | {'inputs': [[1, 2, 3], [4, 1, 2]]} | {'outputs': [[2, 4, 6], [8, 2, 4]]} | a single unnamed input tensor |\n"
      ],
      "text/plain": [
       "<IPython.core.display.Markdown object>"
      ]
     },
     "metadata": {},
     "output_type": "display_data"
    }
   ],
   "source": [
    "# supported marshalling from json/REST calls:\n",
    "cases = [\n",
    "    ('v1 instances', {'instances':[[1,2,3], [4,1,2]]} , 'single tensor as `instances`'),\n",
    "    ('v1 instances dict named', {'instances':[{'x':[1,2,3]}, {'x':[4,1,2]}]} , 'a list of instances with named inputs'),\n",
    "    ('v1 instances dict main', {'instances':[{'main':[1,2,3]}, {'main':[4,1,2]}]} , 'a list of instances with default inputs'),\n",
    "\n",
    "    ('v1 inputs named ', {'inputs': { 'x': [[1,2,3], [4,1,2]]}} , 'a single named input tensor'),\n",
    "    ('v1 inputs main ', {'inputs':{ 'main': [[1,2,3], [4,1,2]] } } , 'a single `main` input tensor'),\n",
    "    ('v1 inputs main ignored y ', {'inputs':{ 'main': [[1,2,3], [4,1,2]] , 'y': [0,0,0]} } , 'non-mapped y input'),\n",
    "    ('v1 inputs named ignored main ', {'inputs':{ 'main': [[1,2,3], [4,1,2]] , 'x': [0,0,0]} } , 'non-mapped main input'),\n",
    "    ('v1 inputs named ignored y', {'inputs':{ 'x': [[1,2,3], [4,1,2]] , 'y': [0,0,0]} } , 'non-mapped additiona input input'),\n",
    "    ('v1 inputs tensor', {'inputs':[[1,2,3], [4,1,2]]} , 'a single unnamed input tensor'),\n",
    "]\n",
    "display(Markdown('#### supported cases'))\n",
    "display(Markdown(\n",
    "    \"| title | input | output | description |\\n\" +\n",
    "    \"| ----- | ----- | -----  | ----- |\\n\" +\n",
    "    \"\".join([ f' | {case[0]} | {case[1]} | {await adapter.call(case[1])} | {case[2]} |\\n'  for case in cases])\n",
    "))"
   ]
  },
  {
   "cell_type": "markdown",
   "id": "85590cab-e610-4f54-959e-c9117d94e050",
   "metadata": {},
   "source": [
    "#### failures"
   ]
  },
  {
   "cell_type": "code",
   "execution_count": 6,
   "id": "3c1fab7a-6826-478f-8d3e-fabe4232def1",
   "metadata": {},
   "outputs": [
    {
     "data": {
      "text/plain": [
       "ValueError('Model invocation has unbound \"x\" input without default.')"
      ]
     },
     "metadata": {},
     "output_type": "display_data"
    }
   ],
   "source": [
    "# failure : wrong named inputs\n",
    "try:\n",
    "    await adapter.call({'inputs': { 'y':[2,3,4]}})\n",
    "except Exception as exc:\n",
    "    display(exc)"
   ]
  },
  {
   "cell_type": "code",
   "execution_count": 7,
   "id": "37738fbc-63e8-4483-909b-b6179b48d365",
   "metadata": {},
   "outputs": [
    {
     "data": {
      "text/plain": [
       "RuntimeError('Could not infer dtype of dict')"
      ]
     },
     "metadata": {},
     "output_type": "display_data"
    }
   ],
   "source": [
    "# failure : input not numeric\n",
    "try:\n",
    "    await adapter.call({'inputs': { 'x': {'y':[2,3,4]} }})\n",
    "except Exception as exc:\n",
    "    display(exc)"
   ]
  },
  {
   "cell_type": "markdown",
   "id": "38025c74-3780-4145-b9fb-c90a0ec0e40c",
   "metadata": {},
   "source": [
    "### Multiple tensor input arguments"
   ]
  },
  {
   "cell_type": "code",
   "execution_count": 8,
   "id": "f9e16927-e891-4cc9-af5c-e8a9815fa416",
   "metadata": {},
   "outputs": [],
   "source": [
    "class ThreeArgs():\n",
    "    \"\"\"Three args, one optional.\"\"\"\n",
    "    def __call__(self, x: torch.Tensor, y:torch.Tensor, z:torch.Tensor=None):\n",
    "        z = z if z is not None else torch.tensor([2]) \n",
    "        return (x + y) * z"
   ]
  },
  {
   "cell_type": "code",
   "execution_count": 9,
   "id": "5974cd8b-02c7-4f03-9267-ce18ba6e2f1e",
   "metadata": {},
   "outputs": [
    {
     "data": {
      "text/plain": [
       "tensor([0.5000, 0.7000, 0.9000])"
      ]
     },
     "execution_count": 9,
     "metadata": {},
     "output_type": "execute_result"
    }
   ],
   "source": [
    "ThreeArgs()(torch.tensor([1,2,3]),torch.tensor([4,5,6]),torch.tensor([0.1]))"
   ]
  },
  {
   "cell_type": "code",
   "execution_count": 10,
   "id": "c7754c73-9049-4998-b2e5-d0bf915d2f11",
   "metadata": {},
   "outputs": [
    {
     "data": {
      "text/plain": [
       "tensor([10, 14, 18])"
      ]
     },
     "execution_count": 10,
     "metadata": {},
     "output_type": "execute_result"
    }
   ],
   "source": [
    "ThreeArgs()(torch.tensor([1,2,3]),torch.tensor([4,5,6]))"
   ]
  },
  {
   "cell_type": "code",
   "execution_count": 11,
   "id": "61824346-cd98-4cfc-9a6a-cf70379735e8",
   "metadata": {},
   "outputs": [],
   "source": [
    "adapter = V1TorchNoLoadAdapter(model=ThreeArgs())"
   ]
  },
  {
   "cell_type": "code",
   "execution_count": 12,
   "id": "7bbad37d-e586-403c-befd-3ccb80f55a4a",
   "metadata": {},
   "outputs": [
    {
     "data": {
      "text/markdown": [
       "#### supported cases"
      ],
      "text/plain": [
       "<IPython.core.display.Markdown object>"
      ]
     },
     "metadata": {},
     "output_type": "display_data"
    },
    {
     "data": {
      "text/markdown": [
       "| title | input | output | description |\n",
       "| ----- | ----- | -----  | ----- |\n",
       " | v1 instances dict named | {'instances': [{'x': [1, 2, 3], 'y': [4, 5, 6]}, {'x': [4, 1, 2], 'y': [0, 0, 0]}]} | {'predictions': [[10, 14, 18], [8, 2, 4]]} | a list of instances with named inputs |\n",
       " | v1 instances dict default | {'instances': [{'main': [1, 2, 3], 'y': [4, 5, 6]}, {'main': [4, 1, 2], 'y': [0, 0, 0]}]} | {'predictions': [[10, 14, 18], [8, 2, 4]]} | a list of instances with named inputs and default input |\n",
       " | v1 instances dict non-default | {'instances': [{'main': [1, 2, 3], 'y': [4, 5, 6], 'z': [0.1]}, {'main': [4, 1, 2], 'y': [0, 0, 0], 'z': [-0.1]}]} | {'predictions': [[0.5, 0.699999988079071, 0.9000000357627869], [-0.4000000059604645, -0.10000000149011612, -0.20000000298023224]]} | a list of instances with named inputs  |\n",
       " | v1 inputs named default | {'inputs': {'x': [[1, 2, 3], [4, 1, 2]], 'y': [[1, 2, 3], [4, 1, 2]]}} | {'outputs': [[4, 8, 12], [16, 4, 8]]} | named input tensors |\n",
       " | v1 inputs named override | {'inputs': {'x': [[1, 2, 3], [4, 1, 2]], 'y': [[1, 2, 3], [4, 1, 2]], 'z': -1}} | {'outputs': [[-2, -4, -6], [-8, -2, -4]]} | named input tensors |\n"
      ],
      "text/plain": [
       "<IPython.core.display.Markdown object>"
      ]
     },
     "metadata": {},
     "output_type": "display_data"
    }
   ],
   "source": [
    "# supported marshalling from json/REST calls:\n",
    "cases = [\n",
    "    ('v1 instances dict named', {'instances':[\n",
    "        {'x':[1,2,3], 'y':[4,5,6]}, \n",
    "        {'x':[4,1,2], 'y':[0,0,0]}\n",
    "    ]} , 'a list of instances with named inputs'),\n",
    "    ('v1 instances dict default', {'instances':[\n",
    "        {'main':[1,2,3], 'y':[4,5,6]}, \n",
    "        {'main':[4,1,2], 'y':[0,0,0]}\n",
    "    ]} , 'a list of instances with named inputs and default input'),\n",
    "    ('v1 instances dict non-default', {'instances':[\n",
    "        {'main':[1,2,3], 'y':[4,5,6], 'z': [0.1]}, \n",
    "        {'main':[4,1,2], 'y':[0,0,0], 'z':[-0.1]}\n",
    "    ]} , 'a list of instances with named inputs '),\n",
    "     ('v1 inputs named default', {'inputs': { \n",
    "         'x': [[1,2,3], [4,1,2]], \n",
    "         'y': [[1,2,3], [4,1,2]]\n",
    "     }} , 'named input tensors'),\n",
    "     ('v1 inputs named override', {'inputs': { \n",
    "         'x': [[1,2,3], [4,1,2]], \n",
    "         'y': [[1,2,3], [4,1,2]],\n",
    "         'z': -1\n",
    "     }} , 'named input tensors'),\n",
    "]\n",
    "display(Markdown('#### supported cases'))\n",
    "display(Markdown(\n",
    "    \"| title | input | output | description |\\n\" +\n",
    "    \"| ----- | ----- | -----  | ----- |\\n\" +\n",
    "    \"\".join([ f' | {case[0]} | {case[1]} | {await adapter.call(case[1])} | {case[2]} |\\n'  for case in cases])\n",
    "))\n",
    "    "
   ]
  },
  {
   "cell_type": "markdown",
   "id": "f99712b3-9eba-4a08-8bb2-2580a046bb33",
   "metadata": {},
   "source": [
    "#### failures"
   ]
  },
  {
   "cell_type": "code",
   "execution_count": 13,
   "id": "4522029c-e3c9-4028-8ddc-bc16c0275dc6",
   "metadata": {},
   "outputs": [
    {
     "data": {
      "text/plain": [
       "TypeError(\"ThreeArgs.__call__() missing 1 required positional argument: 'y'\")"
      ]
     },
     "metadata": {},
     "output_type": "display_data"
    }
   ],
   "source": [
    "# failure: with `instances` you can only provide dicts as list elements (name binding for each instance)\n",
    "try:\n",
    "    await adapter.call({'instances':[[1,2,3], [4,1,2]]})\n",
    "except TypeError as exc:\n",
    "    display(exc)"
   ]
  },
  {
   "cell_type": "code",
   "execution_count": 14,
   "id": "22142b7f-5e2a-4f08-a254-6d4cb9d76aaf",
   "metadata": {},
   "outputs": [
    {
     "data": {
      "text/plain": [
       "RuntimeError('The size of tensor a (3) must match the size of tensor b (2) at non-singleton dimension 1')"
      ]
     },
     "metadata": {},
     "output_type": "display_data"
    }
   ],
   "source": [
    "# each argument must will get a tensor with first dimension the instance count:\n",
    "# e.g. here  `z` gets mapped to a `torch.tensor([-1,0.1])`, which fails\n",
    "try:\n",
    "    await adapter.call({'instances':[ \n",
    "        {'main':[1,2,3], 'y':[4,5,6], 'z':-1}, \n",
    "        {'main':[4,1,2], 'y':[0,0,0], 'z':+0.1}\n",
    "    ]})\n",
    "except RuntimeError as exc:\n",
    "    display(exc)"
   ]
  },
  {
   "cell_type": "code",
   "execution_count": 15,
   "id": "3cd61fcb-686d-4650-ac64-d6a0c10a9c4b",
   "metadata": {},
   "outputs": [
    {
     "data": {
      "text/plain": [
       "RuntimeError('The size of tensor a (3) must match the size of tensor b (2) at non-singleton dimension 1')"
      ]
     },
     "metadata": {},
     "output_type": "display_data"
    }
   ],
   "source": [
    "### the same invalid invocation with `inputs` would be\n",
    "try:\n",
    "    await adapter.call({'inputs':{\n",
    "        'main':[[1,2,3],[4,1,2]], \n",
    "         'y':[[4,5,6],[0,0,0]], \n",
    "         'z': [-1, 0.1]\n",
    "    }})\n",
    "except RuntimeError as exc:\n",
    "    display(exc)"
   ]
  },
  {
   "cell_type": "code",
   "execution_count": 16,
   "id": "91c22600-6de9-40d1-9a2e-5f76e2331df0",
   "metadata": {},
   "outputs": [
    {
     "data": {
      "text/plain": [
       "{'predictions': [[-5.0, -7.0, -9.0],\n",
       "  [0.4000000059604645, 0.10000000149011612, 0.20000000298023224]]}"
      ]
     },
     "execution_count": 16,
     "metadata": {},
     "output_type": "execute_result"
    }
   ],
   "source": [
    "# in this examples,  `z` gets mapped to a `torch.tensor([[-1],[0.1]])`, which is accepted\n",
    "await adapter.call({'instances':[ \n",
    "        {'main':[1,2,3], 'y':[4,5,6], 'z':[-1]}, \n",
    "        {'main':[4,1,2], 'y':[0,0,0], 'z':[+0.1]}\n",
    "]})"
   ]
  },
  {
   "cell_type": "code",
   "execution_count": 17,
   "id": "77c838d6-6221-41c5-97b9-059a6435b16a",
   "metadata": {},
   "outputs": [
    {
     "data": {
      "text/plain": [
       "{'outputs': [[-5.0, -7.0, -9.0],\n",
       "  [0.4000000059604645, 0.10000000149011612, 0.20000000298023224]]}"
      ]
     },
     "execution_count": 17,
     "metadata": {},
     "output_type": "execute_result"
    }
   ],
   "source": [
    "# ... which is the same model input as\n",
    "await adapter.call({'inputs':{\n",
    "    'main':[[1,2,3],[4,1,2]], \n",
    "     'y':[[4,5,6],[0,0,0]], \n",
    "     'z': [[-1], [0.1]]\n",
    "}})"
   ]
  },
  {
   "cell_type": "markdown",
   "id": "dfaa7ebd-37d7-4aeb-a76c-cde1202e29a9",
   "metadata": {},
   "source": [
    "### Multiple named output arguments\n",
    "\n",
    "A model can output a dict of tensors. This will get mapped as a named outputs in the response:\n",
    "* when using `instances`: as a list of dicts in `predictions`\n",
    "* when using `inputs` as a dict of named lists in `outputs`"
   ]
  },
  {
   "cell_type": "code",
   "execution_count": 18,
   "id": "d09cd251-3937-4122-aeb7-6d494495f8e9",
   "metadata": {},
   "outputs": [],
   "source": [
    "class DictOut():\n",
    "    \"\"\"Output is a dict of tensors.\"\"\"\n",
    "    def __call__(self, x: torch.Tensor):\n",
    "         return { 'x':x, 'x2': x*x }\n"
   ]
  },
  {
   "cell_type": "code",
   "execution_count": 19,
   "id": "2437f012-e9f5-45d1-a537-48c823a8d21b",
   "metadata": {},
   "outputs": [
    {
     "data": {
      "text/plain": [
       "{'x': tensor([ 0.2000, -3.0000]), 'x2': tensor([0.0400, 9.0000])}"
      ]
     },
     "execution_count": 19,
     "metadata": {},
     "output_type": "execute_result"
    }
   ],
   "source": [
    "DictOut()(torch.tensor([0.2,-3]))"
   ]
  },
  {
   "cell_type": "code",
   "execution_count": 20,
   "id": "99a20c15-772b-4b80-9af4-40d9a8b5e3ae",
   "metadata": {},
   "outputs": [],
   "source": [
    "adapter_dict = V1TorchNoLoadAdapter(model=DictOut())"
   ]
  },
  {
   "cell_type": "code",
   "execution_count": 21,
   "id": "d1d3997a-603a-4e39-9f45-0fbe885579db",
   "metadata": {},
   "outputs": [
    {
     "data": {
      "text/plain": [
       "{'predictions': [{'x': 2, 'x2': 4}, {'x': -1, 'x2': 1}]}"
      ]
     },
     "execution_count": 21,
     "metadata": {},
     "output_type": "execute_result"
    }
   ],
   "source": [
    "await adapter_dict.call({'instances': [2,-1]})"
   ]
  },
  {
   "cell_type": "code",
   "execution_count": 22,
   "id": "9227e460-c3ac-4549-9d53-c734d66262e5",
   "metadata": {},
   "outputs": [
    {
     "data": {
      "text/plain": [
       "{'outputs': {'x': [2, -1], 'x2': [4, 1]}}"
      ]
     },
     "execution_count": 22,
     "metadata": {},
     "output_type": "execute_result"
    }
   ],
   "source": [
    "await adapter_dict.call({'inputs': [2,-1]})"
   ]
  },
  {
   "cell_type": "code",
   "execution_count": 23,
   "id": "a0c2f181-b491-4917-b2b7-c84e08881353",
   "metadata": {},
   "outputs": [
    {
     "data": {
      "text/plain": [
       "{'outputs': {'x': 2, 'x2': 4}}"
      ]
     },
     "execution_count": 23,
     "metadata": {},
     "output_type": "execute_result"
    }
   ],
   "source": [
    "await adapter_dict.call({'inputs': {'x': 2}})"
   ]
  },
  {
   "cell_type": "markdown",
   "id": "ac750570-fc9e-45d4-9903-d0bd6cddb05e",
   "metadata": {},
   "source": [
    "### Additional output parameters\n",
    "\n",
    "With the constructor argument `output_params=True` on the adapter, an additional second `parameters` output is supported, that is not treated by the tensor marshalling, and is rendered directly as `parameters` in the response."
   ]
  },
  {
   "cell_type": "code",
   "execution_count": 24,
   "id": "4a66d66c-04e3-4c41-9071-22e94bffa74f",
   "metadata": {},
   "outputs": [],
   "source": [
    "\n",
    "class TupleOut():\n",
    "    \"\"\"Three args, one optional.\"\"\"\n",
    "    def __call__(self, x: torch.Tensor):\n",
    "         return  { 'x':x, 'squares': x*x}, {'labels' : [ 'positive' if i>=0 else 'negative' for i in x.tolist() ]} "
   ]
  },
  {
   "cell_type": "code",
   "execution_count": 25,
   "id": "a52edf37-84f7-4cc3-9cc8-96d4bdd43a84",
   "metadata": {},
   "outputs": [],
   "source": [
    "adapter_tuple = V1TorchNoLoadAdapter(model=TupleOut(), output_params=True)"
   ]
  },
  {
   "cell_type": "code",
   "execution_count": 26,
   "id": "1ed21933-0ed5-4101-82a1-f0b29f14fb58",
   "metadata": {},
   "outputs": [
    {
     "data": {
      "text/plain": [
       "{'parameters': {'labels': ['positive', 'negative']},\n",
       " 'outputs': {'x': [2, -1], 'squares': [4, 1]}}"
      ]
     },
     "execution_count": 26,
     "metadata": {},
     "output_type": "execute_result"
    }
   ],
   "source": [
    "await adapter_tuple.call({'inputs': [2,-1]})"
   ]
  },
  {
   "cell_type": "code",
   "execution_count": 27,
   "id": "7c9090d0-6d3e-4778-b36c-99492753e301",
   "metadata": {},
   "outputs": [
    {
     "data": {
      "text/plain": [
       "{'parameters': {'labels': ['positive', 'negative']},\n",
       " 'predictions': [{'x': 2, 'squares': 4}, {'x': -1, 'squares': 1}]}"
      ]
     },
     "execution_count": 27,
     "metadata": {},
     "output_type": "execute_result"
    }
   ],
   "source": [
    "await adapter_tuple.call({'instances': [2,-1]})"
   ]
  },
  {
   "cell_type": "markdown",
   "id": "728958be-79b2-45e4-9988-8609a493fdde",
   "metadata": {},
   "source": [
    "### Additional input parameters\n",
    "\n",
    "The the `parameters` property of a V1 request gets directly mapped to the call method as optional named params, \n",
    "_without any marshalling of tensors_. \n",
    "\n",
    "If a parameter key is not mentioned in the model signature, it is ignored.\n",
    "\n",
    "\n",
    "The following parameter keys are special, as they influence the encoding of the torch tensors during mashalling:\n",
    "* `datatype`: a name for the scalar type, as defined by [KServe V1](https://kserve.github.io/website/master/modelserving/data_plane/v1_protocol/)\n",
    "> `BOOL`, `UINT8`, `UINT16`, `UINT32`, `UINT64`,`INT8`,`INT16`,`INT32`,`INT64`,`FP16`,`FP32`,`FP64`, `BYTES`\n",
    "* `dtype`: the scalar type used. This can be a string, numpy or tensor dtype: \n",
    "> `float64`, `float32`, `float16`, `complex64`, `complex128`,`int64`, `int32`, `int16`, `int8`, `uint8` and `bool`.\n",
    "\n",
    "\n",
    "Note that\n",
    "* the pytorch libraries do not support the `BYTES` datatype\n",
    "* the _complex_ dtypes cannot be serialized to/from json without additional effort in the main webscript/plug script."
   ]
  },
  {
   "cell_type": "code",
   "execution_count": 28,
   "id": "621d877c-6a80-40af-9ead-02cb0341583d",
   "metadata": {},
   "outputs": [],
   "source": [
    "class CheckMapping():\n",
    "    \"\"\"Check dtype encoding and report all parameters used\"\"\"\n",
    "    def __call__(self, x: torch.Tensor, **parameters):\n",
    "         return  x, {'check':f'dtype:{x.dtype}; shape:{x.shape};layout:{x.layout}; device: {x.device}', **parameters}"
   ]
  },
  {
   "cell_type": "code",
   "execution_count": 29,
   "id": "a125d092-3d0c-4b1c-bf49-6535fbcf9914",
   "metadata": {},
   "outputs": [],
   "source": [
    "check = CheckMapping()"
   ]
  },
  {
   "cell_type": "code",
   "execution_count": 30,
   "id": "83339d1e-3df8-418c-9bdf-472dff4afdab",
   "metadata": {},
   "outputs": [
    {
     "data": {
      "text/plain": [
       "(tensor([1, 2, 3]),\n",
       " {'check': 'dtype:torch.int64; shape:torch.Size([3]);layout:torch.strided; device: cpu'})"
      ]
     },
     "execution_count": 30,
     "metadata": {},
     "output_type": "execute_result"
    }
   ],
   "source": [
    "check(torch.tensor([1,2,3]))"
   ]
  },
  {
   "cell_type": "code",
   "execution_count": 31,
   "id": "3196d623-ef7e-4557-b747-7dcb73adda58",
   "metadata": {},
   "outputs": [
    {
     "data": {
      "text/plain": [
       "(tensor([1., 2., 3.], dtype=torch.float64),\n",
       " {'check': 'dtype:torch.float64; shape:torch.Size([3]);layout:torch.strided; device: cpu'})"
      ]
     },
     "execution_count": 31,
     "metadata": {},
     "output_type": "execute_result"
    }
   ],
   "source": [
    "check(torch.tensor([1,2,3]).to(dtype=float))"
   ]
  },
  {
   "cell_type": "code",
   "execution_count": 32,
   "id": "07e129a0-27fc-4a07-8da3-798e156a53aa",
   "metadata": {},
   "outputs": [],
   "source": [
    "adapter_check = V1TorchNoLoadAdapter(model=CheckMapping(), output_params=True)"
   ]
  },
  {
   "cell_type": "code",
   "execution_count": 33,
   "id": "ef501abd-cb4a-4192-8226-878697672731",
   "metadata": {},
   "outputs": [
    {
     "data": {
      "text/plain": [
       "{'parameters': {'check': 'dtype:torch.int64; shape:torch.Size([4]);layout:torch.strided; device: cpu'},\n",
       " 'outputs': [1, 2, 3, 4]}"
      ]
     },
     "execution_count": 33,
     "metadata": {},
     "output_type": "execute_result"
    }
   ],
   "source": [
    "await adapter_check({'inputs':[1,2,3,4]})"
   ]
  },
  {
   "cell_type": "code",
   "execution_count": 34,
   "id": "7f055e83-8011-4f5f-b5dd-c48e60103ba4",
   "metadata": {},
   "outputs": [
    {
     "data": {
      "text/plain": [
       "{'parameters': {'check': 'dtype:torch.int16; shape:torch.Size([4]);layout:torch.strided; device: cpu',\n",
       "  'dtype': 'int16'},\n",
       " 'outputs': [1, 2, 3, 4]}"
      ]
     },
     "execution_count": 34,
     "metadata": {},
     "output_type": "execute_result"
    }
   ],
   "source": [
    "await adapter_check({'inputs':[1,2,3,4], 'parameters': { 'dtype': 'int16' }})"
   ]
  },
  {
   "cell_type": "code",
   "execution_count": 35,
   "id": "975e852b-3395-4a04-9574-8232b52f12e4",
   "metadata": {},
   "outputs": [
    {
     "data": {
      "text/plain": [
       "{'parameters': {'check': 'dtype:torch.float64; shape:torch.Size([4]);layout:torch.strided; device: cpu',\n",
       "  'datatype': 'FP64'},\n",
       " 'outputs': [1.0, 2.0, 3.0, 4.0]}"
      ]
     },
     "execution_count": 35,
     "metadata": {},
     "output_type": "execute_result"
    }
   ],
   "source": [
    "await adapter_check({'inputs':[1,2,3,4], 'parameters': { 'datatype':'FP64' }})"
   ]
  },
  {
   "cell_type": "code",
   "execution_count": 36,
   "id": "bfd9f28c-929b-4dfd-b179-220dd81b12ad",
   "metadata": {},
   "outputs": [
    {
     "data": {
      "text/plain": [
       "{'parameters': {'check': 'dtype:torch.int64; shape:torch.Size([4]);layout:torch.strided; device: cpu',\n",
       "  'custom': 'special'},\n",
       " 'outputs': [1, 2, 3, 4]}"
      ]
     },
     "execution_count": 36,
     "metadata": {},
     "output_type": "execute_result"
    }
   ],
   "source": [
    "await adapter_check({'inputs':[1,2,3,4], 'parameters': { 'custom' :'special' }})"
   ]
  },
  {
   "cell_type": "code",
   "execution_count": 37,
   "id": "d4920378-739d-4a44-959a-0a23d8b421f5",
   "metadata": {},
   "outputs": [
    {
     "data": {
      "text/plain": [
       "{'parameters': {'check': 'dtype:torch.complex64; shape:torch.Size([4]);layout:torch.strided; device: cpu',\n",
       "  'hint': 'please use special json serialization!'},\n",
       " 'outputs': [(1+0j), (2+3j), (3+0j), (4+0j)]}"
      ]
     },
     "execution_count": 37,
     "metadata": {},
     "output_type": "execute_result"
    }
   ],
   "source": [
    "# the marshaller supports complex types, but these cannot be simply mapped from/to json, so\n",
    "# You will need to adapt the JSON (de)serialization class in when handling the reques/response ...\n",
    "await adapter_check({'inputs':[1,2+3j,3,4], 'parameters': { 'hint':'please use special json serialization!' }})"
   ]
  },
  {
   "cell_type": "code",
   "execution_count": null,
   "id": "663cb9a9-4bbf-4be5-a748-fbd3546ec20d",
   "metadata": {},
   "outputs": [],
   "source": [
    "\n"
   ]
  },
  {
   "cell_type": "code",
   "execution_count": null,
   "id": "35a4a387-756d-440f-9db0-4e571f79f3d7",
   "metadata": {},
   "outputs": [],
   "source": []
  },
  {
   "cell_type": "code",
   "execution_count": 38,
   "id": "98ca4f0b-360b-4650-bbd6-a80f1de67a3d",
   "metadata": {},
   "outputs": [
    {
     "name": "stdout",
     "output_type": "stream",
     "text": [
      "versions used:\n",
      "- waylay-ml-adapter-sdk: 0.0.9\n",
      "- waylay-ml-adapter-torch: 0.0.9\n",
      "- torch: 2.5.1\n",
      "- waylay-sdk-core: 0.3.2\n",
      "- waylay-sdk-registry: 2.17.1.20241025\n",
      "- waylay-sdk-rules: 6.12.0.20241025\n"
     ]
    }
   ],
   "source": [
    "import importlib.metadata\n",
    "print('versions used:')\n",
    "for lib in ['waylay-ml-adapter-sdk','waylay-ml-adapter-torch','torch','waylay-sdk-core','waylay-sdk-registry','waylay-sdk-rules']:\n",
    "    print(f'- {lib}: {importlib.metadata.version(lib)}')"
   ]
  },
  {
   "cell_type": "markdown",
   "id": "2df760ee-4f9a-4b42-b7b3-9b3cba03a225",
   "metadata": {},
   "source": [
    "\n",
    "\n"
   ]
  }
 ],
 "metadata": {
  "kernelspec": {
   "display_name": "Python 3 (ipykernel)",
   "language": "python",
   "name": "python3"
  },
  "language_info": {
   "codemirror_mode": {
    "name": "ipython",
    "version": 3
   },
   "file_extension": ".py",
   "mimetype": "text/x-python",
   "name": "python",
   "nbconvert_exporter": "python",
   "pygments_lexer": "ipython3",
   "version": "3.11.11"
  }
 },
 "nbformat": 4,
 "nbformat_minor": 5
}
